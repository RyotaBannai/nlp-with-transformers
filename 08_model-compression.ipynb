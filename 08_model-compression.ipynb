{
 "cells": [
  {
   "cell_type": "code",
   "execution_count": 1,
   "metadata": {},
   "outputs": [],
   "source": [
    "# Uncomment and run this cell if you're on Colab or Kaggle\n",
    "# !git clone https://github.com/nlp-with-transformers/notebooks.git\n",
    "# %cd notebooks\n",
    "# from install import *\n",
    "# install_requirements()"
   ]
  },
  {
   "cell_type": "code",
   "execution_count": 2,
   "metadata": {},
   "outputs": [],
   "source": [
    "# hide\n",
    "# from utils import *\n",
    "# setup_chapter()"
   ]
  },
  {
   "cell_type": "markdown",
   "metadata": {},
   "source": [
    "# Making Transformers Efficient in Production"
   ]
  },
  {
   "cell_type": "markdown",
   "metadata": {},
   "source": [
    "<img alt=\"Scaling BERT at Roblox\" caption=\"How Roblox scaled BERT with knowledge distillation, dynamic padding, and weight quantization (photo courtesy of Roblox employees Quoc N. Le and Kip Kaehler)\" src=\"images/chapter08_roblox.png\" id=\"roblox\"/>"
   ]
  },
  {
   "cell_type": "markdown",
   "metadata": {},
   "source": [
    "## Intent Detection as a Case Study"
   ]
  },
  {
   "cell_type": "markdown",
   "metadata": {},
   "source": [
    "<img alt=\"Out of Scope Query\" width=\"400\" caption=\"Three exchanges between a human (right) and a text-based assistant (left) for personal finance (courtesy of Stefan Larson et al.)\" src=\"images/chapter08_oos.png\" id=\"oos\"/> "
   ]
  },
  {
   "cell_type": "code",
   "execution_count": 3,
   "metadata": {},
   "outputs": [
    {
     "name": "stdout",
     "output_type": "stream",
     "text": [
      "model_type: bert\n",
      "architectures: ['BertForSequenceClassification']\n",
      "auto_map: None\n"
     ]
    }
   ],
   "source": [
    "from transformers import AutoConfig\n",
    "\n",
    "ckpt = \"transformersbook/bert-base-uncased-finetuned-clinc\"\n",
    "cfg = AutoConfig.from_pretrained(ckpt, trust_remote_code=False)\n",
    "\n",
    "print(f\"model_type: {cfg.model_type}\")\n",
    "print(f\"architectures: {getattr(cfg, 'architectures', None)}\")\n",
    "print(f\"auto_map: {getattr(cfg, 'auto_map', None)}\")\n"
   ]
  },
  {
   "cell_type": "code",
   "execution_count": 4,
   "metadata": {},
   "outputs": [
    {
     "name": "stderr",
     "output_type": "stream",
     "text": [
      "Device set to use cuda:0\n"
     ]
    },
    {
     "name": "stdout",
     "output_type": "stream",
     "text": [
      "[{'label': 'restaurant_reservation', 'score': 0.44759219884872437}]\n"
     ]
    }
   ],
   "source": [
    "from transformers import AutoTokenizer, AutoModelForSequenceClassification, pipeline\n",
    "\n",
    "ckpt = \"transformersbook/bert-base-uncased-finetuned-clinc\"\n",
    "\n",
    "tok = AutoTokenizer.from_pretrained(ckpt, trust_remote_code=False)\n",
    "model = AutoModelForSequenceClassification.from_pretrained(ckpt, trust_remote_code=False)\n",
    "\n",
    "pipe = pipeline(\"text-classification\", model=model, tokenizer=tok)\n",
    "print(pipe(\"book a table for two at 7pm\"))\n"
   ]
  },
  {
   "cell_type": "code",
   "execution_count": 5,
   "metadata": {},
   "outputs": [
    {
     "data": {
      "text/plain": [
       "[{'label': 'car_rental', 'score': 0.5490034222602844}]"
      ]
     },
     "execution_count": 5,
     "metadata": {},
     "output_type": "execute_result"
    }
   ],
   "source": [
    "query = \"\"\"Hey, I'd like to rent a vehicle from Nov 1st to Nov 15th in \n",
    "Paris and I need a 15 passenger van\"\"\"\n",
    "pipe(query)"
   ]
  },
  {
   "cell_type": "markdown",
   "metadata": {},
   "source": [
    "## Creating a Performance Benchmark"
   ]
  },
  {
   "cell_type": "code",
   "execution_count": 6,
   "metadata": {},
   "outputs": [],
   "source": [
    "class PerformanceBenchmark:\n",
    "    def __init__(self, pipeline, dataset, optim_type=\"BERT baseline\"):\n",
    "        self.pipeline = pipeline\n",
    "        self.dataset = dataset\n",
    "        self.optim_type = optim_type\n",
    "        \n",
    "    def compute_accuracy(self):\n",
    "        # We'll define this later\n",
    "        pass    \n",
    "\n",
    "    def compute_size(self):\n",
    "        # We'll define this later\n",
    "        pass\n",
    "\n",
    "    def time_pipeline(self):\n",
    "        # We'll define this later\n",
    "        pass\n",
    "    \n",
    "    def run_benchmark(self):\n",
    "        metrics = {}\n",
    "        metrics[self.optim_type] = self.compute_size()\n",
    "        metrics[self.optim_type].update(self.time_pipeline())\n",
    "        metrics[self.optim_type].update(self.compute_accuracy())\n",
    "        return metrics"
   ]
  },
  {
   "cell_type": "code",
   "execution_count": 7,
   "metadata": {},
   "outputs": [],
   "source": [
    "#hide_output\n",
    "from datasets import load_dataset\n",
    "\n",
    "clinc = load_dataset(\"clinc_oos\", \"plus\")"
   ]
  },
  {
   "cell_type": "code",
   "execution_count": 8,
   "metadata": {},
   "outputs": [
    {
     "data": {
      "text/plain": [
       "{'text': 'transfer $100 from my checking to saving account', 'intent': 133}"
      ]
     },
     "execution_count": 8,
     "metadata": {},
     "output_type": "execute_result"
    }
   ],
   "source": [
    "sample = clinc[\"test\"][42]\n",
    "sample"
   ]
  },
  {
   "cell_type": "code",
   "execution_count": 9,
   "metadata": {},
   "outputs": [
    {
     "data": {
      "text/plain": [
       "'transfer'"
      ]
     },
     "execution_count": 9,
     "metadata": {},
     "output_type": "execute_result"
    }
   ],
   "source": [
    "intents = clinc[\"test\"].features[\"intent\"]\n",
    "intents.int2str(sample[\"intent\"])"
   ]
  },
  {
   "cell_type": "code",
   "execution_count": 10,
   "metadata": {},
   "outputs": [
    {
     "name": "stderr",
     "output_type": "stream",
     "text": [
      "/tmp/ipykernel_3594215/1976143225.py:3: FutureWarning: load_metric is deprecated and will be removed in the next major version of datasets. Use 'evaluate.load' instead, from the new library 🤗 Evaluate: https://huggingface.co/docs/evaluate\n",
      "  accuracy_score = load_metric(\"accuracy\", trust_remote_code=True)\n"
     ]
    }
   ],
   "source": [
    "#hide_output\n",
    "from datasets import load_metric \n",
    "accuracy_score = load_metric(\"accuracy\", trust_remote_code=True)\n",
    "# import evaluate\n",
    "\n",
    "# accuracy_score = evaluate.load(\"accuracy\")"
   ]
  },
  {
   "cell_type": "code",
   "execution_count": 11,
   "metadata": {},
   "outputs": [],
   "source": [
    "def compute_accuracy(self):\n",
    "    \"\"\"This overrides the PerformanceBenchmark.compute_accuracy() method\"\"\"\n",
    "    preds, labels = [], []\n",
    "    for example in self.dataset:\n",
    "        pred = self.pipeline(example[\"text\"])[0][\"label\"]\n",
    "        label = example[\"intent\"]\n",
    "        preds.append(intents.str2int(pred))\n",
    "        labels.append(label)\n",
    "    accuracy = accuracy_score.compute(predictions=preds, references=labels)\n",
    "    print(f\"Accuracy on test set - {accuracy['accuracy']:.3f}\")\n",
    "    return accuracy\n",
    "\n",
    "PerformanceBenchmark.compute_accuracy = compute_accuracy"
   ]
  },
  {
   "cell_type": "code",
   "execution_count": 12,
   "metadata": {},
   "outputs": [
    {
     "data": {
      "text/plain": [
       "('bert.encoder.layer.2.attention.self.value.bias',\n",
       " tensor([-2.7834e-02,  4.9434e-02,  8.3551e-02,  4.1092e-02,  6.0157e-01,\n",
       "          1.1774e-01, -5.2112e-02, -6.5143e-02, -2.9358e-02, -4.2250e-02,\n",
       "          7.9177e-02,  8.0409e-02,  2.9921e-03,  1.7816e-01, -5.0480e-02,\n",
       "         -1.5634e-01, -2.1707e-02,  1.4381e-02,  2.5132e-02, -2.4110e-02,\n",
       "         -1.9183e-01, -7.8657e-02,  5.0709e-02,  3.3632e-02, -3.1946e-02,\n",
       "          1.1616e-01,  9.2720e-02, -1.1787e-01,  2.3233e-01, -1.2678e-02,\n",
       "         -1.3138e-01, -4.0024e-02,  7.4823e-02, -5.4148e-02, -1.5184e-01,\n",
       "         -7.4407e-02,  1.1559e-01,  8.2729e-02, -1.3787e-01,  8.3528e-02,\n",
       "          1.2154e-01,  1.6880e-02, -5.6629e-02, -3.9295e-02,  5.3725e-02,\n",
       "          6.8602e-02, -1.1294e-01,  4.4001e-02, -2.5884e-01,  1.6767e-01,\n",
       "          1.8316e-01,  5.6272e-02, -3.6874e-02, -2.7938e-02, -9.3204e-02,\n",
       "         -7.5239e-03,  4.1141e-02, -1.1542e-02, -9.9749e-02, -3.0910e-02,\n",
       "          4.1398e-02, -4.4389e-02, -2.6279e-02,  7.2100e-02,  7.5179e-03,\n",
       "         -7.4382e-03,  2.9311e-02, -1.3391e-02,  6.9966e-03, -9.3249e-03,\n",
       "          9.4272e-03, -1.1783e-02,  1.3849e-02,  1.8157e-03, -1.1522e-02,\n",
       "          1.3364e-02, -2.6307e-02,  2.3725e-03, -4.8451e-03,  6.2261e-03,\n",
       "          1.2653e-02,  1.7601e-02, -1.7971e-02, -2.9247e-03, -3.3447e-03,\n",
       "          1.4263e-02, -3.5629e-03, -9.2794e-03, -2.1326e-02,  1.9390e-02,\n",
       "          1.3287e-02, -8.7034e-03,  1.2936e-02, -2.0574e-02,  3.2204e-03,\n",
       "          5.9970e-03, -5.6524e-02,  3.0851e-02, -2.3233e-02,  4.6271e-02,\n",
       "         -1.4485e-03,  4.4248e-04, -3.1102e-02,  1.9762e-02,  2.0866e-02,\n",
       "          1.7914e-02, -2.0622e-02, -1.6030e-02,  6.2167e-03,  1.6809e-02,\n",
       "          4.6357e-03,  4.7169e-02, -2.1151e-02, -1.8898e-02,  3.5921e-02,\n",
       "          4.8621e-03, -5.9841e-02, -1.3029e-02,  5.6702e-03,  1.6820e-02,\n",
       "          2.1735e-02, -2.8285e-03, -1.5519e-02,  7.1974e-03,  3.5492e-02,\n",
       "         -2.3190e-02, -9.7930e-03,  2.3223e-02,  2.0529e-02,  2.7412e-02,\n",
       "          1.3887e-02,  1.7976e-03, -3.8905e-02,  1.8540e-02,  8.0013e-03,\n",
       "         -8.3682e-03, -8.6805e-03,  2.6464e-02,  1.8968e-03, -1.8028e-03,\n",
       "         -2.4427e-02, -3.5514e-02, -1.8748e-02, -3.0541e-02, -7.9520e-03,\n",
       "         -1.5989e-02,  9.3060e-03,  2.9318e-02,  1.6679e-02, -2.4060e-03,\n",
       "         -7.2656e-03, -2.7699e-03,  1.4280e-02, -6.7352e-02, -1.2329e-02,\n",
       "         -1.1516e-02, -8.0379e-03,  2.5604e-02, -2.9178e-02,  2.6076e-02,\n",
       "         -1.1561e-02, -4.0904e-03, -1.7735e-02, -2.8245e-03,  2.3919e-02,\n",
       "         -3.6326e-03, -1.6407e-03,  9.5295e-03,  2.4161e-02, -5.8965e-02,\n",
       "          4.7633e-02,  1.4403e-03, -4.4763e-02, -3.5462e-03,  3.0613e-02,\n",
       "          2.5047e-02,  1.3757e-02, -2.2238e-02,  8.0453e-03, -2.6188e-03,\n",
       "         -2.2013e-03, -6.0179e-03, -8.5149e-03, -2.8150e-02,  1.9282e-02,\n",
       "         -7.5657e-02,  6.1354e-03,  5.2562e-03, -2.2223e-03,  1.0437e-02,\n",
       "         -1.8630e-02, -7.7628e-02,  1.4377e-02,  1.4977e-02,  1.6090e-02,\n",
       "          2.9399e-02, -2.8604e-02, -3.2916e-02,  2.7902e-03,  1.4113e-02,\n",
       "          8.3836e-03, -6.5914e-03, -4.9576e-03, -1.5955e-02,  4.2381e-03,\n",
       "          3.0032e-02,  8.8986e-03, -1.5336e-02,  4.6771e-03, -1.2364e-02,\n",
       "         -3.7724e-02, -3.9060e-03,  1.4607e-02, -2.1286e-02,  9.7086e-03,\n",
       "         -1.5826e-02, -1.4847e-02,  1.0796e-03, -9.5035e-03, -1.8624e-02,\n",
       "         -3.1673e-02,  8.8388e-03, -1.4921e-02, -1.7855e-03,  3.8781e-02,\n",
       "          2.4269e-02, -1.6465e-03, -7.9774e-03, -1.3907e-02,  1.9653e-03,\n",
       "         -2.6717e-03,  3.0146e-02, -4.3986e-03,  6.0588e-03,  2.1959e-02,\n",
       "          2.0354e-02,  9.3631e-03, -8.4828e-03, -2.3994e-02,  1.8316e-02,\n",
       "         -2.2401e-02, -2.6273e-03,  3.2069e-03, -3.2386e-03,  1.1388e-02,\n",
       "          3.0835e-02,  2.6043e-02, -7.2103e-03, -5.0038e-04, -1.4860e-02,\n",
       "          2.3886e-02,  1.1530e-02, -1.0549e-03,  3.5677e-02,  6.0299e-03,\n",
       "          1.5875e-02,  5.3877e-02,  6.6331e-02,  1.5165e-02, -6.0870e-03,\n",
       "          1.6159e-03, -1.1137e-02,  1.3665e-02,  1.7698e-02,  4.5647e-03,\n",
       "         -4.5349e-02,  2.6634e-02,  4.7289e-03, -1.1664e-02,  8.7302e-03,\n",
       "          1.2051e-02,  2.3455e-02, -2.7151e-03, -1.3474e-02, -4.5949e-02,\n",
       "         -1.3496e-02,  8.1680e-02, -2.9737e-02, -2.8525e-02, -1.4888e-02,\n",
       "          5.4320e-03,  3.9142e-02,  1.4227e-02,  1.1140e-02, -1.0980e-02,\n",
       "          2.1982e-02, -1.1148e-02, -1.0226e-02, -5.8499e-03, -1.9739e-02,\n",
       "         -3.4634e-03, -1.0565e-02,  1.0449e-02,  8.2791e-03,  2.3053e-03,\n",
       "          9.7032e-03, -9.0916e-03,  5.4747e-04, -4.1901e-02,  9.6154e-03,\n",
       "          2.9424e-02,  1.1897e-03,  1.1825e-02,  2.7524e-02,  1.0225e-02,\n",
       "          2.1439e-02,  2.3448e-03, -3.7239e-02,  5.8888e-02, -3.1999e-02,\n",
       "         -7.9128e-03,  3.5337e-02,  2.7251e-02,  1.3948e-02,  1.0896e-02,\n",
       "          1.4326e-05, -2.6835e-03,  4.0720e-03,  1.6469e-02,  3.5876e-02,\n",
       "         -1.6803e-02,  2.8083e-02,  2.2789e-03,  3.1635e-02,  5.7104e-03,\n",
       "          3.0284e-03,  1.2528e-02, -1.7956e-02, -1.4686e-02,  4.4091e-03,\n",
       "         -1.4846e-02, -4.1044e-02, -3.4005e-02, -6.5876e-02,  3.0926e-02,\n",
       "          5.9820e-02, -1.0069e-04, -6.6089e-03,  2.1271e-03,  3.6137e-03,\n",
       "          9.0073e-03,  9.6992e-03,  2.1992e-02,  6.2104e-02,  1.4786e-02,\n",
       "         -2.6120e-02, -1.4990e-02,  1.5148e-02,  3.0313e-02,  2.0834e-02,\n",
       "          1.7836e-02, -5.4321e-03, -5.9164e-03,  1.7840e-02, -4.3020e-03,\n",
       "          8.7374e-03, -2.4993e-02,  3.4310e-02,  2.2652e-02, -5.3760e-03,\n",
       "          1.7668e-02, -8.9518e-04,  1.3691e-03, -2.1373e-02, -6.1878e-03,\n",
       "         -1.2396e-02, -1.7816e-02, -1.8014e-02,  9.5274e-03,  1.1643e-02,\n",
       "         -2.0683e-02, -2.8707e-03,  1.1669e-02,  1.5618e-02,  3.5348e-02,\n",
       "         -1.1234e-02, -4.5453e-03, -3.4890e-02, -3.0010e-02,  1.6433e-02,\n",
       "         -1.2068e-02,  8.2583e-03,  1.4090e-02,  1.8771e-02, -4.9337e-02,\n",
       "         -1.7775e-03,  5.6333e-02,  6.8979e-02,  2.3123e-02, -1.0754e-02,\n",
       "         -4.9530e-02,  4.2980e-02,  2.8846e-02, -3.9176e-02,  8.1903e-02,\n",
       "         -2.9344e-02,  3.0343e-02,  8.4269e-02, -2.4376e-02, -8.4680e-02,\n",
       "          6.7452e-03,  1.2407e-01,  1.5680e-02, -1.6643e-02,  9.0987e-03,\n",
       "         -2.7984e-03,  7.5874e-02, -1.4630e-02,  2.9823e-02, -1.0423e-02,\n",
       "         -6.0341e-02, -3.6580e-02, -5.4615e-02, -1.3628e-01, -5.8373e-02,\n",
       "          4.3453e-02,  3.0439e-02,  1.7298e-02, -1.1724e-01,  1.0805e-01,\n",
       "         -4.6345e-02, -1.1533e-01,  7.4684e-02, -5.9752e-03,  4.3189e-02,\n",
       "          4.4795e-02, -3.7566e-03, -7.5097e-02,  3.5959e-02,  1.3906e-01,\n",
       "          4.6041e-02,  1.1786e-02,  1.1243e-01,  8.4072e-02, -7.7309e-02,\n",
       "          1.3586e-02,  9.5244e-02, -1.2002e-01,  7.0882e-02,  1.0043e-01,\n",
       "          2.5874e-02,  2.3354e-02, -3.5469e-02,  3.0738e-02,  1.0479e-01,\n",
       "         -9.2843e-02,  5.9718e-02, -1.9409e-02, -3.4414e-02, -8.4060e-03,\n",
       "         -9.3654e-03, -2.8030e-02,  7.2026e-03, -5.9461e-03, -1.2284e-02,\n",
       "         -1.7473e-02, -4.9678e-02,  1.0224e-02, -1.4688e-02, -1.7345e-02,\n",
       "          2.6771e-02, -2.6582e-02, -2.9768e-02,  6.2005e-03, -3.3405e-04,\n",
       "          9.1245e-03, -3.7149e-02, -6.7714e-03, -1.8193e-02,  3.4191e-02,\n",
       "         -5.5732e-03, -2.6161e-02, -1.4078e-02,  1.0288e-02, -2.2850e-02,\n",
       "         -2.2642e-02,  1.0270e-02,  6.9930e-03,  1.3614e-03, -2.9319e-04,\n",
       "          9.9593e-03, -6.0532e-03,  1.8669e-03, -5.3395e-03, -2.2013e-02,\n",
       "          8.4485e-03, -1.9142e-02,  1.0449e-02, -1.6700e-02,  1.3038e-02,\n",
       "          7.7479e-03, -1.3329e-02,  1.3052e-02, -2.5305e-03,  1.6191e-02,\n",
       "          1.3152e-02,  2.9897e-02,  8.5553e-03, -6.4898e-04,  1.2359e-02,\n",
       "         -4.2144e-03,  2.1785e-02,  2.1401e-02, -1.3295e-02,  7.4764e-03,\n",
       "          6.3580e-03, -6.2467e-03,  1.8235e-02,  3.0643e-02, -4.9091e-03,\n",
       "         -1.3889e-02,  2.6181e-03,  4.9702e-03, -6.1664e-03, -2.8528e-03,\n",
       "         -4.0556e-04,  5.4844e-03,  9.7783e-03,  1.2326e-02, -1.6844e-02,\n",
       "         -1.6294e-02,  4.9879e-03,  3.7789e-03,  8.0305e-04,  2.0482e-02,\n",
       "         -1.6369e-02,  1.6436e-03, -9.0401e-03, -3.2635e-02, -2.3990e-03,\n",
       "          5.7569e-03, -2.0392e-02,  6.6946e-03, -1.8541e-02,  9.3559e-03,\n",
       "          2.7165e-02,  1.2492e-02,  1.2748e-03, -1.3846e-03,  4.0312e-03,\n",
       "         -8.5552e-03,  3.1621e-03, -3.9514e-02, -3.7938e-03, -1.3551e-02,\n",
       "          2.2692e-02, -1.0217e-02, -1.2839e-02, -4.8771e-03, -4.2620e-03,\n",
       "         -3.0481e-02,  4.6085e-02, -2.8627e-03,  6.6756e-03, -2.6765e-03,\n",
       "         -4.1443e-02,  1.3336e-02, -1.0526e-02, -3.8494e-02,  1.2780e-02,\n",
       "         -3.5214e-02, -2.4758e-02,  7.5220e-03,  1.7225e-02, -1.6440e-02,\n",
       "         -3.6639e-03, -4.7462e-02,  5.3796e-04, -2.8419e-03,  4.5923e-03,\n",
       "         -3.0517e-02, -3.6832e-03,  1.8710e-02, -3.0486e-02, -2.4076e-02,\n",
       "         -2.7601e-02,  1.1921e-01,  1.2020e-01,  5.9805e-02, -6.9238e-03,\n",
       "         -1.3529e-01,  1.1234e-01,  8.3534e-02,  1.9974e-01,  5.3834e-02,\n",
       "         -6.6691e-02,  1.2676e-01,  2.4947e-01,  4.9879e-01, -1.6342e-01,\n",
       "          6.1663e-02, -4.8022e-02, -5.4069e-02,  4.7277e-02, -1.4724e-01,\n",
       "          8.4666e-02,  9.8618e-02,  7.9988e-02, -5.7652e-02,  6.3551e-03,\n",
       "          2.6916e-03,  9.2017e-02,  1.2511e-01,  2.5168e-01, -8.6152e-02,\n",
       "         -2.7570e-02, -6.1548e-02,  9.1371e-02,  8.0129e-02, -1.1662e-01,\n",
       "          1.5206e-01, -1.0687e-01, -1.0758e-01,  9.4138e-02,  1.0322e-01,\n",
       "         -1.5152e-01,  2.5472e-01,  7.0699e-02, -4.1571e-02,  2.7933e-02,\n",
       "         -1.9523e-01, -2.8319e-01,  5.9689e-02, -1.4707e-01, -3.5683e-02,\n",
       "         -5.4465e-02,  1.2570e-01, -1.2280e-01,  2.0263e-01, -1.0653e-02,\n",
       "          1.1058e-01, -9.1731e-04,  8.6605e-02, -1.7707e-02,  1.2616e-02,\n",
       "          1.8871e-01, -1.0594e-01, -3.7989e-03, -6.6359e-02, -5.9799e-02,\n",
       "          4.3201e-03, -2.3140e-02,  4.8008e-03,  1.4294e-02, -9.5453e-03,\n",
       "          5.8454e-03,  8.6512e-03,  2.1151e-02,  1.7098e-02, -1.4637e-03,\n",
       "          1.3778e-02, -1.2843e-02,  2.3742e-02, -1.3895e-02,  1.1327e-03,\n",
       "         -7.0846e-03, -7.6255e-03, -8.2264e-03, -1.5513e-02,  4.2724e-03,\n",
       "         -1.7624e-02, -3.0984e-03, -1.4400e-02,  2.3883e-02,  1.1556e-01,\n",
       "          4.4036e-02,  3.2821e-02,  8.6612e-04,  1.2383e-02, -6.6263e-03,\n",
       "         -2.7201e-03,  4.8125e-03, -2.8362e-03,  3.9830e-02,  5.2414e-02,\n",
       "         -4.6269e-03, -1.5858e-02,  2.1845e-02, -1.3767e-02, -1.0629e-02,\n",
       "          1.0347e-02, -3.4209e-02,  1.6939e-02,  1.8120e-02,  3.0650e-03,\n",
       "         -2.5109e-03,  1.3500e-02, -3.6440e-02, -9.2135e-03,  9.2194e-03,\n",
       "         -3.6276e-02, -1.1555e-02, -1.9569e-02, -1.5417e-02, -2.0485e-02,\n",
       "          2.9770e-03, -6.8246e-03, -6.5039e-03, -1.2597e-02, -1.1409e-02,\n",
       "          1.7139e-02,  4.6424e-03, -5.1774e-02, -1.1679e-02,  5.2761e-03,\n",
       "         -1.3664e-02, -1.4001e-02,  2.0379e-03,  1.2753e-02, -8.1607e-03,\n",
       "         -1.0849e-02, -1.0683e-03, -2.4489e-03,  2.0192e-02,  1.5756e-02,\n",
       "         -6.4964e-03, -4.5603e-02, -2.5999e-02, -1.4307e-02, -7.4639e-03,\n",
       "          9.9480e-03,  1.6763e-02,  2.1737e-02,  4.8181e-02,  1.7739e-02,\n",
       "          1.1469e-02, -4.2359e-03, -1.6419e-02, -1.7318e-02,  1.1498e-03,\n",
       "          2.4485e-02, -3.0614e-03,  1.9017e-02, -1.6453e-02, -1.3444e-02,\n",
       "          2.6748e-02, -6.4994e-03,  5.1485e-03,  1.4132e-02, -1.1573e-02,\n",
       "          1.2583e-02, -1.1401e-02, -2.0003e-02, -3.8115e-03,  7.3728e-03,\n",
       "          1.5500e-02,  2.0623e-02,  3.1582e-03, -1.2794e-02,  4.5499e-03,\n",
       "         -3.3994e-04, -2.3003e-02,  1.2225e-02, -2.7949e-02, -9.6121e-03,\n",
       "         -3.5844e-02, -4.2373e-03,  5.3473e-03,  1.4432e-02, -1.2745e-02,\n",
       "          7.1483e-03,  2.9170e-03,  6.2454e-03,  6.8991e-03,  1.5852e-02,\n",
       "          2.1877e-02, -1.7211e-02, -2.6093e-02], device='cuda:0'))"
      ]
     },
     "execution_count": 12,
     "metadata": {},
     "output_type": "execute_result"
    }
   ],
   "source": [
    "list(pipe.model.state_dict().items())[42]"
   ]
  },
  {
   "cell_type": "code",
   "execution_count": 13,
   "metadata": {},
   "outputs": [],
   "source": [
    "import torch\n",
    "from pathlib import Path\n",
    "\n",
    "def compute_size(self):\n",
    "    \"\"\"This overrides the PerformanceBenchmark.compute_size() method\"\"\"\n",
    "    state_dict = self.pipeline.model.state_dict()\n",
    "    tmp_path = Path(\"model.pt\")\n",
    "    torch.save(state_dict, tmp_path)\n",
    "    # Calculate size in megabytes\n",
    "    size_mb = Path(tmp_path).stat().st_size / (1024 * 1024)\n",
    "    # Delete temporary file\n",
    "    tmp_path.unlink()\n",
    "    print(f\"Model size (MB) - {size_mb:.2f}\")\n",
    "    return {\"size_mb\": size_mb}\n",
    "\n",
    "PerformanceBenchmark.compute_size = compute_size"
   ]
  },
  {
   "cell_type": "code",
   "execution_count": 14,
   "metadata": {},
   "outputs": [
    {
     "name": "stdout",
     "output_type": "stream",
     "text": [
      "Latency (ms) - 11.048\n",
      "Latency (ms) - 8.431\n",
      "Latency (ms) - 8.215\n"
     ]
    }
   ],
   "source": [
    "from time import perf_counter\n",
    "\n",
    "for _ in range(3):\n",
    "    start_time = perf_counter()\n",
    "    _ = pipe(query)\n",
    "    latency = perf_counter() - start_time\n",
    "    print(f\"Latency (ms) - {1000 * latency:.3f}\")"
   ]
  },
  {
   "cell_type": "code",
   "execution_count": 15,
   "metadata": {},
   "outputs": [],
   "source": [
    "import numpy as np\n",
    "\n",
    "def time_pipeline(self, query=\"What is the pin number for my account?\"):\n",
    "    \"\"\"This overrides the PerformanceBenchmark.time_pipeline() method\"\"\"\n",
    "    latencies = []\n",
    "    # Warmup\n",
    "    for _ in range(10):\n",
    "        _ = self.pipeline(query)\n",
    "    # Timed run\n",
    "    for _ in range(100):\n",
    "        start_time = perf_counter()\n",
    "        _ = self.pipeline(query)\n",
    "        latency = perf_counter() - start_time\n",
    "        latencies.append(latency)\n",
    "    # Compute run statistics\n",
    "    time_avg_ms = 1000 * np.mean(latencies)\n",
    "    time_std_ms = 1000 * np.std(latencies)\n",
    "    print(f\"Average latency (ms) - {time_avg_ms:.2f} +\\- {time_std_ms:.2f}\")\n",
    "    return {\"time_avg_ms\": time_avg_ms, \"time_std_ms\": time_std_ms}\n",
    "\n",
    "PerformanceBenchmark.time_pipeline = time_pipeline"
   ]
  },
  {
   "cell_type": "code",
   "execution_count": 16,
   "metadata": {},
   "outputs": [
    {
     "name": "stderr",
     "output_type": "stream",
     "text": [
      "You seem to be using the pipelines sequentially on GPU. In order to maximize efficiency please use a dataset\n"
     ]
    },
    {
     "name": "stdout",
     "output_type": "stream",
     "text": [
      "Model size (MB) - 418.15\n",
      "Average latency (ms) - 5.71 +\\- 0.06\n",
      "Accuracy on test set - 0.867\n"
     ]
    }
   ],
   "source": [
    "pb = PerformanceBenchmark(pipe, clinc[\"test\"])\n",
    "perf_metrics = pb.run_benchmark()"
   ]
  },
  {
   "cell_type": "markdown",
   "metadata": {},
   "source": [
    "## Making Models Smaller via Knowledge Distillation"
   ]
  },
  {
   "cell_type": "markdown",
   "metadata": {},
   "source": [
    "### Knowledge Distillation for Fine-Tuning"
   ]
  },
  {
   "cell_type": "markdown",
   "metadata": {},
   "source": [
    "<img alt=\"Soft Probabilities\" caption=\"Comparison of a hard label that is one-hot encoded (left), softmax probabilities (middle), and softened class probabilities (right)\" src=\"images/chapter08_soft-probs.png\" id=\"soft-probs\"/> "
   ]
  },
  {
   "cell_type": "markdown",
   "metadata": {},
   "source": [
    "<img alt=\"Knowledge distillation\" caption=\"The knowledge distillation process\" src=\"images/chapter08_kd.png\" id=\"kd\"/> "
   ]
  },
  {
   "cell_type": "markdown",
   "metadata": {},
   "source": [
    "### Knowledge Distillation for Pretraining"
   ]
  },
  {
   "cell_type": "markdown",
   "metadata": {},
   "source": [
    "### Creating a Knowledge Distillation Trainer"
   ]
  },
  {
   "cell_type": "code",
   "execution_count": 17,
   "metadata": {},
   "outputs": [],
   "source": [
    "from transformers import TrainingArguments\n",
    "\n",
    "class DistillationTrainingArguments(TrainingArguments):\n",
    "    def __init__(self, *args, alpha=0.5, temperature=2.0, **kwargs):\n",
    "        super().__init__(*args, **kwargs)\n",
    "        self.alpha = alpha\n",
    "        self.temperature = temperature"
   ]
  },
  {
   "cell_type": "code",
   "execution_count": 18,
   "metadata": {},
   "outputs": [],
   "source": [
    "import torch.nn as nn\n",
    "import torch.nn.functional as F\n",
    "from transformers import Trainer\n",
    "\n",
    "class DistillationTrainer(Trainer):\n",
    "    def __init__(self, *args, teacher_model=None, **kwargs):\n",
    "        super().__init__(*args, **kwargs)\n",
    "        self.teacher_model = teacher_model\n",
    "\n",
    "    def compute_loss(self, model, inputs, return_outputs=False, **kwargs):\n",
    "        device = torch.device(\"cuda\" if torch.cuda.is_available() else \"cpu\")\n",
    "        inputs = inputs.to(device)\n",
    "        outputs_stu = model(**inputs)\n",
    "        # Extract cross-entropy loss and logits from student\n",
    "        loss_ce = outputs_stu.loss\n",
    "        logits_stu = outputs_stu.logits\n",
    "        # Extract logits from teacher\n",
    "        with torch.no_grad():\n",
    "            outputs_tea = self.teacher_model(**inputs)\n",
    "            logits_tea = outputs_tea.logits\n",
    "        # Soften probabilities and compute distillation loss\n",
    "        loss_fct = nn.KLDivLoss(reduction=\"batchmean\")\n",
    "        loss_kd = self.args.temperature ** 2 * loss_fct(\n",
    "            F.log_softmax(logits_stu / self.args.temperature, dim=-1),\n",
    "            F.softmax(logits_tea / self.args.temperature, dim=-1))\n",
    "        # Return weighted student loss\n",
    "        loss = self.args.alpha * loss_ce + (1. - self.args.alpha) * loss_kd\n",
    "        return (loss, outputs_stu) if return_outputs else loss"
   ]
  },
  {
   "cell_type": "markdown",
   "metadata": {},
   "source": [
    "### Choosing a Good Student Initialization"
   ]
  },
  {
   "cell_type": "code",
   "execution_count": 19,
   "metadata": {},
   "outputs": [],
   "source": [
    "#hide_output\n",
    "from transformers import AutoTokenizer\n",
    "\n",
    "student_ckpt = \"distilbert-base-uncased\"\n",
    "student_tokenizer = AutoTokenizer.from_pretrained(student_ckpt)\n",
    "\n",
    "def tokenize_text(batch):\n",
    "    return student_tokenizer(batch[\"text\"], truncation=True)\n",
    "\n",
    "clinc_enc = clinc.map(tokenize_text, batched=True, remove_columns=[\"text\"])\n",
    "clinc_enc = clinc_enc.rename_column(\"intent\", \"labels\")"
   ]
  },
  {
   "cell_type": "code",
   "execution_count": 20,
   "metadata": {},
   "outputs": [],
   "source": [
    "# from huggingface_hub import notebook_login\n",
    "\n",
    "# notebook_login()"
   ]
  },
  {
   "cell_type": "code",
   "execution_count": 21,
   "metadata": {},
   "outputs": [],
   "source": [
    "def compute_metrics(pred):\n",
    "    predictions, labels = pred\n",
    "    predictions = np.argmax(predictions, axis=1)\n",
    "    return accuracy_score.compute(predictions=predictions, references=labels)"
   ]
  },
  {
   "cell_type": "code",
   "execution_count": 22,
   "metadata": {},
   "outputs": [
    {
     "name": "stderr",
     "output_type": "stream",
     "text": [
      "huggingface/tokenizers: The current process just got forked, after parallelism has already been used. Disabling parallelism to avoid deadlocks...\n",
      "To disable this warning, you can either:\n",
      "\t- Avoid using `tokenizers` before the fork if possible\n",
      "\t- Explicitly set the environment variable TOKENIZERS_PARALLELISM=(true | false)\n"
     ]
    }
   ],
   "source": [
    "batch_size = 48\n",
    "\n",
    "finetuned_ckpt = \"distilbert-base-uncased-finetuned-clinc\"\n",
    "student_training_args = DistillationTrainingArguments(\n",
    "    output_dir=finetuned_ckpt, eval_strategy = \"epoch\", \n",
    "    num_train_epochs=5, learning_rate=2e-5, \n",
    "    per_device_train_batch_size=batch_size,\n",
    "    per_device_eval_batch_size=batch_size, alpha=1, weight_decay=0.01, \n",
    "    # push_to_hub=True\n",
    "    )"
   ]
  },
  {
   "cell_type": "code",
   "execution_count": 23,
   "metadata": {},
   "outputs": [],
   "source": [
    "#hide\n",
    "student_training_args.logging_steps = len(clinc_enc['train']) // batch_size\n",
    "student_training_args.disable_tqdm = False\n",
    "student_training_args.save_steps = 1e9\n",
    "student_training_args.log_level = 'error'"
   ]
  },
  {
   "cell_type": "code",
   "execution_count": 24,
   "metadata": {},
   "outputs": [
    {
     "name": "stdout",
     "output_type": "stream",
     "text": [
      "env: TOKENIZERS_PARALLELISM=false\n"
     ]
    }
   ],
   "source": [
    "#hide\n",
    "%env TOKENIZERS_PARALLELISM=false"
   ]
  },
  {
   "cell_type": "code",
   "execution_count": 25,
   "metadata": {},
   "outputs": [],
   "source": [
    "id2label = pipe.model.config.id2label\n",
    "label2id = pipe.model.config.label2id"
   ]
  },
  {
   "cell_type": "code",
   "execution_count": 26,
   "metadata": {},
   "outputs": [],
   "source": [
    "from transformers import AutoConfig\n",
    "\n",
    "num_labels = intents.num_classes\n",
    "student_config = (AutoConfig\n",
    "                  .from_pretrained(student_ckpt, num_labels=num_labels, \n",
    "                                   id2label=id2label, label2id=label2id))"
   ]
  },
  {
   "cell_type": "code",
   "execution_count": 27,
   "metadata": {},
   "outputs": [],
   "source": [
    "import torch\n",
    "from transformers import AutoModelForSequenceClassification\n",
    "\n",
    "device = torch.device(\"cuda\" if torch.cuda.is_available() else \"cpu\")\n",
    "\n",
    "def student_init():\n",
    "    return (AutoModelForSequenceClassification\n",
    "            .from_pretrained(student_ckpt, config=student_config).to(device))"
   ]
  },
  {
   "cell_type": "code",
   "execution_count": 28,
   "metadata": {},
   "outputs": [],
   "source": [
    "#hide_output\n",
    "teacher_ckpt = \"transformersbook/bert-base-uncased-finetuned-clinc\"\n",
    "teacher_model = (AutoModelForSequenceClassification\n",
    "                 .from_pretrained(teacher_ckpt, num_labels=num_labels)\n",
    "                 .to(device))"
   ]
  },
  {
   "cell_type": "code",
   "execution_count": 29,
   "metadata": {},
   "outputs": [
    {
     "name": "stderr",
     "output_type": "stream",
     "text": [
      "/tmp/ipykernel_3594215/2429809284.py:7: FutureWarning: `tokenizer` is deprecated and will be removed in version 5.0.0 for `DistillationTrainer.__init__`. Use `processing_class` instead.\n",
      "  super().__init__(*args, **kwargs)\n",
      "/home/dev/.venv/lib/python3.9/site-packages/torch/nn/parallel/_functions.py:71: UserWarning: Was asked to gather along dimension 0, but all input tensors were scalars; will instead unsqueeze and return a vector.\n",
      "  warnings.warn(\n"
     ]
    },
    {
     "data": {
      "text/html": [
       "\n",
       "    <div>\n",
       "      \n",
       "      <progress value='400' max='400' style='width:300px; height:20px; vertical-align: middle;'></progress>\n",
       "      [400/400 01:02, Epoch 5/5]\n",
       "    </div>\n",
       "    <table border=\"1\" class=\"dataframe\">\n",
       "  <thead>\n",
       " <tr style=\"text-align: left;\">\n",
       "      <th>Epoch</th>\n",
       "      <th>Training Loss</th>\n",
       "      <th>Validation Loss</th>\n",
       "      <th>Accuracy</th>\n",
       "    </tr>\n",
       "  </thead>\n",
       "  <tbody>\n",
       "    <tr>\n",
       "      <td>1</td>\n",
       "      <td>No log</td>\n",
       "      <td>4.449609</td>\n",
       "      <td>0.441935</td>\n",
       "    </tr>\n",
       "    <tr>\n",
       "      <td>2</td>\n",
       "      <td>No log</td>\n",
       "      <td>3.762282</td>\n",
       "      <td>0.688387</td>\n",
       "    </tr>\n",
       "    <tr>\n",
       "      <td>3</td>\n",
       "      <td>No log</td>\n",
       "      <td>3.282632</td>\n",
       "      <td>0.758065</td>\n",
       "    </tr>\n",
       "    <tr>\n",
       "      <td>4</td>\n",
       "      <td>3.947500</td>\n",
       "      <td>2.998896</td>\n",
       "      <td>0.790968</td>\n",
       "    </tr>\n",
       "    <tr>\n",
       "      <td>5</td>\n",
       "      <td>3.947500</td>\n",
       "      <td>2.905463</td>\n",
       "      <td>0.799677</td>\n",
       "    </tr>\n",
       "  </tbody>\n",
       "</table><p>"
      ],
      "text/plain": [
       "<IPython.core.display.HTML object>"
      ]
     },
     "metadata": {},
     "output_type": "display_data"
    },
    {
     "name": "stderr",
     "output_type": "stream",
     "text": [
      "/home/dev/.venv/lib/python3.9/site-packages/torch/nn/parallel/_functions.py:71: UserWarning: Was asked to gather along dimension 0, but all input tensors were scalars; will instead unsqueeze and return a vector.\n",
      "  warnings.warn(\n",
      "/home/dev/.venv/lib/python3.9/site-packages/torch/nn/parallel/_functions.py:71: UserWarning: Was asked to gather along dimension 0, but all input tensors were scalars; will instead unsqueeze and return a vector.\n",
      "  warnings.warn(\n",
      "/home/dev/.venv/lib/python3.9/site-packages/torch/nn/parallel/_functions.py:71: UserWarning: Was asked to gather along dimension 0, but all input tensors were scalars; will instead unsqueeze and return a vector.\n",
      "  warnings.warn(\n",
      "/home/dev/.venv/lib/python3.9/site-packages/torch/nn/parallel/_functions.py:71: UserWarning: Was asked to gather along dimension 0, but all input tensors were scalars; will instead unsqueeze and return a vector.\n",
      "  warnings.warn(\n",
      "/home/dev/.venv/lib/python3.9/site-packages/torch/nn/parallel/_functions.py:71: UserWarning: Was asked to gather along dimension 0, but all input tensors were scalars; will instead unsqueeze and return a vector.\n",
      "  warnings.warn(\n"
     ]
    },
    {
     "data": {
      "text/plain": [
       "TrainOutput(global_step=400, training_loss=3.755630683898926, metrics={'train_runtime': 64.7144, 'train_samples_per_second': 1178.255, 'train_steps_per_second': 6.181, 'total_flos': 474292858746168.0, 'train_loss': 3.755630683898926, 'epoch': 5.0})"
      ]
     },
     "execution_count": 29,
     "metadata": {},
     "output_type": "execute_result"
    }
   ],
   "source": [
    "distilbert_trainer = DistillationTrainer(model_init=student_init,\n",
    "    teacher_model=teacher_model, args=student_training_args,\n",
    "    train_dataset=clinc_enc['train'], eval_dataset=clinc_enc['validation'],\n",
    "    compute_metrics=compute_metrics, tokenizer=student_tokenizer)\n",
    "\n",
    "distilbert_trainer.train()"
   ]
  },
  {
   "cell_type": "code",
   "execution_count": 30,
   "metadata": {},
   "outputs": [],
   "source": [
    "#hide_output\n",
    "# distilbert_trainer.push_to_hub(\"Training completed!\")"
   ]
  },
  {
   "cell_type": "code",
   "execution_count": 31,
   "metadata": {},
   "outputs": [],
   "source": [
    "#hide_output\n",
    "finetuned_ckpt = \"transformersbook/distilbert-base-uncased-finetuned-clinc\"\n",
    "pipe = pipeline(\"text-classification\", model=finetuned_ckpt)"
   ]
  },
  {
   "cell_type": "code",
   "execution_count": 32,
   "metadata": {},
   "outputs": [
    {
     "name": "stdout",
     "output_type": "stream",
     "text": [
      "Model size (MB) - 255.88\n",
      "Average latency (ms) - 3.12 +\\- 0.27\n",
      "Accuracy on test set - 0.858\n"
     ]
    }
   ],
   "source": [
    "optim_type = \"DistilBERT\"\n",
    "pb = PerformanceBenchmark(pipe, clinc[\"test\"], optim_type=optim_type)\n",
    "perf_metrics.update(pb.run_benchmark())"
   ]
  },
  {
   "cell_type": "code",
   "execution_count": 33,
   "metadata": {},
   "outputs": [
    {
     "data": {
      "image/png": "[encoded data removed]",
      "text/plain": [
       "<Figure size 640x480 with 1 Axes>"
      ]
     },
     "metadata": {},
     "output_type": "display_data"
    }
   ],
   "source": [
    "import pandas as pd\n",
    "import matplotlib.pyplot as plt\n",
    "\n",
    "def plot_metrics(perf_metrics, current_optim_type):\n",
    "    df = pd.DataFrame.from_dict(perf_metrics, orient='index')\n",
    "\n",
    "    for idx in df.index:\n",
    "        df_opt = df.loc[idx]\n",
    "        # Add a dashed circle around the current optimization type\n",
    "        if idx == current_optim_type:\n",
    "            plt.scatter(df_opt[\"time_avg_ms\"], df_opt[\"accuracy\"] * 100, \n",
    "                        alpha=0.5, s=df_opt[\"size_mb\"], label=idx, \n",
    "                        marker='$\\u25CC$')\n",
    "        else:\n",
    "            plt.scatter(df_opt[\"time_avg_ms\"], df_opt[\"accuracy\"] * 100, \n",
    "                        s=df_opt[\"size_mb\"], label=idx, alpha=0.5)\n",
    "            \n",
    "    legend = plt.legend(bbox_to_anchor=(1,1))\n",
    "    for handle in legend.legend_handles:\n",
    "        handle.set_sizes([20])\n",
    "\n",
    "    plt.ylim(80,90)\n",
    "    # Use the slowest model to define the x-axis range\n",
    "    xlim = int(perf_metrics[\"BERT baseline\"][\"time_avg_ms\"] + 3)\n",
    "    plt.xlim(1, xlim)\n",
    "    plt.ylabel(\"Accuracy (%)\")\n",
    "    plt.xlabel(\"Average latency (ms)\")\n",
    "    plt.show()\n",
    "    \n",
    "plot_metrics(perf_metrics, optim_type)"
   ]
  },
  {
   "cell_type": "markdown",
   "metadata": {},
   "source": [
    "### Finding Good Hyperparameters with Optuna"
   ]
  },
  {
   "cell_type": "code",
   "execution_count": 34,
   "metadata": {},
   "outputs": [
    {
     "data": {
      "image/png": "[encoded data removed]",
      "text/plain": [
       "<Figure size 640x480 with 1 Axes>"
      ]
     },
     "metadata": {},
     "output_type": "display_data"
    }
   ],
   "source": [
    "#hide_input\n",
    "#id banana-function\n",
    "#alt A banana plot\n",
    "#caption Plot of the Rosenbrock function of two variables \n",
    "import matplotlib.pyplot as plt\n",
    "import numpy as np\n",
    "\n",
    "def f(x, y):\n",
    "    return (1-x)**2+100*(y-x**2)**2\n",
    "    \n",
    "X, Y = np.meshgrid(np.linspace(-2, 2, 250), np.linspace(-1, 3, 250))\n",
    "Z = f(X,Y)\n",
    "_, ax = plt.subplots()\n",
    "ax.plot([1], [1], 'x', mew=3, markersize=10, color=\"red\")\n",
    "ax.contourf(X, Y, Z, np.logspace(-1, 3, 30), cmap='viridis', extend=\"both\")\n",
    "ax.set_xlim(-1.3, 1.3)\n",
    "ax.set_ylim(-0.9, 1.7)\n",
    "plt.show()"
   ]
  },
  {
   "cell_type": "code",
   "execution_count": 35,
   "metadata": {},
   "outputs": [],
   "source": [
    "def objective(trial):\n",
    "    x = trial.suggest_float(\"x\", -2, 2)\n",
    "    y = trial.suggest_float(\"y\", -2, 2)\n",
    "    return (1 - x) ** 2 + 100 * (y - x ** 2) ** 2"
   ]
  },
  {
   "cell_type": "code",
   "execution_count": 36,
   "metadata": {},
   "outputs": [
    {
     "name": "stderr",
     "output_type": "stream",
     "text": [
      "[I 2025-08-24 05:45:52,561] A new study created in memory with name: no-name-dcf3bdab-90a2-494d-b484-bcab83c20b8f\n",
      "[I 2025-08-24 05:45:52,563] Trial 0 finished with value: 75.66190253561045 and parameters: {'x': -0.5768539264382069, 'y': 1.1881868620832527}. Best is trial 0 with value: 75.66190253561045.\n",
      "[I 2025-08-24 05:45:52,564] Trial 1 finished with value: 573.9285879339467 and parameters: {'x': -1.352789257654234, 'y': -0.5540605734860216}. Best is trial 0 with value: 75.66190253561045.\n",
      "[I 2025-08-24 05:45:52,565] Trial 2 finished with value: 105.8657567258019 and parameters: {'x': 1.2508512027154972, 'y': 0.5360237031539299}. Best is trial 0 with value: 75.66190253561045.\n",
      "[I 2025-08-24 05:45:52,566] Trial 3 finished with value: 65.79015872049841 and parameters: {'x': -0.3931007866945393, 'y': -0.6445301480822803}. Best is trial 3 with value: 65.79015872049841.\n",
      "[I 2025-08-24 05:45:52,567] Trial 4 finished with value: 4.828664135217498 and parameters: {'x': -1.0566023062067504, 'y': 1.1938068242478068}. Best is trial 4 with value: 4.828664135217498.\n",
      "[I 2025-08-24 05:45:52,568] Trial 5 finished with value: 109.61232753038905 and parameters: {'x': -1.52352313289766, 'y': 1.3050314092397879}. Best is trial 4 with value: 4.828664135217498.\n",
      "[I 2025-08-24 05:45:52,568] Trial 6 finished with value: 8.317461003352928 and parameters: {'x': -0.4267734578083, 'y': 0.4327703485073622}. Best is trial 4 with value: 4.828664135217498.\n",
      "[I 2025-08-24 05:45:52,569] Trial 7 finished with value: 51.02382907066806 and parameters: {'x': 0.3376232748918193, 'y': -0.597242456497781}. Best is trial 4 with value: 4.828664135217498.\n",
      "[I 2025-08-24 05:45:52,570] Trial 8 finished with value: 886.6458692690006 and parameters: {'x': -1.344899434478152, 'y': -1.1596580766561058}. Best is trial 4 with value: 4.828664135217498.\n",
      "[I 2025-08-24 05:45:52,571] Trial 9 finished with value: 740.7780263583436 and parameters: {'x': -0.9493156063951402, 'y': -1.813534111428372}. Best is trial 4 with value: 4.828664135217498.\n",
      "[I 2025-08-24 05:45:52,577] Trial 10 finished with value: 256.01691773888615 and parameters: {'x': 0.48527376233677844, 'y': 1.8347153573351267}. Best is trial 4 with value: 4.828664135217498.\n"
     ]
    },
    {
     "name": "stderr",
     "output_type": "stream",
     "text": [
      "[I 2025-08-24 05:45:52,581] Trial 11 finished with value: 1230.096420293529 and parameters: {'x': -1.9727964043876478, 'y': 0.3972741657750104}. Best is trial 4 with value: 4.828664135217498.\n",
      "[I 2025-08-24 05:45:52,585] Trial 12 finished with value: 56.757471411485 and parameters: {'x': -0.29982131840895, 'y': 0.8319705544244806}. Best is trial 4 with value: 4.828664135217498.\n",
      "[I 2025-08-24 05:45:52,589] Trial 13 finished with value: 49.375340890235506 and parameters: {'x': 1.6187171884119744, 'y': 1.9202986957298416}. Best is trial 4 with value: 4.828664135217498.\n",
      "[I 2025-08-24 05:45:52,593] Trial 14 finished with value: 2.5918010595111682 and parameters: {'x': 0.4662926107365313, 'y': 0.06554208175990928}. Best is trial 14 with value: 2.5918010595111682.\n",
      "[I 2025-08-24 05:45:52,596] Trial 15 finished with value: 72.57803125876363 and parameters: {'x': 0.8820398541622511, 'y': -0.07385143676788965}. Best is trial 14 with value: 2.5918010595111682.\n",
      "[I 2025-08-24 05:45:52,600] Trial 16 finished with value: 2.1383651663829193 and parameters: {'x': 0.22267999163208527, 'y': -0.07427397700900365}. Best is trial 16 with value: 2.1383651663829193.\n",
      "[I 2025-08-24 05:45:52,604] Trial 17 finished with value: 0.7098326898071943 and parameters: {'x': 0.21332130441385616, 'y': 0.015344858294730562}. Best is trial 17 with value: 0.7098326898071943.\n",
      "[I 2025-08-24 05:45:52,608] Trial 18 finished with value: 144.15771504004414 and parameters: {'x': 0.08588425312312292, 'y': -1.1897960106836005}. Best is trial 17 with value: 0.7098326898071943.\n",
      "[I 2025-08-24 05:45:52,612] Trial 19 finished with value: 75.4999247940972 and parameters: {'x': 0.8787594322271829, 'y': -0.096604198375605}. Best is trial 17 with value: 0.7098326898071943.\n",
      "[I 2025-08-24 05:45:52,616] Trial 20 finished with value: 1566.9467337761646 and parameters: {'x': 1.7015867609719575, 'y': -1.0624485123457141}. Best is trial 17 with value: 0.7098326898071943.\n",
      "[I 2025-08-24 05:45:52,620] Trial 21 finished with value: 14.712327957075985 and parameters: {'x': 0.6152876079613769, 'y': -0.0030535000014446146}. Best is trial 17 with value: 0.7098326898071943.\n",
      "[I 2025-08-24 05:45:52,624] Trial 22 finished with value: 10.535262436495376 and parameters: {'x': 0.13232561286877673, 'y': -0.2952582744773493}. Best is trial 17 with value: 0.7098326898071943.\n",
      "[I 2025-08-24 05:45:52,628] Trial 23 finished with value: 50.452529481869846 and parameters: {'x': 0.9864099056464641, 'y': 0.26270636179936824}. Best is trial 17 with value: 0.7098326898071943.\n",
      "[I 2025-08-24 05:45:52,632] Trial 24 finished with value: 66.24472918862877 and parameters: {'x': 0.09219788228900017, 'y': 0.8173306202001162}. Best is trial 17 with value: 0.7098326898071943.\n",
      "[I 2025-08-24 05:45:52,636] Trial 25 finished with value: 13.648646202866463 and parameters: {'x': -0.15405839073564556, 'y': -0.3272189354920494}. Best is trial 17 with value: 0.7098326898071943.\n",
      "[I 2025-08-24 05:45:52,640] Trial 26 finished with value: 1.578697269150577 and parameters: {'x': 0.561255153977174, 'y': 0.1972703430951818}. Best is trial 17 with value: 0.7098326898071943.\n",
      "[I 2025-08-24 05:45:52,644] Trial 27 finished with value: 116.69731903396978 and parameters: {'x': 1.3124498860070677, 'y': 0.6427113207795258}. Best is trial 17 with value: 0.7098326898071943.\n",
      "[I 2025-08-24 05:45:52,647] Trial 28 finished with value: 10.254520811652089 and parameters: {'x': 0.7301783834372964, 'y': 0.21407244135768438}. Best is trial 17 with value: 0.7098326898071943.\n",
      "[I 2025-08-24 05:45:52,650] Trial 29 finished with value: 151.12567541094683 and parameters: {'x': -0.6625537731948632, 'y': -0.7790602243077296}. Best is trial 17 with value: 0.7098326898071943.\n",
      "[I 2025-08-24 05:45:52,654] Trial 30 finished with value: 736.2116032455124 and parameters: {'x': 1.9040385851479253, 'y': 0.9135474579261429}. Best is trial 17 with value: 0.7098326898071943.\n",
      "[I 2025-08-24 05:45:52,657] Trial 31 finished with value: 0.5181537590272489 and parameters: {'x': 0.37088622859719966, 'y': 0.17253796412723713}. Best is trial 31 with value: 0.5181537590272489.\n",
      "[I 2025-08-24 05:45:52,661] Trial 32 finished with value: 18.38637069851405 and parameters: {'x': 0.3152232157384861, 'y': -0.32392443109226643}. Best is trial 31 with value: 0.5181537590272489.\n",
      "[I 2025-08-24 05:45:52,664] Trial 33 finished with value: 169.33293139639173 and parameters: {'x': 1.2028430317311625, 'y': 0.14570958873797846}. Best is trial 31 with value: 0.5181537590272489.\n",
      "[I 2025-08-24 05:45:52,668] Trial 34 finished with value: 8.483361751630836 and parameters: {'x': -0.12588890848653378, 'y': -0.2527732014906241}. Best is trial 31 with value: 0.5181537590272489.\n",
      "[I 2025-08-24 05:45:52,672] Trial 35 finished with value: 4.495998216496771 and parameters: {'x': -0.6692636550259441, 'y': 0.5786638711626285}. Best is trial 31 with value: 0.5181537590272489.\n",
      "[I 2025-08-24 05:45:52,675] Trial 36 finished with value: 2.183272535423398 and parameters: {'x': 0.6573671003223929, 'y': 0.2883999759823521}. Best is trial 31 with value: 0.5181537590272489.\n",
      "[I 2025-08-24 05:45:52,679] Trial 37 finished with value: 92.6597936840448 and parameters: {'x': 0.279541319940244, 'y': -0.8817562961089415}. Best is trial 31 with value: 0.5181537590272489.\n",
      "[I 2025-08-24 05:45:52,682] Trial 38 finished with value: 196.79026076966488 and parameters: {'x': -0.2438034987763295, 'y': 1.4567347234977106}. Best is trial 31 with value: 0.5181537590272489.\n",
      "[I 2025-08-24 05:45:52,686] Trial 39 finished with value: 302.5110834876399 and parameters: {'x': 1.130114797309705, 'y': -0.4620764507728433}. Best is trial 31 with value: 0.5181537590272489.\n",
      "[I 2025-08-24 05:45:52,689] Trial 40 finished with value: 130.36966864691553 and parameters: {'x': -0.0066315359399206075, 'y': 1.1373933589356413}. Best is trial 31 with value: 0.5181537590272489.\n",
      "[I 2025-08-24 05:45:52,693] Trial 41 finished with value: 2.662816285244601 and parameters: {'x': 0.7005771337912279, 'y': 0.3303975279725443}. Best is trial 31 with value: 0.5181537590272489.\n",
      "[I 2025-08-24 05:45:52,696] Trial 42 finished with value: 13.151312106605829 and parameters: {'x': 0.4753634597962134, 'y': 0.5848028116401944}. Best is trial 31 with value: 0.5181537590272489.\n",
      "[I 2025-08-24 05:45:52,699] Trial 43 finished with value: 2.3045949660485068 and parameters: {'x': 0.2701864496213929, 'y': -0.060114538806749454}. Best is trial 31 with value: 0.5181537590272489.\n",
      "[I 2025-08-24 05:45:52,702] Trial 44 finished with value: 3.5001922779476 and parameters: {'x': -0.4893455429345784, 'y': 0.3526863597345965}. Best is trial 31 with value: 0.5181537590272489.\n",
      "[I 2025-08-24 05:45:52,705] Trial 45 finished with value: 70.42397395450867 and parameters: {'x': 0.612118552139001, 'y': -0.4636039172067502}. Best is trial 31 with value: 0.5181537590272489.\n",
      "[I 2025-08-24 05:45:52,708] Trial 46 finished with value: 380.5706751267865 and parameters: {'x': 1.4408786607276536, 'y': 0.12580749276795364}. Best is trial 31 with value: 0.5181537590272489.\n",
      "[I 2025-08-24 05:45:52,711] Trial 47 finished with value: 117.71886574863566 and parameters: {'x': 0.9554495942119967, 'y': -0.17209017864791157}. Best is trial 31 with value: 0.5181537590272489.\n",
      "[I 2025-08-24 05:45:52,714] Trial 48 finished with value: 30.654871374238933 and parameters: {'x': 0.3860801733541641, 'y': 0.6993121489521831}. Best is trial 31 with value: 0.5181537590272489.\n",
      "[I 2025-08-24 05:45:52,717] Trial 49 finished with value: 1.7980909558833227 and parameters: {'x': 0.7476087879732495, 'y': 0.4272226724231013}. Best is trial 31 with value: 0.5181537590272489.\n",
      "[I 2025-08-24 05:45:52,721] Trial 50 finished with value: 92.4997207456643 and parameters: {'x': 0.18355581686562078, 'y': 0.991988828064663}. Best is trial 31 with value: 0.5181537590272489.\n",
      "[I 2025-08-24 05:45:52,724] Trial 51 finished with value: 7.612878414637858 and parameters: {'x': 0.786207976020091, 'y': 0.3430380603946981}. Best is trial 31 with value: 0.5181537590272489.\n",
      "[I 2025-08-24 05:45:52,727] Trial 52 finished with value: 49.372506678714466 and parameters: {'x': 1.0632913795821517, 'y': 0.4279613389505189}. Best is trial 31 with value: 0.5181537590272489.\n",
      "[I 2025-08-24 05:45:52,730] Trial 53 finished with value: 6.612171231252744 and parameters: {'x': 0.5797580811616279, 'y': 0.08243522029580587}. Best is trial 31 with value: 0.5181537590272489.\n",
      "[I 2025-08-24 05:45:52,733] Trial 54 finished with value: 23.651017387655603 and parameters: {'x': 0.0073740025001247655, 'y': 0.4761395680449416}. Best is trial 31 with value: 0.5181537590272489.\n",
      "[I 2025-08-24 05:45:52,736] Trial 55 finished with value: 295.7399333468329 and parameters: {'x': 0.40808299325202213, 'y': -1.5521583753318107}. Best is trial 31 with value: 0.5181537590272489.\n",
      "[I 2025-08-24 05:45:52,739] Trial 56 finished with value: 40.27236989954616 and parameters: {'x': 0.7865600718304774, 'y': -0.015569367277469326}. Best is trial 31 with value: 0.5181537590272489.\n",
      "[I 2025-08-24 05:45:52,742] Trial 57 finished with value: 26.426237393713176 and parameters: {'x': 0.49081418062437043, 'y': 0.7524351391908823}. Best is trial 31 with value: 0.5181537590272489.\n",
      "[I 2025-08-24 05:45:52,745] Trial 58 finished with value: 4.8007659458545735 and parameters: {'x': 0.1825213805744551, 'y': -0.1699713276122413}. Best is trial 31 with value: 0.5181537590272489.\n",
      "[I 2025-08-24 05:45:52,748] Trial 59 finished with value: 39.43256953350535 and parameters: {'x': -0.08076411336219652, 'y': -0.6120603655306059}. Best is trial 31 with value: 0.5181537590272489.\n",
      "[I 2025-08-24 05:45:52,752] Trial 60 finished with value: 2.2020481467131563 and parameters: {'x': -0.31615469778445304, 'y': 0.16849465360662352}. Best is trial 31 with value: 0.5181537590272489.\n",
      "[I 2025-08-24 05:45:52,755] Trial 61 finished with value: 3.2196519901921623 and parameters: {'x': -0.3059207208151359, 'y': 0.216641258643704}. Best is trial 31 with value: 0.5181537590272489.\n",
      "[I 2025-08-24 05:45:52,758] Trial 62 finished with value: 0.43264744158512386 and parameters: {'x': 0.646050068193067, 'y': 0.472821369482478}. Best is trial 62 with value: 0.43264744158512386.\n",
      "[I 2025-08-24 05:45:52,761] Trial 63 finished with value: 9.57717448106698 and parameters: {'x': 0.8733844762236229, 'y': 0.453589463713479}. Best is trial 62 with value: 0.43264744158512386.\n",
      "[I 2025-08-24 05:45:52,764] Trial 64 finished with value: 7.919337065042744 and parameters: {'x': 0.5876265652672149, 'y': 0.06692960027321371}. Best is trial 62 with value: 0.43264744158512386.\n",
      "[I 2025-08-24 05:45:52,768] Trial 65 finished with value: 935.4477454053019 and parameters: {'x': -1.8944428350516889, 'y': 0.5441313213836617}. Best is trial 62 with value: 0.43264744158512386.\n",
      "[I 2025-08-24 05:45:52,771] Trial 66 finished with value: 2.8038742760664244 and parameters: {'x': 0.6589150115817446, 'y': 0.27023195253821736}. Best is trial 62 with value: 0.43264744158512386.\n",
      "[I 2025-08-24 05:45:52,774] Trial 67 finished with value: 462.7578905062948 and parameters: {'x': 1.4082305949342753, 'y': -0.16768002250123795}. Best is trial 62 with value: 0.43264744158512386.\n",
      "[I 2025-08-24 05:45:52,777] Trial 68 finished with value: 78.30218717608389 and parameters: {'x': 0.30999872790000127, 'y': 0.9782901510659731}. Best is trial 62 with value: 0.43264744158512386.\n",
      "[I 2025-08-24 05:45:52,781] Trial 69 finished with value: 15.814713690042911 and parameters: {'x': 0.5118849203947841, 'y': 0.6566963803715118}. Best is trial 62 with value: 0.43264744158512386.\n",
      "[I 2025-08-24 05:45:52,784] Trial 70 finished with value: 191.19389198960246 and parameters: {'x': 0.9638686356547347, 'y': -0.4536813273175073}. Best is trial 62 with value: 0.43264744158512386.\n",
      "[I 2025-08-24 05:45:52,787] Trial 71 finished with value: 4.253446986190271 and parameters: {'x': 0.0452376399918476, 'y': 0.18485442590274787}. Best is trial 62 with value: 0.43264744158512386.\n",
      "[I 2025-08-24 05:45:52,790] Trial 72 finished with value: 46.12017472968835 and parameters: {'x': -0.8292411525306104, 'y': 0.03362214669212041}. Best is trial 62 with value: 0.43264744158512386.\n",
      "[I 2025-08-24 05:45:52,794] Trial 73 finished with value: 3.257346396121595 and parameters: {'x': 0.1818770122700893, 'y': 0.19395252607786123}. Best is trial 62 with value: 0.43264744158512386.\n",
      "[I 2025-08-24 05:45:52,797] Trial 74 finished with value: 10.553018633396505 and parameters: {'x': -0.23967759756476928, 'y': 0.357715530570758}. Best is trial 62 with value: 0.43264744158512386.\n",
      "[I 2025-08-24 05:45:52,800] Trial 75 finished with value: 54.56620278123091 and parameters: {'x': 0.795369880978013, 'y': -0.10579266584122249}. Best is trial 62 with value: 0.43264744158512386.\n",
      "[I 2025-08-24 05:45:52,803] Trial 76 finished with value: 8.903159863189982 and parameters: {'x': -0.4975324282128961, 'y': 0.5056190566772732}. Best is trial 62 with value: 0.43264744158512386.\n",
      "[I 2025-08-24 05:45:52,807] Trial 77 finished with value: 52.67764126872746 and parameters: {'x': 0.373007138073114, 'y': 0.8622146886357196}. Best is trial 62 with value: 0.43264744158512386.\n",
      "[I 2025-08-24 05:45:52,810] Trial 78 finished with value: 18.839961047973528 and parameters: {'x': 0.2520620998354125, 'y': -0.36402229564784927}. Best is trial 62 with value: 0.43264744158512386.\n",
      "[I 2025-08-24 05:45:52,814] Trial 79 finished with value: 225.63499997552702 and parameters: {'x': -1.1220597642339623, 'y': -0.22803219510202188}. Best is trial 62 with value: 0.43264744158512386.\n",
      "[I 2025-08-24 05:45:52,817] Trial 80 finished with value: 8.576877527552764 and parameters: {'x': -0.10645697441155733, 'y': 0.2824904308627133}. Best is trial 62 with value: 0.43264744158512386.\n",
      "[I 2025-08-24 05:45:52,820] Trial 81 finished with value: 0.7725374485572488 and parameters: {'x': 0.24326212433186456, 'y': 0.014467934421247663}. Best is trial 62 with value: 0.43264744158512386.\n",
      "[I 2025-08-24 05:45:52,823] Trial 82 finished with value: 8.953865295848503 and parameters: {'x': 0.5340086718617426, 'y': -0.010414124970794608}. Best is trial 62 with value: 0.43264744158512386.\n",
      "[I 2025-08-24 05:45:52,827] Trial 83 finished with value: 15.00950094802153 and parameters: {'x': 0.7009691237566379, 'y': 0.10509249938660964}. Best is trial 62 with value: 0.43264744158512386.\n",
      "[I 2025-08-24 05:45:52,830] Trial 84 finished with value: 1.4225214736894944 and parameters: {'x': 0.10583140799613122, 'y': -0.06772904874094944}. Best is trial 62 with value: 0.43264744158512386.\n",
      "[I 2025-08-24 05:45:52,833] Trial 85 finished with value: 1.9745991276403314 and parameters: {'x': 0.08148873394325862, 'y': -0.09970506953732118}. Best is trial 62 with value: 0.43264744158512386.\n",
      "[I 2025-08-24 05:45:52,837] Trial 86 finished with value: 13.933876943413825 and parameters: {'x': -0.021939491406065048, 'y': -0.3585383882487805}. Best is trial 62 with value: 0.43264744158512386.\n",
      "[I 2025-08-24 05:45:52,840] Trial 87 finished with value: 0.9056198620298515 and parameters: {'x': 0.09628568036352148, 'y': -0.020548573204514253}. Best is trial 62 with value: 0.43264744158512386.\n",
      "[I 2025-08-24 05:45:52,843] Trial 88 finished with value: 2.6002232655232294 and parameters: {'x': 0.12265288714023728, 'y': -0.12025169821150808}. Best is trial 62 with value: 0.43264744158512386.\n",
      "[I 2025-08-24 05:45:52,847] Trial 89 finished with value: 20.965825360997567 and parameters: {'x': 0.4218291594932443, 'y': -0.2762797529114592}. Best is trial 62 with value: 0.43264744158512386.\n",
      "[I 2025-08-24 05:45:52,850] Trial 90 finished with value: 80.94946060669392 and parameters: {'x': 0.3343105702794895, 'y': -0.7854895740503454}. Best is trial 62 with value: 0.43264744158512386.\n",
      "[I 2025-08-24 05:45:52,853] Trial 91 finished with value: 0.9832809708120286 and parameters: {'x': 0.11076857803874082, 'y': -0.031610664985846706}. Best is trial 62 with value: 0.43264744158512386.\n",
      "[I 2025-08-24 05:45:52,857] Trial 92 finished with value: 1.029696146413973 and parameters: {'x': 0.08699523394005232, 'y': -0.03671709133098232}. Best is trial 62 with value: 0.43264744158512386.\n",
      "[I 2025-08-24 05:45:52,860] Trial 93 finished with value: 1.521902479368899 and parameters: {'x': -0.22422429261122462, 'y': 0.06550064609674654}. Best is trial 62 with value: 0.43264744158512386.\n",
      "[I 2025-08-24 05:45:52,864] Trial 94 finished with value: 1.293757878045002 and parameters: {'x': -0.13726600753667142, 'y': 0.016882604517273636}. Best is trial 62 with value: 0.43264744158512386.\n",
      "[I 2025-08-24 05:45:52,867] Trial 95 finished with value: 1.4818800383640223 and parameters: {'x': -0.1713557006436882, 'y': -0.003774191269991338}. Best is trial 62 with value: 0.43264744158512386.\n",
      "[I 2025-08-24 05:45:52,871] Trial 96 finished with value: 30.940820413950473 and parameters: {'x': -0.1660948183738181, 'y': -0.5162970881132358}. Best is trial 62 with value: 0.43264744158512386.\n",
      "[I 2025-08-24 05:45:52,874] Trial 97 finished with value: 5.657515662317017 and parameters: {'x': -0.4010473375433033, 'y': -0.03137398839531066}. Best is trial 62 with value: 0.43264744158512386.\n",
      "[I 2025-08-24 05:45:52,877] Trial 98 finished with value: 15.95928446987878 and parameters: {'x': -0.05930344751865427, 'y': -0.3816734524447516}. Best is trial 62 with value: 0.43264744158512386.\n",
      "[I 2025-08-24 05:45:52,881] Trial 99 finished with value: 6.829327177557565 and parameters: {'x': 0.06105351945246013, 'y': -0.24015167319468514}. Best is trial 62 with value: 0.43264744158512386.\n",
      "[I 2025-08-24 05:45:52,884] Trial 100 finished with value: 0.677782861258248 and parameters: {'x': 0.22533900186866315, 'y': 0.02290595981745601}. Best is trial 62 with value: 0.43264744158512386.\n",
      "[I 2025-08-24 05:45:52,888] Trial 101 finished with value: 0.7749473814740517 and parameters: {'x': 0.21844060566048834, 'y': 0.007205522524507818}. Best is trial 62 with value: 0.43264744158512386.\n",
      "[I 2025-08-24 05:45:52,891] Trial 102 finished with value: 6.106147702212363 and parameters: {'x': 0.22577479834452843, 'y': -0.1836898203282804}. Best is trial 62 with value: 0.43264744158512386.\n",
      "[I 2025-08-24 05:45:52,895] Trial 103 finished with value: 1.9452127759500275 and parameters: {'x': 0.14298410212960622, 'y': 0.13047792685729193}. Best is trial 62 with value: 0.43264744158512386.\n",
      "[I 2025-08-24 05:45:52,898] Trial 104 finished with value: 1.2430594533541726 and parameters: {'x': 0.024200776776804905, 'y': 0.05451853671895597}. Best is trial 62 with value: 0.43264744158512386.\n",
      "[I 2025-08-24 05:45:52,902] Trial 105 finished with value: 2.941363918084999 and parameters: {'x': 0.2854065226264704, 'y': 0.2373645507106868}. Best is trial 62 with value: 0.43264744158512386.\n",
      "[I 2025-08-24 05:45:52,905] Trial 106 finished with value: 1.0490869352382868 and parameters: {'x': -0.0007930702056893613, 'y': 0.02179516173041921}. Best is trial 62 with value: 0.43264744158512386.\n",
      "[I 2025-08-24 05:45:52,908] Trial 107 finished with value: 2.2115652388052407 and parameters: {'x': -0.001824759574416801, 'y': 0.10990839741541968}. Best is trial 62 with value: 0.43264744158512386.\n",
      "[I 2025-08-24 05:45:52,912] Trial 108 finished with value: 12.170165017670906 and parameters: {'x': 0.2033854184661861, 'y': 0.3810061770568508}. Best is trial 62 with value: 0.43264744158512386.\n",
      "[I 2025-08-24 05:45:52,916] Trial 109 finished with value: 203.54618753110748 and parameters: {'x': 0.3570347181470013, 'y': 1.5527203762674264}. Best is trial 62 with value: 0.43264744158512386.\n",
      "[I 2025-08-24 05:45:52,919] Trial 110 finished with value: 0.6828057860999741 and parameters: {'x': 0.45728802011636543, 'y': 0.27142360784269365}. Best is trial 62 with value: 0.43264744158512386.\n",
      "[I 2025-08-24 05:45:52,923] Trial 111 finished with value: 7.151397063101265 and parameters: {'x': 0.23153680822941428, 'y': 0.30975107824681125}. Best is trial 62 with value: 0.43264744158512386.\n",
      "[I 2025-08-24 05:45:52,926] Trial 112 finished with value: 0.4986204525036759 and parameters: {'x': 0.4559383581541814, 'y': 0.1628667458396648}. Best is trial 62 with value: 0.43264744158512386.\n",
      "[I 2025-08-24 05:45:52,930] Trial 113 finished with value: 0.26433667254618404 and parameters: {'x': 0.48715400079062, 'y': 0.23367806780724568}. Best is trial 113 with value: 0.26433667254618404.\n",
      "[I 2025-08-24 05:45:52,933] Trial 114 finished with value: 0.2716554413261654 and parameters: {'x': 0.4808961343729101, 'y': 0.2359372208139181}. Best is trial 113 with value: 0.26433667254618404.\n",
      "[I 2025-08-24 05:45:52,937] Trial 115 finished with value: 15.168216146547612 and parameters: {'x': 0.4107196532009786, 'y': 0.5536706955991938}. Best is trial 113 with value: 0.26433667254618404.\n",
      "[I 2025-08-24 05:45:52,940] Trial 116 finished with value: 0.30848172670044904 and parameters: {'x': 0.4680275814811214, 'y': 0.23501448822181023}. Best is trial 113 with value: 0.26433667254618404.\n",
      "[I 2025-08-24 05:45:52,944] Trial 117 finished with value: 3.081908432002273 and parameters: {'x': 0.4946932261124162, 'y': 0.41284555327588707}. Best is trial 113 with value: 0.26433667254618404.\n",
      "[I 2025-08-24 05:45:52,947] Trial 118 finished with value: 0.49568133573936 and parameters: {'x': 0.440987976884339, 'y': 0.23727073381028851}. Best is trial 113 with value: 0.26433667254618404.\n",
      "[I 2025-08-24 05:45:52,951] Trial 119 finished with value: 2.69488628984453 and parameters: {'x': 0.6449115898572535, 'y': 0.2556362411119061}. Best is trial 113 with value: 0.26433667254618404.\n",
      "[I 2025-08-24 05:45:52,954] Trial 120 finished with value: 0.172097645444312 and parameters: {'x': 0.8479003471452544, 'y': 0.7575307680227119}. Best is trial 120 with value: 0.172097645444312.\n",
      "[I 2025-08-24 05:45:52,958] Trial 121 finished with value: 17.791424876862937 and parameters: {'x': 0.5462939656469026, 'y': 0.717788688186365}. Best is trial 120 with value: 0.172097645444312.\n",
      "[I 2025-08-24 05:45:52,961] Trial 122 finished with value: 1.8998518676208982 and parameters: {'x': 0.857436227622756, 'y': 0.5981010260624384}. Best is trial 120 with value: 0.172097645444312.\n",
      "[I 2025-08-24 05:45:52,965] Trial 123 finished with value: 8.364313999433906 and parameters: {'x': 0.4294957251849881, 'y': 0.4679950398718193}. Best is trial 120 with value: 0.172097645444312.\n",
      "[I 2025-08-24 05:45:52,969] Trial 124 finished with value: 4.525672699314044 and parameters: {'x': 0.5933679598268168, 'y': 0.14327166927416513}. Best is trial 120 with value: 0.172097645444312.\n",
      "[I 2025-08-24 05:45:52,972] Trial 125 finished with value: 7.068139999062097 and parameters: {'x': 0.6921364270884118, 'y': 0.21498163081348776}. Best is trial 120 with value: 0.172097645444312.\n",
      "[I 2025-08-24 05:45:52,976] Trial 126 finished with value: 4.790621896359738 and parameters: {'x': 0.34113009418338514, 'y': 0.3250923404028061}. Best is trial 120 with value: 0.172097645444312.\n",
      "[I 2025-08-24 05:45:52,979] Trial 127 finished with value: 3.1746537835183704 and parameters: {'x': 0.47096716445410836, 'y': 0.3919505426167922}. Best is trial 120 with value: 0.172097645444312.\n",
      "[I 2025-08-24 05:45:52,983] Trial 128 finished with value: 664.5292911929428 and parameters: {'x': 0.7644178883378661, 'y': -1.9934042086786785}. Best is trial 120 with value: 0.172097645444312.\n",
      "[I 2025-08-24 05:45:52,987] Trial 129 finished with value: 2.167097000875194 and parameters: {'x': 0.5510155312291942, 'y': 0.16342146991568107}. Best is trial 120 with value: 0.172097645444312.\n",
      "[I 2025-08-24 05:45:52,990] Trial 130 finished with value: 44.357002332657586 and parameters: {'x': 1.079373692015427, 'y': 0.499084338678243}. Best is trial 120 with value: 0.172097645444312.\n",
      "[I 2025-08-24 05:45:52,994] Trial 131 finished with value: 49.99561452845945 and parameters: {'x': 0.3021456703887294, 'y': 0.7949155835047017}. Best is trial 120 with value: 0.172097645444312.\n",
      "[I 2025-08-24 05:45:52,997] Trial 132 finished with value: 0.6368450590232955 and parameters: {'x': 0.47365417792214587, 'y': 0.28433203928206524}. Best is trial 120 with value: 0.172097645444312.\n",
      "[I 2025-08-24 05:45:53,001] Trial 133 finished with value: 0.9858092151121347 and parameters: {'x': 0.45218229011805255, 'y': 0.2872761282377055}. Best is trial 120 with value: 0.172097645444312.\n",
      "[I 2025-08-24 05:45:53,005] Trial 134 finished with value: 3.518359116268111 and parameters: {'x': 0.6294417697851541, 'y': 0.2123207409617146}. Best is trial 120 with value: 0.172097645444312.\n",
      "[I 2025-08-24 05:45:53,008] Trial 135 finished with value: 23.145293914094736 and parameters: {'x': 0.3852206915493453, 'y': 0.6255463231847157}. Best is trial 120 with value: 0.172097645444312.\n",
      "[I 2025-08-24 05:45:53,012] Trial 136 finished with value: 40.46905024102787 and parameters: {'x': 0.8643927135621927, 'y': 0.11116642286682735}. Best is trial 120 with value: 0.172097645444312.\n",
      "[I 2025-08-24 05:45:53,016] Trial 137 finished with value: 0.5026669438263396 and parameters: {'x': 0.516017084890068, 'y': 0.31808361951743774}. Best is trial 120 with value: 0.172097645444312.\n",
      "[I 2025-08-24 05:45:53,019] Trial 138 finished with value: 71.51598663205105 and parameters: {'x': 0.5228454643387931, 'y': 1.1176914298183522}. Best is trial 120 with value: 0.172097645444312.\n",
      "[I 2025-08-24 05:45:53,023] Trial 139 finished with value: 2.9826363514165686 and parameters: {'x': 0.7081956557740023, 'y': 0.3313210358611892}. Best is trial 120 with value: 0.172097645444312.\n",
      "[I 2025-08-24 05:45:53,027] Trial 140 finished with value: 1.1532672679700788 and parameters: {'x': 0.5929199094376564, 'y': 0.45092972367614614}. Best is trial 120 with value: 0.172097645444312.\n",
      "[I 2025-08-24 05:45:53,030] Trial 141 finished with value: 2.8935915746942538 and parameters: {'x': 0.2928664421870398, 'y': 0.24048189367349923}. Best is trial 120 with value: 0.172097645444312.\n",
      "[I 2025-08-24 05:45:53,034] Trial 142 finished with value: 0.76334600811637 and parameters: {'x': 0.463015431125342, 'y': 0.14546351139127}. Best is trial 120 with value: 0.172097645444312.\n",
      "[I 2025-08-24 05:45:53,038] Trial 143 finished with value: 3.3467413237493644 and parameters: {'x': 0.44381138989055896, 'y': 0.37124980391572593}. Best is trial 120 with value: 0.172097645444312.\n",
      "[I 2025-08-24 05:45:53,042] Trial 144 finished with value: 0.40264976362155924 and parameters: {'x': 0.3654624334051959, 'y': 0.13321869429173538}. Best is trial 120 with value: 0.172097645444312.\n",
      "[I 2025-08-24 05:45:53,045] Trial 145 finished with value: 1.093060614692207 and parameters: {'x': 0.491166201134258, 'y': 0.1499124912963393}. Best is trial 120 with value: 0.172097645444312.\n",
      "[I 2025-08-24 05:45:53,049] Trial 146 finished with value: 1.3303831960795809 and parameters: {'x': 0.6449602335518081, 'y': 0.5257156711488133}. Best is trial 120 with value: 0.172097645444312.\n",
      "[I 2025-08-24 05:45:53,053] Trial 147 finished with value: 36.27558957004828 and parameters: {'x': 0.9565384454634225, 'y': 0.3126892775749099}. Best is trial 120 with value: 0.172097645444312.\n",
      "[I 2025-08-24 05:45:53,057] Trial 148 finished with value: 1.0263907405610833 and parameters: {'x': 0.3622030592503926, 'y': 0.20990609935154256}. Best is trial 120 with value: 0.172097645444312.\n",
      "[I 2025-08-24 05:45:53,060] Trial 149 finished with value: 28.84977939981403 and parameters: {'x': 0.7839483546005674, 'y': 0.07788981619268073}. Best is trial 120 with value: 0.172097645444312.\n",
      "[I 2025-08-24 05:45:53,064] Trial 150 finished with value: 0.6224091014325737 and parameters: {'x': 0.5772853752140981, 'y': 0.39987082425586395}. Best is trial 120 with value: 0.172097645444312.\n",
      "[I 2025-08-24 05:45:53,068] Trial 151 finished with value: 1.11093986824996 and parameters: {'x': 0.5639555534208358, 'y': 0.4140044567228818}. Best is trial 120 with value: 0.172097645444312.\n",
      "[I 2025-08-24 05:45:53,072] Trial 152 finished with value: 0.6418850993173013 and parameters: {'x': 0.4659457466781927, 'y': 0.27682739074344614}. Best is trial 120 with value: 0.172097645444312.\n",
      "[I 2025-08-24 05:45:53,075] Trial 153 finished with value: 2.3525093828871495 and parameters: {'x': 0.3925810285013227, 'y': 0.2949584799487806}. Best is trial 120 with value: 0.172097645444312.\n",
      "[I 2025-08-24 05:45:53,079] Trial 154 finished with value: 3.1129106415874404 and parameters: {'x': 0.6959720998215392, 'y': 0.658172378782101}. Best is trial 120 with value: 0.172097645444312.\n",
      "[I 2025-08-24 05:45:53,083] Trial 155 finished with value: 5.2146239564017876 and parameters: {'x': 0.5221139241904826, 'y': 0.49590205092781625}. Best is trial 120 with value: 0.172097645444312.\n",
      "[I 2025-08-24 05:45:53,087] Trial 156 finished with value: 7.6054350639942045 and parameters: {'x': 0.32020010382828745, 'y': 0.3697977674178188}. Best is trial 120 with value: 0.172097645444312.\n",
      "[I 2025-08-24 05:45:53,090] Trial 157 finished with value: 2.595511862410463 and parameters: {'x': 0.6212887300578169, 'y': 0.2294081909117957}. Best is trial 120 with value: 0.172097645444312.\n",
      "[I 2025-08-24 05:45:53,094] Trial 158 finished with value: 1.1639815760171328 and parameters: {'x': 0.4121344306494814, 'y': 0.260320011437377}. Best is trial 120 with value: 0.172097645444312.\n",
      "[I 2025-08-24 05:45:53,098] Trial 159 finished with value: 60.387168725123196 and parameters: {'x': 0.8060185074406077, 'y': -0.1271838287619875}. Best is trial 120 with value: 0.172097645444312.\n",
      "[I 2025-08-24 05:45:53,102] Trial 160 finished with value: 7.356066288767042 and parameters: {'x': 0.5517193387352507, 'y': 0.5718846161786297}. Best is trial 120 with value: 0.172097645444312.\n",
      "[I 2025-08-24 05:45:53,106] Trial 161 finished with value: 0.6391208206818222 and parameters: {'x': 0.4569997726678483, 'y': 0.15017413211727196}. Best is trial 120 with value: 0.172097645444312.\n",
      "[I 2025-08-24 05:45:53,109] Trial 162 finished with value: 0.480441024789208 and parameters: {'x': 0.3072775059045605, 'y': 0.0968206548473838}. Best is trial 120 with value: 0.172097645444312.\n",
      "[I 2025-08-24 05:45:53,113] Trial 163 finished with value: 1.8889188564799495 and parameters: {'x': 0.46505898711158117, 'y': 0.08967982321482504}. Best is trial 120 with value: 0.172097645444312.\n",
      "[I 2025-08-24 05:45:53,117] Trial 164 finished with value: 0.8957034509137811 and parameters: {'x': 0.34882300273358213, 'y': 0.19035586586755118}. Best is trial 120 with value: 0.172097645444312.\n",
      "[I 2025-08-24 05:45:53,121] Trial 165 finished with value: 13.816958192541907 and parameters: {'x': 0.264216641070149, 'y': 0.4341671410726331}. Best is trial 120 with value: 0.172097645444312.\n",
      "[I 2025-08-24 05:45:53,125] Trial 166 finished with value: 0.7120094529567071 and parameters: {'x': 0.6504870054116514, 'y': 0.3463316437353663}. Best is trial 120 with value: 0.172097645444312.\n",
      "[I 2025-08-24 05:45:53,129] Trial 167 finished with value: 3.89691570356357 and parameters: {'x': 0.5207573565861696, 'y': 0.07968777555409426}. Best is trial 120 with value: 0.172097645444312.\n",
      "[I 2025-08-24 05:45:53,133] Trial 168 finished with value: 0.37677562628809375 and parameters: {'x': 0.4203717066626893, 'y': 0.1565117114141446}. Best is trial 120 with value: 0.172097645444312.\n",
      "[I 2025-08-24 05:45:53,137] Trial 169 finished with value: 14.72722460897928 and parameters: {'x': 0.721865118860119, 'y': 0.13833782139233475}. Best is trial 120 with value: 0.172097645444312.\n",
      "[I 2025-08-24 05:45:53,140] Trial 170 finished with value: 1.7260189063000544 and parameters: {'x': 0.17396201080040125, 'y': -0.07189788376768787}. Best is trial 120 with value: 0.172097645444312.\n",
      "[I 2025-08-24 05:45:53,144] Trial 171 finished with value: 1.5172215988720343 and parameters: {'x': 0.3999658349827075, 'y': 0.26754499829451067}. Best is trial 120 with value: 0.172097645444312.\n",
      "[I 2025-08-24 05:45:53,148] Trial 172 finished with value: 0.43803931425782844 and parameters: {'x': 0.4795793746602451, 'y': 0.18910607371743382}. Best is trial 120 with value: 0.172097645444312.\n",
      "[I 2025-08-24 05:45:53,152] Trial 173 finished with value: 3.4950463289173057 and parameters: {'x': 0.6030959299289533, 'y': 0.18103607247720271}. Best is trial 120 with value: 0.172097645444312.\n",
      "[I 2025-08-24 05:45:53,156] Trial 174 finished with value: 0.7690752818124882 and parameters: {'x': 0.30568504888476544, 'y': 0.03987077866090527}. Best is trial 120 with value: 0.172097645444312.\n",
      "[I 2025-08-24 05:45:53,160] Trial 175 finished with value: 0.623001133453658 and parameters: {'x': 0.5162626288146301, 'y': 0.3288969094437513}. Best is trial 120 with value: 0.172097645444312.\n",
      "[I 2025-08-24 05:45:53,164] Trial 176 finished with value: 1.3815732776298275 and parameters: {'x': 0.5205701443502839, 'y': 0.378311507150715}. Best is trial 120 with value: 0.172097645444312.\n",
      "[I 2025-08-24 05:45:53,168] Trial 177 finished with value: 2.455520941922691 and parameters: {'x': 0.4265975696517712, 'y': 0.32781863063511674}. Best is trial 120 with value: 0.172097645444312.\n",
      "[I 2025-08-24 05:45:53,172] Trial 178 finished with value: 1.2301500508915333 and parameters: {'x': 0.6092740718537816, 'y': 0.47501678767796174}. Best is trial 120 with value: 0.172097645444312.\n",
      "[I 2025-08-24 05:45:53,176] Trial 179 finished with value: 9.114958108668699 and parameters: {'x': 0.7357246022861298, 'y': 0.2405396867061556}. Best is trial 120 with value: 0.172097645444312.\n",
      "[I 2025-08-24 05:45:53,180] Trial 180 finished with value: 2.5076199641194608 and parameters: {'x': 0.5483434150030106, 'y': 0.1489034836320007}. Best is trial 120 with value: 0.172097645444312.\n",
      "[I 2025-08-24 05:45:53,184] Trial 181 finished with value: 0.7744700222575811 and parameters: {'x': 0.36575004403335837, 'y': 0.19478104629164372}. Best is trial 120 with value: 0.172097645444312.\n",
      "[I 2025-08-24 05:45:53,188] Trial 182 finished with value: 2.273905052742454 and parameters: {'x': 0.4844902695597185, 'y': 0.09302144367737597}. Best is trial 120 with value: 0.172097645444312.\n",
      "[I 2025-08-24 05:45:53,192] Trial 183 finished with value: 5.299806495558517 and parameters: {'x': 0.29243266396130796, 'y': 0.30458659980554253}. Best is trial 120 with value: 0.172097645444312.\n",
      "[I 2025-08-24 05:45:53,196] Trial 184 finished with value: 57.76798080455674 and parameters: {'x': 0.404788671760518, 'y': 0.9215721824041825}. Best is trial 120 with value: 0.172097645444312.\n",
      "[I 2025-08-24 05:45:53,200] Trial 185 finished with value: 11.707878135795934 and parameters: {'x': 0.2256700055906446, 'y': 0.3842179833391425}. Best is trial 120 with value: 0.172097645444312.\n",
      "[I 2025-08-24 05:45:53,204] Trial 186 finished with value: 3.2839373366226887 and parameters: {'x': 0.48088711509955495, 'y': 0.05763043875199189}. Best is trial 120 with value: 0.172097645444312.\n",
      "[I 2025-08-24 05:45:53,208] Trial 187 finished with value: 3.3882113144540784 and parameters: {'x': 0.5855861557257157, 'y': 0.16356587876095713}. Best is trial 120 with value: 0.172097645444312.\n",
      "[I 2025-08-24 05:45:53,212] Trial 188 finished with value: 1.910138493532657 and parameters: {'x': 0.33442178974550263, 'y': 0.23296365902993632}. Best is trial 120 with value: 0.172097645444312.\n",
      "[I 2025-08-24 05:45:53,216] Trial 189 finished with value: 6.793046766624872 and parameters: {'x': 0.4184882507395359, 'y': 0.42919718830136533}. Best is trial 120 with value: 0.172097645444312.\n",
      "[I 2025-08-24 05:45:53,220] Trial 190 finished with value: 2.1582491013996665 and parameters: {'x': 0.6773997587452684, 'y': 0.31554638821004066}. Best is trial 120 with value: 0.172097645444312.\n",
      "[I 2025-08-24 05:45:53,224] Trial 191 finished with value: 0.3253765315390583 and parameters: {'x': 0.47010042370243155, 'y': 0.24210908822986754}. Best is trial 120 with value: 0.172097645444312.\n",
      "[I 2025-08-24 05:45:53,228] Trial 192 finished with value: 1.177949920561371 and parameters: {'x': 0.4854274933229946, 'y': 0.14008018112301748}. Best is trial 120 with value: 0.172097645444312.\n",
      "[I 2025-08-24 05:45:53,232] Trial 193 finished with value: 0.47144322683815454 and parameters: {'x': 0.559784156413897, 'y': 0.2606654903178996}. Best is trial 120 with value: 0.172097645444312.\n",
      "[I 2025-08-24 05:45:53,236] Trial 194 finished with value: 0.5095150152146218 and parameters: {'x': 0.570664566576797, 'y': 0.26863295650541524}. Best is trial 120 with value: 0.172097645444312.\n",
      "[I 2025-08-24 05:45:53,240] Trial 195 finished with value: 3.6387251633998234 and parameters: {'x': 0.6348349146768741, 'y': 0.2157887782636642}. Best is trial 120 with value: 0.172097645444312.\n",
      "[I 2025-08-24 05:45:53,244] Trial 196 finished with value: 14.629232719240232 and parameters: {'x': 0.8684718893525523, 'y': 0.3719878395709648}. Best is trial 120 with value: 0.172097645444312.\n",
      "[I 2025-08-24 05:45:53,248] Trial 197 finished with value: 4.866732695721843 and parameters: {'x': 0.5721664717016136, 'y': 0.5437928431979087}. Best is trial 120 with value: 0.172097645444312.\n",
      "[I 2025-08-24 05:45:53,252] Trial 198 finished with value: 6.951860454803125 and parameters: {'x': 0.7269215081536244, 'y': 0.2661690288662558}. Best is trial 120 with value: 0.172097645444312.\n",
      "[I 2025-08-24 05:45:53,256] Trial 199 finished with value: 260.3392374443325 and parameters: {'x': 0.5503180794900192, 'y': -1.3100263972718913}. Best is trial 120 with value: 0.172097645444312.\n",
      "[I 2025-08-24 05:45:53,260] Trial 200 finished with value: 0.43451588476107506 and parameters: {'x': 0.36659323288720735, 'y': 0.11613909102620704}. Best is trial 120 with value: 0.172097645444312.\n",
      "[I 2025-08-24 05:45:53,264] Trial 201 finished with value: 0.42388533599908346 and parameters: {'x': 0.35733661565900937, 'y': 0.11726395430012715}. Best is trial 120 with value: 0.172097645444312.\n",
      "[I 2025-08-24 05:45:53,268] Trial 202 finished with value: 1.0760794567894278 and parameters: {'x': 0.3512498351258839, 'y': 0.04243185572849614}. Best is trial 120 with value: 0.172097645444312.\n",
      "[I 2025-08-24 05:45:53,273] Trial 203 finished with value: 4.416553899040636 and parameters: {'x': 0.3474844958893727, 'y': 0.3205147772283685}. Best is trial 120 with value: 0.172097645444312.\n",
      "[I 2025-08-24 05:45:53,277] Trial 204 finished with value: 0.9484611671363123 and parameters: {'x': 0.5317679045303075, 'y': 0.19738273258242994}. Best is trial 120 with value: 0.172097645444312.\n",
      "[I 2025-08-24 05:45:53,281] Trial 205 finished with value: 1.0230084833120396 and parameters: {'x': 0.4137055112809609, 'y': 0.08873457866970838}. Best is trial 120 with value: 0.172097645444312.\n",
      "[I 2025-08-24 05:45:53,285] Trial 206 finished with value: 0.1332579469955493 and parameters: {'x': 0.6490175001527057, 'y': 0.41118915931273997}. Best is trial 206 with value: 0.1332579469955493.\n",
      "[I 2025-08-24 05:45:53,289] Trial 207 finished with value: 0.14621161906706845 and parameters: {'x': 0.6552366001812306, 'y': 0.44587278236206884}. Best is trial 206 with value: 0.1332579469955493.\n",
      "[I 2025-08-24 05:45:53,293] Trial 208 finished with value: 6.411123476324313 and parameters: {'x': 0.8394240388327416, 'y': 0.4519404369730486}. Best is trial 206 with value: 0.1332579469955493.\n",
      "[I 2025-08-24 05:45:53,297] Trial 209 finished with value: 9.214370555741414 and parameters: {'x': 0.6349068959817614, 'y': 0.7044550298941837}. Best is trial 206 with value: 0.1332579469955493.\n",
      "[I 2025-08-24 05:45:53,301] Trial 210 finished with value: 1.6215167263811252 and parameters: {'x': 0.7628057270877132, 'y': 0.456762401701296}. Best is trial 206 with value: 0.1332579469955493.\n",
      "[I 2025-08-24 05:45:53,306] Trial 211 finished with value: 1.2341135368585379 and parameters: {'x': 0.6716736869349847, 'y': 0.34501753556752723}. Best is trial 206 with value: 0.1332579469955493.\n",
      "[I 2025-08-24 05:45:53,310] Trial 212 finished with value: 1.8348995273777773 and parameters: {'x': 0.5874589855763803, 'y': 0.2160844402379939}. Best is trial 206 with value: 0.1332579469955493.\n",
      "[I 2025-08-24 05:45:53,314] Trial 213 finished with value: 10.925686438423512 and parameters: {'x': 0.5326817034474427, 'y': 0.6109699073296153}. Best is trial 206 with value: 0.1332579469955493.\n",
      "[I 2025-08-24 05:45:53,318] Trial 214 finished with value: 35.04319888091438 and parameters: {'x': 0.9966017216289554, 'y': 0.40124212619070976}. Best is trial 206 with value: 0.1332579469955493.\n",
      "[I 2025-08-24 05:45:53,322] Trial 215 finished with value: 10.035943259827595 and parameters: {'x': 0.6791718574830198, 'y': 0.1461075900946814}. Best is trial 206 with value: 0.1332579469955493.\n",
      "[I 2025-08-24 05:45:53,326] Trial 216 finished with value: 1.606488998047692 and parameters: {'x': 0.2794939124484687, 'y': -0.02615970711701776}. Best is trial 206 with value: 0.1332579469955493.\n",
      "[I 2025-08-24 05:45:53,331] Trial 217 finished with value: 1.8582845642062331 and parameters: {'x': 0.3876713586807869, 'y': 0.2720814548130198}. Best is trial 206 with value: 0.1332579469955493.\n",
      "[I 2025-08-24 05:45:53,335] Trial 218 finished with value: 3.5408780195612044 and parameters: {'x': 0.6018290075397597, 'y': 0.5461094883967242}. Best is trial 206 with value: 0.1332579469955493.\n",
      "[I 2025-08-24 05:45:53,339] Trial 219 finished with value: 2.1804557170642864 and parameters: {'x': 0.4675059111843843, 'y': 0.08083357499867877}. Best is trial 206 with value: 0.1332579469955493.\n",
      "[I 2025-08-24 05:45:53,343] Trial 220 finished with value: 4.345665741902125 and parameters: {'x': 0.7616335334309611, 'y': 0.3729903189344216}. Best is trial 206 with value: 0.1332579469955493.\n",
      "[I 2025-08-24 05:45:53,347] Trial 221 finished with value: 0.36246352769410894 and parameters: {'x': 0.5046368486389822, 'y': 0.28887513961471145}. Best is trial 206 with value: 0.1332579469955493.\n",
      "[I 2025-08-24 05:45:53,352] Trial 222 finished with value: 0.5242890082126468 and parameters: {'x': 0.5096623494033192, 'y': 0.20647738491699374}. Best is trial 206 with value: 0.1332579469955493.\n",
      "[I 2025-08-24 05:45:53,356] Trial 223 finished with value: 0.42174508155925683 and parameters: {'x': 0.41984866951938393, 'y': 0.20545672192573738}. Best is trial 206 with value: 0.1332579469955493.\n",
      "[I 2025-08-24 05:45:53,360] Trial 224 finished with value: 0.49753921551697244 and parameters: {'x': 0.39732227208782644, 'y': 0.19451451337767067}. Best is trial 206 with value: 0.1332579469955493.\n",
      "[I 2025-08-24 05:45:53,364] Trial 225 finished with value: 0.43255000706377533 and parameters: {'x': 0.3912215297468867, 'y': 0.12816678220438443}. Best is trial 206 with value: 0.1332579469955493.\n",
      "[I 2025-08-24 05:45:53,368] Trial 226 finished with value: 0.5557171493491789 and parameters: {'x': 0.4098025632810054, 'y': 0.12239869258346672}. Best is trial 206 with value: 0.1332579469955493.\n",
      "[I 2025-08-24 05:45:53,373] Trial 227 finished with value: 2.616286254128548 and parameters: {'x': 0.3122319679401895, 'y': 0.24388761970221154}. Best is trial 206 with value: 0.1332579469955493.\n",
      "[I 2025-08-24 05:45:53,377] Trial 228 finished with value: 2.265717315956634 and parameters: {'x': 0.4065396404331314, 'y': 0.026944362581241554}. Best is trial 206 with value: 0.1332579469955493.\n",
      "[I 2025-08-24 05:45:53,381] Trial 229 finished with value: 1.7155667273836301 and parameters: {'x': 0.23739880787180842, 'y': 0.16284791879540422}. Best is trial 206 with value: 0.1332579469955493.\n",
      "[I 2025-08-24 05:45:53,385] Trial 230 finished with value: 1.6803931049589564 and parameters: {'x': 0.4652253984911917, 'y': 0.09834956520494971}. Best is trial 206 with value: 0.1332579469955493.\n",
      "[I 2025-08-24 05:45:53,390] Trial 231 finished with value: 681.5949703099116 and parameters: {'x': -1.6782528354063297, 'y': 0.21956909875195704}. Best is trial 206 with value: 0.1332579469955493.\n",
      "[I 2025-08-24 05:45:53,394] Trial 232 finished with value: 2.8758738874432117 and parameters: {'x': 0.35820033634494053, 'y': 0.2852777672915543}. Best is trial 206 with value: 0.1332579469955493.\n",
      "[I 2025-08-24 05:45:53,398] Trial 233 finished with value: 0.5069029467466818 and parameters: {'x': 0.3589786256806, 'y': 0.15984864006101196}. Best is trial 206 with value: 0.1332579469955493.\n",
      "[I 2025-08-24 05:45:53,403] Trial 234 finished with value: 0.9124739536776998 and parameters: {'x': 0.29178878225744265, 'y': 0.14924301983194424}. Best is trial 206 with value: 0.1332579469955493.\n",
      "[I 2025-08-24 05:45:53,407] Trial 235 finished with value: 4.622042313726806 and parameters: {'x': 0.42680851070303566, 'y': -0.025041971657059486}. Best is trial 206 with value: 0.1332579469955493.\n",
      "[I 2025-08-24 05:45:53,411] Trial 236 finished with value: 0.5563356951339583 and parameters: {'x': 0.35799889278926766, 'y': 0.09019344644450036}. Best is trial 206 with value: 0.1332579469955493.\n",
      "[I 2025-08-24 05:45:53,415] Trial 237 finished with value: 0.2648513730135168 and parameters: {'x': 0.5172102154810951, 'y': 0.24968355734433825}. Best is trial 206 with value: 0.1332579469955493.\n",
      "[I 2025-08-24 05:45:53,420] Trial 238 finished with value: 0.27962257478026226 and parameters: {'x': 0.47273817874644053, 'y': 0.22750325912416472}. Best is trial 206 with value: 0.1332579469955493.\n",
      "[I 2025-08-24 05:45:53,424] Trial 239 finished with value: 0.2614183441282946 and parameters: {'x': 0.49152095653326777, 'y': 0.24694766768626356}. Best is trial 206 with value: 0.1332579469955493.\n",
      "[I 2025-08-24 05:45:53,428] Trial 240 finished with value: 0.2895853360293664 and parameters: {'x': 0.46944217098310564, 'y': 0.21137943807349593}. Best is trial 206 with value: 0.1332579469955493.\n",
      "[I 2025-08-24 05:45:53,433] Trial 241 finished with value: 0.30620696932392927 and parameters: {'x': 0.4939079574605404, 'y': 0.22156699773714128}. Best is trial 206 with value: 0.1332579469955493.\n",
      "[I 2025-08-24 05:45:53,437] Trial 242 finished with value: 0.2912061851191621 and parameters: {'x': 0.47315061082836857, 'y': 0.21219421220820028}. Best is trial 206 with value: 0.1332579469955493.\n",
      "[I 2025-08-24 05:45:53,441] Trial 243 finished with value: 0.26267838282474576 and parameters: {'x': 0.5001080996483079, 'y': 0.23880038353931143}. Best is trial 206 with value: 0.1332579469955493.\n",
      "[I 2025-08-24 05:45:53,446] Trial 244 finished with value: 0.22778795374496164 and parameters: {'x': 0.5235356155003922, 'y': 0.27686378662802213}. Best is trial 206 with value: 0.1332579469955493.\n",
      "[I 2025-08-24 05:45:53,450] Trial 245 finished with value: 0.5578871570251365 and parameters: {'x': 0.6406607334874652, 'y': 0.34496622059403126}. Best is trial 206 with value: 0.1332579469955493.\n",
      "[I 2025-08-24 05:45:53,455] Trial 246 finished with value: 0.4393819439145207 and parameters: {'x': 0.5462809966631563, 'y': 0.2500989156931649}. Best is trial 206 with value: 0.1332579469955493.\n",
      "[I 2025-08-24 05:45:53,459] Trial 247 finished with value: 0.3719161755718732 and parameters: {'x': 0.5000623911034002, 'y': 0.28498782452563826}. Best is trial 206 with value: 0.1332579469955493.\n",
      "[I 2025-08-24 05:45:53,463] Trial 248 finished with value: 119.83433027620372 and parameters: {'x': 0.4437996888629199, 'y': 1.2902329302595086}. Best is trial 206 with value: 0.1332579469955493.\n",
      "[I 2025-08-24 05:45:53,468] Trial 249 finished with value: 0.38306888772415926 and parameters: {'x': 0.5069342637015155, 'y': 0.29439291673093215}. Best is trial 206 with value: 0.1332579469955493.\n",
      "[I 2025-08-24 05:45:53,472] Trial 250 finished with value: 0.12798988467612196 and parameters: {'x': 0.6442565294444752, 'y': 0.4112763994354675}. Best is trial 250 with value: 0.12798988467612196.\n",
      "[I 2025-08-24 05:45:53,477] Trial 251 finished with value: 0.22163768972406694 and parameters: {'x': 0.6742907994541938, 'y': 0.488660905942395}. Best is trial 250 with value: 0.12798988467612196.\n",
      "[I 2025-08-24 05:45:53,481] Trial 252 finished with value: 0.4966088343551985 and parameters: {'x': 0.6796055157897125, 'y': 0.39909772613855055}. Best is trial 250 with value: 0.12798988467612196.\n",
      "[I 2025-08-24 05:45:53,486] Trial 253 finished with value: 1.1199865553475346 and parameters: {'x': 0.6165260910379996, 'y': 0.47874185380944445}. Best is trial 250 with value: 0.12798988467612196.\n",
      "[I 2025-08-24 05:45:53,490] Trial 254 finished with value: 0.5270903229853445 and parameters: {'x': 0.5184399651667938, 'y': 0.32311141158455914}. Best is trial 250 with value: 0.12798988467612196.\n",
      "[I 2025-08-24 05:45:53,495] Trial 255 finished with value: 26.556808828889665 and parameters: {'x': 0.7295059661825671, 'y': 1.0468015523979937}. Best is trial 250 with value: 0.12798988467612196.\n",
      "[I 2025-08-24 05:45:53,499] Trial 256 finished with value: 0.3187692196113455 and parameters: {'x': 0.6051372314700544, 'y': 0.40654607029151874}. Best is trial 250 with value: 0.12798988467612196.\n",
      "[I 2025-08-24 05:45:53,504] Trial 257 finished with value: 15.608035057841432 and parameters: {'x': 0.9199706501733942, 'y': 0.4513570054223612}. Best is trial 250 with value: 0.12798988467612196.\n",
      "[I 2025-08-24 05:45:53,508] Trial 258 finished with value: 0.29565575434852276 and parameters: {'x': 0.6300467833150186, 'y': 0.357110439555711}. Best is trial 250 with value: 0.12798988467612196.\n",
      "[I 2025-08-24 05:45:53,512] Trial 259 finished with value: 0.31327438370224925 and parameters: {'x': 0.6654980923908924, 'y': 0.39801200958773597}. Best is trial 250 with value: 0.12798988467612196.\n",
      "[I 2025-08-24 05:45:53,517] Trial 260 finished with value: 1.2940624397879097 and parameters: {'x': 0.8055074413231916, 'y': 0.5367603445559102}. Best is trial 250 with value: 0.12798988467612196.\n",
      "[I 2025-08-24 05:45:53,521] Trial 261 finished with value: 0.38070635025636423 and parameters: {'x': 0.6594341872402876, 'y': 0.3834023756471443}. Best is trial 250 with value: 0.12798988467612196.\n",
      "[I 2025-08-24 05:45:53,526] Trial 262 finished with value: 0.4664739795519734 and parameters: {'x': 0.6774725710206769, 'y': 0.3987652609267282}. Best is trial 250 with value: 0.12798988467612196.\n",
      "[I 2025-08-24 05:45:53,531] Trial 263 finished with value: 0.2248815940343058 and parameters: {'x': 0.7373986056958671, 'y': 0.5042697309261428}. Best is trial 250 with value: 0.12798988467612196.\n",
      "[I 2025-08-24 05:45:53,535] Trial 264 finished with value: 0.12233524668122633 and parameters: {'x': 0.7927186690423017, 'y': 0.6002302603058796}. Best is trial 264 with value: 0.12233524668122633.\n",
      "[I 2025-08-24 05:45:53,540] Trial 265 finished with value: 0.046629786648663504 and parameters: {'x': 0.7840627428671472, 'y': 0.6146601706024775}. Best is trial 265 with value: 0.046629786648663504.\n",
      "[I 2025-08-24 05:45:53,544] Trial 266 finished with value: 0.06821710159622932 and parameters: {'x': 0.8154524813995397, 'y': 0.6834449881851243}. Best is trial 265 with value: 0.046629786648663504.\n",
      "[I 2025-08-24 05:45:53,549] Trial 267 finished with value: 0.1880287902436874 and parameters: {'x': 0.8852656524661552, 'y': 0.8255121165101903}. Best is trial 265 with value: 0.046629786648663504.\n",
      "[I 2025-08-24 05:45:53,553] Trial 268 finished with value: 1.7885881442189149 and parameters: {'x': 0.8958595461459764, 'y': 0.6692323006322447}. Best is trial 265 with value: 0.046629786648663504.\n",
      "[I 2025-08-24 05:45:53,558] Trial 269 finished with value: 14.19017296414729 and parameters: {'x': 1.0596998542375675, 'y': 0.7463126309128979}. Best is trial 265 with value: 0.046629786648663504.\n",
      "[I 2025-08-24 05:45:53,562] Trial 270 finished with value: 2.3105614066893785 and parameters: {'x': 0.8238305332808716, 'y': 0.8296777306625677}. Best is trial 265 with value: 0.046629786648663504.\n",
      "[I 2025-08-24 05:45:53,567] Trial 271 finished with value: 0.3451967216929145 and parameters: {'x': 0.8171237228846036, 'y': 0.6118563337386455}. Best is trial 265 with value: 0.046629786648663504.\n",
      "[I 2025-08-24 05:45:53,572] Trial 272 finished with value: 1.1643852333877276 and parameters: {'x': 0.9145977447663252, 'y': 0.728920838307764}. Best is trial 265 with value: 0.046629786648663504.\n",
      "[I 2025-08-24 05:45:53,576] Trial 273 finished with value: 6.167616823071684 and parameters: {'x': 1.0080785748440606, 'y': 0.767876856230037}. Best is trial 265 with value: 0.046629786648663504.\n",
      "[I 2025-08-24 05:45:53,581] Trial 274 finished with value: 1.1560638611078329 and parameters: {'x': 0.7302670832943168, 'y': 0.6373720966441444}. Best is trial 265 with value: 0.046629786648663504.\n",
      "[I 2025-08-24 05:45:53,585] Trial 275 finished with value: 61.90249052278686 and parameters: {'x': 1.1855674276353663, 'y': 0.6190076342933791}. Best is trial 265 with value: 0.046629786648663504.\n",
      "[I 2025-08-24 05:45:53,590] Trial 276 finished with value: 0.21408028845500332 and parameters: {'x': 0.7591105497677451, 'y': 0.5367453381604899}. Best is trial 265 with value: 0.046629786648663504.\n",
      "[I 2025-08-24 05:45:53,594] Trial 277 finished with value: 0.9789604768452652 and parameters: {'x': 0.7894578201767184, 'y': 0.5265672583374311}. Best is trial 265 with value: 0.046629786648663504.\n",
      "[I 2025-08-24 05:45:53,599] Trial 278 finished with value: 0.43341600153946036 and parameters: {'x': 0.8971852628778195, 'y': 0.8699679390725337}. Best is trial 265 with value: 0.046629786648663504.\n",
      "[I 2025-08-24 05:45:53,603] Trial 279 finished with value: 0.2454211439001719 and parameters: {'x': 0.765247203357682, 'y': 0.5419784878783234}. Best is trial 265 with value: 0.046629786648663504.\n",
      "[I 2025-08-24 05:45:53,608] Trial 280 finished with value: 0.9792694847542991 and parameters: {'x': 0.8201376511554703, 'y': 0.5753160026758781}. Best is trial 265 with value: 0.046629786648663504.\n",
      "[I 2025-08-24 05:45:53,613] Trial 281 finished with value: 2.116593264476178 and parameters: {'x': 0.7323010800244175, 'y': 0.6792659400778641}. Best is trial 265 with value: 0.046629786648663504.\n",
      "[I 2025-08-24 05:45:53,617] Trial 282 finished with value: 1.8740951884059003 and parameters: {'x': 0.9720204927879045, 'y': 0.8079548376879357}. Best is trial 265 with value: 0.046629786648663504.\n",
      "[I 2025-08-24 05:45:53,622] Trial 283 finished with value: 3.0719776565687544 and parameters: {'x': 0.8460360397558144, 'y': 0.5411839464688435}. Best is trial 265 with value: 0.046629786648663504.\n",
      "[I 2025-08-24 05:45:53,627] Trial 284 finished with value: 1.479370795865131 and parameters: {'x': 0.7717218910863477, 'y': 0.7150226603763805}. Best is trial 265 with value: 0.046629786648663504.\n",
      "[I 2025-08-24 05:45:53,631] Trial 285 finished with value: 0.11038144386761758 and parameters: {'x': 0.7105196573009331, 'y': 0.521142347007629}. Best is trial 265 with value: 0.046629786648663504.\n",
      "[I 2025-08-24 05:45:53,636] Trial 286 finished with value: 0.38865070873485263 and parameters: {'x': 0.7487256609888039, 'y': 0.5035364638932377}. Best is trial 265 with value: 0.046629786648663504.\n",
      "[I 2025-08-24 05:45:53,641] Trial 287 finished with value: 6.037455953342706 and parameters: {'x': 0.9143019428180721, 'y': 0.5903851831458637}. Best is trial 265 with value: 0.046629786648663504.\n",
      "[I 2025-08-24 05:45:53,645] Trial 288 finished with value: 0.4288424192025173 and parameters: {'x': 0.7302129571293441, 'y': 0.5928815058023277}. Best is trial 265 with value: 0.046629786648663504.\n",
      "[I 2025-08-24 05:45:53,650] Trial 289 finished with value: 3.0400078141505285 and parameters: {'x': 0.8461198621308234, 'y': 0.8895946316509187}. Best is trial 265 with value: 0.046629786648663504.\n",
      "[I 2025-08-24 05:45:53,654] Trial 290 finished with value: 0.13310566242983324 and parameters: {'x': 0.7191896166996776, 'y': 0.4939418196880782}. Best is trial 265 with value: 0.046629786648663504.\n",
      "[I 2025-08-24 05:45:53,659] Trial 291 finished with value: 1.767038885807072 and parameters: {'x': 0.7909411572192715, 'y': 0.49431212486704146}. Best is trial 265 with value: 0.046629786648663504.\n",
      "[I 2025-08-24 05:45:53,664] Trial 292 finished with value: 4.003482045666179 and parameters: {'x': 0.7078923395217908, 'y': 0.6990548683665795}. Best is trial 265 with value: 0.046629786648663504.\n",
      "[I 2025-08-24 05:45:53,668] Trial 293 finished with value: 18.45036209774535 and parameters: {'x': 0.9616596127572781, 'y': 0.4952674754742643}. Best is trial 265 with value: 0.046629786648663504.\n",
      "[I 2025-08-24 05:45:53,673] Trial 294 finished with value: 0.16425848179879693 and parameters: {'x': 0.8262073731754427, 'y': 0.6460051553854714}. Best is trial 265 with value: 0.046629786648663504.\n",
      "[I 2025-08-24 05:45:53,678] Trial 295 finished with value: 0.645892833928381 and parameters: {'x': 0.8321156966675304, 'y': 0.6138221502316332}. Best is trial 265 with value: 0.046629786648663504.\n",
      "[I 2025-08-24 05:45:53,683] Trial 296 finished with value: 3.5235296924381303 and parameters: {'x': 0.8805734193675646, 'y': 0.96273992308476}. Best is trial 265 with value: 0.046629786648663504.\n",
      "[I 2025-08-24 05:45:53,688] Trial 297 finished with value: 0.8095849487715395 and parameters: {'x': 0.7623172450655475, 'y': 0.6679084473411645}. Best is trial 265 with value: 0.046629786648663504.\n",
      "[I 2025-08-24 05:45:53,692] Trial 298 finished with value: 31.294076582154677 and parameters: {'x': 1.0383728019026985, 'y': 0.5188201484001987}. Best is trial 265 with value: 0.046629786648663504.\n",
      "[I 2025-08-24 05:45:53,697] Trial 299 finished with value: 5.155948897928992 and parameters: {'x': 0.7251310959164011, 'y': 0.7512124439487736}. Best is trial 265 with value: 0.046629786648663504.\n",
      "[I 2025-08-24 05:45:53,702] Trial 300 finished with value: 5.197501516890128 and parameters: {'x': 0.9223921069937224, 'y': 0.6229590361850748}. Best is trial 265 with value: 0.046629786648663504.\n",
      "[I 2025-08-24 05:45:53,706] Trial 301 finished with value: 1.551156792895118 and parameters: {'x': 0.6571176218272765, 'y': 0.5515361237050879}. Best is trial 265 with value: 0.046629786648663504.\n",
      "[I 2025-08-24 05:45:53,711] Trial 302 finished with value: 1.4582572605526936 and parameters: {'x': 0.8264736241266553, 'y': 0.8025637080662505}. Best is trial 265 with value: 0.046629786648663504.\n",
      "[I 2025-08-24 05:45:53,716] Trial 303 finished with value: 0.10079645349487042 and parameters: {'x': 0.6825387976055896, 'y': 0.46547400290095187}. Best is trial 265 with value: 0.046629786648663504.\n",
      "[I 2025-08-24 05:45:53,721] Trial 304 finished with value: 0.6411648932294203 and parameters: {'x': 0.752066424972553, 'y': 0.489466279843077}. Best is trial 265 with value: 0.046629786648663504.\n",
      "[I 2025-08-24 05:45:53,726] Trial 305 finished with value: 64.23836082677174 and parameters: {'x': 1.122095917708155, 'y': 0.45770388160753245}. Best is trial 265 with value: 0.046629786648663504.\n",
      "[I 2025-08-24 05:45:53,730] Trial 306 finished with value: 3.8242119392717755 and parameters: {'x': 0.6767757656390241, 'y': 0.6508916608938533}. Best is trial 265 with value: 0.046629786648663504.\n",
      "[I 2025-08-24 05:45:53,735] Trial 307 finished with value: 6.959284583524951 and parameters: {'x': 0.9131202953436622, 'y': 0.5701272146880356}. Best is trial 265 with value: 0.046629786648663504.\n",
      "[I 2025-08-24 05:45:53,740] Trial 308 finished with value: 2.7699310324708786 and parameters: {'x': 0.789893814045233, 'y': 0.4588326789243772}. Best is trial 265 with value: 0.046629786648663504.\n",
      "[I 2025-08-24 05:45:53,745] Trial 309 finished with value: 8.516063736624448 and parameters: {'x': 0.6956045274254569, 'y': 0.7740967239847621}. Best is trial 265 with value: 0.046629786648663504.\n",
      "[I 2025-08-24 05:45:53,749] Trial 310 finished with value: 0.6197136413866478 and parameters: {'x': 0.8643031983529095, 'y': 0.6694764812728243}. Best is trial 265 with value: 0.046629786648663504.\n",
      "[I 2025-08-24 05:45:53,754] Trial 311 finished with value: 246.23673837992908 and parameters: {'x': 0.6323441223749418, 'y': 1.9686215553014539}. Best is trial 265 with value: 0.046629786648663504.\n",
      "[I 2025-08-24 05:45:53,759] Trial 312 finished with value: 3.8236552862812574 and parameters: {'x': 0.6001023812399705, 'y': 0.5515317805312189}. Best is trial 265 with value: 0.046629786648663504.\n",
      "[I 2025-08-24 05:45:53,764] Trial 313 finished with value: 22.48086113376097 and parameters: {'x': 0.9674908444420578, 'y': 0.46190981433565503}. Best is trial 265 with value: 0.046629786648663504.\n",
      "[I 2025-08-24 05:45:53,768] Trial 314 finished with value: 1.126554743298717 and parameters: {'x': 0.7781127282995537, 'y': 0.7092534824134995}. Best is trial 265 with value: 0.046629786648663504.\n",
      "[I 2025-08-24 05:45:53,773] Trial 315 finished with value: 13.273956424540032 and parameters: {'x': 0.7109280762334359, 'y': 0.868604547684316}. Best is trial 265 with value: 0.046629786648663504.\n",
      "[I 2025-08-24 05:45:53,778] Trial 316 finished with value: 2.2075478750080846 and parameters: {'x': 0.8451261242574519, 'y': 0.5664693614266273}. Best is trial 265 with value: 0.046629786648663504.\n",
      "[I 2025-08-24 05:45:53,783] Trial 317 finished with value: 113.72878949460222 and parameters: {'x': -1.2111623128641245, 'y': 0.4236521928832097}. Best is trial 265 with value: 0.046629786648663504.\n",
      "[I 2025-08-24 05:45:53,788] Trial 318 finished with value: 2.1620075012903746 and parameters: {'x': 0.6032079770359985, 'y': 0.5054424751971143}. Best is trial 265 with value: 0.046629786648663504.\n",
      "[I 2025-08-24 05:45:53,793] Trial 319 finished with value: 2.818819790968756 and parameters: {'x': 0.7075869391128408, 'y': 0.6660066604866408}. Best is trial 265 with value: 0.046629786648663504.\n",
      "[I 2025-08-24 05:45:53,798] Trial 320 finished with value: 0.10815787241235347 and parameters: {'x': 0.7899309428944015, 'y': 0.5986869692222151}. Best is trial 265 with value: 0.046629786648663504.\n",
      "[I 2025-08-24 05:45:53,802] Trial 321 finished with value: 0.07660913260072588 and parameters: {'x': 0.7948579543472136, 'y': 0.613218028305851}. Best is trial 265 with value: 0.046629786648663504.\n",
      "[I 2025-08-24 05:45:53,807] Trial 322 finished with value: 108.56960157213784 and parameters: {'x': 0.8375665562685572, 'y': 1.7433584963175839}. Best is trial 265 with value: 0.046629786648663504.\n",
      "[I 2025-08-24 05:45:53,812] Trial 323 finished with value: 10.13405234352338 and parameters: {'x': 0.9654254037795225, 'y': 0.6137247227565976}. Best is trial 265 with value: 0.046629786648663504.\n",
      "[I 2025-08-24 05:45:53,817] Trial 324 finished with value: 0.11936406669009114 and parameters: {'x': 0.7677321353728455, 'y': 0.6149891259223423}. Best is trial 265 with value: 0.046629786648663504.\n",
      "[I 2025-08-24 05:45:53,822] Trial 325 finished with value: 3.0006509067588945 and parameters: {'x': 0.786907137323985, 'y': 0.7911310257830423}. Best is trial 265 with value: 0.046629786648663504.\n",
      "[I 2025-08-24 05:45:53,827] Trial 326 finished with value: 0.33834629865031435 and parameters: {'x': 0.8695851763662127, 'y': 0.6994916721872609}. Best is trial 265 with value: 0.046629786648663504.\n",
      "[I 2025-08-24 05:45:53,832] Trial 327 finished with value: 24.724411184044065 and parameters: {'x': 1.0438447423638966, 'y': 0.5923947022224989}. Best is trial 265 with value: 0.046629786648663504.\n",
      "[I 2025-08-24 05:45:53,836] Trial 328 finished with value: 0.4049852124586123 and parameters: {'x': 0.7641996899246623, 'y': 0.5248925012147067}. Best is trial 265 with value: 0.046629786648663504.\n",
      "[I 2025-08-24 05:45:53,841] Trial 329 finished with value: 1.7922205335334787 and parameters: {'x': 0.938506858612235, 'y': 0.747062587340795}. Best is trial 265 with value: 0.046629786648663504.\n",
      "[I 2025-08-24 05:45:53,846] Trial 330 finished with value: 2.9200110308062164 and parameters: {'x': 0.690279953870836, 'y': 0.6445365418754101}. Best is trial 265 with value: 0.046629786648663504.\n",
      "[I 2025-08-24 05:45:53,851] Trial 331 finished with value: 4.546241137000083 and parameters: {'x': 0.8813055411849302, 'y': 0.5638109235907537}. Best is trial 265 with value: 0.046629786648663504.\n",
      "[I 2025-08-24 05:45:53,856] Trial 332 finished with value: 2.682580596962867 and parameters: {'x': 0.7871051132651015, 'y': 0.4571381427391442}. Best is trial 265 with value: 0.046629786648663504.\n",
      "[I 2025-08-24 05:45:53,861] Trial 333 finished with value: 1.9543096018087387 and parameters: {'x': 0.6950584839457828, 'y': 0.6195365080668513}. Best is trial 265 with value: 0.046629786648663504.\n",
      "[I 2025-08-24 05:45:53,866] Trial 334 finished with value: 0.8959050605900075 and parameters: {'x': 0.7905793999445262, 'y': 0.7173222377088488}. Best is trial 265 with value: 0.046629786648663504.\n",
      "[I 2025-08-24 05:45:53,871] Trial 335 finished with value: 0.3226416032866368 and parameters: {'x': 0.8885691785162115, 'y': 0.84525301039831}. Best is trial 265 with value: 0.046629786648663504.\n",
      "[I 2025-08-24 05:45:53,876] Trial 336 finished with value: 1.3898595068320883 and parameters: {'x': 0.6353681212125804, 'y': 0.5158043392899043}. Best is trial 265 with value: 0.046629786648663504.\n",
      "[I 2025-08-24 05:45:53,881] Trial 337 finished with value: 1.2953021910943692 and parameters: {'x': 0.7420624308134945, 'y': 0.4398067346034598}. Best is trial 265 with value: 0.046629786648663504.\n",
      "[I 2025-08-24 05:45:53,886] Trial 338 finished with value: 0.6676745817551595 and parameters: {'x': 0.8140243629077444, 'y': 0.5830688585096325}. Best is trial 265 with value: 0.046629786648663504.\n",
      "[I 2025-08-24 05:45:53,891] Trial 339 finished with value: 4.233797472287303 and parameters: {'x': 0.9952290672856154, 'y': 0.7847195124691264}. Best is trial 265 with value: 0.046629786648663504.\n",
      "[I 2025-08-24 05:45:53,896] Trial 340 finished with value: 4.644254094315571 and parameters: {'x': 0.6664465344154187, 'y': 0.657059324543724}. Best is trial 265 with value: 0.046629786648663504.\n",
      "[I 2025-08-24 05:45:53,901] Trial 341 finished with value: 12.296193052733308 and parameters: {'x': -0.8861145634920129, 'y': 0.48958499922568083}. Best is trial 265 with value: 0.046629786648663504.\n",
      "[I 2025-08-24 05:45:53,906] Trial 342 finished with value: 0.5811291572960888 and parameters: {'x': 0.6022347045286174, 'y': 0.42771831831243373}. Best is trial 265 with value: 0.046629786648663504.\n",
      "[I 2025-08-24 05:45:53,911] Trial 343 finished with value: 25.564447097885182 and parameters: {'x': 0.7118529182310266, 'y': 1.0115258049026052}. Best is trial 265 with value: 0.046629786648663504.\n",
      "[I 2025-08-24 05:45:53,916] Trial 344 finished with value: 5.59392097156032 and parameters: {'x': 0.8999326637074423, 'y': 0.5735758686339625}. Best is trial 265 with value: 0.046629786648663504.\n",
      "[I 2025-08-24 05:45:53,921] Trial 345 finished with value: 102.32373678279431 and parameters: {'x': 1.304381705612907, 'y': 0.6903177285060861}. Best is trial 265 with value: 0.046629786648663504.\n",
      "[I 2025-08-24 05:45:53,926] Trial 346 finished with value: 6.35857046033269 and parameters: {'x': 0.8262176994920768, 'y': 0.9341982074605699}. Best is trial 265 with value: 0.046629786648663504.\n",
      "[I 2025-08-24 05:45:53,931] Trial 347 finished with value: 0.5116111955847215 and parameters: {'x': 0.76234663486516, 'y': 0.5137089146359927}. Best is trial 265 with value: 0.046629786648663504.\n",
      "[I 2025-08-24 05:45:53,936] Trial 348 finished with value: 0.13492818752996588 and parameters: {'x': 0.6423478296875897, 'y': 0.40423630142756534}. Best is trial 265 with value: 0.046629786648663504.\n",
      "[I 2025-08-24 05:45:53,941] Trial 349 finished with value: 0.2922926195082385 and parameters: {'x': 0.6482895939532549, 'y': 0.3792193915654034}. Best is trial 265 with value: 0.046629786648663504.\n",
      "[I 2025-08-24 05:45:53,946] Trial 350 finished with value: 0.5912126514214515 and parameters: {'x': 0.7437368773105658, 'y': 0.6256388088843117}. Best is trial 265 with value: 0.046629786648663504.\n",
      "[I 2025-08-24 05:45:53,951] Trial 351 finished with value: 310.45728867813034 and parameters: {'x': 1.4860677390910766, 'y': 0.4470880768206108}. Best is trial 265 with value: 0.046629786648663504.\n",
      "[I 2025-08-24 05:45:53,956] Trial 352 finished with value: 3.815520293632132 and parameters: {'x': 0.5921843758530788, 'y': 0.5417113042822985}. Best is trial 265 with value: 0.046629786648663504.\n",
      "[I 2025-08-24 05:45:53,961] Trial 353 finished with value: 0.08484621429713214 and parameters: {'x': 0.8516543375362324, 'y': 0.7503829742798818}. Best is trial 265 with value: 0.046629786648663504.\n",
      "[I 2025-08-24 05:45:53,966] Trial 354 finished with value: 3.9433667557771037 and parameters: {'x': 0.9906344067474967, 'y': 0.7827796147368082}. Best is trial 265 with value: 0.046629786648663504.\n",
      "[I 2025-08-24 05:45:53,971] Trial 355 finished with value: 0.05956916160638513 and parameters: {'x': 0.8737698916573795, 'y': 0.7425848022030371}. Best is trial 265 with value: 0.046629786648663504.\n",
      "[I 2025-08-24 05:45:53,976] Trial 356 finished with value: 18.075047206194856 and parameters: {'x': 1.0899740848117376, 'y': 0.7629911338438031}. Best is trial 265 with value: 0.046629786648663504.\n",
      "[I 2025-08-24 05:45:53,982] Trial 357 finished with value: 0.006082446779892028 and parameters: {'x': 0.9438443949162626, 'y': 0.8962542606595759}. Best is trial 357 with value: 0.006082446779892028.\n",
      "[I 2025-08-24 05:45:53,987] Trial 358 finished with value: 0.014956433707549472 and parameters: {'x': 0.9467852792188169, 'y': 0.8853911764538641}. Best is trial 357 with value: 0.006082446779892028.\n",
      "[I 2025-08-24 05:45:53,992] Trial 359 finished with value: 0.1619274520287505 and parameters: {'x': 0.9617588292610855, 'y': 0.9650381365908615}. Best is trial 357 with value: 0.006082446779892028.\n",
      "[I 2025-08-24 05:45:53,997] Trial 360 finished with value: 0.13008695880977117 and parameters: {'x': 0.9949290355715094, 'y': 1.0259477906105117}. Best is trial 357 with value: 0.006082446779892028.\n",
      "[I 2025-08-24 05:45:54,002] Trial 361 finished with value: 16.65038233052044 and parameters: {'x': 1.219315070894628, 'y': 1.0792702474843319}. Best is trial 357 with value: 0.006082446779892028.\n",
      "[I 2025-08-24 05:45:54,007] Trial 362 finished with value: 13.08325770162985 and parameters: {'x': 1.144062223733286, 'y': 0.947457512146954}. Best is trial 357 with value: 0.006082446779892028.\n",
      "[I 2025-08-24 05:45:54,012] Trial 363 finished with value: 0.10954648753793768 and parameters: {'x': 1.0706656658056009, 'y': 1.17865960125809}. Best is trial 357 with value: 0.006082446779892028.\n",
      "[I 2025-08-24 05:45:54,017] Trial 364 finished with value: 0.5529449632441785 and parameters: {'x': 1.0423004447222972, 'y': 1.0121503601435662}. Best is trial 357 with value: 0.006082446779892028.\n",
      "[I 2025-08-24 05:45:54,022] Trial 365 finished with value: 1.1403176375680943 and parameters: {'x': 1.1229444214957132, 'y': 1.3670797273512094}. Best is trial 357 with value: 0.006082446779892028.\n",
      "[I 2025-08-24 05:45:54,027] Trial 366 finished with value: 3.331937315060487 and parameters: {'x': 1.0440604467719892, 'y': 0.9075794504208494}. Best is trial 357 with value: 0.006082446779892028.\n",
      "[I 2025-08-24 05:45:54,033] Trial 367 finished with value: 8.129790897961113 and parameters: {'x': 1.003106265164401, 'y': 1.29134989180904}. Best is trial 357 with value: 0.006082446779892028.\n",
      "[I 2025-08-24 05:45:54,038] Trial 368 finished with value: 2.470224575481971 and parameters: {'x': 0.9394181729425934, 'y': 1.039559183278943}. Best is trial 357 with value: 0.006082446779892028.\n",
      "[I 2025-08-24 05:45:54,043] Trial 369 finished with value: 10.072013412786665 and parameters: {'x': 1.0996289204191263, 'y': 0.8919758262302013}. Best is trial 357 with value: 0.006082446779892028.\n",
      "[I 2025-08-24 05:45:54,048] Trial 370 finished with value: 4.161590815610362 and parameters: {'x': 0.9592337008739755, 'y': 1.124088331046272}. Best is trial 357 with value: 0.006082446779892028.\n",
      "[I 2025-08-24 05:45:54,053] Trial 371 finished with value: 776.3848164038013 and parameters: {'x': 1.9288744179446795, 'y': 0.9357369412708819}. Best is trial 357 with value: 0.006082446779892028.\n",
      "[I 2025-08-24 05:45:54,058] Trial 372 finished with value: 8.242201652686106 and parameters: {'x': 0.9127125617153127, 'y': 1.1200038438804925}. Best is trial 357 with value: 0.006082446779892028.\n",
      "[I 2025-08-24 05:45:54,064] Trial 373 finished with value: 6.675127428215226 and parameters: {'x': 1.0372655697180415, 'y': 0.8175840592315889}. Best is trial 357 with value: 0.006082446779892028.\n",
      "[I 2025-08-24 05:45:54,069] Trial 374 finished with value: 0.2637741180198673 and parameters: {'x': 0.899850642228806, 'y': 0.8601042092148945}. Best is trial 357 with value: 0.006082446779892028.\n",
      "[I 2025-08-24 05:45:54,074] Trial 375 finished with value: 4.453556094520863 and parameters: {'x': 1.2037007039364735, 'y': 1.2388462923540375}. Best is trial 357 with value: 0.006082446779892028.\n",
      "[I 2025-08-24 05:45:54,079] Trial 376 finished with value: 1.1464962782078676 and parameters: {'x': 0.9461968525194664, 'y': 1.0022277889113478}. Best is trial 357 with value: 0.006082446779892028.\n",
      "[I 2025-08-24 05:45:54,085] Trial 377 finished with value: 0.43397587258452935 and parameters: {'x': 0.877455174739517, 'y': 0.8346545980055189}. Best is trial 357 with value: 0.006082446779892028.\n",
      "[I 2025-08-24 05:45:54,090] Trial 378 finished with value: 0.011952530280861 and parameters: {'x': 0.996005212158626, 'y': 1.0029518446286694}. Best is trial 357 with value: 0.006082446779892028.\n",
      "[I 2025-08-24 05:45:54,095] Trial 379 finished with value: 0.3968750975746155 and parameters: {'x': 1.0982879590129166, 'y': 1.144009873058851}. Best is trial 357 with value: 0.006082446779892028.\n",
      "[I 2025-08-24 05:45:54,100] Trial 380 finished with value: 0.8115376209898858 and parameters: {'x': 1.0339610161154953, 'y': 0.9790540370238168}. Best is trial 357 with value: 0.006082446779892028.\n",
      "[I 2025-08-24 05:45:54,105] Trial 381 finished with value: 5.541435867152323 and parameters: {'x': 0.9857198727453306, 'y': 1.2070418821554691}. Best is trial 357 with value: 0.006082446779892028.\n",
      "[I 2025-08-24 05:45:54,111] Trial 382 finished with value: 2.8873420731256703 and parameters: {'x': 0.8614939793385334, 'y': 0.9115282508476098}. Best is trial 357 with value: 0.006082446779892028.\n",
      "[I 2025-08-24 05:45:54,116] Trial 383 finished with value: 5.478636234423836 and parameters: {'x': 1.1492583718588427, 'y': 1.0872063172824735}. Best is trial 357 with value: 0.006082446779892028.\n",
      "[I 2025-08-24 05:45:54,121] Trial 384 finished with value: 0.3950295456029944 and parameters: {'x': 0.9596126463577139, 'y': 0.8581349508958219}. Best is trial 357 with value: 0.006082446779892028.\n",
      "[I 2025-08-24 05:45:54,126] Trial 385 finished with value: 38.6212357500443 and parameters: {'x': 1.2572466257045654, 'y': 0.9597418685559892}. Best is trial 357 with value: 0.006082446779892028.\n",
      "[I 2025-08-24 05:45:54,131] Trial 386 finished with value: 0.15966500331646438 and parameters: {'x': 0.8831419087187307, 'y': 0.7417284820624798}. Best is trial 357 with value: 0.006082446779892028.\n",
      "[I 2025-08-24 05:45:54,137] Trial 387 finished with value: 12.247660019379213 and parameters: {'x': 1.0499718503392002, 'y': 0.7525099957055134}. Best is trial 357 with value: 0.006082446779892028.\n",
      "[I 2025-08-24 05:45:54,142] Trial 388 finished with value: 8.902279548433533 and parameters: {'x': 0.8604437016227412, 'y': 1.0384036895917534}. Best is trial 357 with value: 0.006082446779892028.\n",
      "[I 2025-08-24 05:45:54,147] Trial 389 finished with value: 68.66664848722556 and parameters: {'x': -0.630732177212045, 'y': 1.2102722227232063}. Best is trial 357 with value: 0.006082446779892028.\n",
      "[I 2025-08-24 05:45:54,153] Trial 390 finished with value: 0.8926613889802186 and parameters: {'x': 0.9792162925262635, 'y': 0.8644066507649769}. Best is trial 357 with value: 0.006082446779892028.\n",
      "[I 2025-08-24 05:45:54,158] Trial 391 finished with value: 0.19396360367953225 and parameters: {'x': 0.8819483838029412, 'y': 0.7354033135144792}. Best is trial 357 with value: 0.006082446779892028.\n",
      "[I 2025-08-24 05:45:54,163] Trial 392 finished with value: 0.24276962593909082 and parameters: {'x': 0.9485377841176961, 'y': 0.8507217579188383}. Best is trial 357 with value: 0.006082446779892028.\n",
      "[I 2025-08-24 05:45:54,169] Trial 393 finished with value: 0.9809078506693099 and parameters: {'x': 0.8356388874479458, 'y': 0.7959598102697522}. Best is trial 357 with value: 0.006082446779892028.\n",
      "[I 2025-08-24 05:45:54,174] Trial 394 finished with value: 5.402513776705376 and parameters: {'x': 1.0967534038698687, 'y': 0.9706364084100609}. Best is trial 357 with value: 0.006082446779892028.\n",
      "[I 2025-08-24 05:45:54,179] Trial 395 finished with value: 1.6118373696399222 and parameters: {'x': 0.9173456808846032, 'y': 0.7148342813210871}. Best is trial 357 with value: 0.006082446779892028.\n",
      "[I 2025-08-24 05:45:54,185] Trial 396 finished with value: 0.042460135089923565 and parameters: {'x': 0.8301236915351567, 'y': 0.7007681794863163}. Best is trial 357 with value: 0.006082446779892028.\n",
      "[I 2025-08-24 05:45:54,190] Trial 397 finished with value: 0.046873380925984164 and parameters: {'x': 0.8279497588281501, 'y': 0.6986431375780418}. Best is trial 357 with value: 0.006082446779892028.\n",
      "[I 2025-08-24 05:45:54,195] Trial 398 finished with value: 0.03582660287180176 and parameters: {'x': 0.8347374178266227, 'y': 0.706014168439685}. Best is trial 357 with value: 0.006082446779892028.\n",
      "[I 2025-08-24 05:45:54,201] Trial 399 finished with value: 9.348760654842337 and parameters: {'x': 1.00039479740707, 'y': 0.6950323223314742}. Best is trial 357 with value: 0.006082446779892028.\n",
      "[I 2025-08-24 05:45:54,206] Trial 400 finished with value: 24.8814068893259 and parameters: {'x': 0.8064676539601794, 'y': 1.14882715536398}. Best is trial 357 with value: 0.006082446779892028.\n",
      "[I 2025-08-24 05:45:54,211] Trial 401 finished with value: 13.54487791465567 and parameters: {'x': 1.0320832960664488, 'y': 0.6971762487960952}. Best is trial 357 with value: 0.006082446779892028.\n",
      "[I 2025-08-24 05:45:54,217] Trial 402 finished with value: 25.410001122054105 and parameters: {'x': 0.9307344692318668, 'y': 1.3703023990468597}. Best is trial 357 with value: 0.006082446779892028.\n",
      "[I 2025-08-24 05:45:54,222] Trial 403 finished with value: 11.108000248134958 and parameters: {'x': 0.8498951002991877, 'y': 1.0552701575147965}. Best is trial 357 with value: 0.006082446779892028.\n",
      "[I 2025-08-24 05:45:54,227] Trial 404 finished with value: 0.9312894684953038 and parameters: {'x': 0.8237556757650053, 'y': 0.7734537277869938}. Best is trial 357 with value: 0.006082446779892028.\n",
      "[I 2025-08-24 05:45:54,233] Trial 405 finished with value: 21.91687577614819 and parameters: {'x': 1.1778858116022564, 'y': 0.9195984355074927}. Best is trial 357 with value: 0.006082446779892028.\n",
      "[I 2025-08-24 05:45:54,238] Trial 406 finished with value: 5.468434485768648 and parameters: {'x': 0.940247717110485, 'y': 0.6502952805800686}. Best is trial 357 with value: 0.006082446779892028.\n",
      "[I 2025-08-24 05:45:54,244] Trial 407 finished with value: 257.8930491273923 and parameters: {'x': 0.7947921313538643, 'y': -0.9740792342513998}. Best is trial 357 with value: 0.006082446779892028.\n",
      "[I 2025-08-24 05:45:54,249] Trial 408 finished with value: 16.014863914106048 and parameters: {'x': 1.0706948509540932, 'y': 0.7462641559637215}. Best is trial 357 with value: 0.006082446779892028.\n",
      "[I 2025-08-24 05:45:54,255] Trial 409 finished with value: 1.8865290379918944 and parameters: {'x': 0.9004461567457138, 'y': 0.6738135709901991}. Best is trial 357 with value: 0.006082446779892028.\n",
      "[I 2025-08-24 05:45:54,260] Trial 410 finished with value: 5.187622753969881 and parameters: {'x': 0.7821393763797904, 'y': 0.8384612027116227}. Best is trial 357 with value: 0.006082446779892028.\n",
      "[I 2025-08-24 05:45:54,265] Trial 411 finished with value: 14.426418473132593 and parameters: {'x': 0.9967239171532041, 'y': 0.6136374546523922}. Best is trial 357 with value: 0.006082446779892028.\n",
      "[I 2025-08-24 05:45:54,271] Trial 412 finished with value: 7.712577654687633 and parameters: {'x': 0.8446704174148681, 'y': 0.990748664680289}. Best is trial 357 with value: 0.006082446779892028.\n",
      "[I 2025-08-24 05:45:54,276] Trial 413 finished with value: 6.4796022208507775 and parameters: {'x': 0.7189606912286712, 'y': 0.7698989246366503}. Best is trial 357 with value: 0.006082446779892028.\n",
      "[I 2025-08-24 05:45:54,282] Trial 414 finished with value: 39.286354421517565 and parameters: {'x': 1.1369598262527618, 'y': 0.6660390231618162}. Best is trial 357 with value: 0.006082446779892028.\n",
      "[I 2025-08-24 05:45:54,287] Trial 415 finished with value: 0.022407425279959755 and parameters: {'x': 0.9587220942164093, 'y': 0.9335367855624651}. Best is trial 357 with value: 0.006082446779892028.\n",
      "[I 2025-08-24 05:45:54,293] Trial 416 finished with value: 0.5774442805143047 and parameters: {'x': 0.8938730259269307, 'y': 0.874254009297785}. Best is trial 357 with value: 0.006082446779892028.\n",
      "[I 2025-08-24 05:45:54,298] Trial 417 finished with value: 4.072011359985397 and parameters: {'x': 0.7758203631618017, 'y': 0.8024403696710795}. Best is trial 357 with value: 0.006082446779892028.\n",
      "[I 2025-08-24 05:45:54,304] Trial 418 finished with value: 9.684551630303849 and parameters: {'x': 1.0165608894714793, 'y': 0.7222003259778439}. Best is trial 357 with value: 0.006082446779892028.\n",
      "[I 2025-08-24 05:45:54,309] Trial 419 finished with value: 0.6151005462505134 and parameters: {'x': 0.8272190377008858, 'y': 0.6077898797919459}. Best is trial 357 with value: 0.006082446779892028.\n",
      "[I 2025-08-24 05:45:54,315] Trial 420 finished with value: 655.4562120434962 and parameters: {'x': 1.7844865563665537, 'y': 0.6254065471761499}. Best is trial 357 with value: 0.006082446779892028.\n",
      "[I 2025-08-24 05:45:54,320] Trial 421 finished with value: 3.520990993540976 and parameters: {'x': 0.7304283896430602, 'y': 0.7192222166524458}. Best is trial 357 with value: 0.006082446779892028.\n",
      "[I 2025-08-24 05:45:54,326] Trial 422 finished with value: 1.0833374154525834 and parameters: {'x': 0.9040414653857782, 'y': 0.9209311841377692}. Best is trial 357 with value: 0.006082446779892028.\n",
      "[I 2025-08-24 05:45:54,331] Trial 423 finished with value: 46.241223947213925 and parameters: {'x': 0.6924828583889626, 'y': 1.1588458179886691}. Best is trial 357 with value: 0.006082446779892028.\n",
      "[I 2025-08-24 05:45:54,337] Trial 424 finished with value: 102.08833210322547 and parameters: {'x': 1.3542566272653245, 'y': 0.8242445328282433}. Best is trial 357 with value: 0.006082446779892028.\n",
      "[I 2025-08-24 05:45:54,342] Trial 425 finished with value: 16.89027887061391 and parameters: {'x': 0.8190193175933219, 'y': 1.0813718050336651}. Best is trial 357 with value: 0.006082446779892028.\n",
      "[I 2025-08-24 05:45:54,348] Trial 426 finished with value: 27.55580097732271 and parameters: {'x': 1.0518943251701396, 'y': 0.5815711269812728}. Best is trial 357 with value: 0.006082446779892028.\n",
      "[I 2025-08-24 05:45:54,353] Trial 427 finished with value: 6.211673046661296 and parameters: {'x': 0.957726117604217, 'y': 0.6680428884870638}. Best is trial 357 with value: 0.006082446779892028.\n",
      "[I 2025-08-24 05:45:54,358] Trial 428 finished with value: 354.64662034168856 and parameters: {'x': 0.756565586838336, 'y': -1.310657529774022}. Best is trial 357 with value: 0.006082446779892028.\n",
      "[I 2025-08-24 05:45:54,364] Trial 429 finished with value: 0.0959783118857199 and parameters: {'x': 0.8561751563184297, 'y': 0.760475418377547}. Best is trial 357 with value: 0.006082446779892028.\n",
      "[I 2025-08-24 05:45:54,370] Trial 430 finished with value: 16.781640462874872 and parameters: {'x': 0.6948744323500232, 'y': 0.8913665578228859}. Best is trial 357 with value: 0.006082446779892028.\n",
      "[I 2025-08-24 05:45:54,375] Trial 431 finished with value: 0.09717346684580982 and parameters: {'x': 0.778523533117855, 'y': 0.5841622461447603}. Best is trial 357 with value: 0.006082446779892028.\n",
      "[I 2025-08-24 05:45:54,381] Trial 432 finished with value: 0.8838298630375621 and parameters: {'x': 0.8237743361531331, 'y': 0.5862583731112675}. Best is trial 357 with value: 0.006082446779892028.\n",
      "[I 2025-08-24 05:45:54,386] Trial 433 finished with value: 0.994487865758638 and parameters: {'x': 0.9529148150416833, 'y': 0.8084338518167775}. Best is trial 357 with value: 0.006082446779892028.\n",
      "[I 2025-08-24 05:45:54,392] Trial 434 finished with value: 1.1882888691393656 and parameters: {'x': 0.8796427539589009, 'y': 0.6654291850970432}. Best is trial 357 with value: 0.006082446779892028.\n",
      "[I 2025-08-24 05:45:54,397] Trial 435 finished with value: 15.493718653184477 and parameters: {'x': 0.7938739687070063, 'y': 1.0233164133536743}. Best is trial 357 with value: 0.006082446779892028.\n",
      "[I 2025-08-24 05:45:54,403] Trial 436 finished with value: 24.175304420763876 and parameters: {'x': 1.1074287467090924, 'y': 0.7348319179209721}. Best is trial 357 with value: 0.006082446779892028.\n",
      "[I 2025-08-24 05:45:54,409] Trial 437 finished with value: 0.059330659765082824 and parameters: {'x': 0.7579235357312425, 'y': 0.5717468914421642}. Best is trial 357 with value: 0.006082446779892028.\n",
      "[I 2025-08-24 05:45:54,414] Trial 438 finished with value: 15.547405818873083 and parameters: {'x': 0.9971250041984695, 'y': 0.5999563902428223}. Best is trial 357 with value: 0.006082446779892028.\n",
      "[I 2025-08-24 05:45:54,420] Trial 439 finished with value: 0.4814032872968911 and parameters: {'x': 0.7687987938487539, 'y': 0.6564694185860611}. Best is trial 357 with value: 0.006082446779892028.\n",
      "[I 2025-08-24 05:45:54,425] Trial 440 finished with value: 636.7587357090841 and parameters: {'x': 0.8777115382056523, 'y': -1.7530007096316873}. Best is trial 357 with value: 0.006082446779892028.\n",
      "[I 2025-08-24 05:45:54,431] Trial 441 finished with value: 0.3919887397561433 and parameters: {'x': 0.9267199312700258, 'y': 0.7966311553048793}. Best is trial 357 with value: 0.006082446779892028.\n",
      "[I 2025-08-24 05:45:54,437] Trial 442 finished with value: 5.260728865179877 and parameters: {'x': 0.8356051344306322, 'y': 0.9270088235500429}. Best is trial 357 with value: 0.006082446779892028.\n",
      "[I 2025-08-24 05:45:54,443] Trial 443 finished with value: 0.055064371959917334 and parameters: {'x': 0.7653423718271587, 'y': 0.5857901165176976}. Best is trial 357 with value: 0.006082446779892028.\n",
      "[I 2025-08-24 05:45:54,448] Trial 444 finished with value: 78.37885516233592 and parameters: {'x': 1.261779146875055, 'y': 0.7071553930731389}. Best is trial 357 with value: 0.006082446779892028.\n",
      "[I 2025-08-24 05:45:54,454] Trial 445 finished with value: 0.4726037544470642 and parameters: {'x': 0.7417632958080115, 'y': 0.6139244467772023}. Best is trial 357 with value: 0.006082446779892028.\n",
      "[I 2025-08-24 05:45:54,459] Trial 446 finished with value: 24.110997032031477 and parameters: {'x': 1.0230926332328085, 'y': 0.5556944658658339}. Best is trial 357 with value: 0.006082446779892028.\n",
      "[I 2025-08-24 05:45:54,465] Trial 447 finished with value: 0.2441300278903324 and parameters: {'x': 0.8412415453002249, 'y': 0.7544768428743531}. Best is trial 357 with value: 0.006082446779892028.\n",
      "[I 2025-08-24 05:45:54,471] Trial 448 finished with value: 0.15710299226160598 and parameters: {'x': 0.9379492838250856, 'y': 0.8406013558018864}. Best is trial 357 with value: 0.006082446779892028.\n",
      "[I 2025-08-24 05:45:54,476] Trial 449 finished with value: 0.5791629616570257 and parameters: {'x': 0.7719693057438295, 'y': 0.6685427357585695}. Best is trial 357 with value: 0.006082446779892028.\n",
      "[I 2025-08-24 05:45:54,482] Trial 450 finished with value: 31.81387813873548 and parameters: {'x': 1.0690785584154228, 'y': 0.5789333409289616}. Best is trial 357 with value: 0.006082446779892028.\n",
      "[I 2025-08-24 05:45:54,488] Trial 451 finished with value: 22.297578282825228 and parameters: {'x': 0.8741224978073471, 'y': 1.2361254485098851}. Best is trial 357 with value: 0.006082446779892028.\n",
      "[I 2025-08-24 05:45:54,493] Trial 452 finished with value: 3.3620461124811856 and parameters: {'x': 0.7239534857312246, 'y': 0.7053776329066465}. Best is trial 357 with value: 0.006082446779892028.\n",
      "[I 2025-08-24 05:45:54,499] Trial 453 finished with value: 9.154103756337697 and parameters: {'x': 1.167003211242998, 'y': 1.0598002573428176}. Best is trial 357 with value: 0.006082446779892028.\n",
      "[I 2025-08-24 05:45:54,504] Trial 454 finished with value: 4.992212579463904 and parameters: {'x': 0.8114244162193921, 'y': 0.8810449763950707}. Best is trial 357 with value: 0.006082446779892028.\n",
      "[I 2025-08-24 05:45:54,510] Trial 455 finished with value: 14.659932659677569 and parameters: {'x': 0.9585182090836623, 'y': 0.5358967136319143}. Best is trial 357 with value: 0.006082446779892028.\n",
      "[I 2025-08-24 05:45:54,516] Trial 456 finished with value: 279.0390836831391 and parameters: {'x': -1.563907871664979, 'y': 0.7951550507631318}. Best is trial 357 with value: 0.006082446779892028.\n",
      "[I 2025-08-24 05:45:54,522] Trial 457 finished with value: 3.191104466428673 and parameters: {'x': 0.9025496477838175, 'y': 0.6362252442657703}. Best is trial 357 with value: 0.006082446779892028.\n",
      "[I 2025-08-24 05:45:54,527] Trial 458 finished with value: 3.304391873083799 and parameters: {'x': 0.7325549609754253, 'y': 0.7164384678435045}. Best is trial 357 with value: 0.006082446779892028.\n",
      "[I 2025-08-24 05:45:54,533] Trial 459 finished with value: 220.1823069426173 and parameters: {'x': 1.570002400393351, 'y': 0.9821486080613525}. Best is trial 357 with value: 0.006082446779892028.\n",
      "[I 2025-08-24 05:45:54,539] Trial 460 finished with value: 22.85343350607323 and parameters: {'x': 1.006864527128974, 'y': 0.5357240200040853}. Best is trial 357 with value: 0.006082446779892028.\n",
      "[I 2025-08-24 05:45:54,544] Trial 461 finished with value: 193.94968072338017 and parameters: {'x': 0.8183165186221641, 'y': -0.7228977402644426}. Best is trial 357 with value: 0.006082446779892028.\n",
      "[I 2025-08-24 05:45:54,550] Trial 462 finished with value: 1.9318661621700557 and parameters: {'x': 0.6932202582932993, 'y': 0.6161180514588371}. Best is trial 357 with value: 0.006082446779892028.\n",
      "[I 2025-08-24 05:45:54,556] Trial 463 finished with value: 0.203119317078394 and parameters: {'x': 0.9225852805520345, 'y': 0.8955625050907501}. Best is trial 357 with value: 0.006082446779892028.\n",
      "[I 2025-08-24 05:45:54,562] Trial 464 finished with value: 16.073631975092766 and parameters: {'x': 1.0848349791253733, 'y': 0.7760373546643873}. Best is trial 357 with value: 0.006082446779892028.\n",
      "[I 2025-08-24 05:45:54,568] Trial 465 finished with value: 0.08493267950095715 and parameters: {'x': 0.7931569322058487, 'y': 0.6496280493557707}. Best is trial 357 with value: 0.006082446779892028.\n",
      "[I 2025-08-24 05:45:54,573] Trial 466 finished with value: 0.04217390389587547 and parameters: {'x': 0.8428967594740858, 'y': 0.6972490347958481}. Best is trial 357 with value: 0.006082446779892028.\n",
      "[I 2025-08-24 05:45:54,579] Trial 467 finished with value: 0.0962539622419241 and parameters: {'x': 0.8190172666266295, 'y': 0.6959883331064428}. Best is trial 357 with value: 0.006082446779892028.\n",
      "[I 2025-08-24 05:45:54,585] Trial 468 finished with value: 0.03583377015979529 and parameters: {'x': 0.8453537152237833, 'y': 0.7037058086407654}. Best is trial 357 with value: 0.006082446779892028.\n",
      "[I 2025-08-24 05:45:54,591] Trial 469 finished with value: 0.020747877993369516 and parameters: {'x': 0.8567703289944146, 'y': 0.732528506547642}. Best is trial 357 with value: 0.006082446779892028.\n",
      "[I 2025-08-24 05:45:54,596] Trial 470 finished with value: 0.2704109371466118 and parameters: {'x': 0.8578509172697939, 'y': 0.785928649619785}. Best is trial 357 with value: 0.006082446779892028.\n",
      "[I 2025-08-24 05:45:54,602] Trial 471 finished with value: 1.0870928932655173 and parameters: {'x': 0.9093193241462829, 'y': 0.7229929706051527}. Best is trial 357 with value: 0.006082446779892028.\n",
      "[I 2025-08-24 05:45:54,608] Trial 472 finished with value: 0.7978290870917764 and parameters: {'x': 0.866097618871728, 'y': 0.8384369894497816}. Best is trial 357 with value: 0.006082446779892028.\n",
      "[I 2025-08-24 05:45:54,614] Trial 473 finished with value: 5.625914484995963 and parameters: {'x': -0.7545217897402319, 'y': 0.7289141513111734}. Best is trial 357 with value: 0.006082446779892028.\n",
      "[I 2025-08-24 05:45:54,620] Trial 474 finished with value: 0.03379676765003984 and parameters: {'x': 0.8221646042941642, 'y': 0.6806144001578279}. Best is trial 357 with value: 0.006082446779892028.\n",
      "[I 2025-08-24 05:45:54,626] Trial 475 finished with value: 1.2100871633459769 and parameters: {'x': 0.970250079056097, 'y': 0.83142148981881}. Best is trial 357 with value: 0.006082446779892028.\n",
      "[I 2025-08-24 05:45:54,631] Trial 476 finished with value: 0.3846715722604712 and parameters: {'x': 0.8648012967068479, 'y': 0.6873508868769866}. Best is trial 357 with value: 0.006082446779892028.\n",
      "[I 2025-08-24 05:45:54,637] Trial 477 finished with value: 1.050512614152428 and parameters: {'x': 0.9355701330410895, 'y': 0.7729996654472296}. Best is trial 357 with value: 0.006082446779892028.\n",
      "[I 2025-08-24 05:45:54,643] Trial 478 finished with value: 0.21331576337506003 and parameters: {'x': 0.8099908691698833, 'y': 0.6981817986865411}. Best is trial 357 with value: 0.006082446779892028.\n",
      "[I 2025-08-24 05:45:54,649] Trial 479 finished with value: 29.049526669287335 and parameters: {'x': 1.0126198790608307, 'y': 1.5643736701526691}. Best is trial 357 with value: 0.006082446779892028.\n",
      "[I 2025-08-24 05:45:54,655] Trial 480 finished with value: 2.3758346476490426 and parameters: {'x': 0.8449324164600888, 'y': 0.8672662151617118}. Best is trial 357 with value: 0.006082446779892028.\n",
      "[I 2025-08-24 05:45:54,661] Trial 481 finished with value: 3.2855112681971006 and parameters: {'x': 0.9259913753146649, 'y': 0.6763513859588494}. Best is trial 357 with value: 0.006082446779892028.\n",
      "[I 2025-08-24 05:45:54,666] Trial 482 finished with value: 1.9064278578222904 and parameters: {'x': 0.8069816277651051, 'y': 0.7879370042668091}. Best is trial 357 with value: 0.006082446779892028.\n",
      "[I 2025-08-24 05:45:54,672] Trial 483 finished with value: 16.694706779292726 and parameters: {'x': 1.0706709869892375, 'y': 0.7378059180940301}. Best is trial 357 with value: 0.006082446779892028.\n",
      "[I 2025-08-24 05:45:54,678] Trial 484 finished with value: 1.698956425800144 and parameters: {'x': 0.8859142241219928, 'y': 0.9146877979341089}. Best is trial 357 with value: 0.006082446779892028.\n",
      "[I 2025-08-24 05:45:54,684] Trial 485 finished with value: 0.6951902753413597 and parameters: {'x': 0.7685498409927983, 'y': 0.6707701127142436}. Best is trial 357 with value: 0.006082446779892028.\n",
      "[I 2025-08-24 05:45:54,690] Trial 486 finished with value: 3.4933787543769284 and parameters: {'x': 1.0002278397221367, 'y': 0.8135499074099433}. Best is trial 357 with value: 0.006082446779892028.\n",
      "[I 2025-08-24 05:45:54,696] Trial 487 finished with value: 3.3973094955870566 and parameters: {'x': 0.9064306816301266, 'y': 0.6375363188055841}. Best is trial 357 with value: 0.006082446779892028.\n",
      "[I 2025-08-24 05:45:54,702] Trial 488 finished with value: 1.5311445423208752 and parameters: {'x': 0.8044697579336629, 'y': 0.7693563886330317}. Best is trial 357 with value: 0.006082446779892028.\n",
      "[I 2025-08-24 05:45:54,708] Trial 489 finished with value: 0.19739385839234055 and parameters: {'x': 0.9622923606775653, 'y': 0.8817378634330559}. Best is trial 357 with value: 0.006082446779892028.\n",
      "[I 2025-08-24 05:45:54,714] Trial 490 finished with value: 42.86733296030435 and parameters: {'x': 1.151026156128111, 'y': 0.670303926130005}. Best is trial 357 with value: 0.006082446779892028.\n",
      "[I 2025-08-24 05:45:54,720] Trial 491 finished with value: 0.01968391575718192 and parameters: {'x': 0.8637444897541906, 'y': 0.7427103670231332}. Best is trial 357 with value: 0.006082446779892028.\n",
      "[I 2025-08-24 05:45:54,726] Trial 492 finished with value: 1.711805501515634 and parameters: {'x': 0.7870640022393687, 'y': 0.7485613298059518}. Best is trial 357 with value: 0.006082446779892028.\n",
      "[I 2025-08-24 05:45:54,732] Trial 493 finished with value: 0.6615735663099568 and parameters: {'x': 0.8631091209844615, 'y': 0.8251343123610616}. Best is trial 357 with value: 0.006082446779892028.\n",
      "[I 2025-08-24 05:45:54,737] Trial 494 finished with value: 2.702238631292692 and parameters: {'x': 0.7151767960066645, 'y': 0.673376409569592}. Best is trial 357 with value: 0.006082446779892028.\n",
      "[I 2025-08-24 05:45:54,744] Trial 495 finished with value: 1.2690394098897795 and parameters: {'x': 0.8422766347081974, 'y': 0.5978878857357228}. Best is trial 357 with value: 0.006082446779892028.\n",
      "[I 2025-08-24 05:45:54,750] Trial 496 finished with value: 2.48838654230967 and parameters: {'x': 0.7640142257738249, 'y': 0.7396888004199985}. Best is trial 357 with value: 0.006082446779892028.\n",
      "[I 2025-08-24 05:45:54,756] Trial 497 finished with value: 0.007301374721013748 and parameters: {'x': 0.9151197401438932, 'y': 0.836460694812924}. Best is trial 357 with value: 0.006082446779892028.\n",
      "[I 2025-08-24 05:45:54,761] Trial 498 finished with value: 0.04563448055176377 and parameters: {'x': 0.9378266430571791, 'y': 0.8590813580271597}. Best is trial 357 with value: 0.006082446779892028.\n",
      "[I 2025-08-24 05:45:54,767] Trial 499 finished with value: 0.10222917179611436 and parameters: {'x': 0.9760337915179925, 'y': 0.9207586134513448}. Best is trial 357 with value: 0.006082446779892028.\n",
      "[I 2025-08-24 05:45:54,773] Trial 500 finished with value: 0.49382956879087736 and parameters: {'x': 0.9270995300861373, 'y': 0.9294073932281791}. Best is trial 357 with value: 0.006082446779892028.\n",
      "[I 2025-08-24 05:45:54,779] Trial 501 finished with value: 1.735965216685431 and parameters: {'x': 0.9934578708106799, 'y': 0.8552041325258767}. Best is trial 357 with value: 0.006082446779892028.\n",
      "[I 2025-08-24 05:45:54,785] Trial 502 finished with value: 2.655234244380066 and parameters: {'x': 0.900488910233748, 'y': 0.9735250372033506}. Best is trial 357 with value: 0.006082446779892028.\n",
      "[I 2025-08-24 05:45:54,791] Trial 503 finished with value: 7.428148400325935 and parameters: {'x': 1.03671312615283, 'y': 0.8022525371270659}. Best is trial 357 with value: 0.006082446779892028.\n",
      "[I 2025-08-24 05:45:54,797] Trial 504 finished with value: 0.4930016379676105 and parameters: {'x': 0.8951850923054154, 'y': 0.8707836836628625}. Best is trial 357 with value: 0.006082446779892028.\n",
      "[I 2025-08-24 05:45:54,803] Trial 505 finished with value: 0.6509971690674126 and parameters: {'x': 0.9449695953524977, 'y': 0.8124710254317049}. Best is trial 357 with value: 0.006082446779892028.\n",
      "[I 2025-08-24 05:45:54,809] Trial 506 finished with value: 8.390961332683357 and parameters: {'x': 0.8285862454927111, 'y': 0.9757191103318505}. Best is trial 357 with value: 0.006082446779892028.\n",
      "[I 2025-08-24 05:45:54,815] Trial 507 finished with value: 8.209321890138682 and parameters: {'x': 1.0177628706696171, 'y': 0.7493276247536289}. Best is trial 357 with value: 0.006082446779892028.\n",
      "[I 2025-08-24 05:45:54,821] Trial 508 finished with value: 1.3367637649321304 and parameters: {'x': 0.8838018496702319, 'y': 0.8961388244862497}. Best is trial 357 with value: 0.006082446779892028.\n",
      "[I 2025-08-24 05:45:54,827] Trial 509 finished with value: 0.23354451422185402 and parameters: {'x': 0.9422892596170855, 'y': 0.8399284292995179}. Best is trial 357 with value: 0.006082446779892028.\n",
      "[I 2025-08-24 05:45:54,833] Trial 510 finished with value: 0.03199370633274465 and parameters: {'x': 0.8465828875618282, 'y': 0.7258987238019781}. Best is trial 357 with value: 0.006082446779892028.\n",
      "[I 2025-08-24 05:45:54,839] Trial 511 finished with value: 22.68695157252913 and parameters: {'x': 1.1076029880824494, 'y': 0.7505977228496622}. Best is trial 357 with value: 0.006082446779892028.\n",
      "[I 2025-08-24 05:45:54,846] Trial 512 finished with value: 4.680759206038603 and parameters: {'x': 0.8546164129247767, 'y': 0.946230808218485}. Best is trial 357 with value: 0.006082446779892028.\n",
      "[I 2025-08-24 05:45:54,852] Trial 513 finished with value: 2.508578804667201 and parameters: {'x': 0.9917599602132456, 'y': 0.8252050258538062}. Best is trial 357 with value: 0.006082446779892028.\n",
      "[I 2025-08-24 05:45:54,858] Trial 514 finished with value: 0.10284172347130979 and parameters: {'x': 0.8594627575760702, 'y': 0.7098507209166198}. Best is trial 357 with value: 0.006082446779892028.\n",
      "[I 2025-08-24 05:45:54,864] Trial 515 finished with value: 1.115809937334907 and parameters: {'x': 0.9439307252029749, 'y': 0.7855222213360704}. Best is trial 357 with value: 0.006082446779892028.\n",
      "[I 2025-08-24 05:45:54,870] Trial 516 finished with value: 8.271964872800936 and parameters: {'x': 1.0851606084742882, 'y': 0.890089415429819}. Best is trial 357 with value: 0.006082446779892028.\n",
      "[I 2025-08-24 05:45:54,876] Trial 517 finished with value: 1.4569490172464092 and parameters: {'x': 0.7633463322203947, 'y': 0.7010591056176508}. Best is trial 357 with value: 0.006082446779892028.\n",
      "[I 2025-08-24 05:45:54,882] Trial 518 finished with value: 0.2394290365356333 and parameters: {'x': 0.857576858858009, 'y': 0.7822509608127235}. Best is trial 357 with value: 0.006082446779892028.\n",
      "[I 2025-08-24 05:45:54,888] Trial 519 finished with value: 12.732067362659894 and parameters: {'x': 1.0136756811181016, 'y': 0.6707207812854893}. Best is trial 357 with value: 0.006082446779892028.\n",
      "[I 2025-08-24 05:45:54,894] Trial 520 finished with value: 2.086928429152726 and parameters: {'x': 0.9327546188144878, 'y': 1.0143366357764554}. Best is trial 357 with value: 0.006082446779892028.\n",
      "[I 2025-08-24 05:45:54,900] Trial 521 finished with value: 4.4681882236143124 and parameters: {'x': 0.8008629426162597, 'y': 0.851822243958623}. Best is trial 357 with value: 0.006082446779892028.\n",
      "[I 2025-08-24 05:45:54,906] Trial 522 finished with value: 5.034580497316935 and parameters: {'x': 0.728317735171885, 'y': 0.7531745672537934}. Best is trial 357 with value: 0.006082446779892028.\n",
      "[I 2025-08-24 05:45:54,913] Trial 523 finished with value: 1.364779772285126 and parameters: {'x': 0.8793409686858032, 'y': 0.6570415215521893}. Best is trial 357 with value: 0.006082446779892028.\n",
      "[I 2025-08-24 05:45:54,919] Trial 524 finished with value: 1.5123749303023155 and parameters: {'x': 1.02947100325896, 'y': 0.9368672104050751}. Best is trial 357 with value: 0.006082446779892028.\n",
      "[I 2025-08-24 05:45:54,925] Trial 525 finished with value: 1.954604319387501 and parameters: {'x': 0.8272572288702275, 'y': 0.8230903960316904}. Best is trial 357 with value: 0.006082446779892028.\n",
      "[I 2025-08-24 05:45:54,931] Trial 526 finished with value: 3.423739432495651 and parameters: {'x': 0.9534953907767194, 'y': 0.7241784145150159}. Best is trial 357 with value: 0.006082446779892028.\n",
      "[I 2025-08-24 05:45:54,937] Trial 527 finished with value: 1.8923656072401278 and parameters: {'x': 0.719451528353147, 'y': 0.6522826280269195}. Best is trial 357 with value: 0.006082446779892028.\n",
      "[I 2025-08-24 05:45:54,943] Trial 528 finished with value: 0.7692947168751954 and parameters: {'x': 0.8968998951529977, 'y': 0.8915308045353648}. Best is trial 357 with value: 0.006082446779892028.\n",
      "[I 2025-08-24 05:45:54,949] Trial 529 finished with value: 1.6231576817447493 and parameters: {'x': 0.8105349453437531, 'y': 0.7829534316184614}. Best is trial 357 with value: 0.006082446779892028.\n",
      "[I 2025-08-24 05:45:54,955] Trial 530 finished with value: 26.673198100777867 and parameters: {'x': 0.6790256591606727, 'y': 0.9765384882209116}. Best is trial 357 with value: 0.006082446779892028.\n",
      "[I 2025-08-24 05:45:54,962] Trial 531 finished with value: 46.30265221101481 and parameters: {'x': 1.1622574408064024, 'y': 0.6705753175126592}. Best is trial 357 with value: 0.006082446779892028.\n",
      "[I 2025-08-24 05:45:54,968] Trial 532 finished with value: 3.8356754590134763 and parameters: {'x': 0.9678196056055681, 'y': 0.7408524235397488}. Best is trial 357 with value: 0.006082446779892028.\n",
      "[I 2025-08-24 05:45:54,974] Trial 533 finished with value: 0.5933628298880097 and parameters: {'x': 1.0689326039152611, 'y': 1.065895915499151}. Best is trial 357 with value: 0.006082446779892028.\n",
      "[I 2025-08-24 05:45:54,980] Trial 534 finished with value: 7.134640342327888 and parameters: {'x': 0.7704986132820022, 'y': 0.8597878127503351}. Best is trial 357 with value: 0.006082446779892028.\n",
      "[I 2025-08-24 05:45:54,986] Trial 535 finished with value: 3.0392662738754894 and parameters: {'x': 0.889346021093154, 'y': 0.6169529560607874}. Best is trial 357 with value: 0.006082446779892028.\n",
      "[I 2025-08-24 05:45:54,993] Trial 536 finished with value: 0.15964906106916402 and parameters: {'x': 0.8291455623039627, 'y': 0.7236013089586663}. Best is trial 357 with value: 0.006082446779892028.\n",
      "[I 2025-08-24 05:45:54,999] Trial 537 finished with value: 8.80277987573764 and parameters: {'x': 0.7232563011066259, 'y': 0.8185009770344374}. Best is trial 357 with value: 0.006082446779892028.\n",
      "[I 2025-08-24 05:45:55,005] Trial 538 finished with value: 0.007926013198580287 and parameters: {'x': 0.9596949128163541, 'y': 0.9289525327537498}. Best is trial 357 with value: 0.006082446779892028.\n",
      "[I 2025-08-24 05:45:55,011] Trial 539 finished with value: 20.02850849901109 and parameters: {'x': 1.1957862793529836, 'y': 0.9828010769465263}. Best is trial 357 with value: 0.006082446779892028.\n",
      "[I 2025-08-24 05:45:55,017] Trial 540 finished with value: 5.137116697428012 and parameters: {'x': 1.0763965814190615, 'y': 0.9321063067706477}. Best is trial 357 with value: 0.006082446779892028.\n",
      "[I 2025-08-24 05:45:55,024] Trial 541 finished with value: 59.05297531833522 and parameters: {'x': -0.3792544462864914, 'y': 0.8998143083892747}. Best is trial 357 with value: 0.006082446779892028.\n",
      "[I 2025-08-24 05:45:55,030] Trial 542 finished with value: 0.16200038879655956 and parameters: {'x': 0.9898397467202672, 'y': 1.020019170110044}. Best is trial 357 with value: 0.006082446779892028.\n",
      "[I 2025-08-24 05:45:55,037] Trial 543 finished with value: 0.440417476147437 and parameters: {'x': 0.9297783442869856, 'y': 0.7984963764892647}. Best is trial 357 with value: 0.006082446779892028.\n",
      "[I 2025-08-24 05:45:55,043] Trial 544 finished with value: 1.7518364783921645 and parameters: {'x': 1.0134832582032183, 'y': 0.8947982228508993}. Best is trial 357 with value: 0.006082446779892028.\n",
      "[I 2025-08-24 05:45:55,049] Trial 545 finished with value: 0.029047821981791445 and parameters: {'x': 0.9165015954722706, 'y': 0.82511723439595}. Best is trial 357 with value: 0.006082446779892028.\n",
      "[I 2025-08-24 05:45:55,055] Trial 546 finished with value: 0.15758110252313337 and parameters: {'x': 1.0770301696283824, 'y': 1.121052048036728}. Best is trial 357 with value: 0.006082446779892028.\n",
      "[I 2025-08-24 05:45:55,062] Trial 547 finished with value: 4.111073869898382 and parameters: {'x': -1.0246146863002787, 'y': 1.0607939240584796}. Best is trial 357 with value: 0.006082446779892028.\n",
      "[I 2025-08-24 05:45:55,068] Trial 548 finished with value: 0.2572561589761678 and parameters: {'x': 0.9480371583390157, 'y': 0.9492279987655354}. Best is trial 357 with value: 0.006082446779892028.\n",
      "[I 2025-08-24 05:45:55,074] Trial 549 finished with value: 457.0266761436026 and parameters: {'x': 1.7289894803825012, 'y': 0.8528296761182225}. Best is trial 357 with value: 0.006082446779892028.\n",
      "[I 2025-08-24 05:45:55,080] Trial 550 finished with value: 10.088913081025238 and parameters: {'x': 1.1362957084857097, 'y': 0.9738300011482568}. Best is trial 357 with value: 0.006082446779892028.\n",
      "[I 2025-08-24 05:45:55,087] Trial 551 finished with value: 3.22319484247572 and parameters: {'x': 1.008244797686379, 'y': 0.837026882044959}. Best is trial 357 with value: 0.006082446779892028.\n",
      "[I 2025-08-24 05:45:55,093] Trial 552 finished with value: 7.800975178628187 and parameters: {'x': 0.9331617755493822, 'y': 0.5915686253355994}. Best is trial 357 with value: 0.006082446779892028.\n",
      "[I 2025-08-24 05:45:55,099] Trial 553 finished with value: 900.8797728310992 and parameters: {'x': -1.9382358939645608, 'y': 0.7697087616095594}. Best is trial 357 with value: 0.006082446779892028.\n",
      "[I 2025-08-24 05:45:55,106] Trial 554 finished with value: 1.9772794747120208 and parameters: {'x': 0.8831745709488256, 'y': 0.6398676937181456}. Best is trial 357 with value: 0.006082446779892028.\n",
      "[I 2025-08-24 05:45:55,112] Trial 555 finished with value: 9.3681986154052 and parameters: {'x': 0.773682256566245, 'y': 0.9038215007625934}. Best is trial 357 with value: 0.006082446779892028.\n",
      "[I 2025-08-24 05:45:55,119] Trial 556 finished with value: 14.622941946548755 and parameters: {'x': 1.0465862536051613, 'y': 0.7129716096604335}. Best is trial 357 with value: 0.006082446779892028.\n",
      "[I 2025-08-24 05:45:55,125] Trial 557 finished with value: 5.9362995103358465 and parameters: {'x': 0.9036577595462685, 'y': 1.0600520173854784}. Best is trial 357 with value: 0.006082446779892028.\n",
      "[I 2025-08-24 05:45:55,131] Trial 558 finished with value: 17.089038172883953 and parameters: {'x': 0.6535751114993626, 'y': 0.839095226667656}. Best is trial 357 with value: 0.006082446779892028.\n",
      "[I 2025-08-24 05:45:55,138] Trial 559 finished with value: 15.709706756891338 and parameters: {'x': 0.9831050523869226, 'y': 0.5701444204319959}. Best is trial 357 with value: 0.006082446779892028.\n",
      "[I 2025-08-24 05:45:55,144] Trial 560 finished with value: 0.2966736778806602 and parameters: {'x': 0.8416581286630698, 'y': 0.6562730019040288}. Best is trial 357 with value: 0.006082446779892028.\n",
      "[I 2025-08-24 05:45:55,150] Trial 561 finished with value: 4.464108544518642 and parameters: {'x': 0.7579358940740478, 'y': 0.7843599712278508}. Best is trial 357 with value: 0.006082446779892028.\n",
      "[I 2025-08-24 05:45:55,157] Trial 562 finished with value: 2.136621503009704 and parameters: {'x': 0.9084482056567035, 'y': 0.9711630206712227}. Best is trial 357 with value: 0.006082446779892028.\n",
      "[I 2025-08-24 05:45:55,163] Trial 563 finished with value: 30.61463879624014 and parameters: {'x': 1.1244654401239058, 'y': 0.7112575673592835}. Best is trial 357 with value: 0.006082446779892028.\n",
      "[I 2025-08-24 05:45:55,170] Trial 564 finished with value: 4.913141071533809 and parameters: {'x': 0.8229489637598628, 'y': 0.8981928188956295}. Best is trial 357 with value: 0.006082446779892028.\n",
      "[I 2025-08-24 05:45:55,176] Trial 565 finished with value: 13.93206273875512 and parameters: {'x': 0.9753037923953564, 'y': 0.577968872780347}. Best is trial 357 with value: 0.006082446779892028.\n",
      "[I 2025-08-24 05:45:55,182] Trial 566 finished with value: 11.656291124886575 and parameters: {'x': 0.6869456793330743, 'y': 0.8118691906752151}. Best is trial 357 with value: 0.006082446779892028.\n",
      "[I 2025-08-24 05:45:55,189] Trial 567 finished with value: 0.21722540725505002 and parameters: {'x': 0.8941957560424453, 'y': 0.7541954267296564}. Best is trial 357 with value: 0.006082446779892028.\n",
      "[I 2025-08-24 05:45:55,195] Trial 568 finished with value: 82.68673163185082 and parameters: {'x': 1.2456505023067983, 'y': 0.6426545938438581}. Best is trial 357 with value: 0.006082446779892028.\n",
      "[I 2025-08-24 05:45:55,202] Trial 569 finished with value: 5.284940764449039 and parameters: {'x': 1.052050525652793, 'y': 0.8769792508507223}. Best is trial 357 with value: 0.006082446779892028.\n",
      "[I 2025-08-24 05:45:55,208] Trial 570 finished with value: 612.381090195121 and parameters: {'x': -1.7773022678171575, 'y': 0.6998042005002789}. Best is trial 357 with value: 0.006082446779892028.\n",
      "[I 2025-08-24 05:45:55,215] Trial 571 finished with value: 0.15545642112324223 and parameters: {'x': 0.755899542616488, 'y': 0.5404210134140836}. Best is trial 357 with value: 0.006082446779892028.\n",
      "[I 2025-08-24 05:45:55,221] Trial 572 finished with value: 9.057660451173014 and parameters: {'x': 0.8406663016268826, 'y': 1.007257236411769}. Best is trial 357 with value: 0.006082446779892028.\n",
      "[I 2025-08-24 05:45:55,228] Trial 573 finished with value: 1.7867441750577455 and parameters: {'x': 0.9630573511890009, 'y': 0.7938613709969407}. Best is trial 357 with value: 0.006082446779892028.\n",
      "[I 2025-08-24 05:45:55,234] Trial 574 finished with value: 0.04059655554542196 and parameters: {'x': 0.805375952048612, 'y': 0.6434169459283776}. Best is trial 357 with value: 0.006082446779892028.\n",
      "[I 2025-08-24 05:45:55,241] Trial 575 finished with value: 2.0166435694274316 and parameters: {'x': 0.8900237558043785, 'y': 0.9337243749872334}. Best is trial 357 with value: 0.006082446779892028.\n",
      "[I 2025-08-24 05:45:55,247] Trial 576 finished with value: 235.9978599857536 and parameters: {'x': 1.0052937663622854, 'y': -0.5256065365073124}. Best is trial 357 with value: 0.006082446779892028.\n",
      "[I 2025-08-24 05:45:55,254] Trial 577 finished with value: 8.525948058009064 and parameters: {'x': 0.6760880065679961, 'y': 0.7472850868481661}. Best is trial 357 with value: 0.006082446779892028.\n",
      "[I 2025-08-24 05:45:55,260] Trial 578 finished with value: 2.9092754565196572 and parameters: {'x': 0.8240206563030693, 'y': 0.8486657736329595}. Best is trial 357 with value: 0.006082446779892028.\n",
      "[I 2025-08-24 05:45:55,266] Trial 579 finished with value: 5.901940738560519 and parameters: {'x': 0.9257334041858014, 'y': 1.099807894644797}. Best is trial 357 with value: 0.006082446779892028.\n",
      "[I 2025-08-24 05:45:55,273] Trial 580 finished with value: 91.77825317692051 and parameters: {'x': -1.2418142024722998, 'y': 0.6106921728573338}. Best is trial 357 with value: 0.006082446779892028.\n",
      "[I 2025-08-24 05:45:55,279] Trial 581 finished with value: 3.618158822160206 and parameters: {'x': 0.7420982779567588, 'y': 0.7391679535724219}. Best is trial 357 with value: 0.006082446779892028.\n",
      "[I 2025-08-24 05:45:55,286] Trial 582 finished with value: 21.57639727615239 and parameters: {'x': 1.0647824164918802, 'y': 0.6693027640593906}. Best is trial 357 with value: 0.006082446779892028.\n",
      "[I 2025-08-24 05:45:55,293] Trial 583 finished with value: 0.9898433155020834 and parameters: {'x': 0.8680856727639739, 'y': 0.8521852053504558}. Best is trial 357 with value: 0.006082446779892028.\n",
      "[I 2025-08-24 05:45:55,299] Trial 584 finished with value: 14.479458162007834 and parameters: {'x': 0.9661968855966225, 'y': 0.553032604259515}. Best is trial 357 with value: 0.006082446779892028.\n",
      "[I 2025-08-24 05:45:55,306] Trial 585 finished with value: 61.71822814976754 and parameters: {'x': -0.487887475743787, 'y': 1.0094252636656724}. Best is trial 357 with value: 0.006082446779892028.\n",
      "[I 2025-08-24 05:45:55,312] Trial 586 finished with value: 8.060149220981204 and parameters: {'x': 0.7923327963770925, 'y': 0.9109347495186763}. Best is trial 357 with value: 0.006082446779892028.\n",
      "[I 2025-08-24 05:45:55,319] Trial 587 finished with value: 25.084278114754635 and parameters: {'x': 1.137424122938523, 'y': 0.7930801352530734}. Best is trial 357 with value: 0.006082446779892028.\n",
      "[I 2025-08-24 05:45:55,325] Trial 588 finished with value: 4.789448142583575 and parameters: {'x': 0.6832847565457173, 'y': 0.6834222710375015}. Best is trial 357 with value: 0.006082446779892028.\n",
      "[I 2025-08-24 05:45:55,332] Trial 589 finished with value: 2.432845099923877 and parameters: {'x': 0.876808121699992, 'y': 0.6133039341141052}. Best is trial 357 with value: 0.006082446779892028.\n",
      "[I 2025-08-24 05:45:55,338] Trial 590 finished with value: 11.465339538447749 and parameters: {'x': 1.0296161814913471, 'y': 0.7215173604854369}. Best is trial 357 with value: 0.006082446779892028.\n",
      "[I 2025-08-24 05:45:55,345] Trial 591 finished with value: 7.22365361577804 and parameters: {'x': 0.7564490088420948, 'y': 0.8398778857942534}. Best is trial 357 with value: 0.006082446779892028.\n",
      "[I 2025-08-24 05:45:55,352] Trial 592 finished with value: 32.05336628905767 and parameters: {'x': 0.6198295259033365, 'y': 0.9490677140784254}. Best is trial 357 with value: 0.006082446779892028.\n",
      "[I 2025-08-24 05:45:55,358] Trial 593 finished with value: 12.484413785131801 and parameters: {'x': 0.9391658817521021, 'y': 0.5287520275872462}. Best is trial 357 with value: 0.006082446779892028.\n",
      "[I 2025-08-24 05:45:55,365] Trial 594 finished with value: 0.26834863147827537 and parameters: {'x': 0.8366325447033256, 'y': 0.7491129109009335}. Best is trial 357 with value: 0.006082446779892028.\n",
      "[I 2025-08-24 05:45:55,371] Trial 595 finished with value: 131.87212475799438 and parameters: {'x': 1.3272334558006558, 'y': 0.6136590913028798}. Best is trial 357 with value: 0.006082446779892028.\n",
      "[I 2025-08-24 05:45:55,378] Trial 596 finished with value: 0.1183647924589745 and parameters: {'x': 0.9348672193406857, 'y': 0.8401946939770376}. Best is trial 357 with value: 0.006082446779892028.\n",
      "[I 2025-08-24 05:45:55,385] Trial 597 finished with value: 24.184327687262112 and parameters: {'x': 0.7441028861896114, 'y': 1.0447985060254485}. Best is trial 357 with value: 0.006082446779892028.\n",
      "[I 2025-08-24 05:45:55,391] Trial 598 finished with value: 12.330020353553996 and parameters: {'x': 1.0181953268596782, 'y': 0.6855851507269433}. Best is trial 357 with value: 0.006082446779892028.\n",
      "[I 2025-08-24 05:45:55,398] Trial 599 finished with value: 0.9309495963575795 and parameters: {'x': 0.8285882253860347, 'y': 0.7815093608764877}. Best is trial 357 with value: 0.006082446779892028.\n",
      "[I 2025-08-24 05:45:55,404] Trial 600 finished with value: 0.7431887770950284 and parameters: {'x': 0.9252067677952537, 'y': 0.9418908997133898}. Best is trial 357 with value: 0.006082446779892028.\n",
      "[I 2025-08-24 05:45:55,411] Trial 601 finished with value: 83.70480161319259 and parameters: {'x': 1.2004963304738818, 'y': 0.526507872149585}. Best is trial 357 with value: 0.006082446779892028.\n",
      "[I 2025-08-24 05:45:55,418] Trial 602 finished with value: 0.03865567407688661 and parameters: {'x': 0.8041093242349387, 'y': 0.6449109804490913}. Best is trial 357 with value: 0.006082446779892028.\n",
      "[I 2025-08-24 05:45:55,425] Trial 603 finished with value: 2.342121227518048 and parameters: {'x': 0.6897843086775922, 'y': 0.6256652448787727}. Best is trial 357 with value: 0.006082446779892028.\n",
      "[I 2025-08-24 05:45:55,431] Trial 604 finished with value: 2.402177703674567 and parameters: {'x': 0.6256314369389394, 'y': 0.5418150234320058}. Best is trial 357 with value: 0.006082446779892028.\n",
      "[I 2025-08-24 05:45:55,438] Trial 605 finished with value: 0.18027071134576722 and parameters: {'x': 0.7763711193857714, 'y': 0.6388437809658108}. Best is trial 357 with value: 0.006082446779892028.\n",
      "[I 2025-08-24 05:45:55,445] Trial 606 finished with value: 23.768577766570495 and parameters: {'x': 1.0941652543213432, 'y': 0.7097582673185263}. Best is trial 357 with value: 0.006082446779892028.\n",
      "[I 2025-08-24 05:45:55,451] Trial 607 finished with value: 3.844035061804787 and parameters: {'x': 0.8703683328118023, 'y': 0.561907942145168}. Best is trial 357 with value: 0.006082446779892028.\n",
      "[I 2025-08-24 05:45:55,458] Trial 608 finished with value: 33.42915966129334 and parameters: {'x': 0.7350358115832388, 'y': 1.1178497492469543}. Best is trial 357 with value: 0.006082446779892028.\n",
      "[I 2025-08-24 05:45:55,465] Trial 609 finished with value: 1.0684649829814323 and parameters: {'x': 0.9893522469195453, 'y': 0.8754567728860814}. Best is trial 357 with value: 0.006082446779892028.\n",
      "[I 2025-08-24 05:45:55,472] Trial 610 finished with value: 237.8139393523563 and parameters: {'x': 1.4267613226897278, 'y': 0.49411676900711293}. Best is trial 357 with value: 0.006082446779892028.\n",
      "[I 2025-08-24 05:45:55,478] Trial 611 finished with value: 2.010432048675012 and parameters: {'x': 0.8070851269006518, 'y': 0.7918576055335671}. Best is trial 357 with value: 0.006082446779892028.\n",
      "[I 2025-08-24 05:45:55,485] Trial 612 finished with value: 2.7557033376267572 and parameters: {'x': 0.9148533042513991, 'y': 0.6711719677533962}. Best is trial 357 with value: 0.006082446779892028.\n",
      "[I 2025-08-24 05:45:55,491] Trial 613 finished with value: 39.105968582059326 and parameters: {'x': 0.6148492395442995, 'y': 1.0022000432910352}. Best is trial 357 with value: 0.006082446779892028.\n",
      "[I 2025-08-24 05:45:55,498] Trial 614 finished with value: 0.6772263203445357 and parameters: {'x': 0.7219957340918564, 'y': 0.5987336305651342}. Best is trial 357 with value: 0.006082446779892028.\n",
      "[I 2025-08-24 05:45:55,505] Trial 615 finished with value: 0.041204424049488556 and parameters: {'x': 0.8402558573697867, 'y': 0.6935054366160298}. Best is trial 357 with value: 0.006082446779892028.\n",
      "[I 2025-08-24 05:45:55,512] Trial 616 finished with value: 4.90954862172554 and parameters: {'x': 1.0076738954530773, 'y': 0.793832995827588}. Best is trial 357 with value: 0.006082446779892028.\n",
      "[I 2025-08-24 05:45:55,518] Trial 617 finished with value: 0.8016575106203705 and parameters: {'x': 0.8969989017887676, 'y': 0.8935479250377967}. Best is trial 357 with value: 0.006082446779892028.\n",
      "[I 2025-08-24 05:45:55,525] Trial 618 finished with value: 0.05086514854887565 and parameters: {'x': 0.8403810092592751, 'y': 0.7221735160754881}. Best is trial 357 with value: 0.006082446779892028.\n",
      "[I 2025-08-24 05:45:55,532] Trial 619 finished with value: 9.421536825873392 and parameters: {'x': 1.0173181651619778, 'y': 0.7279959144611374}. Best is trial 357 with value: 0.006082446779892028.\n",
      "[I 2025-08-24 05:45:55,539] Trial 620 finished with value: 17.35026088184244 and parameters: {'x': 1.120957696382026, 'y': 0.8401853746125978}. Best is trial 357 with value: 0.006082446779892028.\n",
      "[I 2025-08-24 05:45:55,545] Trial 621 finished with value: 95.09287029840381 and parameters: {'x': 0.9447459372774425, 'y': 1.8676849645907223}. Best is trial 357 with value: 0.006082446779892028.\n",
      "[I 2025-08-24 05:45:55,552] Trial 622 finished with value: 0.12976115629008503 and parameters: {'x': 0.8598436772790305, 'y': 0.7725150854540936}. Best is trial 357 with value: 0.006082446779892028.\n",
      "[I 2025-08-24 05:45:55,559] Trial 623 finished with value: 3.2814848210862366 and parameters: {'x': 1.0573137305993006, 'y': 0.9368543243346857}. Best is trial 357 with value: 0.006082446779892028.\n",
      "[I 2025-08-24 05:45:55,566] Trial 624 finished with value: 4.138928372962493 and parameters: {'x': 0.8039296867742036, 'y': 0.8487994796481221}. Best is trial 357 with value: 0.006082446779892028.\n",
      "[I 2025-08-24 05:45:55,572] Trial 625 finished with value: 2.718370982723167 and parameters: {'x': 0.9239242071258754, 'y': 0.688936715971538}. Best is trial 357 with value: 0.006082446779892028.\n",
      "[I 2025-08-24 05:45:55,579] Trial 626 finished with value: 0.02471716399200949 and parameters: {'x': 0.8565249123358178, 'y': 0.7400630380922787}. Best is trial 357 with value: 0.006082446779892028.\n",
      "[I 2025-08-24 05:45:55,586] Trial 627 finished with value: 24.258560551100068 and parameters: {'x': 0.7349694155519156, 'y': 1.031996260931547}. Best is trial 357 with value: 0.006082446779892028.\n",
      "[I 2025-08-24 05:45:55,593] Trial 628 finished with value: 5.944945890307526 and parameters: {'x': 0.8232121307424428, 'y': 0.9208590490203481}. Best is trial 357 with value: 0.006082446779892028.\n",
      "[I 2025-08-24 05:45:55,600] Trial 629 finished with value: 3.070507322001936 and parameters: {'x': 0.9847057159278636, 'y': 0.7944233903980298}. Best is trial 357 with value: 0.006082446779892028.\n",
      "[I 2025-08-24 05:45:55,606] Trial 630 finished with value: 78.11440511327632 and parameters: {'x': 0.6769902001076643, 'y': -0.4249173626681624}. Best is trial 357 with value: 0.006082446779892028.\n",
      "[I 2025-08-24 05:45:55,613] Trial 631 finished with value: 0.9596996712626212 and parameters: {'x': 0.8978333668145673, 'y': 0.7086746950189416}. Best is trial 357 with value: 0.006082446779892028.\n",
      "[I 2025-08-24 05:45:55,620] Trial 632 finished with value: 97.03960034707013 and parameters: {'x': 0.7962217439554138, 'y': 1.61884507180115}. Best is trial 357 with value: 0.006082446779892028.\n",
      "[I 2025-08-24 05:45:55,627] Trial 633 finished with value: 26.220986538936298 and parameters: {'x': 1.0664895152690448, 'y': 0.6253787373646581}. Best is trial 357 with value: 0.006082446779892028.\n",
      "[I 2025-08-24 05:45:55,634] Trial 634 finished with value: 0.27735356919701565 and parameters: {'x': 0.9616403609273253, 'y': 0.8722277030637927}. Best is trial 357 with value: 0.006082446779892028.\n",
      "[I 2025-08-24 05:45:55,641] Trial 635 finished with value: 362.6141816771168 and parameters: {'x': 0.8628880504702324, 'y': -1.1596179577251304}. Best is trial 357 with value: 0.006082446779892028.\n",
      "[I 2025-08-24 05:45:55,648] Trial 636 finished with value: 3.951113980418051 and parameters: {'x': 0.7346482027614328, 'y': 0.7367029666329156}. Best is trial 357 with value: 0.006082446779892028.\n",
      "[I 2025-08-24 05:45:55,655] Trial 637 finished with value: 0.17273169529362162 and parameters: {'x': 0.9555822032883733, 'y': 0.9544603135712049}. Best is trial 357 with value: 0.006082446779892028.\n",
      "[I 2025-08-24 05:45:55,662] Trial 638 finished with value: 30.760950754103508 and parameters: {'x': 1.1733558580722478, 'y': 0.8224094035275112}. Best is trial 357 with value: 0.006082446779892028.\n",
      "[I 2025-08-24 05:45:55,669] Trial 639 finished with value: 0.5859039072393218 and parameters: {'x': 0.8554359079657887, 'y': 0.6566037694681419}. Best is trial 357 with value: 0.006082446779892028.\n",
      "[I 2025-08-24 05:45:55,676] Trial 640 finished with value: 2.6062229785414788 and parameters: {'x': 0.6411022829475971, 'y': 0.5684102123869474}. Best is trial 357 with value: 0.006082446779892028.\n",
      "[I 2025-08-24 05:45:55,682] Trial 641 finished with value: 23.013723328984824 and parameters: {'x': 0.7729932394344453, 'y': 1.076707355046851}. Best is trial 357 with value: 0.006082446779892028.\n",
      "[I 2025-08-24 05:45:55,689] Trial 642 finished with value: 8.899958175696804 and parameters: {'x': 1.0395809462768437, 'y': 0.7824268253889561}. Best is trial 357 with value: 0.006082446779892028.\n",
      "[I 2025-08-24 05:45:55,696] Trial 643 finished with value: 1.158428814954974 and parameters: {'x': 0.899977430599545, 'y': 0.7027948151888864}. Best is trial 357 with value: 0.006082446779892028.\n",
      "[I 2025-08-24 05:45:55,703] Trial 644 finished with value: 5.087518078846641 and parameters: {'x': 0.8056875267756461, 'y': 0.8738491178516273}. Best is trial 357 with value: 0.006082446779892028.\n",
      "[I 2025-08-24 05:45:55,710] Trial 645 finished with value: 46.21183178412376 and parameters: {'x': 0.7068757441191609, 'y': 1.1788339021306424}. Best is trial 357 with value: 0.006082446779892028.\n",
      "[I 2025-08-24 05:45:55,717] Trial 646 finished with value: 0.3543410117477757 and parameters: {'x': 0.9591998305596929, 'y': 0.9794508755399907}. Best is trial 357 with value: 0.006082446779892028.\n",
      "[I 2025-08-24 05:45:55,724] Trial 647 finished with value: 31.99301267417278 and parameters: {'x': 1.0994410977471365, 'y': 0.6432344850555632}. Best is trial 357 with value: 0.006082446779892028.\n",
      "[I 2025-08-24 05:45:55,731] Trial 648 finished with value: 6.612054761648294 and parameters: {'x': 0.8614042859883103, 'y': 0.4852519648332614}. Best is trial 357 with value: 0.006082446779892028.\n",
      "[I 2025-08-24 05:45:55,738] Trial 649 finished with value: 2.6726091469112903 and parameters: {'x': 0.7815524936023382, 'y': 0.772839417879665}. Best is trial 357 with value: 0.006082446779892028.\n",
      "[I 2025-08-24 05:45:55,745] Trial 650 finished with value: 5.195525392889965 and parameters: {'x': 0.601056072456891, 'y': 0.5856869650962265}. Best is trial 357 with value: 0.006082446779892028.\n",
      "[I 2025-08-24 05:45:55,752] Trial 651 finished with value: 10.0949146580754 and parameters: {'x': 1.012931160767707, 'y': 0.7083072136130799}. Best is trial 357 with value: 0.006082446779892028.\n",
      "[I 2025-08-24 05:45:55,759] Trial 652 finished with value: 0.09143238143469085 and parameters: {'x': 0.903807906769874, 'y': 0.8455356928752946}. Best is trial 357 with value: 0.006082446779892028.\n",
      "[I 2025-08-24 05:45:55,766] Trial 653 finished with value: 14.957046104687459 and parameters: {'x': 0.7241325263066395, 'y': 0.9101261721014914}. Best is trial 357 with value: 0.006082446779892028.\n",
      "[I 2025-08-24 05:45:55,773] Trial 654 finished with value: 0.35876164943593947 and parameters: {'x': 0.8419560454583549, 'y': 0.6511159608245842}. Best is trial 357 with value: 0.006082446779892028.\n",
      "[I 2025-08-24 05:45:55,780] Trial 655 finished with value: 2.157072016696536 and parameters: {'x': 0.9665912176021645, 'y': 0.787466845936173}. Best is trial 357 with value: 0.006082446779892028.\n",
      "[I 2025-08-24 05:45:55,787] Trial 656 finished with value: 0.5329259896151647 and parameters: {'x': 0.6690966592447564, 'y': 0.5127617593057296}. Best is trial 357 with value: 0.006082446779892028.\n",
      "[I 2025-08-24 05:45:55,794] Trial 657 finished with value: 1.0640930176298513 and parameters: {'x': 0.7819668251860422, 'y': 0.7122964457071846}. Best is trial 357 with value: 0.006082446779892028.\n",
      "[I 2025-08-24 05:45:55,801] Trial 658 finished with value: 3.440772111414374 and parameters: {'x': 0.9189219849990132, 'y': 1.029733519576609}. Best is trial 357 with value: 0.006082446779892028.\n",
      "[I 2025-08-24 05:45:55,808] Trial 659 finished with value: 238.47117902374424 and parameters: {'x': 1.5400968011928793, 'y': 0.8285917245137682}. Best is trial 357 with value: 0.006082446779892028.\n",
      "[I 2025-08-24 05:45:55,815] Trial 660 finished with value: 24.209824128417793 and parameters: {'x': 1.0522779271010163, 'y': 0.6152818120650033}. Best is trial 357 with value: 0.006082446779892028.\n",
      "[I 2025-08-24 05:45:55,822] Trial 661 finished with value: 4.068047074175618 and parameters: {'x': 0.8530048075305471, 'y': 0.9287748385515155}. Best is trial 357 with value: 0.006082446779892028.\n",
      "[I 2025-08-24 05:45:55,829] Trial 662 finished with value: 15.479799742402935 and parameters: {'x': 0.9778860952970825, 'y': 0.5628236635628701}. Best is trial 357 with value: 0.006082446779892028.\n",
      "[I 2025-08-24 05:45:55,836] Trial 663 finished with value: 0.7952887967532054 and parameters: {'x': 0.8069236716161956, 'y': 0.7381896003934558}. Best is trial 357 with value: 0.006082446779892028.\n",
      "[I 2025-08-24 05:45:55,843] Trial 664 finished with value: 28.80518244298323 and parameters: {'x': 1.1051975891742962, 'y': 0.6848602210869232}. Best is trial 357 with value: 0.006082446779892028.\n",
      "[I 2025-08-24 05:45:55,850] Trial 665 finished with value: 118.02416958787094 and parameters: {'x': 0.9013970466292647, 'y': -0.2738279093295664}. Best is trial 357 with value: 0.006082446779892028.\n",
      "[I 2025-08-24 05:45:55,857] Trial 666 finished with value: 6.298768795809139 and parameters: {'x': 0.7502644161894407, 'y': 0.8126245647709888}. Best is trial 357 with value: 0.006082446779892028.\n",
      "[I 2025-08-24 05:45:55,864] Trial 667 finished with value: 17.31717087983405 and parameters: {'x': 0.6904279103090878, 'y': 0.8916766750138978}. Best is trial 357 with value: 0.006082446779892028.\n",
      "[I 2025-08-24 05:45:55,871] Trial 668 finished with value: 17.21483565398782 and parameters: {'x': 1.1917582202817887, 'y': 1.0058233695851708}. Best is trial 357 with value: 0.006082446779892028.\n",
      "[I 2025-08-24 05:45:55,878] Trial 669 finished with value: 0.06493797843500598 and parameters: {'x': 0.8657611520922847, 'y': 0.7712029149740032}. Best is trial 357 with value: 0.006082446779892028.\n",
      "[I 2025-08-24 05:45:55,885] Trial 670 finished with value: 8.542558308891628 and parameters: {'x': 0.9540000912880396, 'y': 0.6178758224584915}. Best is trial 357 with value: 0.006082446779892028.\n",
      "[I 2025-08-24 05:45:55,892] Trial 671 finished with value: 22.18171048073047 and parameters: {'x': 0.7982342364242254, 'y': 1.1077201478348255}. Best is trial 357 with value: 0.006082446779892028.\n",
      "[I 2025-08-24 05:45:55,900] Trial 672 finished with value: 24.640211777036814 and parameters: {'x': 1.0107682914683325, 'y': 0.5252646280152361}. Best is trial 357 with value: 0.006082446779892028.\n",
      "[I 2025-08-24 05:45:55,907] Trial 673 finished with value: 1025.3615042724552 and parameters: {'x': 1.9721744215469417, 'y': 0.6888214195545003}. Best is trial 357 with value: 0.006082446779892028.\n",
      "[I 2025-08-24 05:45:55,914] Trial 674 finished with value: 25.971050625103338 and parameters: {'x': 0.5978826602173255, 'y': 0.8654927323345974}. Best is trial 357 with value: 0.006082446779892028.\n",
      "[I 2025-08-24 05:45:55,921] Trial 675 finished with value: 4.441381641472762 and parameters: {'x': 0.8697203070623345, 'y': 0.9667562004386224}. Best is trial 357 with value: 0.006082446779892028.\n",
      "[I 2025-08-24 05:45:55,928] Trial 676 finished with value: 5.002782069627672 and parameters: {'x': 0.7317678868402927, 'y': 0.7575390443266632}. Best is trial 357 with value: 0.006082446779892028.\n",
      "[I 2025-08-24 05:45:55,935] Trial 677 finished with value: 5.420239798067291 and parameters: {'x': 0.9325239838136015, 'y': 0.6368846985054041}. Best is trial 357 with value: 0.006082446779892028.\n",
      "[I 2025-08-24 05:45:55,942] Trial 678 finished with value: 10.7225107737598 and parameters: {'x': 1.0809599981417495, 'y': 0.8411221653310854}. Best is trial 357 with value: 0.006082446779892028.\n",
      "[I 2025-08-24 05:45:55,949] Trial 679 finished with value: 124.05485891000782 and parameters: {'x': 1.2577510113423758, 'y': 0.46843671598009506}. Best is trial 357 with value: 0.006082446779892028.\n",
      "[I 2025-08-24 05:45:55,957] Trial 680 finished with value: 0.1327867245900696 and parameters: {'x': 0.822919534287339, 'y': 0.7090445164007746}. Best is trial 357 with value: 0.006082446779892028.\n",
      "[I 2025-08-24 05:45:55,964] Trial 681 finished with value: 2.957950299259565 and parameters: {'x': 0.6498291471576144, 'y': 0.590662322180523}. Best is trial 357 with value: 0.006082446779892028.\n",
      "[I 2025-08-24 05:45:55,971] Trial 682 finished with value: 0.4764195815043225 and parameters: {'x': 1.001896985461761, 'y': 0.9347746759600333}. Best is trial 357 with value: 0.006082446779892028.\n",
      "[I 2025-08-24 05:45:55,978] Trial 683 finished with value: 0.3154608208007172 and parameters: {'x': 0.9088745051251307, 'y': 0.7706311225911213}. Best is trial 357 with value: 0.006082446779892028.\n",
      "[I 2025-08-24 05:45:55,985] Trial 684 finished with value: 1.1450320247163732 and parameters: {'x': 0.7624172909224753, 'y': 0.685615473345923}. Best is trial 357 with value: 0.006082446779892028.\n",
      "[I 2025-08-24 05:45:55,992] Trial 685 finished with value: 0.7088757421185743 and parameters: {'x': 0.8610843238090925, 'y': 0.8245070566979464}. Best is trial 357 with value: 0.006082446779892028.\n",
      "[I 2025-08-24 05:45:55,999] Trial 686 finished with value: 21.868183957471338 and parameters: {'x': -0.3026903276583679, 'y': 0.5407448236027916}. Best is trial 357 with value: 0.006082446779892028.\n",
      "[I 2025-08-24 05:45:56,007] Trial 687 finished with value: 5.9498613836997265 and parameters: {'x': 0.9924231888670373, 'y': 0.7409815855888863}. Best is trial 357 with value: 0.006082446779892028.\n",
      "[I 2025-08-24 05:45:56,014] Trial 688 finished with value: 408.1489231704698 and parameters: {'x': 0.7034064276148362, 'y': -1.5252712667838182}. Best is trial 357 with value: 0.006082446779892028.\n",
      "[I 2025-08-24 05:45:56,021] Trial 689 finished with value: 7.202463814752989 and parameters: {'x': 0.8019356593666228, 'y': 0.9107429944711791}. Best is trial 357 with value: 0.006082446779892028.\n",
      "[I 2025-08-24 05:45:56,028] Trial 690 finished with value: 4.103675648586369 and parameters: {'x': 0.9183424400720455, 'y': 0.6409421732028733}. Best is trial 357 with value: 0.006082446779892028.\n",
      "[I 2025-08-24 05:45:56,035] Trial 691 finished with value: 8.613824392008699 and parameters: {'x': 1.1336858811198653, 'y': 0.9920551288908489}. Best is trial 357 with value: 0.006082446779892028.\n",
      "[I 2025-08-24 05:45:56,043] Trial 692 finished with value: 246.59316341560728 and parameters: {'x': 0.8409984079790014, 'y': -0.8629696897460475}. Best is trial 357 with value: 0.006082446779892028.\n",
      "[I 2025-08-24 05:45:56,050] Trial 693 finished with value: 7.83450738605128 and parameters: {'x': 1.0459802231736919, 'y': 0.8142104958579707}. Best is trial 357 with value: 0.006082446779892028.\n",
      "[I 2025-08-24 05:45:56,057] Trial 694 finished with value: 0.09784909416494675 and parameters: {'x': 0.7504983832867032, 'y': 0.582115265490876}. Best is trial 357 with value: 0.006082446779892028.\n",
      "[I 2025-08-24 05:45:56,064] Trial 695 finished with value: 3.125418221883666 and parameters: {'x': 0.9437314481077965, 'y': 1.067328001208262}. Best is trial 357 with value: 0.006082446779892028.\n",
      "[I 2025-08-24 05:45:56,071] Trial 696 finished with value: 9.05277306639318 and parameters: {'x': 0.6596198790698211, 'y': 0.734045109878238}. Best is trial 357 with value: 0.006082446779892028.\n",
      "[I 2025-08-24 05:45:56,079] Trial 697 finished with value: 2.7901573493548733 and parameters: {'x': 0.8545235751229808, 'y': 0.8966134838992984}. Best is trial 357 with value: 0.006082446779892028.\n",
      "[I 2025-08-24 05:45:56,086] Trial 698 finished with value: 9.225729309140908 and parameters: {'x': 0.9715434167934347, 'y': 0.640171084424672}. Best is trial 357 with value: 0.006082446779892028.\n",
      "[I 2025-08-24 05:45:56,093] Trial 699 finished with value: 4.546482653493629 and parameters: {'x': 0.776251522465599, 'y': 0.8146140451286926}. Best is trial 357 with value: 0.006082446779892028.\n",
      "[I 2025-08-24 05:45:56,101] Trial 700 finished with value: 10.530857652017415 and parameters: {'x': 0.8861461566111938, 'y': 0.4609419683644207}. Best is trial 357 with value: 0.006082446779892028.\n",
      "[I 2025-08-24 05:45:56,108] Trial 701 finished with value: 16.844262778878097 and parameters: {'x': 1.049260750867475, 'y': 0.6905600611393046}. Best is trial 357 with value: 0.006082446779892028.\n",
      "[I 2025-08-24 05:45:56,116] Trial 702 finished with value: 7.31554211205064 and parameters: {'x': 0.7142517803290354, 'y': 0.7791145257450036}. Best is trial 357 with value: 0.006082446779892028.\n",
      "[I 2025-08-24 05:45:56,123] Trial 703 finished with value: 3.733616656645972 and parameters: {'x': 0.8275338460648778, 'y': 0.8772667306697517}. Best is trial 357 with value: 0.006082446779892028.\n",
      "[I 2025-08-24 05:45:56,130] Trial 704 finished with value: 10.360889260872758 and parameters: {'x': 0.9292387839822353, 'y': 0.5416791535162537}. Best is trial 357 with value: 0.006082446779892028.\n",
      "[I 2025-08-24 05:45:56,137] Trial 705 finished with value: 9.573465869891164 and parameters: {'x': 0.5940869965668428, 'y': 0.6596754105750249}. Best is trial 357 with value: 0.006082446779892028.\n",
      "[I 2025-08-24 05:45:56,145] Trial 706 finished with value: 97.62600246346985 and parameters: {'x': -0.12264589851561615, 'y': 0.9967021849638121}. Best is trial 357 with value: 0.006082446779892028.\n",
      "[I 2025-08-24 05:45:56,152] Trial 707 finished with value: 231.9318386043946 and parameters: {'x': -1.4966250434674842, 'y': 0.7375593193670313}. Best is trial 357 with value: 0.006082446779892028.\n",
      "[I 2025-08-24 05:45:56,159] Trial 708 finished with value: 17.217104403810236 and parameters: {'x': 1.1290192151597305, 'y': 0.8599500341136931}. Best is trial 357 with value: 0.006082446779892028.\n",
      "[I 2025-08-24 05:45:56,167] Trial 709 finished with value: 0.38693747579104115 and parameters: {'x': 0.8033621517612077, 'y': 0.5863762543885146}. Best is trial 357 with value: 0.006082446779892028.\n",
      "[I 2025-08-24 05:45:56,174] Trial 710 finished with value: 5.416604125315722 and parameters: {'x': 0.9688041816045064, 'y': 1.1712966244491523}. Best is trial 357 with value: 0.006082446779892028.\n",
      "[I 2025-08-24 05:45:56,181] Trial 711 finished with value: 1.9266840296475658 and parameters: {'x': 0.9025849160733742, 'y': 0.9531223174592245}. Best is trial 357 with value: 0.006082446779892028.\n",
      "[I 2025-08-24 05:45:56,189] Trial 712 finished with value: 6.197295499708186 and parameters: {'x': 0.7237497888811394, 'y': 0.7712199274139306}. Best is trial 357 with value: 0.006082446779892028.\n",
      "[I 2025-08-24 05:45:56,196] Trial 713 finished with value: 13.084110150919315 and parameters: {'x': 1.015298315939458, 'y': 0.6691142605413635}. Best is trial 357 with value: 0.006082446779892028.\n",
      "[I 2025-08-24 05:45:56,203] Trial 714 finished with value: 0.8475969953037831 and parameters: {'x': 0.8529190073454411, 'y': 0.818353404407284}. Best is trial 357 with value: 0.006082446779892028.\n",
      "[I 2025-08-24 05:45:56,211] Trial 715 finished with value: 0.874295888462436 and parameters: {'x': 0.778462214313035, 'y': 0.5151619694343119}. Best is trial 357 with value: 0.006082446779892028.\n",
      "[I 2025-08-24 05:45:56,218] Trial 716 finished with value: 8.443661793240702 and parameters: {'x': 0.6553628723146072, 'y': 0.718029297883278}. Best is trial 357 with value: 0.006082446779892028.\n",
      "[I 2025-08-24 05:45:56,225] Trial 717 finished with value: 5.499781725880661 and parameters: {'x': 0.9083604029246121, 'y': 1.0594556419402021}. Best is trial 357 with value: 0.006082446779892028.\n",
      "[I 2025-08-24 05:45:56,233] Trial 718 finished with value: 26.40226744045681 and parameters: {'x': 1.0556699772745275, 'y': 0.6006378913631304}. Best is trial 357 with value: 0.006082446779892028.\n",
      "[I 2025-08-24 05:45:56,240] Trial 719 finished with value: 7.346125159016336 and parameters: {'x': 0.8008606766718147, 'y': 0.911682627113177}. Best is trial 357 with value: 0.006082446779892028.\n",
      "[I 2025-08-24 05:45:56,248] Trial 720 finished with value: 16.512728804379464 and parameters: {'x': 0.9766671033749921, 'y': 1.3602305027229096}. Best is trial 357 with value: 0.006082446779892028.\n",
      "[I 2025-08-24 05:45:56,255] Trial 721 finished with value: 694.0141849192355 and parameters: {'x': 0.872547104738731, 'y': -1.8730456159347264}. Best is trial 357 with value: 0.006082446779892028.\n",
      "[I 2025-08-24 05:45:56,262] Trial 722 finished with value: 8.000782790289584 and parameters: {'x': 0.6921947295306892, 'y': 0.7603103332751462}. Best is trial 357 with value: 0.006082446779892028.\n",
      "[I 2025-08-24 05:45:56,270] Trial 723 finished with value: 11.786943318305957 and parameters: {'x': 0.577867448106782, 'y': 0.6746469073488848}. Best is trial 357 with value: 0.006082446779892028.\n",
      "[I 2025-08-24 05:45:56,277] Trial 724 finished with value: 7.375336782961163 and parameters: {'x': 0.7625604255468404, 'y': 0.8520341531394692}. Best is trial 357 with value: 0.006082446779892028.\n",
      "[I 2025-08-24 05:45:56,285] Trial 725 finished with value: 9.597777139794298 and parameters: {'x': 0.9458731576213395, 'y': 0.5849205230979826}. Best is trial 357 with value: 0.006082446779892028.\n",
      "[I 2025-08-24 05:45:56,292] Trial 726 finished with value: 53.06459451621525 and parameters: {'x': 1.0999138935427935, 'y': 0.48142460594871617}. Best is trial 357 with value: 0.006082446779892028.\n",
      "[I 2025-08-24 05:45:56,300] Trial 727 finished with value: 172.25412348993962 and parameters: {'x': 0.8462450712587806, 'y': -0.5962353979203286}. Best is trial 357 with value: 0.006082446779892028.\n",
      "[I 2025-08-24 05:45:56,307] Trial 728 finished with value: 526.6680020561271 and parameters: {'x': 1.8013748101606928, 'y': 0.9514259714382076}. Best is trial 357 with value: 0.006082446779892028.\n",
      "[I 2025-08-24 05:45:56,314] Trial 729 finished with value: 7.680290320113977 and parameters: {'x': 1.0284056421770609, 'y': 0.780499355691133}. Best is trial 357 with value: 0.006082446779892028.\n",
      "[I 2025-08-24 05:45:56,322] Trial 730 finished with value: 1.7831371890065413 and parameters: {'x': 0.8925700267133677, 'y': 0.6635799381741265}. Best is trial 357 with value: 0.006082446779892028.\n",
      "[I 2025-08-24 05:45:56,329] Trial 731 finished with value: 37.62607171780579 and parameters: {'x': 1.2139805608818348, 'y': 0.8607212005579837}. Best is trial 357 with value: 0.006082446779892028.\n",
      "[I 2025-08-24 05:45:56,337] Trial 732 finished with value: 2.781057746251163 and parameters: {'x': 0.7483938659347116, 'y': 0.7249494400147986}. Best is trial 357 with value: 0.006082446779892028.\n",
      "[I 2025-08-24 05:45:56,344] Trial 733 finished with value: 10.752560042731833 and parameters: {'x': 0.829612442207108, 'y': 1.015724789308895}. Best is trial 357 with value: 0.006082446779892028.\n",
      "[I 2025-08-24 05:45:56,352] Trial 734 finished with value: 11.604055865780543 and parameters: {'x': 0.9739778741659594, 'y': 0.607995574417213}. Best is trial 357 with value: 0.006082446779892028.\n",
      "[I 2025-08-24 05:45:56,359] Trial 735 finished with value: 12.385612919953479 and parameters: {'x': 0.6992167859246826, 'y': 0.8395484118057224}. Best is trial 357 with value: 0.006082446779892028.\n",
      "[I 2025-08-24 05:45:56,367] Trial 736 finished with value: 9.138039220984533 and parameters: {'x': 0.9096779992203153, 'y': 1.1296709942918601}. Best is trial 357 with value: 0.006082446779892028.\n",
      "[I 2025-08-24 05:45:56,374] Trial 737 finished with value: 0.5234417250808752 and parameters: {'x': 0.806346123803444, 'y': 0.7199034610785969}. Best is trial 357 with value: 0.006082446779892028.\n",
      "[I 2025-08-24 05:45:56,382] Trial 738 finished with value: 47.12907880791244 and parameters: {'x': 1.026239762371228, 'y': 1.7396692536782967}. Best is trial 357 with value: 0.006082446779892028.\n",
      "[I 2025-08-24 05:45:56,389] Trial 739 finished with value: 23.924690472658337 and parameters: {'x': 0.6540374725544427, 'y': 0.9156686986464698}. Best is trial 357 with value: 0.006082446779892028.\n",
      "[I 2025-08-24 05:45:56,396] Trial 740 finished with value: 5.318158236826298 and parameters: {'x': 0.8779598330644166, 'y': 0.5405252917375969}. Best is trial 357 with value: 0.006082446779892028.\n",
      "[I 2025-08-24 05:45:56,404] Trial 741 finished with value: 0.2537131233253431 and parameters: {'x': 0.7738516289622384, 'y': 0.6438541249305624}. Best is trial 357 with value: 0.006082446779892028.\n",
      "[I 2025-08-24 05:45:56,412] Trial 742 finished with value: 20.858554048856405 and parameters: {'x': 1.111127454238339, 'y': 0.7780277775749522}. Best is trial 357 with value: 0.006082446779892028.\n",
      "[I 2025-08-24 05:45:56,419] Trial 743 finished with value: 16.708435763550558 and parameters: {'x': 0.9369051152299767, 'y': 0.46908035829957506}. Best is trial 357 with value: 0.006082446779892028.\n",
      "[I 2025-08-24 05:45:56,427] Trial 744 finished with value: 0.9881582702672678 and parameters: {'x': 0.8442714747398741, 'y': 0.8109730833229313}. Best is trial 357 with value: 0.006082446779892028.\n",
      "[I 2025-08-24 05:45:56,434] Trial 745 finished with value: 5.939844820073282 and parameters: {'x': 0.9721064883284871, 'y': 0.7012890186659869}. Best is trial 357 with value: 0.006082446779892028.\n",
      "[I 2025-08-24 05:45:56,442] Trial 746 finished with value: 14.372738585742958 and parameters: {'x': 0.7633621363210381, 'y': 0.9610964478281132}. Best is trial 357 with value: 0.006082446779892028.\n",
      "[I 2025-08-24 05:45:56,449] Trial 747 finished with value: 1.2483206427286164 and parameters: {'x': 0.8766041633184454, 'y': 0.8794796298578903}. Best is trial 357 with value: 0.006082446779892028.\n",
      "[I 2025-08-24 05:45:56,457] Trial 748 finished with value: 6.240174011067295 and parameters: {'x': 0.6053680062601496, 'y': 0.6131369914836795}. Best is trial 357 with value: 0.006082446779892028.\n",
      "[I 2025-08-24 05:45:56,465] Trial 749 finished with value: 12.264098865194333 and parameters: {'x': 1.052643029835815, 'y': 0.7578955631310502}. Best is trial 357 with value: 0.006082446779892028.\n",
      "[I 2025-08-24 05:45:56,472] Trial 750 finished with value: 3.9384094252023325 and parameters: {'x': 0.7056179923575376, 'y': 0.6941554747353346}. Best is trial 357 with value: 0.006082446779892028.\n",
      "[I 2025-08-24 05:45:56,480] Trial 751 finished with value: 10.846624004844994 and parameters: {'x': 0.9361600724222654, 'y': 0.5471154287000074}. Best is trial 357 with value: 0.006082446779892028.\n",
      "[I 2025-08-24 05:45:56,487] Trial 752 finished with value: 17.48455042178059 and parameters: {'x': 0.8157050263234148, 'y': 1.0831136728815571}. Best is trial 357 with value: 0.006082446779892028.\n",
      "[I 2025-08-24 05:45:56,495] Trial 753 finished with value: 0.30023071219075825 and parameters: {'x': 1.1438131882659854, 'y': 1.2554362653612459}. Best is trial 357 with value: 0.006082446779892028.\n",
      "[I 2025-08-24 05:45:56,503] Trial 754 finished with value: 3.2324631165233573 and parameters: {'x': 0.9969481665838867, 'y': 0.8141153856382944}. Best is trial 357 with value: 0.006082446779892028.\n",
      "[I 2025-08-24 05:45:56,510] Trial 755 finished with value: 19.460585800981903 and parameters: {'x': 0.7475201980374298, 'y': 0.9992048810402161}. Best is trial 357 with value: 0.006082446779892028.\n",
      "[I 2025-08-24 05:45:56,518] Trial 756 finished with value: 73.03307731975286 and parameters: {'x': -0.20352141011898917, 'y': 0.8874978730272001}. Best is trial 357 with value: 0.006082446779892028.\n",
      "[I 2025-08-24 05:45:56,526] Trial 757 finished with value: 1.9909534153046164 and parameters: {'x': 0.8837284169826924, 'y': 0.6403546387018233}. Best is trial 357 with value: 0.006082446779892028.\n",
      "[I 2025-08-24 05:45:56,533] Trial 758 finished with value: 63.3719222285938 and parameters: {'x': 0.8197884244078463, 'y': 1.4679138904399438}. Best is trial 357 with value: 0.006082446779892028.\n",
      "[I 2025-08-24 05:45:56,541] Trial 759 finished with value: 1.1294057142441762 and parameters: {'x': 0.9417956348542652, 'y': 0.7808650241199092}. Best is trial 357 with value: 0.006082446779892028.\n",
      "[I 2025-08-24 05:45:56,549] Trial 760 finished with value: 8.06751621088674 and parameters: {'x': 0.660689897274082, 'y': 0.7185108720101729}. Best is trial 357 with value: 0.006082446779892028.\n",
      "[I 2025-08-24 05:45:56,556] Trial 761 finished with value: 23.36712446551267 and parameters: {'x': 1.0349477385555805, 'y': 0.5877339182329442}. Best is trial 357 with value: 0.006082446779892028.\n",
      "[I 2025-08-24 05:45:56,564] Trial 762 finished with value: 9.384040774339201 and parameters: {'x': 0.7796707230253014, 'y': 0.9134268720308899}. Best is trial 357 with value: 0.006082446779892028.\n",
      "[I 2025-08-24 05:45:56,572] Trial 763 finished with value: 10.255375974700227 and parameters: {'x': 0.8820073900659064, 'y': 0.45791432258226833}. Best is trial 357 with value: 0.006082446779892028.\n",
      "[I 2025-08-24 05:45:56,579] Trial 764 finished with value: 8.012144344234178 and parameters: {'x': 0.9822618172042102, 'y': 0.6817865207664878}. Best is trial 357 with value: 0.006082446779892028.\n",
      "[I 2025-08-24 05:45:56,587] Trial 765 finished with value: 9.846123860213417 and parameters: {'x': 0.721169848388963, 'y': 0.8326299888305777}. Best is trial 357 with value: 0.006082446779892028.\n",
      "[I 2025-08-24 05:45:56,595] Trial 766 finished with value: 0.6237479507791458 and parameters: {'x': 0.8277447637528029, 'y': 0.7622377252005816}. Best is trial 357 with value: 0.006082446779892028.\n",
      "[I 2025-08-24 05:45:56,602] Trial 767 finished with value: 1.978907774670602 and parameters: {'x': 0.9199362735512845, 'y': 0.9867283800928397}. Best is trial 357 with value: 0.006082446779892028.\n",
      "[I 2025-08-24 05:45:56,610] Trial 768 finished with value: 42.09499652854475 and parameters: {'x': 1.091899947428383, 'y': 0.5435040141077842}. Best is trial 357 with value: 0.006082446779892028.\n",
      "[I 2025-08-24 05:45:56,618] Trial 769 finished with value: 9.662808280986976 and parameters: {'x': 0.5768182602485799, 'y': 0.6406758850249552}. Best is trial 357 with value: 0.006082446779892028.\n",
      "[I 2025-08-24 05:45:56,625] Trial 770 finished with value: 1.7050284236508595 and parameters: {'x': 0.8459426523003486, 'y': 0.8452837216755998}. Best is trial 357 with value: 0.006082446779892028.\n",
      "[I 2025-08-24 05:45:56,633] Trial 771 finished with value: 43.7592556932546 and parameters: {'x': 1.1816287840938593, 'y': 0.7349881870211115}. Best is trial 357 with value: 0.006082446779892028.\n",
      "[I 2025-08-24 05:45:56,641] Trial 772 finished with value: 19.603002892584733 and parameters: {'x': 0.709232213226075, 'y': 0.9448073103880834}. Best is trial 357 with value: 0.006082446779892028.\n",
      "[I 2025-08-24 05:45:56,648] Trial 773 finished with value: 153.7199944939902 and parameters: {'x': 1.3769054055868042, 'y': 0.6566028391469271}. Best is trial 357 with value: 0.006082446779892028.\n",
      "[I 2025-08-24 05:45:56,656] Trial 774 finished with value: 2.5138321656487084 and parameters: {'x': 0.9759980993217244, 'y': 0.7940397672095829}. Best is trial 357 with value: 0.006082446779892028.\n",
      "[I 2025-08-24 05:45:56,664] Trial 775 finished with value: 0.30042319649027693 and parameters: {'x': 0.7897530116387976, 'y': 0.573091700069988}. Best is trial 357 with value: 0.006082446779892028.\n",
      "[I 2025-08-24 05:45:56,672] Trial 776 finished with value: 6.814796193972958 and parameters: {'x': 0.8981980028318597, 'y': 1.0676127248692795}. Best is trial 357 with value: 0.006082446779892028.\n",
      "[I 2025-08-24 05:45:56,679] Trial 777 finished with value: 3.7335042499982984 and parameters: {'x': 1.0368452252138725, 'y': 0.8818603744619384}. Best is trial 357 with value: 0.006082446779892028.\n",
      "[I 2025-08-24 05:45:56,687] Trial 778 finished with value: 8.161711949189439 and parameters: {'x': 0.6590981262012805, 'y': 0.718056208284318}. Best is trial 357 with value: 0.006082446779892028.\n",
      "[I 2025-08-24 05:45:56,695] Trial 779 finished with value: 0.9885482849372004 and parameters: {'x': 0.7644912337456891, 'y': 0.48785057812193267}. Best is trial 357 with value: 0.006082446779892028.\n",
      "[I 2025-08-24 05:45:56,702] Trial 780 finished with value: 0.0908702902420325 and parameters: {'x': 0.917431184204831, 'y': 0.8126881373648774}. Best is trial 357 with value: 0.006082446779892028.\n",
      "[I 2025-08-24 05:45:56,710] Trial 781 finished with value: 0.16339436249516548 and parameters: {'x': 0.8388871163221249, 'y': 0.66665909722437}. Best is trial 357 with value: 0.006082446779892028.\n",
      "[I 2025-08-24 05:45:56,718] Trial 782 finished with value: 1.2297847137998306 and parameters: {'x': 1.0051030368293674, 'y': 0.8993376299829741}. Best is trial 357 with value: 0.006082446779892028.\n",
      "[I 2025-08-24 05:45:56,726] Trial 783 finished with value: 2.7072326081788853 and parameters: {'x': 0.8727884430743679, 'y': 0.597715470247296}. Best is trial 357 with value: 0.006082446779892028.\n",
      "[I 2025-08-24 05:45:56,734] Trial 784 finished with value: 6.898705138994126 and parameters: {'x': -0.7433648035511267, 'y': 0.7490443884438284}. Best is trial 357 with value: 0.006082446779892028.\n",
      "[I 2025-08-24 05:45:56,741] Trial 785 finished with value: 19.493845422428752 and parameters: {'x': 0.7499611609510545, 'y': 1.0032515205193966}. Best is trial 357 with value: 0.006082446779892028.\n",
      "[I 2025-08-24 05:45:56,749] Trial 786 finished with value: 7.243924213725322 and parameters: {'x': 0.9532780954157767, 'y': 1.1778439632273758}. Best is trial 357 with value: 0.006082446779892028.\n",
      "[I 2025-08-24 05:45:56,757] Trial 787 finished with value: 17.783334138366175 and parameters: {'x': 1.1006544115072843, 'y': 0.7898573679382362}. Best is trial 357 with value: 0.006082446779892028.\n",
      "[I 2025-08-24 05:45:56,765] Trial 788 finished with value: 0.04180479361507532 and parameters: {'x': 0.8121243641371979, 'y': 0.6676129147477469}. Best is trial 357 with value: 0.006082446779892028.\n",
      "[I 2025-08-24 05:45:56,773] Trial 789 finished with value: 1.6635865210705674 and parameters: {'x': 0.9166269641935523, 'y': 0.711494640000454}. Best is trial 357 with value: 0.006082446779892028.\n",
      "[I 2025-08-24 05:45:56,781] Trial 790 finished with value: 2.68211319569235 and parameters: {'x': 0.8332609951363543, 'y': 0.8572444586867739}. Best is trial 357 with value: 0.006082446779892028.\n",
      "[I 2025-08-24 05:45:56,788] Trial 791 finished with value: 16.27839654228437 and parameters: {'x': 1.0366985855168365, 'y': 0.6712956983725763}. Best is trial 357 with value: 0.006082446779892028.\n",
      "[I 2025-08-24 05:45:56,796] Trial 792 finished with value: 0.008875098062862354 and parameters: {'x': 0.9653126566314768, 'y': 0.9405874555086866}. Best is trial 357 with value: 0.006082446779892028.\n",
      "[I 2025-08-24 05:45:56,804] Trial 793 finished with value: 18.58759478630604 and parameters: {'x': 1.2224146825137165, 'y': 1.0637384092853805}. Best is trial 357 with value: 0.006082446779892028.\n",
      "[I 2025-08-24 05:45:56,812] Trial 794 finished with value: 5.3934239400462 and parameters: {'x': 1.0929882720982513, 'y': 0.9625721375371196}. Best is trial 357 with value: 0.006082446779892028.\n",
      "[I 2025-08-24 05:45:56,820] Trial 795 finished with value: 1.618545343704959 and parameters: {'x': 0.9988071535395444, 'y': 1.1248377375242278}. Best is trial 357 with value: 0.006082446779892028.\n",
      "[I 2025-08-24 05:45:56,828] Trial 796 finished with value: 8.036706076234342 and parameters: {'x': 1.1477560462068992, 'y': 1.0342384095666395}. Best is trial 357 with value: 0.006082446779892028.\n",
      "[I 2025-08-24 05:45:56,836] Trial 797 finished with value: 82.65781390992797 and parameters: {'x': -0.04588690973219789, 'y': 0.905233143675559}. Best is trial 357 with value: 0.006082446779892028.\n",
      "[I 2025-08-24 05:45:56,843] Trial 798 finished with value: 45.60196837697063 and parameters: {'x': 1.2740059347078772, 'y': 0.9483549574947339}. Best is trial 357 with value: 0.006082446779892028.\n",
      "[I 2025-08-24 05:45:56,851] Trial 799 finished with value: 0.24442751327697543 and parameters: {'x': 0.9617218528499512, 'y': 0.8756177164688282}. Best is trial 357 with value: 0.006082446779892028.\n",
      "[I 2025-08-24 05:45:56,859] Trial 800 finished with value: 0.8839046314859832 and parameters: {'x': 1.0401604426976292, 'y': 0.9880033590136277}. Best is trial 357 with value: 0.006082446779892028.\n",
      "[I 2025-08-24 05:45:56,867] Trial 801 finished with value: 0.15041084792087592 and parameters: {'x': 0.9461078409682014, 'y': 0.8567134739816613}. Best is trial 357 with value: 0.006082446779892028.\n",
      "[I 2025-08-24 05:45:56,875] Trial 802 finished with value: 0.014676914201697259 and parameters: {'x': 0.8917037356177615, 'y': 0.8005658682404129}. Best is trial 357 with value: 0.006082446779892028.\n",
      "[I 2025-08-24 05:45:56,883] Trial 803 finished with value: 5.968920014711955 and parameters: {'x': 1.0954194576733074, 'y': 0.9558164620072318}. Best is trial 357 with value: 0.006082446779892028.\n",
      "[I 2025-08-24 05:45:56,891] Trial 804 finished with value: 1.1584944529417178 and parameters: {'x': 0.9760502787802791, 'y': 1.0602808780855024}. Best is trial 357 with value: 0.006082446779892028.\n",
      "[I 2025-08-24 05:45:56,899] Trial 805 finished with value: 6.778073414019324 and parameters: {'x': 1.0362100038267534, 'y': 0.8134090206558066}. Best is trial 357 with value: 0.006082446779892028.\n",
      "[I 2025-08-24 05:45:56,907] Trial 806 finished with value: 1.086306632752601 and parameters: {'x': 0.9058578720812741, 'y': 0.9243784792335568}. Best is trial 357 with value: 0.006082446779892028.\n",
      "[I 2025-08-24 05:45:56,915] Trial 807 finished with value: 11.693586369116135 and parameters: {'x': 0.8869303828273848, 'y': 1.128417381567199}. Best is trial 357 with value: 0.006082446779892028.\n",
      "[I 2025-08-24 05:45:56,923] Trial 808 finished with value: 2.991701043869117 and parameters: {'x': 0.9951039599970659, 'y': 0.8172672395338957}. Best is trial 357 with value: 0.006082446779892028.\n",
      "[I 2025-08-24 05:45:56,931] Trial 809 finished with value: 4.469317696465522 and parameters: {'x': 0.8976073990654768, 'y': 1.0168585430397574}. Best is trial 357 with value: 0.006082446779892028.\n",
      "[I 2025-08-24 05:45:56,939] Trial 810 finished with value: 8.185093245656082 and parameters: {'x': 1.0892096913124036, 'y': 0.90042085145878}. Best is trial 357 with value: 0.006082446779892028.\n",
      "[I 2025-08-24 05:45:56,947] Trial 811 finished with value: 1.3303556472167755 and parameters: {'x': 0.9509355687143669, 'y': 0.7890418154577663}. Best is trial 357 with value: 0.006082446779892028.\n",
      "[I 2025-08-24 05:45:56,955] Trial 812 finished with value: 0.9661450075148632 and parameters: {'x': 0.8685387379003432, 'y': 0.8517691354795803}. Best is trial 357 with value: 0.006082446779892028.\n",
      "[I 2025-08-24 05:45:56,963] Trial 813 finished with value: 7.638252648513063 and parameters: {'x': 0.8238819553330851, 'y': 0.9545936421692794}. Best is trial 357 with value: 0.006082446779892028.\n",
      "[I 2025-08-24 05:45:56,971] Trial 814 finished with value: 420.76976824528356 and parameters: {'x': 1.6797491780961316, 'y': 0.7714165517558066}. Best is trial 357 with value: 0.006082446779892028.\n",
      "[I 2025-08-24 05:45:56,979] Trial 815 finished with value: 3.2070898065041957 and parameters: {'x': 1.0304234280714828, 'y': 0.8827147905831072}. Best is trial 357 with value: 0.006082446779892028.\n",
      "[I 2025-08-24 05:45:56,987] Trial 816 finished with value: 2.6823016106800672 and parameters: {'x': 0.9608384112381458, 'y': 0.7594799428111471}. Best is trial 357 with value: 0.006082446779892028.\n",
      "[I 2025-08-24 05:45:56,994] Trial 817 finished with value: 6.065436001799258 and parameters: {'x': 1.1203227781096492, 'y': 1.0091361675199786}. Best is trial 357 with value: 0.006082446779892028.\n",
      "[I 2025-08-24 05:45:57,003] Trial 818 finished with value: 1.4570791877919909 and parameters: {'x': 0.8387801357792195, 'y': 0.8231801790716196}. Best is trial 357 with value: 0.006082446779892028.\n",
      "[I 2025-08-24 05:45:57,011] Trial 819 finished with value: 0.20027400222420877 and parameters: {'x': 0.9213248383798988, 'y': 0.8928944485850407}. Best is trial 357 with value: 0.006082446779892028.\n",
      "[I 2025-08-24 05:45:57,019] Trial 820 finished with value: 44.84148612538675 and parameters: {'x': 1.1976844834164644, 'y': 0.7651021203315083}. Best is trial 357 with value: 0.006082446779892028.\n",
      "[I 2025-08-24 05:45:57,027] Trial 821 finished with value: 0.6929847726987151 and parameters: {'x': 0.7960600030323012, 'y': 0.7144204653762771}. Best is trial 357 with value: 0.006082446779892028.\n",
      "[I 2025-08-24 05:45:57,035] Trial 822 finished with value: 300.5976481210532 and parameters: {'x': 1.0163847200070149, 'y': -0.7007365374244794}. Best is trial 357 with value: 0.006082446779892028.\n",
      "[I 2025-08-24 05:45:57,043] Trial 823 finished with value: 14.923732006770184 and parameters: {'x': 0.9005683433456272, 'y': 1.1972078222421634}. Best is trial 357 with value: 0.006082446779892028.\n",
      "[I 2025-08-24 05:45:57,051] Trial 824 finished with value: 9.372973492413202 and parameters: {'x': 0.8072581298865763, 'y': 0.95721149602711}. Best is trial 357 with value: 0.006082446779892028.\n",
      "[I 2025-08-24 05:45:57,059] Trial 825 finished with value: 36.18707479733807 and parameters: {'x': 0.710834061678037, 'y': 1.106146593525108}. Best is trial 357 with value: 0.006082446779892028.\n",
      "[I 2025-08-24 05:45:57,067] Trial 826 finished with value: 0.5703380218259119 and parameters: {'x': 0.9572782324779197, 'y': 0.8409818217764877}. Best is trial 357 with value: 0.006082446779892028.\n",
      "[I 2025-08-24 05:45:57,075] Trial 827 finished with value: 0.13397816168115112 and parameters: {'x': 0.8527401645390642, 'y': 0.6936556848847618}. Best is trial 357 with value: 0.006082446779892028.\n",
      "[I 2025-08-24 05:45:57,083] Trial 828 finished with value: 7.193735716656607 and parameters: {'x': 1.0339879871217512, 'y': 0.8009412894449317}. Best is trial 357 with value: 0.006082446779892028.\n",
      "[I 2025-08-24 05:45:57,091] Trial 829 finished with value: 16.014720127439247 and parameters: {'x': 1.150381786111395, 'y': 0.9234769479194357}. Best is trial 357 with value: 0.006082446779892028.\n",
      "[I 2025-08-24 05:45:57,099] Trial 830 finished with value: 421.05861928972524 and parameters: {'x': 0.7800668002809962, 'y': -1.44334921431435}. Best is trial 357 with value: 0.006082446779892028.\n",
      "[I 2025-08-24 05:45:57,107] Trial 831 finished with value: 2.840082959480743 and parameters: {'x': 0.9115351608530778, 'y': 0.6626032440952769}. Best is trial 357 with value: 0.006082446779892028.\n",
      "[I 2025-08-24 05:45:57,116] Trial 832 finished with value: 5.2861490912798486 and parameters: {'x': 0.9871504013134326, 'y': 0.7445532361917246}. Best is trial 357 with value: 0.006082446779892028.\n",
      "[I 2025-08-24 05:45:57,124] Trial 833 finished with value: 33.930466723852184 and parameters: {'x': 0.6808630364779932, 'y': 1.0451982215704163}. Best is trial 357 with value: 0.006082446779892028.\n",
      "[I 2025-08-24 05:45:57,132] Trial 834 finished with value: 0.9212255448925446 and parameters: {'x': 0.8597834456503257, 'y': 0.8341783429098515}. Best is trial 357 with value: 0.006082446779892028.\n",
      "[I 2025-08-24 05:45:57,140] Trial 835 finished with value: 0.4125616159654536 and parameters: {'x': 0.7571612861530193, 'y': 0.6327567293762305}. Best is trial 357 with value: 0.006082446779892028.\n",
      "[I 2025-08-24 05:45:57,148] Trial 836 finished with value: 4.7279794550205425 and parameters: {'x': 1.0638554640665139, 'y': 0.9144430565997961}. Best is trial 357 with value: 0.006082446779892028.\n",
      "[I 2025-08-24 05:45:57,156] Trial 837 finished with value: 0.48596120721699376 and parameters: {'x': 0.9082419025397681, 'y': 0.7557989644667504}. Best is trial 357 with value: 0.006082446779892028.\n",
      "[I 2025-08-24 05:45:57,164] Trial 838 finished with value: 10.823544917040406 and parameters: {'x': 0.8170601054546729, 'y': 0.99606975597947}. Best is trial 357 with value: 0.006082446779892028.\n",
      "[I 2025-08-24 05:45:57,172] Trial 839 finished with value: 0.5290642186315527 and parameters: {'x': 0.9555454538536345, 'y': 0.8404662871151943}. Best is trial 357 with value: 0.006082446779892028.\n",
      "[I 2025-08-24 05:45:57,181] Trial 840 finished with value: 11.848529489838683 and parameters: {'x': 0.6171055623669468, 'y': 0.7228999869175103}. Best is trial 357 with value: 0.006082446779892028.\n",
      "[I 2025-08-24 05:45:57,189] Trial 841 finished with value: 52.73387246062582 and parameters: {'x': 0.7244781176918063, 'y': -0.20078950422972097}. Best is trial 357 with value: 0.006082446779892028.\n",
      "[I 2025-08-24 05:45:57,197] Trial 842 finished with value: 0.42971808082290575 and parameters: {'x': 0.8474030313409366, 'y': 0.6543398586581008}. Best is trial 357 with value: 0.006082446779892028.\n",
      "[I 2025-08-24 05:45:57,208] Trial 843 finished with value: 1.0770561982325102 and parameters: {'x': 0.9971838865140996, 'y': 0.8905947675217394}. Best is trial 357 with value: 0.006082446779892028.\n",
      "[I 2025-08-24 05:45:57,216] Trial 844 finished with value: 17.939780609438305 and parameters: {'x': 1.1003705177681804, 'y': 0.7873804364204255}. Best is trial 357 with value: 0.006082446779892028.\n",
      "[I 2025-08-24 05:45:57,224] Trial 845 finished with value: 1.714125552939449 and parameters: {'x': 0.9039144187290409, 'y': 0.6864897207544427}. Best is trial 357 with value: 0.006082446779892028.\n",
      "[I 2025-08-24 05:45:57,232] Trial 846 finished with value: 0.04983257205810497 and parameters: {'x': 0.7910781760311089, 'y': 0.6179406844535815}. Best is trial 357 with value: 0.006082446779892028.\n",
      "[I 2025-08-24 05:45:57,240] Trial 847 finished with value: 0.17115747094461284 and parameters: {'x': 0.9627525694386043, 'y': 0.9680956772977687}. Best is trial 357 with value: 0.006082446779892028.\n",
      "[I 2025-08-24 05:45:57,249] Trial 848 finished with value: 0.06949732689242054 and parameters: {'x': 0.8766687893524957, 'y': 0.7918476811065532}. Best is trial 357 with value: 0.006082446779892028.\n",
      "[I 2025-08-24 05:45:57,257] Trial 849 finished with value: 31.978673985815263 and parameters: {'x': 0.7255009126216698, 'y': 1.0911818517039966}. Best is trial 357 with value: 0.006082446779892028.\n",
      "[I 2025-08-24 05:45:57,265] Trial 850 finished with value: 5.345387448118273 and parameters: {'x': 1.0486060208447898, 'y': 0.8684247458778926}. Best is trial 357 with value: 0.006082446779892028.\n",
      "[I 2025-08-24 05:45:57,273] Trial 851 finished with value: 0.2682050944831997 and parameters: {'x': 0.8088131939947076, 'y': 0.7023090954417655}. Best is trial 357 with value: 0.006082446779892028.\n",
      "[I 2025-08-24 05:45:57,281] Trial 852 finished with value: 11.292675126851039 and parameters: {'x': 0.6495041266240568, 'y': 0.7560685331961412}. Best is trial 357 with value: 0.006082446779892028.\n",
      "[I 2025-08-24 05:45:57,289] Trial 853 finished with value: 1.062941721650041 and parameters: {'x': 0.910396438424756, 'y': 0.9315306291074661}. Best is trial 357 with value: 0.006082446779892028.\n",
      "[I 2025-08-24 05:45:57,298] Trial 854 finished with value: 19.84057978187111 and parameters: {'x': 1.0005332366823696, 'y': 0.5556391036753935}. Best is trial 357 with value: 0.006082446779892028.\n",
      "[I 2025-08-24 05:45:57,306] Trial 855 finished with value: 1.9102937055965037 and parameters: {'x': 0.8376615602431998, 'y': 0.838933581024416}. Best is trial 357 with value: 0.006082446779892028.\n",
      "[I 2025-08-24 05:45:57,314] Trial 856 finished with value: 57.39375034299397 and parameters: {'x': 1.1801805051010419, 'y': 0.6354536899754598}. Best is trial 357 with value: 0.006082446779892028.\n",
      "[I 2025-08-24 05:45:57,323] Trial 857 finished with value: 3.4763159099966425 and parameters: {'x': 0.7528229451103016, 'y': 0.7515455093186827}. Best is trial 357 with value: 0.006082446779892028.\n",
      "[I 2025-08-24 05:45:57,331] Trial 858 finished with value: 3.2036709918057036 and parameters: {'x': 0.9186815331759824, 'y': 1.0227789556440294}. Best is trial 357 with value: 0.006082446779892028.\n",
      "[I 2025-08-24 05:45:57,339] Trial 859 finished with value: 30.396328186335822 and parameters: {'x': -0.5472990738478307, 'y': 0.8287072671478901}. Best is trial 357 with value: 0.006082446779892028.\n",
      "[I 2025-08-24 05:45:57,347] Trial 860 finished with value: 779.0492771216055 and parameters: {'x': 1.8671732068973426, 'y': 0.6965377851459499}. Best is trial 357 with value: 0.006082446779892028.\n",
      "[I 2025-08-24 05:45:57,356] Trial 861 finished with value: 5.738135774158037 and parameters: {'x': 1.0681936819313078, 'y': 0.9015907668624247}. Best is trial 357 with value: 0.006082446779892028.\n",
      "[I 2025-08-24 05:45:57,364] Trial 862 finished with value: 1.5880106995599932 and parameters: {'x': 0.8488048156916631, 'y': 0.59536363143946}. Best is trial 357 with value: 0.006082446779892028.\n",
      "[I 2025-08-24 05:45:57,372] Trial 863 finished with value: 17.255993758679065 and parameters: {'x': 0.9663620943157523, 'y': 0.5184659736974445}. Best is trial 357 with value: 0.006082446779892028.\n",
      "[I 2025-08-24 05:45:57,380] Trial 864 finished with value: 22.4753062309503 and parameters: {'x': 0.717751195291775, 'y': 0.9884071173164382}. Best is trial 357 with value: 0.006082446779892028.\n",
      "[I 2025-08-24 05:45:57,388] Trial 865 finished with value: 0.9504615502789084 and parameters: {'x': 0.804019141499343, 'y': 0.7419482486494101}. Best is trial 357 with value: 0.006082446779892028.\n",
      "[I 2025-08-24 05:45:57,397] Trial 866 finished with value: 0.05894918532979206 and parameters: {'x': 0.8933869346350112, 'y': 0.8199537061284121}. Best is trial 357 with value: 0.006082446779892028.\n",
      "[I 2025-08-24 05:45:57,405] Trial 867 finished with value: 8.369170046915967 and parameters: {'x': 0.9762653684537556, 'y': 0.6638086273160367}. Best is trial 357 with value: 0.006082446779892028.\n",
      "[I 2025-08-24 05:45:57,413] Trial 868 finished with value: 35.18297539776688 and parameters: {'x': 0.5708815633305724, 'y': 0.9175038726428585}. Best is trial 357 with value: 0.006082446779892028.\n",
      "[I 2025-08-24 05:45:57,421] Trial 869 finished with value: 0.3940694435706295 and parameters: {'x': 1.0747836969783677, 'y': 1.217487905750961}. Best is trial 357 with value: 0.006082446779892028.\n",
      "[I 2025-08-24 05:45:57,430] Trial 870 finished with value: 3.3255086267791625 and parameters: {'x': 0.7740740228406197, 'y': 0.7801454512854938}. Best is trial 357 with value: 0.006082446779892028.\n",
      "[I 2025-08-24 05:45:57,438] Trial 871 finished with value: 43.85103066467596 and parameters: {'x': 0.6442417173333888, 'y': 1.076292176411438}. Best is trial 357 with value: 0.006082446779892028.\n",
      "[I 2025-08-24 05:45:57,446] Trial 872 finished with value: 1.3103919580389611 and parameters: {'x': 0.8703086466545655, 'y': 0.6437018288227327}. Best is trial 357 with value: 0.006082446779892028.\n",
      "[I 2025-08-24 05:45:57,455] Trial 873 finished with value: 69.59326529672889 and parameters: {'x': 1.297234290727287, 'y': 0.8491207148886968}. Best is trial 357 with value: 0.006082446779892028.\n",
      "[I 2025-08-24 05:45:57,463] Trial 874 finished with value: 3.5951564605193638 and parameters: {'x': 0.9518738521238429, 'y': 0.716515938403362}. Best is trial 357 with value: 0.006082446779892028.\n",
      "[I 2025-08-24 05:45:57,471] Trial 875 finished with value: 12.731948089163447 and parameters: {'x': 1.1444707724656658, 'y': 0.9532873852461825}. Best is trial 357 with value: 0.006082446779892028.\n",
      "[I 2025-08-24 05:45:57,480] Trial 876 finished with value: 23.44158873634275 and parameters: {'x': 1.0233270793238947, 'y': 0.5630387860824881}. Best is trial 357 with value: 0.006082446779892028.\n",
      "[I 2025-08-24 05:45:57,488] Trial 877 finished with value: 7.22033913353422 and parameters: {'x': 0.7108273619187999, 'y': 0.7724219087987243}. Best is trial 357 with value: 0.006082446779892028.\n",
      "[I 2025-08-24 05:45:57,496] Trial 878 finished with value: 3.5054081068063767 and parameters: {'x': 0.8318148900710826, 'y': 0.8783864346181308}. Best is trial 357 with value: 0.006082446779892028.\n",
      "[I 2025-08-24 05:45:57,505] Trial 879 finished with value: 3.2227378047750976 and parameters: {'x': 0.8897133732072143, 'y': 0.6124091211811613}. Best is trial 357 with value: 0.006082446779892028.\n",
      "[I 2025-08-24 05:45:57,513] Trial 880 finished with value: 0.8555395498795819 and parameters: {'x': 0.7846789902422507, 'y': 0.7056753512375606}. Best is trial 357 with value: 0.006082446779892028.\n",
      "[I 2025-08-24 05:45:57,521] Trial 881 finished with value: 388.2594551751276 and parameters: {'x': 0.9478193056882752, 'y': -1.0720616968765395}. Best is trial 357 with value: 0.006082446779892028.\n",
      "[I 2025-08-24 05:45:57,530] Trial 882 finished with value: 68.91085470350488 and parameters: {'x': 0.6854891185615355, 'y': 1.2994249430061053}. Best is trial 357 with value: 0.006082446779892028.\n",
      "[I 2025-08-24 05:45:57,538] Trial 883 finished with value: 0.22457209801719413 and parameters: {'x': 1.0382437421298965, 'y': 1.0307155982214633}. Best is trial 357 with value: 0.006082446779892028.\n",
      "[I 2025-08-24 05:45:57,546] Trial 884 finished with value: 7.311489315282238 and parameters: {'x': 0.8709313569752539, 'y': 0.4884319878089582}. Best is trial 357 with value: 0.006082446779892028.\n",
      "[I 2025-08-24 05:45:57,555] Trial 885 finished with value: 1.8804066659525152 and parameters: {'x': 0.8148652665705343, 'y': 0.7998778353501481}. Best is trial 357 with value: 0.006082446779892028.\n",
      "[I 2025-08-24 05:45:57,563] Trial 886 finished with value: 0.08875517628439772 and parameters: {'x': 0.9604802700629952, 'y': 0.8929938261508295}. Best is trial 357 with value: 0.006082446779892028.\n",
      "[I 2025-08-24 05:45:57,572] Trial 887 finished with value: 78.64302376631399 and parameters: {'x': -1.4089956035410214, 'y': 1.131806461968619}. Best is trial 357 with value: 0.006082446779892028.\n",
      "[I 2025-08-24 05:45:57,580] Trial 888 finished with value: 1.277972089935214 and parameters: {'x': 0.7514615389864385, 'y': 0.6749759354676852}. Best is trial 357 with value: 0.006082446779892028.\n",
      "[I 2025-08-24 05:45:57,589] Trial 889 finished with value: 16.280078706375157 and parameters: {'x': 0.9055410096704808, 'y': 0.4166293077002514}. Best is trial 357 with value: 0.006082446779892028.\n",
      "[I 2025-08-24 05:45:57,597] Trial 890 finished with value: 6.616153517491141 and parameters: {'x': 1.0999903595241003, 'y': 0.9529543671969138}. Best is trial 357 with value: 0.006082446779892028.\n",
      "[I 2025-08-24 05:45:57,606] Trial 891 finished with value: 0.8738288775734442 and parameters: {'x': 0.8167083415096749, 'y': 0.7586767417833241}. Best is trial 357 with value: 0.006082446779892028.\n",
      "[I 2025-08-24 05:45:57,614] Trial 892 finished with value: 16.0064570018577 and parameters: {'x': 1.0004667560229408, 'y': 0.6008530282480572}. Best is trial 357 with value: 0.006082446779892028.\n",
      "[I 2025-08-24 05:45:57,623] Trial 893 finished with value: 17.365643956505046 and parameters: {'x': 0.6427875682156837, 'y': 0.8283630835121386}. Best is trial 357 with value: 0.006082446779892028.\n",
      "[I 2025-08-24 05:45:57,631] Trial 894 finished with value: 1.7368286578988026 and parameters: {'x': 0.912096339936445, 'y': 0.7004244252553141}. Best is trial 357 with value: 0.006082446779892028.\n",
      "[I 2025-08-24 05:45:57,640] Trial 895 finished with value: 0.1597570170105823 and parameters: {'x': 0.7510971653399834, 'y': 0.532873257419117}. Best is trial 357 with value: 0.006082446779892028.\n",
      "[I 2025-08-24 05:45:57,648] Trial 896 finished with value: 33.383000738361524 and parameters: {'x': 1.196064385038476, 'y': 0.8531225307378022}. Best is trial 357 with value: 0.006082446779892028.\n",
      "[I 2025-08-24 05:45:57,657] Trial 897 finished with value: 8.744636551478711 and parameters: {'x': 0.8460413235794557, 'y': 1.0110981843668783}. Best is trial 357 with value: 0.006082446779892028.\n",
      "[I 2025-08-24 05:45:57,665] Trial 898 finished with value: 40.64834285029555 and parameters: {'x': 0.11275452811876227, 'y': 0.6440703632764895}. Best is trial 357 with value: 0.006082446779892028.\n",
      "[I 2025-08-24 05:45:57,674] Trial 899 finished with value: 10.171785603301123 and parameters: {'x': 1.0292769188613904, 'y': 0.7404920445392384}. Best is trial 357 with value: 0.006082446779892028.\n",
      "[I 2025-08-24 05:45:57,682] Trial 900 finished with value: 3.8076015261717355 and parameters: {'x': -0.9472615642561049, 'y': 0.9098639004600909}. Best is trial 357 with value: 0.006082446779892028.\n",
      "[I 2025-08-24 05:45:57,691] Trial 901 finished with value: 0.5857025940294788 and parameters: {'x': 0.9431074728914638, 'y': 0.8131322561077929}. Best is trial 357 with value: 0.006082446779892028.\n",
      "[I 2025-08-24 05:45:57,699] Trial 902 finished with value: 605.6332169771549 and parameters: {'x': -1.7540255945557446, 'y': 0.6311026479376965}. Best is trial 357 with value: 0.006082446779892028.\n",
      "[I 2025-08-24 05:45:57,708] Trial 903 finished with value: 6.259678331179609 and parameters: {'x': 0.7011939017251008, 'y': 0.7400756504181237}. Best is trial 357 with value: 0.006082446779892028.\n",
      "[I 2025-08-24 05:45:57,717] Trial 904 finished with value: 11.643411510989662 and parameters: {'x': -1.1155681410127856, 'y': 0.9767651222561321}. Best is trial 357 with value: 0.006082446779892028.\n",
      "[I 2025-08-24 05:45:57,725] Trial 905 finished with value: 0.7835729399669754 and parameters: {'x': 0.8553514544644942, 'y': 0.8189559302032594}. Best is trial 357 with value: 0.006082446779892028.\n",
      "[I 2025-08-24 05:45:57,734] Trial 906 finished with value: 549.5981025630873 and parameters: {'x': 0.7818431683326427, 'y': -1.7329706286073014}. Best is trial 357 with value: 0.006082446779892028.\n",
      "[I 2025-08-24 05:45:57,743] Trial 907 finished with value: 41.97699311444345 and parameters: {'x': 1.1018141783468922, 'y': 0.56617794331469}. Best is trial 357 with value: 0.006082446779892028.\n",
      "[I 2025-08-24 05:45:57,751] Trial 908 finished with value: 12.99860973785385 and parameters: {'x': 0.5767921551589885, 'y': 0.6907325515643828}. Best is trial 357 with value: 0.006082446779892028.\n",
      "[I 2025-08-24 05:45:57,760] Trial 909 finished with value: 0.0064545427436940046 and parameters: {'x': 0.9504487598543077, 'y': 0.8970289085626432}. Best is trial 357 with value: 0.006082446779892028.\n",
      "[I 2025-08-24 05:45:57,769] Trial 910 finished with value: 1.828994849891102 and parameters: {'x': 1.079289447321985, 'y': 1.0298580063784402}. Best is trial 357 with value: 0.006082446779892028.\n",
      "[I 2025-08-24 05:45:57,777] Trial 911 finished with value: 0.5031874776430144 and parameters: {'x': 1.0051673304814377, 'y': 1.0812951889184124}. Best is trial 357 with value: 0.006082446779892028.\n",
      "[I 2025-08-24 05:45:57,786] Trial 912 finished with value: 0.10025993615758819 and parameters: {'x': 0.9849164510041083, 'y': 0.9384325127921677}. Best is trial 357 with value: 0.006082446779892028.\n",
      "[I 2025-08-24 05:45:57,794] Trial 913 finished with value: 2.623323513206992 and parameters: {'x': 1.1513585839476228, 'y': 1.164368593918852}. Best is trial 357 with value: 0.006082446779892028.\n",
      "[I 2025-08-24 05:45:57,803] Trial 914 finished with value: 0.5256397083355034 and parameters: {'x': 0.9139761604407487, 'y': 0.9073412826147578}. Best is trial 357 with value: 0.006082446779892028.\n",
      "[I 2025-08-24 05:45:57,812] Trial 915 finished with value: 0.41890958486118 and parameters: {'x': 1.031856633981978, 'y': 1.0000833345151858}. Best is trial 357 with value: 0.006082446779892028.\n",
      "[I 2025-08-24 05:45:57,820] Trial 916 finished with value: 0.0530638535721134 and parameters: {'x': 0.950924872553932, 'y': 0.881751339719444}. Best is trial 357 with value: 0.006082446779892028.\n",
      "[I 2025-08-24 05:45:57,829] Trial 917 finished with value: 1.816702651056661 and parameters: {'x': 0.902439009007732, 'y': 0.9488277276452665}. Best is trial 357 with value: 0.006082446779892028.\n",
      "[I 2025-08-24 05:45:57,838] Trial 918 finished with value: 10.311263804339758 and parameters: {'x': 1.0597118009018993, 'y': 0.8019330574958915}. Best is trial 357 with value: 0.006082446779892028.\n",
      "[I 2025-08-24 05:45:57,846] Trial 919 finished with value: 344.58296835638026 and parameters: {'x': 1.2242710010967892, 'y': -0.3573196439507092}. Best is trial 357 with value: 0.006082446779892028.\n",
      "[I 2025-08-24 05:45:57,855] Trial 920 finished with value: 0.960776954700213 and parameters: {'x': 0.9898031678052018, 'y': 0.8816963844707538}. Best is trial 357 with value: 0.006082446779892028.\n",
      "[I 2025-08-24 05:45:57,863] Trial 921 finished with value: 10.773687886279642 and parameters: {'x': 0.8773024369624455, 'y': 1.0976631206722067}. Best is trial 357 with value: 0.006082446779892028.\n",
      "[I 2025-08-24 05:45:57,872] Trial 922 finished with value: 1.2935379259073736 and parameters: {'x': 0.9402058682973692, 'y': 0.9975635947011395}. Best is trial 357 with value: 0.006082446779892028.\n",
      "[I 2025-08-24 05:45:57,881] Trial 923 finished with value: 18.290056281457556 and parameters: {'x': 1.133133014058962, 'y': 0.8565289452852769}. Best is trial 357 with value: 0.006082446779892028.\n",
      "[I 2025-08-24 05:45:57,889] Trial 924 finished with value: 2.6096354195035323 and parameters: {'x': 0.7907543121074077, 'y': 0.7854751421626607}. Best is trial 357 with value: 0.006082446779892028.\n",
      "[I 2025-08-24 05:45:57,898] Trial 925 finished with value: 1.7116791156420645 and parameters: {'x': 0.8734671374421521, 'y': 0.8931626788439692}. Best is trial 357 with value: 0.006082446779892028.\n",
      "[I 2025-08-24 05:45:57,907] Trial 926 finished with value: 0.8620791862549555 and parameters: {'x': 1.0180461538017131, 'y': 0.9435872908577917}. Best is trial 357 with value: 0.006082446779892028.\n",
      "[I 2025-08-24 05:45:57,915] Trial 927 finished with value: 1.6539531327879262 and parameters: {'x': 0.9442143911013449, 'y': 1.0200258776979558}. Best is trial 357 with value: 0.006082446779892028.\n",
      "[I 2025-08-24 05:45:57,924] Trial 928 finished with value: 3.6207506310361657 and parameters: {'x': 0.7866001705952065, 'y': 0.8078221158598589}. Best is trial 357 with value: 0.006082446779892028.\n",
      "[I 2025-08-24 05:45:57,933] Trial 929 finished with value: 0.03412648059966964 and parameters: {'x': 0.8508699140056974, 'y': 0.7348822240316126}. Best is trial 357 with value: 0.006082446779892028.\n",
      "[I 2025-08-24 05:45:57,941] Trial 930 finished with value: 7.536353869564892 and parameters: {'x': 1.062058265917612, 'y': 0.8535137086543774}. Best is trial 357 with value: 0.006082446779892028.\n",
      "[I 2025-08-24 05:45:57,950] Trial 931 finished with value: 0.020925705678000204 and parameters: {'x': 0.8748330705114061, 'y': 0.7580810425742589}. Best is trial 357 with value: 0.006082446779892028.\n",
      "[I 2025-08-24 05:45:57,959] Trial 932 finished with value: 0.028813458868524846 and parameters: {'x': 0.8486584894646013, 'y': 0.7279083677853094}. Best is trial 357 with value: 0.006082446779892028.\n",
      "[I 2025-08-24 05:45:57,968] Trial 933 finished with value: 0.019420285919940904 and parameters: {'x': 0.8701281630809348, 'y': 0.7520697124627356}. Best is trial 357 with value: 0.006082446779892028.\n",
      "[I 2025-08-24 05:45:57,976] Trial 934 finished with value: 217.68924632904339 and parameters: {'x': 1.5052434970065767, 'y': 0.7911937264645269}. Best is trial 357 with value: 0.006082446779892028.\n",
      "[I 2025-08-24 05:45:57,985] Trial 935 finished with value: 0.28526991727204803 and parameters: {'x': 0.9007706189634297, 'y': 0.7589069070019572}. Best is trial 357 with value: 0.006082446779892028.\n",
      "[I 2025-08-24 05:45:57,994] Trial 936 finished with value: 6.900562100154931 and parameters: {'x': 0.9968289809745798, 'y': 0.7309789987966592}. Best is trial 357 with value: 0.006082446779892028.\n",
      "[I 2025-08-24 05:45:58,002] Trial 937 finished with value: 3.77657570637119 and parameters: {'x': 0.8556659079588873, 'y': 0.9259615499536304}. Best is trial 357 with value: 0.006082446779892028.\n",
      "[I 2025-08-24 05:45:58,011] Trial 938 finished with value: 0.6574814527040186 and parameters: {'x': 0.9451192861091305, 'y': 0.8123511720275429}. Best is trial 357 with value: 0.006082446779892028.\n",
      "[I 2025-08-24 05:45:58,020] Trial 939 finished with value: 37.14619634676199 and parameters: {'x': -0.39817374366352604, 'y': 0.7517649403770937}. Best is trial 357 with value: 0.006082446779892028.\n",
      "[I 2025-08-24 05:45:58,029] Trial 940 finished with value: 10.766512246952214 and parameters: {'x': 0.7319097815190461, 'y': 0.8627185308969755}. Best is trial 357 with value: 0.006082446779892028.\n",
      "[I 2025-08-24 05:45:58,037] Trial 941 finished with value: 5.6374183649189185 and parameters: {'x': 0.8429572597442857, 'y': 0.9474894982538081}. Best is trial 357 with value: 0.006082446779892028.\n",
      "[I 2025-08-24 05:45:58,046] Trial 942 finished with value: 6.497307304389478 and parameters: {'x': 0.999409699148367, 'y': 0.7439215914832127}. Best is trial 357 with value: 0.006082446779892028.\n",
      "[I 2025-08-24 05:45:58,055] Trial 943 finished with value: 1.4648339425894707 and parameters: {'x': 1.0884200179347225, 'y': 1.0639512241634195}. Best is trial 357 with value: 0.006082446779892028.\n",
      "[I 2025-08-24 05:45:58,064] Trial 944 finished with value: 0.04229289864481307 and parameters: {'x': 0.9040430087594232, 'y': 0.8354830867091406}. Best is trial 357 with value: 0.006082446779892028.\n",
      "[I 2025-08-24 05:45:58,073] Trial 945 finished with value: 0.20804198058760853 and parameters: {'x': 0.7910124899904476, 'y': 0.6662428610483041}. Best is trial 357 with value: 0.006082446779892028.\n",
      "[I 2025-08-24 05:45:58,082] Trial 946 finished with value: 6.15329317536664 and parameters: {'x': 0.7139534350414918, 'y': 0.7561330491443088}. Best is trial 357 with value: 0.006082446779892028.\n",
      "[I 2025-08-24 05:45:58,090] Trial 947 finished with value: 1.522451752094871 and parameters: {'x': 0.8735548405727916, 'y': 0.885836129122328}. Best is trial 357 with value: 0.006082446779892028.\n",
      "[I 2025-08-24 05:45:58,099] Trial 948 finished with value: 7.540999737111864 and parameters: {'x': 0.9880659774760614, 'y': 0.7016681611269339}. Best is trial 357 with value: 0.006082446779892028.\n",
      "[I 2025-08-24 05:45:58,108] Trial 949 finished with value: 24.08806582144184 and parameters: {'x': 1.13794203877971, 'y': 0.8043100268043886}. Best is trial 357 with value: 0.006082446779892028.\n",
      "[I 2025-08-24 05:45:58,117] Trial 950 finished with value: 11.410066772420684 and parameters: {'x': 0.8002147688691224, 'y': 0.9775402456025275}. Best is trial 357 with value: 0.006082446779892028.\n",
      "[I 2025-08-24 05:45:58,126] Trial 951 finished with value: 4.192674523891732 and parameters: {'x': 0.9246210099065105, 'y': 0.650302592462375}. Best is trial 357 with value: 0.006082446779892028.\n",
      "[I 2025-08-24 05:45:58,135] Trial 952 finished with value: 4.208099462129659 and parameters: {'x': 1.0455676632386757, 'y': 0.8881258283581185}. Best is trial 357 with value: 0.006082446779892028.\n",
      "[I 2025-08-24 05:45:58,144] Trial 953 finished with value: 10.342200564122479 and parameters: {'x': 0.6827065042092377, 'y': 0.7861120044028436}. Best is trial 357 with value: 0.006082446779892028.\n",
      "[I 2025-08-24 05:45:58,153] Trial 954 finished with value: 0.20379214656119016 and parameters: {'x': 0.8631867664708289, 'y': 0.7020711328055222}. Best is trial 357 with value: 0.006082446779892028.\n",
      "[I 2025-08-24 05:45:58,161] Trial 955 finished with value: 35.94733845269377 and parameters: {'x': 0.9294103473827703, 'y': 1.4633230309852712}. Best is trial 357 with value: 0.006082446779892028.\n",
      "[I 2025-08-24 05:45:58,170] Trial 956 finished with value: 33.745611036857255 and parameters: {'x': 0.7784030060986125, 'y': 1.1863981545633782}. Best is trial 357 with value: 0.006082446779892028.\n",
      "[I 2025-08-24 05:45:58,179] Trial 957 finished with value: 0.059069929276909336 and parameters: {'x': 0.9915123021266481, 'y': 0.9588071643638387}. Best is trial 357 with value: 0.006082446779892028.\n",
      "[I 2025-08-24 05:45:58,188] Trial 958 finished with value: 53.49947271146792 and parameters: {'x': 1.258564746011433, 'y': 0.8530090439327168}. Best is trial 357 with value: 0.006082446779892028.\n",
      "[I 2025-08-24 05:45:58,197] Trial 959 finished with value: 0.9463101526843953 and parameters: {'x': 0.849730053322905, 'y': 0.6259303370847209}. Best is trial 357 with value: 0.006082446779892028.\n",
      "[I 2025-08-24 05:45:58,206] Trial 960 finished with value: 0.8770951097174445 and parameters: {'x': 1.0718869280622845, 'y': 1.0555645348040676}. Best is trial 357 with value: 0.006082446779892028.\n",
      "[I 2025-08-24 05:45:58,215] Trial 961 finished with value: 6.852372684282552 and parameters: {'x': 0.7177794504342743, 'y': 0.7754519214590024}. Best is trial 357 with value: 0.006082446779892028.\n",
      "[I 2025-08-24 05:45:58,224] Trial 962 finished with value: 0.1359232422302379 and parameters: {'x': 0.9394744578358405, 'y': 0.9189798112808893}. Best is trial 357 with value: 0.006082446779892028.\n",
      "[I 2025-08-24 05:45:58,233] Trial 963 finished with value: 112.1275527431403 and parameters: {'x': 0.8280852073914763, 'y': 1.7444885311455045}. Best is trial 357 with value: 0.006082446779892028.\n",
      "[I 2025-08-24 05:45:58,242] Trial 964 finished with value: 6.700234505460308 and parameters: {'x': 0.6467328780851459, 'y': 0.6746895618067461}. Best is trial 357 with value: 0.006082446779892028.\n",
      "[I 2025-08-24 05:45:58,251] Trial 965 finished with value: 24.74859277901469 and parameters: {'x': 1.1565187514942195, 'y': 0.8403023306368895}. Best is trial 357 with value: 0.006082446779892028.\n",
      "[I 2025-08-24 05:45:58,260] Trial 966 finished with value: 5.142263176456885 and parameters: {'x': 0.9837829184674415, 'y': 0.7410690418449132}. Best is trial 357 with value: 0.006082446779892028.\n",
      "[I 2025-08-24 05:45:58,269] Trial 967 finished with value: 29.90747810945562 and parameters: {'x': 0.7632604355014905, 'y': 1.128931137012616}. Best is trial 357 with value: 0.006082446779892028.\n",
      "[I 2025-08-24 05:45:58,278] Trial 968 finished with value: 4.334960321968824 and parameters: {'x': 0.8882527230929672, 'y': 0.5810873237241323}. Best is trial 357 with value: 0.006082446779892028.\n",
      "[I 2025-08-24 05:45:58,287] Trial 969 finished with value: 0.43557114638985034 and parameters: {'x': 1.0298022634011204, 'y': 0.9945622101649012}. Best is trial 357 with value: 0.006082446779892028.\n",
      "[I 2025-08-24 05:45:58,296] Trial 970 finished with value: 1.4493007070123696 and parameters: {'x': 0.838291187502024, 'y': 0.822028006296055}. Best is trial 357 with value: 0.006082446779892028.\n",
      "[I 2025-08-24 05:45:58,305] Trial 971 finished with value: 3.012488756725932 and parameters: {'x': 0.9447355676001247, 'y': 0.7190480723041083}. Best is trial 357 with value: 0.006082446779892028.\n",
      "[I 2025-08-24 05:45:58,314] Trial 972 finished with value: 10.739062716785943 and parameters: {'x': 0.7602231763139043, 'y': 0.904765987111262}. Best is trial 357 with value: 0.006082446779892028.\n",
      "[I 2025-08-24 05:45:58,323] Trial 973 finished with value: 2.238359483018255 and parameters: {'x': 0.8845935433996908, 'y': 0.6333400294105989}. Best is trial 357 with value: 0.006082446779892028.\n",
      "[I 2025-08-24 05:45:58,332] Trial 974 finished with value: 331.57497044265733 and parameters: {'x': 1.6108689957977522, 'y': 0.7750038435681483}. Best is trial 357 with value: 0.006082446779892028.\n",
      "[I 2025-08-24 05:45:58,341] Trial 975 finished with value: 6.674059187803254 and parameters: {'x': 1.0560506508938652, 'y': 0.8569617833514845}. Best is trial 357 with value: 0.006082446779892028.\n",
      "[I 2025-08-24 05:45:58,350] Trial 976 finished with value: 2.4375378992924204 and parameters: {'x': 0.8124919640113429, 'y': 0.5051471066088367}. Best is trial 357 with value: 0.006082446779892028.\n",
      "[I 2025-08-24 05:45:58,359] Trial 977 finished with value: 5.483957749849943 and parameters: {'x': 0.9593520411606113, 'y': 0.6862131029465762}. Best is trial 357 with value: 0.006082446779892028.\n",
      "[I 2025-08-24 05:45:58,368] Trial 978 finished with value: 25.98995500422671 and parameters: {'x': 0.6698551717660418, 'y': 0.9574392741766516}. Best is trial 357 with value: 0.006082446779892028.\n",
      "[I 2025-08-24 05:45:58,377] Trial 979 finished with value: 0.02898928571578692 and parameters: {'x': 0.8870227311586708, 'y': 0.7740714205678357}. Best is trial 357 with value: 0.006082446779892028.\n",
      "[I 2025-08-24 05:45:58,386] Trial 980 finished with value: 2.5432924503314527 and parameters: {'x': 1.0873825650760376, 'y': 1.023163386884189}. Best is trial 357 with value: 0.006082446779892028.\n",
      "[I 2025-08-24 05:45:58,395] Trial 981 finished with value: 0.4682363218793397 and parameters: {'x': 0.9822034272668634, 'y': 0.8963189232864727}. Best is trial 357 with value: 0.006082446779892028.\n",
      "[I 2025-08-24 05:45:58,404] Trial 982 finished with value: 0.009354825462707956 and parameters: {'x': 0.9047146054049993, 'y': 0.8168486406124588}. Best is trial 357 with value: 0.006082446779892028.\n",
      "[I 2025-08-24 05:45:58,413] Trial 983 finished with value: 1.6611240986328268 and parameters: {'x': 1.0360511394935623, 'y': 0.9445677906181736}. Best is trial 357 with value: 0.006082446779892028.\n",
      "[I 2025-08-24 05:45:58,422] Trial 984 finished with value: 15.079402072247733 and parameters: {'x': 1.1086007954145214, 'y': 0.8408255555039519}. Best is trial 357 with value: 0.006082446779892028.\n",
      "[I 2025-08-24 05:45:58,431] Trial 985 finished with value: 9.319845421665937 and parameters: {'x': 1.1869088155379952, 'y': 1.104041025028506}. Best is trial 357 with value: 0.006082446779892028.\n",
      "[I 2025-08-24 05:45:58,440] Trial 986 finished with value: 2.996734274661816 and parameters: {'x': 0.9292701662537696, 'y': 1.036509268803121}. Best is trial 357 with value: 0.006082446779892028.\n",
      "[I 2025-08-24 05:45:58,449] Trial 987 finished with value: 121.04151004365661 and parameters: {'x': 0.9975479834861845, 'y': -0.10508665915547777}. Best is trial 357 with value: 0.006082446779892028.\n",
      "[I 2025-08-24 05:45:58,458] Trial 988 finished with value: 0.21695089096314357 and parameters: {'x': 0.9219191659493411, 'y': 0.8958538198632942}. Best is trial 357 with value: 0.006082446779892028.\n",
      "[I 2025-08-24 05:45:58,467] Trial 989 finished with value: 65.04120560699587 and parameters: {'x': 0.030290957938848506, 'y': 0.8015477313009903}. Best is trial 357 with value: 0.006082446779892028.\n",
      "[I 2025-08-24 05:45:58,476] Trial 990 finished with value: 1.8082368011023182 and parameters: {'x': 0.892137731387186, 'y': 0.9299471344592964}. Best is trial 357 with value: 0.006082446779892028.\n",
      "[I 2025-08-24 05:45:58,485] Trial 991 finished with value: 5.014823594423259 and parameters: {'x': 1.0278767997550669, 'y': 0.8326100492007298}. Best is trial 357 with value: 0.006082446779892028.\n",
      "[I 2025-08-24 05:45:58,494] Trial 992 finished with value: 0.5210312565391781 and parameters: {'x': 0.9572971170260255, 'y': 0.9884738401234234}. Best is trial 357 with value: 0.006082446779892028.\n",
      "[I 2025-08-24 05:45:58,503] Trial 993 finished with value: 24.551421913638602 and parameters: {'x': 1.1344471186016314, 'y': 0.7916587882957601}. Best is trial 357 with value: 0.006082446779892028.\n",
      "[I 2025-08-24 05:45:58,513] Trial 994 finished with value: 0.6768743288298907 and parameters: {'x': 0.8880850825038363, 'y': 0.8702027440879032}. Best is trial 357 with value: 0.006082446779892028.\n",
      "[I 2025-08-24 05:45:58,522] Trial 995 finished with value: 4.441459940857195 and parameters: {'x': 0.992827825120202, 'y': 0.7749605956819984}. Best is trial 357 with value: 0.006082446779892028.\n",
      "[I 2025-08-24 05:45:58,531] Trial 996 finished with value: 24.99817488669772 and parameters: {'x': 0.8642979691644358, 'y': 1.2468085369740391}. Best is trial 357 with value: 0.006082446779892028.\n",
      "[I 2025-08-24 05:45:58,540] Trial 997 finished with value: 5.5320710118387435 and parameters: {'x': 1.0697016102102874, 'y': 0.9091612861122017}. Best is trial 357 with value: 0.006082446779892028.\n",
      "[I 2025-08-24 05:45:58,549] Trial 998 finished with value: 59.133868224451945 and parameters: {'x': 1.345755665567087, 'y': 1.0428505189162758}. Best is trial 357 with value: 0.006082446779892028.\n",
      "[I 2025-08-24 05:45:58,558] Trial 999 finished with value: 0.614617613739115 and parameters: {'x': 0.9176470932406503, 'y': 0.7641123748139815}. Best is trial 357 with value: 0.006082446779892028.\n"
     ]
    }
   ],
   "source": [
    "#hide_output\n",
    "import optuna \n",
    "\n",
    "study = optuna.create_study()\n",
    "study.optimize(objective, n_trials=1000)"
   ]
  },
  {
   "cell_type": "code",
   "execution_count": 37,
   "metadata": {},
   "outputs": [
    {
     "data": {
      "text/plain": [
       "{'x': 0.9438443949162626, 'y': 0.8962542606595759}"
      ]
     },
     "execution_count": 37,
     "metadata": {},
     "output_type": "execute_result"
    }
   ],
   "source": [
    "study.best_params"
   ]
  },
  {
   "cell_type": "code",
   "execution_count": 38,
   "metadata": {},
   "outputs": [],
   "source": [
    "def hp_space(trial):\n",
    "    return {\"num_train_epochs\": trial.suggest_int(\"num_train_epochs\", 5, 10),\n",
    "        \"alpha\": trial.suggest_float(\"alpha\", 0, 1),\n",
    "        \"temperature\": trial.suggest_int(\"temperature\", 2, 20)}"
   ]
  },
  {
   "cell_type": "code",
   "execution_count": 39,
   "metadata": {},
   "outputs": [
    {
     "name": "stderr",
     "output_type": "stream",
     "text": [
      "[I 2025-08-24 05:45:58,839] A new study created in memory with name: no-name-3e7ae442-5de9-495a-8ccc-4dd0133e30e1\n",
      "/home/dev/.venv/lib/python3.9/site-packages/torch/nn/parallel/_functions.py:71: UserWarning: Was asked to gather along dimension 0, but all input tensors were scalars; will instead unsqueeze and return a vector.\n",
      "  warnings.warn(\n"
     ]
    },
    {
     "data": {
      "text/html": [
       "\n",
       "    <div>\n",
       "      \n",
       "      <progress value='400' max='400' style='width:300px; height:20px; vertical-align: middle;'></progress>\n",
       "      [400/400 01:02, Epoch 5/5]\n",
       "    </div>\n",
       "    <table border=\"1\" class=\"dataframe\">\n",
       "  <thead>\n",
       " <tr style=\"text-align: left;\">\n",
       "      <th>Epoch</th>\n",
       "      <th>Training Loss</th>\n",
       "      <th>Validation Loss</th>\n",
       "      <th>Accuracy</th>\n",
       "    </tr>\n",
       "  </thead>\n",
       "  <tbody>\n",
       "    <tr>\n",
       "      <td>1</td>\n",
       "      <td>No log</td>\n",
       "      <td>0.450151</td>\n",
       "      <td>0.158710</td>\n",
       "    </tr>\n",
       "    <tr>\n",
       "      <td>2</td>\n",
       "      <td>No log</td>\n",
       "      <td>0.307541</td>\n",
       "      <td>0.401935</td>\n",
       "    </tr>\n",
       "    <tr>\n",
       "      <td>3</td>\n",
       "      <td>No log</td>\n",
       "      <td>0.237555</td>\n",
       "      <td>0.568387</td>\n",
       "    </tr>\n",
       "    <tr>\n",
       "      <td>4</td>\n",
       "      <td>0.378300</td>\n",
       "      <td>0.205474</td>\n",
       "      <td>0.635484</td>\n",
       "    </tr>\n",
       "    <tr>\n",
       "      <td>5</td>\n",
       "      <td>0.378300</td>\n",
       "      <td>0.195614</td>\n",
       "      <td>0.654839</td>\n",
       "    </tr>\n",
       "  </tbody>\n",
       "</table><p>"
      ],
      "text/plain": [
       "<IPython.core.display.HTML object>"
      ]
     },
     "metadata": {},
     "output_type": "display_data"
    },
    {
     "name": "stderr",
     "output_type": "stream",
     "text": [
      "/home/dev/.venv/lib/python3.9/site-packages/torch/nn/parallel/_functions.py:71: UserWarning: Was asked to gather along dimension 0, but all input tensors were scalars; will instead unsqueeze and return a vector.\n",
      "  warnings.warn(\n",
      "/home/dev/.venv/lib/python3.9/site-packages/torch/nn/parallel/_functions.py:71: UserWarning: Was asked to gather along dimension 0, but all input tensors were scalars; will instead unsqueeze and return a vector.\n",
      "  warnings.warn(\n",
      "/home/dev/.venv/lib/python3.9/site-packages/torch/nn/parallel/_functions.py:71: UserWarning: Was asked to gather along dimension 0, but all input tensors were scalars; will instead unsqueeze and return a vector.\n",
      "  warnings.warn(\n",
      "/home/dev/.venv/lib/python3.9/site-packages/torch/nn/parallel/_functions.py:71: UserWarning: Was asked to gather along dimension 0, but all input tensors were scalars; will instead unsqueeze and return a vector.\n",
      "  warnings.warn(\n",
      "/home/dev/.venv/lib/python3.9/site-packages/torch/nn/parallel/_functions.py:71: UserWarning: Was asked to gather along dimension 0, but all input tensors were scalars; will instead unsqueeze and return a vector.\n",
      "  warnings.warn(\n",
      "[I 2025-08-24 05:47:02,736] Trial 0 finished with value: 0.6548387096774193 and parameters: {'num_train_epochs': 5, 'alpha': 0.48524697858551413, 'temperature': 8}. Best is trial 0 with value: 0.6548387096774193.\n",
      "/home/dev/.venv/lib/python3.9/site-packages/torch/nn/parallel/_functions.py:71: UserWarning: Was asked to gather along dimension 0, but all input tensors were scalars; will instead unsqueeze and return a vector.\n",
      "  warnings.warn(\n"
     ]
    },
    {
     "data": {
      "text/html": [
       "\n",
       "    <div>\n",
       "      \n",
       "      <progress value='720' max='720' style='width:300px; height:20px; vertical-align: middle;'></progress>\n",
       "      [720/720 01:50, Epoch 9/9]\n",
       "    </div>\n",
       "    <table border=\"1\" class=\"dataframe\">\n",
       "  <thead>\n",
       " <tr style=\"text-align: left;\">\n",
       "      <th>Epoch</th>\n",
       "      <th>Training Loss</th>\n",
       "      <th>Validation Loss</th>\n",
       "      <th>Accuracy</th>\n",
       "    </tr>\n",
       "  </thead>\n",
       "  <tbody>\n",
       "    <tr>\n",
       "      <td>1</td>\n",
       "      <td>No log</td>\n",
       "      <td>0.451095</td>\n",
       "      <td>0.176774</td>\n",
       "    </tr>\n",
       "    <tr>\n",
       "      <td>2</td>\n",
       "      <td>No log</td>\n",
       "      <td>0.288896</td>\n",
       "      <td>0.477419</td>\n",
       "    </tr>\n",
       "    <tr>\n",
       "      <td>3</td>\n",
       "      <td>No log</td>\n",
       "      <td>0.201328</td>\n",
       "      <td>0.654516</td>\n",
       "    </tr>\n",
       "    <tr>\n",
       "      <td>4</td>\n",
       "      <td>0.362100</td>\n",
       "      <td>0.154022</td>\n",
       "      <td>0.749355</td>\n",
       "    </tr>\n",
       "    <tr>\n",
       "      <td>5</td>\n",
       "      <td>0.362100</td>\n",
       "      <td>0.125268</td>\n",
       "      <td>0.801290</td>\n",
       "    </tr>\n",
       "    <tr>\n",
       "      <td>6</td>\n",
       "      <td>0.362100</td>\n",
       "      <td>0.108508</td>\n",
       "      <td>0.823871</td>\n",
       "    </tr>\n",
       "    <tr>\n",
       "      <td>7</td>\n",
       "      <td>0.362100</td>\n",
       "      <td>0.098677</td>\n",
       "      <td>0.839355</td>\n",
       "    </tr>\n",
       "    <tr>\n",
       "      <td>8</td>\n",
       "      <td>0.141100</td>\n",
       "      <td>0.093198</td>\n",
       "      <td>0.847097</td>\n",
       "    </tr>\n",
       "    <tr>\n",
       "      <td>9</td>\n",
       "      <td>0.141100</td>\n",
       "      <td>0.091418</td>\n",
       "      <td>0.849032</td>\n",
       "    </tr>\n",
       "  </tbody>\n",
       "</table><p>"
      ],
      "text/plain": [
       "<IPython.core.display.HTML object>"
      ]
     },
     "metadata": {},
     "output_type": "display_data"
    },
    {
     "name": "stderr",
     "output_type": "stream",
     "text": [
      "/home/dev/.venv/lib/python3.9/site-packages/torch/nn/parallel/_functions.py:71: UserWarning: Was asked to gather along dimension 0, but all input tensors were scalars; will instead unsqueeze and return a vector.\n",
      "  warnings.warn(\n",
      "/home/dev/.venv/lib/python3.9/site-packages/torch/nn/parallel/_functions.py:71: UserWarning: Was asked to gather along dimension 0, but all input tensors were scalars; will instead unsqueeze and return a vector.\n",
      "  warnings.warn(\n",
      "/home/dev/.venv/lib/python3.9/site-packages/torch/nn/parallel/_functions.py:71: UserWarning: Was asked to gather along dimension 0, but all input tensors were scalars; will instead unsqueeze and return a vector.\n",
      "  warnings.warn(\n",
      "/home/dev/.venv/lib/python3.9/site-packages/torch/nn/parallel/_functions.py:71: UserWarning: Was asked to gather along dimension 0, but all input tensors were scalars; will instead unsqueeze and return a vector.\n",
      "  warnings.warn(\n",
      "/home/dev/.venv/lib/python3.9/site-packages/torch/nn/parallel/_functions.py:71: UserWarning: Was asked to gather along dimension 0, but all input tensors were scalars; will instead unsqueeze and return a vector.\n",
      "  warnings.warn(\n",
      "/home/dev/.venv/lib/python3.9/site-packages/torch/nn/parallel/_functions.py:71: UserWarning: Was asked to gather along dimension 0, but all input tensors were scalars; will instead unsqueeze and return a vector.\n",
      "  warnings.warn(\n",
      "/home/dev/.venv/lib/python3.9/site-packages/torch/nn/parallel/_functions.py:71: UserWarning: Was asked to gather along dimension 0, but all input tensors were scalars; will instead unsqueeze and return a vector.\n",
      "  warnings.warn(\n",
      "/home/dev/.venv/lib/python3.9/site-packages/torch/nn/parallel/_functions.py:71: UserWarning: Was asked to gather along dimension 0, but all input tensors were scalars; will instead unsqueeze and return a vector.\n",
      "  warnings.warn(\n",
      "/home/dev/.venv/lib/python3.9/site-packages/torch/nn/parallel/_functions.py:71: UserWarning: Was asked to gather along dimension 0, but all input tensors were scalars; will instead unsqueeze and return a vector.\n",
      "  warnings.warn(\n",
      "[I 2025-08-24 05:48:54,478] Trial 1 finished with value: 0.8490322580645161 and parameters: {'num_train_epochs': 9, 'alpha': 0.7184319663217633, 'temperature': 7}. Best is trial 1 with value: 0.8490322580645161.\n",
      "/home/dev/.venv/lib/python3.9/site-packages/torch/nn/parallel/_functions.py:71: UserWarning: Was asked to gather along dimension 0, but all input tensors were scalars; will instead unsqueeze and return a vector.\n",
      "  warnings.warn(\n"
     ]
    },
    {
     "data": {
      "text/html": [
       "\n",
       "    <div>\n",
       "      \n",
       "      <progress value='640' max='640' style='width:300px; height:20px; vertical-align: middle;'></progress>\n",
       "      [640/640 01:39, Epoch 8/8]\n",
       "    </div>\n",
       "    <table border=\"1\" class=\"dataframe\">\n",
       "  <thead>\n",
       " <tr style=\"text-align: left;\">\n",
       "      <th>Epoch</th>\n",
       "      <th>Training Loss</th>\n",
       "      <th>Validation Loss</th>\n",
       "      <th>Accuracy</th>\n",
       "    </tr>\n",
       "  </thead>\n",
       "  <tbody>\n",
       "    <tr>\n",
       "      <td>1</td>\n",
       "      <td>No log</td>\n",
       "      <td>0.407016</td>\n",
       "      <td>0.144516</td>\n",
       "    </tr>\n",
       "    <tr>\n",
       "      <td>2</td>\n",
       "      <td>No log</td>\n",
       "      <td>0.261007</td>\n",
       "      <td>0.419355</td>\n",
       "    </tr>\n",
       "    <tr>\n",
       "      <td>3</td>\n",
       "      <td>No log</td>\n",
       "      <td>0.185207</td>\n",
       "      <td>0.616452</td>\n",
       "    </tr>\n",
       "    <tr>\n",
       "      <td>4</td>\n",
       "      <td>0.328400</td>\n",
       "      <td>0.145372</td>\n",
       "      <td>0.719032</td>\n",
       "    </tr>\n",
       "    <tr>\n",
       "      <td>5</td>\n",
       "      <td>0.328400</td>\n",
       "      <td>0.121660</td>\n",
       "      <td>0.773548</td>\n",
       "    </tr>\n",
       "    <tr>\n",
       "      <td>6</td>\n",
       "      <td>0.328400</td>\n",
       "      <td>0.108518</td>\n",
       "      <td>0.798710</td>\n",
       "    </tr>\n",
       "    <tr>\n",
       "      <td>7</td>\n",
       "      <td>0.328400</td>\n",
       "      <td>0.101857</td>\n",
       "      <td>0.814194</td>\n",
       "    </tr>\n",
       "    <tr>\n",
       "      <td>8</td>\n",
       "      <td>0.137600</td>\n",
       "      <td>0.099614</td>\n",
       "      <td>0.816129</td>\n",
       "    </tr>\n",
       "  </tbody>\n",
       "</table><p>"
      ],
      "text/plain": [
       "<IPython.core.display.HTML object>"
      ]
     },
     "metadata": {},
     "output_type": "display_data"
    },
    {
     "name": "stderr",
     "output_type": "stream",
     "text": [
      "/home/dev/.venv/lib/python3.9/site-packages/torch/nn/parallel/_functions.py:71: UserWarning: Was asked to gather along dimension 0, but all input tensors were scalars; will instead unsqueeze and return a vector.\n",
      "  warnings.warn(\n",
      "/home/dev/.venv/lib/python3.9/site-packages/torch/nn/parallel/_functions.py:71: UserWarning: Was asked to gather along dimension 0, but all input tensors were scalars; will instead unsqueeze and return a vector.\n",
      "  warnings.warn(\n",
      "/home/dev/.venv/lib/python3.9/site-packages/torch/nn/parallel/_functions.py:71: UserWarning: Was asked to gather along dimension 0, but all input tensors were scalars; will instead unsqueeze and return a vector.\n",
      "  warnings.warn(\n",
      "/home/dev/.venv/lib/python3.9/site-packages/torch/nn/parallel/_functions.py:71: UserWarning: Was asked to gather along dimension 0, but all input tensors were scalars; will instead unsqueeze and return a vector.\n",
      "  warnings.warn(\n",
      "/home/dev/.venv/lib/python3.9/site-packages/torch/nn/parallel/_functions.py:71: UserWarning: Was asked to gather along dimension 0, but all input tensors were scalars; will instead unsqueeze and return a vector.\n",
      "  warnings.warn(\n",
      "/home/dev/.venv/lib/python3.9/site-packages/torch/nn/parallel/_functions.py:71: UserWarning: Was asked to gather along dimension 0, but all input tensors were scalars; will instead unsqueeze and return a vector.\n",
      "  warnings.warn(\n",
      "/home/dev/.venv/lib/python3.9/site-packages/torch/nn/parallel/_functions.py:71: UserWarning: Was asked to gather along dimension 0, but all input tensors were scalars; will instead unsqueeze and return a vector.\n",
      "  warnings.warn(\n",
      "/home/dev/.venv/lib/python3.9/site-packages/torch/nn/parallel/_functions.py:71: UserWarning: Was asked to gather along dimension 0, but all input tensors were scalars; will instead unsqueeze and return a vector.\n",
      "  warnings.warn(\n",
      "[I 2025-08-24 05:50:34,885] Trial 2 finished with value: 0.8161290322580645 and parameters: {'num_train_epochs': 8, 'alpha': 0.6498463635974087, 'temperature': 19}. Best is trial 1 with value: 0.8490322580645161.\n",
      "/home/dev/.venv/lib/python3.9/site-packages/torch/nn/parallel/_functions.py:71: UserWarning: Was asked to gather along dimension 0, but all input tensors were scalars; will instead unsqueeze and return a vector.\n",
      "  warnings.warn(\n"
     ]
    },
    {
     "data": {
      "text/html": [
       "\n",
       "    <div>\n",
       "      \n",
       "      <progress value='720' max='720' style='width:300px; height:20px; vertical-align: middle;'></progress>\n",
       "      [720/720 01:51, Epoch 9/9]\n",
       "    </div>\n",
       "    <table border=\"1\" class=\"dataframe\">\n",
       "  <thead>\n",
       " <tr style=\"text-align: left;\">\n",
       "      <th>Epoch</th>\n",
       "      <th>Training Loss</th>\n",
       "      <th>Validation Loss</th>\n",
       "      <th>Accuracy</th>\n",
       "    </tr>\n",
       "  </thead>\n",
       "  <tbody>\n",
       "    <tr>\n",
       "      <td>1</td>\n",
       "      <td>No log</td>\n",
       "      <td>0.526311</td>\n",
       "      <td>0.231935</td>\n",
       "    </tr>\n",
       "    <tr>\n",
       "      <td>2</td>\n",
       "      <td>No log</td>\n",
       "      <td>0.341237</td>\n",
       "      <td>0.526129</td>\n",
       "    </tr>\n",
       "    <tr>\n",
       "      <td>3</td>\n",
       "      <td>No log</td>\n",
       "      <td>0.236601</td>\n",
       "      <td>0.676774</td>\n",
       "    </tr>\n",
       "    <tr>\n",
       "      <td>4</td>\n",
       "      <td>0.423200</td>\n",
       "      <td>0.177425</td>\n",
       "      <td>0.765484</td>\n",
       "    </tr>\n",
       "    <tr>\n",
       "      <td>5</td>\n",
       "      <td>0.423200</td>\n",
       "      <td>0.141535</td>\n",
       "      <td>0.809355</td>\n",
       "    </tr>\n",
       "    <tr>\n",
       "      <td>6</td>\n",
       "      <td>0.423200</td>\n",
       "      <td>0.120385</td>\n",
       "      <td>0.835161</td>\n",
       "    </tr>\n",
       "    <tr>\n",
       "      <td>7</td>\n",
       "      <td>0.423200</td>\n",
       "      <td>0.108013</td>\n",
       "      <td>0.850323</td>\n",
       "    </tr>\n",
       "    <tr>\n",
       "      <td>8</td>\n",
       "      <td>0.159600</td>\n",
       "      <td>0.101231</td>\n",
       "      <td>0.854194</td>\n",
       "    </tr>\n",
       "    <tr>\n",
       "      <td>9</td>\n",
       "      <td>0.159600</td>\n",
       "      <td>0.099031</td>\n",
       "      <td>0.856452</td>\n",
       "    </tr>\n",
       "  </tbody>\n",
       "</table><p>"
      ],
      "text/plain": [
       "<IPython.core.display.HTML object>"
      ]
     },
     "metadata": {},
     "output_type": "display_data"
    },
    {
     "name": "stderr",
     "output_type": "stream",
     "text": [
      "/home/dev/.venv/lib/python3.9/site-packages/torch/nn/parallel/_functions.py:71: UserWarning: Was asked to gather along dimension 0, but all input tensors were scalars; will instead unsqueeze and return a vector.\n",
      "  warnings.warn(\n",
      "/home/dev/.venv/lib/python3.9/site-packages/torch/nn/parallel/_functions.py:71: UserWarning: Was asked to gather along dimension 0, but all input tensors were scalars; will instead unsqueeze and return a vector.\n",
      "  warnings.warn(\n",
      "/home/dev/.venv/lib/python3.9/site-packages/torch/nn/parallel/_functions.py:71: UserWarning: Was asked to gather along dimension 0, but all input tensors were scalars; will instead unsqueeze and return a vector.\n",
      "  warnings.warn(\n",
      "/home/dev/.venv/lib/python3.9/site-packages/torch/nn/parallel/_functions.py:71: UserWarning: Was asked to gather along dimension 0, but all input tensors were scalars; will instead unsqueeze and return a vector.\n",
      "  warnings.warn(\n",
      "/home/dev/.venv/lib/python3.9/site-packages/torch/nn/parallel/_functions.py:71: UserWarning: Was asked to gather along dimension 0, but all input tensors were scalars; will instead unsqueeze and return a vector.\n",
      "  warnings.warn(\n",
      "/home/dev/.venv/lib/python3.9/site-packages/torch/nn/parallel/_functions.py:71: UserWarning: Was asked to gather along dimension 0, but all input tensors were scalars; will instead unsqueeze and return a vector.\n",
      "  warnings.warn(\n",
      "/home/dev/.venv/lib/python3.9/site-packages/torch/nn/parallel/_functions.py:71: UserWarning: Was asked to gather along dimension 0, but all input tensors were scalars; will instead unsqueeze and return a vector.\n",
      "  warnings.warn(\n",
      "/home/dev/.venv/lib/python3.9/site-packages/torch/nn/parallel/_functions.py:71: UserWarning: Was asked to gather along dimension 0, but all input tensors were scalars; will instead unsqueeze and return a vector.\n",
      "  warnings.warn(\n",
      "/home/dev/.venv/lib/python3.9/site-packages/torch/nn/parallel/_functions.py:71: UserWarning: Was asked to gather along dimension 0, but all input tensors were scalars; will instead unsqueeze and return a vector.\n",
      "  warnings.warn(\n",
      "[I 2025-08-24 05:52:27,403] Trial 3 finished with value: 0.8564516129032258 and parameters: {'num_train_epochs': 9, 'alpha': 0.8477866414792165, 'temperature': 4}. Best is trial 3 with value: 0.8564516129032258.\n",
      "/home/dev/.venv/lib/python3.9/site-packages/torch/nn/parallel/_functions.py:71: UserWarning: Was asked to gather along dimension 0, but all input tensors were scalars; will instead unsqueeze and return a vector.\n",
      "  warnings.warn(\n"
     ]
    },
    {
     "data": {
      "text/html": [
       "\n",
       "    <div>\n",
       "      \n",
       "      <progress value='400' max='400' style='width:300px; height:20px; vertical-align: middle;'></progress>\n",
       "      [400/400 01:02, Epoch 5/5]\n",
       "    </div>\n",
       "    <table border=\"1\" class=\"dataframe\">\n",
       "  <thead>\n",
       " <tr style=\"text-align: left;\">\n",
       "      <th>Epoch</th>\n",
       "      <th>Training Loss</th>\n",
       "      <th>Validation Loss</th>\n",
       "      <th>Accuracy</th>\n",
       "    </tr>\n",
       "  </thead>\n",
       "  <tbody>\n",
       "    <tr>\n",
       "      <td>1</td>\n",
       "      <td>No log</td>\n",
       "      <td>0.475102</td>\n",
       "      <td>0.180968</td>\n",
       "    </tr>\n",
       "    <tr>\n",
       "      <td>2</td>\n",
       "      <td>No log</td>\n",
       "      <td>0.326351</td>\n",
       "      <td>0.424839</td>\n",
       "    </tr>\n",
       "    <tr>\n",
       "      <td>3</td>\n",
       "      <td>No log</td>\n",
       "      <td>0.252180</td>\n",
       "      <td>0.584516</td>\n",
       "    </tr>\n",
       "    <tr>\n",
       "      <td>4</td>\n",
       "      <td>0.400100</td>\n",
       "      <td>0.217850</td>\n",
       "      <td>0.648710</td>\n",
       "    </tr>\n",
       "    <tr>\n",
       "      <td>5</td>\n",
       "      <td>0.400100</td>\n",
       "      <td>0.207313</td>\n",
       "      <td>0.665806</td>\n",
       "    </tr>\n",
       "  </tbody>\n",
       "</table><p>"
      ],
      "text/plain": [
       "<IPython.core.display.HTML object>"
      ]
     },
     "metadata": {},
     "output_type": "display_data"
    },
    {
     "name": "stderr",
     "output_type": "stream",
     "text": [
      "/home/dev/.venv/lib/python3.9/site-packages/torch/nn/parallel/_functions.py:71: UserWarning: Was asked to gather along dimension 0, but all input tensors were scalars; will instead unsqueeze and return a vector.\n",
      "  warnings.warn(\n",
      "/home/dev/.venv/lib/python3.9/site-packages/torch/nn/parallel/_functions.py:71: UserWarning: Was asked to gather along dimension 0, but all input tensors were scalars; will instead unsqueeze and return a vector.\n",
      "  warnings.warn(\n",
      "/home/dev/.venv/lib/python3.9/site-packages/torch/nn/parallel/_functions.py:71: UserWarning: Was asked to gather along dimension 0, but all input tensors were scalars; will instead unsqueeze and return a vector.\n",
      "  warnings.warn(\n",
      "/home/dev/.venv/lib/python3.9/site-packages/torch/nn/parallel/_functions.py:71: UserWarning: Was asked to gather along dimension 0, but all input tensors were scalars; will instead unsqueeze and return a vector.\n",
      "  warnings.warn(\n",
      "/home/dev/.venv/lib/python3.9/site-packages/torch/nn/parallel/_functions.py:71: UserWarning: Was asked to gather along dimension 0, but all input tensors were scalars; will instead unsqueeze and return a vector.\n",
      "  warnings.warn(\n",
      "[I 2025-08-24 05:53:30,515] Trial 4 finished with value: 0.6658064516129032 and parameters: {'num_train_epochs': 5, 'alpha': 0.9293594184878174, 'temperature': 6}. Best is trial 3 with value: 0.8564516129032258.\n",
      "/home/dev/.venv/lib/python3.9/site-packages/torch/nn/parallel/_functions.py:71: UserWarning: Was asked to gather along dimension 0, but all input tensors were scalars; will instead unsqueeze and return a vector.\n",
      "  warnings.warn(\n"
     ]
    },
    {
     "data": {
      "text/html": [
       "\n",
       "    <div>\n",
       "      \n",
       "      <progress value='480' max='640' style='width:300px; height:20px; vertical-align: middle;'></progress>\n",
       "      [480/640 01:13 < 00:24, 6.53 it/s, Epoch 6/8]\n",
       "    </div>\n",
       "    <table border=\"1\" class=\"dataframe\">\n",
       "  <thead>\n",
       " <tr style=\"text-align: left;\">\n",
       "      <th>Epoch</th>\n",
       "      <th>Training Loss</th>\n",
       "      <th>Validation Loss</th>\n",
       "      <th>Accuracy</th>\n",
       "    </tr>\n",
       "  </thead>\n",
       "  <tbody>\n",
       "    <tr>\n",
       "      <td>1</td>\n",
       "      <td>No log</td>\n",
       "      <td>0.489189</td>\n",
       "      <td>0.203871</td>\n",
       "    </tr>\n",
       "    <tr>\n",
       "      <td>2</td>\n",
       "      <td>No log</td>\n",
       "      <td>0.318581</td>\n",
       "      <td>0.495484</td>\n",
       "    </tr>\n",
       "    <tr>\n",
       "      <td>3</td>\n",
       "      <td>No log</td>\n",
       "      <td>0.225146</td>\n",
       "      <td>0.654194</td>\n",
       "    </tr>\n",
       "    <tr>\n",
       "      <td>4</td>\n",
       "      <td>0.395800</td>\n",
       "      <td>0.173603</td>\n",
       "      <td>0.745484</td>\n",
       "    </tr>\n",
       "    <tr>\n",
       "      <td>5</td>\n",
       "      <td>0.395800</td>\n",
       "      <td>0.143003</td>\n",
       "      <td>0.795161</td>\n",
       "    </tr>\n",
       "    <tr>\n",
       "      <td>6</td>\n",
       "      <td>0.395800</td>\n",
       "      <td>0.125743</td>\n",
       "      <td>0.818065</td>\n",
       "    </tr>\n",
       "  </tbody>\n",
       "</table><p>"
      ],
      "text/plain": [
       "<IPython.core.display.HTML object>"
      ]
     },
     "metadata": {},
     "output_type": "display_data"
    },
    {
     "name": "stderr",
     "output_type": "stream",
     "text": [
      "/home/dev/.venv/lib/python3.9/site-packages/torch/nn/parallel/_functions.py:71: UserWarning: Was asked to gather along dimension 0, but all input tensors were scalars; will instead unsqueeze and return a vector.\n",
      "  warnings.warn(\n",
      "/home/dev/.venv/lib/python3.9/site-packages/torch/nn/parallel/_functions.py:71: UserWarning: Was asked to gather along dimension 0, but all input tensors were scalars; will instead unsqueeze and return a vector.\n",
      "  warnings.warn(\n",
      "/home/dev/.venv/lib/python3.9/site-packages/torch/nn/parallel/_functions.py:71: UserWarning: Was asked to gather along dimension 0, but all input tensors were scalars; will instead unsqueeze and return a vector.\n",
      "  warnings.warn(\n",
      "/home/dev/.venv/lib/python3.9/site-packages/torch/nn/parallel/_functions.py:71: UserWarning: Was asked to gather along dimension 0, but all input tensors were scalars; will instead unsqueeze and return a vector.\n",
      "  warnings.warn(\n",
      "/home/dev/.venv/lib/python3.9/site-packages/torch/nn/parallel/_functions.py:71: UserWarning: Was asked to gather along dimension 0, but all input tensors were scalars; will instead unsqueeze and return a vector.\n",
      "  warnings.warn(\n",
      "[I 2025-08-24 05:54:44,260] Trial 5 pruned. \n",
      "/home/dev/.venv/lib/python3.9/site-packages/torch/nn/parallel/_functions.py:71: UserWarning: Was asked to gather along dimension 0, but all input tensors were scalars; will instead unsqueeze and return a vector.\n",
      "  warnings.warn(\n"
     ]
    },
    {
     "data": {
      "text/html": [
       "\n",
       "    <div>\n",
       "      \n",
       "      <progress value='80' max='560' style='width:300px; height:20px; vertical-align: middle;'></progress>\n",
       "      [ 80/560 00:12 < 01:14, 6.44 it/s, Epoch 1/7]\n",
       "    </div>\n",
       "    <table border=\"1\" class=\"dataframe\">\n",
       "  <thead>\n",
       " <tr style=\"text-align: left;\">\n",
       "      <th>Epoch</th>\n",
       "      <th>Training Loss</th>\n",
       "      <th>Validation Loss</th>\n",
       "      <th>Accuracy</th>\n",
       "    </tr>\n",
       "  </thead>\n",
       "  <tbody>\n",
       "    <tr>\n",
       "      <td>1</td>\n",
       "      <td>No log</td>\n",
       "      <td>0.417173</td>\n",
       "      <td>0.148065</td>\n",
       "    </tr>\n",
       "  </tbody>\n",
       "</table><p>"
      ],
      "text/plain": [
       "<IPython.core.display.HTML object>"
      ]
     },
     "metadata": {},
     "output_type": "display_data"
    },
    {
     "name": "stderr",
     "output_type": "stream",
     "text": [
      "[I 2025-08-24 05:54:56,923] Trial 6 pruned. \n",
      "/home/dev/.venv/lib/python3.9/site-packages/torch/nn/parallel/_functions.py:71: UserWarning: Was asked to gather along dimension 0, but all input tensors were scalars; will instead unsqueeze and return a vector.\n",
      "  warnings.warn(\n"
     ]
    },
    {
     "data": {
      "text/html": [
       "\n",
       "    <div>\n",
       "      \n",
       "      <progress value='80' max='480' style='width:300px; height:20px; vertical-align: middle;'></progress>\n",
       "      [ 80/480 00:12 < 01:01, 6.49 it/s, Epoch 1/6]\n",
       "    </div>\n",
       "    <table border=\"1\" class=\"dataframe\">\n",
       "  <thead>\n",
       " <tr style=\"text-align: left;\">\n",
       "      <th>Epoch</th>\n",
       "      <th>Training Loss</th>\n",
       "      <th>Validation Loss</th>\n",
       "      <th>Accuracy</th>\n",
       "    </tr>\n",
       "  </thead>\n",
       "  <tbody>\n",
       "    <tr>\n",
       "      <td>1</td>\n",
       "      <td>No log</td>\n",
       "      <td>0.411088</td>\n",
       "      <td>0.140645</td>\n",
       "    </tr>\n",
       "  </tbody>\n",
       "</table><p>"
      ],
      "text/plain": [
       "<IPython.core.display.HTML object>"
      ]
     },
     "metadata": {},
     "output_type": "display_data"
    },
    {
     "name": "stderr",
     "output_type": "stream",
     "text": [
      "[I 2025-08-24 05:55:09,516] Trial 7 pruned. \n",
      "/home/dev/.venv/lib/python3.9/site-packages/torch/nn/parallel/_functions.py:71: UserWarning: Was asked to gather along dimension 0, but all input tensors were scalars; will instead unsqueeze and return a vector.\n",
      "  warnings.warn(\n"
     ]
    },
    {
     "data": {
      "text/html": [
       "\n",
       "    <div>\n",
       "      \n",
       "      <progress value='80' max='400' style='width:300px; height:20px; vertical-align: middle;'></progress>\n",
       "      [ 80/400 00:12 < 00:50, 6.39 it/s, Epoch 1/5]\n",
       "    </div>\n",
       "    <table border=\"1\" class=\"dataframe\">\n",
       "  <thead>\n",
       " <tr style=\"text-align: left;\">\n",
       "      <th>Epoch</th>\n",
       "      <th>Training Loss</th>\n",
       "      <th>Validation Loss</th>\n",
       "      <th>Accuracy</th>\n",
       "    </tr>\n",
       "  </thead>\n",
       "  <tbody>\n",
       "    <tr>\n",
       "      <td>1</td>\n",
       "      <td>No log</td>\n",
       "      <td>0.414439</td>\n",
       "      <td>0.137419</td>\n",
       "    </tr>\n",
       "  </tbody>\n",
       "</table><p>"
      ],
      "text/plain": [
       "<IPython.core.display.HTML object>"
      ]
     },
     "metadata": {},
     "output_type": "display_data"
    },
    {
     "name": "stderr",
     "output_type": "stream",
     "text": [
      "[I 2025-08-24 05:55:22,277] Trial 8 pruned. \n",
      "/home/dev/.venv/lib/python3.9/site-packages/torch/nn/parallel/_functions.py:71: UserWarning: Was asked to gather along dimension 0, but all input tensors were scalars; will instead unsqueeze and return a vector.\n",
      "  warnings.warn(\n"
     ]
    },
    {
     "data": {
      "text/html": [
       "\n",
       "    <div>\n",
       "      \n",
       "      <progress value='80' max='480' style='width:300px; height:20px; vertical-align: middle;'></progress>\n",
       "      [ 80/480 00:12 < 01:01, 6.48 it/s, Epoch 1/6]\n",
       "    </div>\n",
       "    <table border=\"1\" class=\"dataframe\">\n",
       "  <thead>\n",
       " <tr style=\"text-align: left;\">\n",
       "      <th>Epoch</th>\n",
       "      <th>Training Loss</th>\n",
       "      <th>Validation Loss</th>\n",
       "      <th>Accuracy</th>\n",
       "    </tr>\n",
       "  </thead>\n",
       "  <tbody>\n",
       "    <tr>\n",
       "      <td>1</td>\n",
       "      <td>No log</td>\n",
       "      <td>0.411088</td>\n",
       "      <td>0.140645</td>\n",
       "    </tr>\n",
       "  </tbody>\n",
       "</table><p>"
      ],
      "text/plain": [
       "<IPython.core.display.HTML object>"
      ]
     },
     "metadata": {},
     "output_type": "display_data"
    },
    {
     "name": "stderr",
     "output_type": "stream",
     "text": [
      "[I 2025-08-24 05:55:34,876] Trial 9 pruned. \n",
      "/home/dev/.venv/lib/python3.9/site-packages/torch/nn/parallel/_functions.py:71: UserWarning: Was asked to gather along dimension 0, but all input tensors were scalars; will instead unsqueeze and return a vector.\n",
      "  warnings.warn(\n"
     ]
    },
    {
     "data": {
      "text/html": [
       "\n",
       "    <div>\n",
       "      \n",
       "      <progress value='800' max='800' style='width:300px; height:20px; vertical-align: middle;'></progress>\n",
       "      [800/800 01:58, Epoch 10/10]\n",
       "    </div>\n",
       "    <table border=\"1\" class=\"dataframe\">\n",
       "  <thead>\n",
       " <tr style=\"text-align: left;\">\n",
       "      <th>Epoch</th>\n",
       "      <th>Training Loss</th>\n",
       "      <th>Validation Loss</th>\n",
       "      <th>Accuracy</th>\n",
       "    </tr>\n",
       "  </thead>\n",
       "  <tbody>\n",
       "    <tr>\n",
       "      <td>1</td>\n",
       "      <td>No log</td>\n",
       "      <td>0.838486</td>\n",
       "      <td>0.381613</td>\n",
       "    </tr>\n",
       "    <tr>\n",
       "      <td>2</td>\n",
       "      <td>No log</td>\n",
       "      <td>0.558118</td>\n",
       "      <td>0.615484</td>\n",
       "    </tr>\n",
       "    <tr>\n",
       "      <td>3</td>\n",
       "      <td>No log</td>\n",
       "      <td>0.374138</td>\n",
       "      <td>0.727097</td>\n",
       "    </tr>\n",
       "    <tr>\n",
       "      <td>4</td>\n",
       "      <td>0.675600</td>\n",
       "      <td>0.258400</td>\n",
       "      <td>0.791290</td>\n",
       "    </tr>\n",
       "    <tr>\n",
       "      <td>5</td>\n",
       "      <td>0.675600</td>\n",
       "      <td>0.187698</td>\n",
       "      <td>0.826129</td>\n",
       "    </tr>\n",
       "    <tr>\n",
       "      <td>6</td>\n",
       "      <td>0.675600</td>\n",
       "      <td>0.145831</td>\n",
       "      <td>0.842581</td>\n",
       "    </tr>\n",
       "    <tr>\n",
       "      <td>7</td>\n",
       "      <td>0.675600</td>\n",
       "      <td>0.121131</td>\n",
       "      <td>0.860968</td>\n",
       "    </tr>\n",
       "    <tr>\n",
       "      <td>8</td>\n",
       "      <td>0.209500</td>\n",
       "      <td>0.106884</td>\n",
       "      <td>0.868387</td>\n",
       "    </tr>\n",
       "    <tr>\n",
       "      <td>9</td>\n",
       "      <td>0.209500</td>\n",
       "      <td>0.099177</td>\n",
       "      <td>0.872903</td>\n",
       "    </tr>\n",
       "    <tr>\n",
       "      <td>10</td>\n",
       "      <td>0.209500</td>\n",
       "      <td>0.096908</td>\n",
       "      <td>0.877097</td>\n",
       "    </tr>\n",
       "  </tbody>\n",
       "</table><p>"
      ],
      "text/plain": [
       "<IPython.core.display.HTML object>"
      ]
     },
     "metadata": {},
     "output_type": "display_data"
    },
    {
     "name": "stderr",
     "output_type": "stream",
     "text": [
      "/home/dev/.venv/lib/python3.9/site-packages/torch/nn/parallel/_functions.py:71: UserWarning: Was asked to gather along dimension 0, but all input tensors were scalars; will instead unsqueeze and return a vector.\n",
      "  warnings.warn(\n",
      "/home/dev/.venv/lib/python3.9/site-packages/torch/nn/parallel/_functions.py:71: UserWarning: Was asked to gather along dimension 0, but all input tensors were scalars; will instead unsqueeze and return a vector.\n",
      "  warnings.warn(\n",
      "/home/dev/.venv/lib/python3.9/site-packages/torch/nn/parallel/_functions.py:71: UserWarning: Was asked to gather along dimension 0, but all input tensors were scalars; will instead unsqueeze and return a vector.\n",
      "  warnings.warn(\n",
      "/home/dev/.venv/lib/python3.9/site-packages/torch/nn/parallel/_functions.py:71: UserWarning: Was asked to gather along dimension 0, but all input tensors were scalars; will instead unsqueeze and return a vector.\n",
      "  warnings.warn(\n",
      "/home/dev/.venv/lib/python3.9/site-packages/torch/nn/parallel/_functions.py:71: UserWarning: Was asked to gather along dimension 0, but all input tensors were scalars; will instead unsqueeze and return a vector.\n",
      "  warnings.warn(\n",
      "/home/dev/.venv/lib/python3.9/site-packages/torch/nn/parallel/_functions.py:71: UserWarning: Was asked to gather along dimension 0, but all input tensors were scalars; will instead unsqueeze and return a vector.\n",
      "  warnings.warn(\n",
      "/home/dev/.venv/lib/python3.9/site-packages/torch/nn/parallel/_functions.py:71: UserWarning: Was asked to gather along dimension 0, but all input tensors were scalars; will instead unsqueeze and return a vector.\n",
      "  warnings.warn(\n",
      "/home/dev/.venv/lib/python3.9/site-packages/torch/nn/parallel/_functions.py:71: UserWarning: Was asked to gather along dimension 0, but all input tensors were scalars; will instead unsqueeze and return a vector.\n",
      "  warnings.warn(\n",
      "/home/dev/.venv/lib/python3.9/site-packages/torch/nn/parallel/_functions.py:71: UserWarning: Was asked to gather along dimension 0, but all input tensors were scalars; will instead unsqueeze and return a vector.\n",
      "  warnings.warn(\n",
      "/home/dev/.venv/lib/python3.9/site-packages/torch/nn/parallel/_functions.py:71: UserWarning: Was asked to gather along dimension 0, but all input tensors were scalars; will instead unsqueeze and return a vector.\n",
      "  warnings.warn(\n",
      "[I 2025-08-24 05:57:34,367] Trial 10 finished with value: 0.8770967741935484 and parameters: {'num_train_epochs': 10, 'alpha': 0.025956638768517948, 'temperature': 2}. Best is trial 10 with value: 0.8770967741935484.\n",
      "/home/dev/.venv/lib/python3.9/site-packages/torch/nn/parallel/_functions.py:71: UserWarning: Was asked to gather along dimension 0, but all input tensors were scalars; will instead unsqueeze and return a vector.\n",
      "  warnings.warn(\n"
     ]
    },
    {
     "data": {
      "text/html": [
       "\n",
       "    <div>\n",
       "      \n",
       "      <progress value='800' max='800' style='width:300px; height:20px; vertical-align: middle;'></progress>\n",
       "      [800/800 01:50, Epoch 10/10]\n",
       "    </div>\n",
       "    <table border=\"1\" class=\"dataframe\">\n",
       "  <thead>\n",
       " <tr style=\"text-align: left;\">\n",
       "      <th>Epoch</th>\n",
       "      <th>Training Loss</th>\n",
       "      <th>Validation Loss</th>\n",
       "      <th>Accuracy</th>\n",
       "    </tr>\n",
       "  </thead>\n",
       "  <tbody>\n",
       "    <tr>\n",
       "      <td>1</td>\n",
       "      <td>No log</td>\n",
       "      <td>0.838486</td>\n",
       "      <td>0.381613</td>\n",
       "    </tr>\n",
       "    <tr>\n",
       "      <td>2</td>\n",
       "      <td>No log</td>\n",
       "      <td>0.558118</td>\n",
       "      <td>0.615484</td>\n",
       "    </tr>\n",
       "    <tr>\n",
       "      <td>3</td>\n",
       "      <td>No log</td>\n",
       "      <td>0.374138</td>\n",
       "      <td>0.727097</td>\n",
       "    </tr>\n",
       "    <tr>\n",
       "      <td>4</td>\n",
       "      <td>0.675600</td>\n",
       "      <td>0.258400</td>\n",
       "      <td>0.791290</td>\n",
       "    </tr>\n",
       "    <tr>\n",
       "      <td>5</td>\n",
       "      <td>0.675600</td>\n",
       "      <td>0.187698</td>\n",
       "      <td>0.826129</td>\n",
       "    </tr>\n",
       "    <tr>\n",
       "      <td>6</td>\n",
       "      <td>0.675600</td>\n",
       "      <td>0.145831</td>\n",
       "      <td>0.842581</td>\n",
       "    </tr>\n",
       "    <tr>\n",
       "      <td>7</td>\n",
       "      <td>0.675600</td>\n",
       "      <td>0.121131</td>\n",
       "      <td>0.860968</td>\n",
       "    </tr>\n",
       "    <tr>\n",
       "      <td>8</td>\n",
       "      <td>0.209500</td>\n",
       "      <td>0.106884</td>\n",
       "      <td>0.868387</td>\n",
       "    </tr>\n",
       "    <tr>\n",
       "      <td>9</td>\n",
       "      <td>0.209500</td>\n",
       "      <td>0.099177</td>\n",
       "      <td>0.872903</td>\n",
       "    </tr>\n",
       "    <tr>\n",
       "      <td>10</td>\n",
       "      <td>0.209500</td>\n",
       "      <td>0.096908</td>\n",
       "      <td>0.877097</td>\n",
       "    </tr>\n",
       "  </tbody>\n",
       "</table><p>"
      ],
      "text/plain": [
       "<IPython.core.display.HTML object>"
      ]
     },
     "metadata": {},
     "output_type": "display_data"
    },
    {
     "name": "stderr",
     "output_type": "stream",
     "text": [
      "/home/dev/.venv/lib/python3.9/site-packages/torch/nn/parallel/_functions.py:71: UserWarning: Was asked to gather along dimension 0, but all input tensors were scalars; will instead unsqueeze and return a vector.\n",
      "  warnings.warn(\n",
      "/home/dev/.venv/lib/python3.9/site-packages/torch/nn/parallel/_functions.py:71: UserWarning: Was asked to gather along dimension 0, but all input tensors were scalars; will instead unsqueeze and return a vector.\n",
      "  warnings.warn(\n",
      "/home/dev/.venv/lib/python3.9/site-packages/torch/nn/parallel/_functions.py:71: UserWarning: Was asked to gather along dimension 0, but all input tensors were scalars; will instead unsqueeze and return a vector.\n",
      "  warnings.warn(\n",
      "/home/dev/.venv/lib/python3.9/site-packages/torch/nn/parallel/_functions.py:71: UserWarning: Was asked to gather along dimension 0, but all input tensors were scalars; will instead unsqueeze and return a vector.\n",
      "  warnings.warn(\n",
      "/home/dev/.venv/lib/python3.9/site-packages/torch/nn/parallel/_functions.py:71: UserWarning: Was asked to gather along dimension 0, but all input tensors were scalars; will instead unsqueeze and return a vector.\n",
      "  warnings.warn(\n",
      "/home/dev/.venv/lib/python3.9/site-packages/torch/nn/parallel/_functions.py:71: UserWarning: Was asked to gather along dimension 0, but all input tensors were scalars; will instead unsqueeze and return a vector.\n",
      "  warnings.warn(\n",
      "/home/dev/.venv/lib/python3.9/site-packages/torch/nn/parallel/_functions.py:71: UserWarning: Was asked to gather along dimension 0, but all input tensors were scalars; will instead unsqueeze and return a vector.\n",
      "  warnings.warn(\n",
      "/home/dev/.venv/lib/python3.9/site-packages/torch/nn/parallel/_functions.py:71: UserWarning: Was asked to gather along dimension 0, but all input tensors were scalars; will instead unsqueeze and return a vector.\n",
      "  warnings.warn(\n",
      "/home/dev/.venv/lib/python3.9/site-packages/torch/nn/parallel/_functions.py:71: UserWarning: Was asked to gather along dimension 0, but all input tensors were scalars; will instead unsqueeze and return a vector.\n",
      "  warnings.warn(\n",
      "/home/dev/.venv/lib/python3.9/site-packages/torch/nn/parallel/_functions.py:71: UserWarning: Was asked to gather along dimension 0, but all input tensors were scalars; will instead unsqueeze and return a vector.\n",
      "  warnings.warn(\n",
      "[I 2025-08-24 05:59:25,756] Trial 11 finished with value: 0.8770967741935484 and parameters: {'num_train_epochs': 10, 'alpha': 0.03708611067487011, 'temperature': 2}. Best is trial 10 with value: 0.8770967741935484.\n",
      "/home/dev/.venv/lib/python3.9/site-packages/torch/nn/parallel/_functions.py:71: UserWarning: Was asked to gather along dimension 0, but all input tensors were scalars; will instead unsqueeze and return a vector.\n",
      "  warnings.warn(\n"
     ]
    },
    {
     "data": {
      "text/html": [
       "\n",
       "    <div>\n",
       "      \n",
       "      <progress value='800' max='800' style='width:300px; height:20px; vertical-align: middle;'></progress>\n",
       "      [800/800 01:49, Epoch 10/10]\n",
       "    </div>\n",
       "    <table border=\"1\" class=\"dataframe\">\n",
       "  <thead>\n",
       " <tr style=\"text-align: left;\">\n",
       "      <th>Epoch</th>\n",
       "      <th>Training Loss</th>\n",
       "      <th>Validation Loss</th>\n",
       "      <th>Accuracy</th>\n",
       "    </tr>\n",
       "  </thead>\n",
       "  <tbody>\n",
       "    <tr>\n",
       "      <td>1</td>\n",
       "      <td>No log</td>\n",
       "      <td>0.838486</td>\n",
       "      <td>0.381613</td>\n",
       "    </tr>\n",
       "    <tr>\n",
       "      <td>2</td>\n",
       "      <td>No log</td>\n",
       "      <td>0.558118</td>\n",
       "      <td>0.615484</td>\n",
       "    </tr>\n",
       "    <tr>\n",
       "      <td>3</td>\n",
       "      <td>No log</td>\n",
       "      <td>0.374138</td>\n",
       "      <td>0.727097</td>\n",
       "    </tr>\n",
       "    <tr>\n",
       "      <td>4</td>\n",
       "      <td>0.675600</td>\n",
       "      <td>0.258400</td>\n",
       "      <td>0.791290</td>\n",
       "    </tr>\n",
       "    <tr>\n",
       "      <td>5</td>\n",
       "      <td>0.675600</td>\n",
       "      <td>0.187698</td>\n",
       "      <td>0.826129</td>\n",
       "    </tr>\n",
       "    <tr>\n",
       "      <td>6</td>\n",
       "      <td>0.675600</td>\n",
       "      <td>0.145831</td>\n",
       "      <td>0.842581</td>\n",
       "    </tr>\n",
       "    <tr>\n",
       "      <td>7</td>\n",
       "      <td>0.675600</td>\n",
       "      <td>0.121131</td>\n",
       "      <td>0.860968</td>\n",
       "    </tr>\n",
       "    <tr>\n",
       "      <td>8</td>\n",
       "      <td>0.209500</td>\n",
       "      <td>0.106884</td>\n",
       "      <td>0.868387</td>\n",
       "    </tr>\n",
       "    <tr>\n",
       "      <td>9</td>\n",
       "      <td>0.209500</td>\n",
       "      <td>0.099177</td>\n",
       "      <td>0.872903</td>\n",
       "    </tr>\n",
       "    <tr>\n",
       "      <td>10</td>\n",
       "      <td>0.209500</td>\n",
       "      <td>0.096908</td>\n",
       "      <td>0.877097</td>\n",
       "    </tr>\n",
       "  </tbody>\n",
       "</table><p>"
      ],
      "text/plain": [
       "<IPython.core.display.HTML object>"
      ]
     },
     "metadata": {},
     "output_type": "display_data"
    },
    {
     "name": "stderr",
     "output_type": "stream",
     "text": [
      "/home/dev/.venv/lib/python3.9/site-packages/torch/nn/parallel/_functions.py:71: UserWarning: Was asked to gather along dimension 0, but all input tensors were scalars; will instead unsqueeze and return a vector.\n",
      "  warnings.warn(\n",
      "/home/dev/.venv/lib/python3.9/site-packages/torch/nn/parallel/_functions.py:71: UserWarning: Was asked to gather along dimension 0, but all input tensors were scalars; will instead unsqueeze and return a vector.\n",
      "  warnings.warn(\n",
      "/home/dev/.venv/lib/python3.9/site-packages/torch/nn/parallel/_functions.py:71: UserWarning: Was asked to gather along dimension 0, but all input tensors were scalars; will instead unsqueeze and return a vector.\n",
      "  warnings.warn(\n",
      "/home/dev/.venv/lib/python3.9/site-packages/torch/nn/parallel/_functions.py:71: UserWarning: Was asked to gather along dimension 0, but all input tensors were scalars; will instead unsqueeze and return a vector.\n",
      "  warnings.warn(\n",
      "/home/dev/.venv/lib/python3.9/site-packages/torch/nn/parallel/_functions.py:71: UserWarning: Was asked to gather along dimension 0, but all input tensors were scalars; will instead unsqueeze and return a vector.\n",
      "  warnings.warn(\n",
      "/home/dev/.venv/lib/python3.9/site-packages/torch/nn/parallel/_functions.py:71: UserWarning: Was asked to gather along dimension 0, but all input tensors were scalars; will instead unsqueeze and return a vector.\n",
      "  warnings.warn(\n",
      "/home/dev/.venv/lib/python3.9/site-packages/torch/nn/parallel/_functions.py:71: UserWarning: Was asked to gather along dimension 0, but all input tensors were scalars; will instead unsqueeze and return a vector.\n",
      "  warnings.warn(\n",
      "/home/dev/.venv/lib/python3.9/site-packages/torch/nn/parallel/_functions.py:71: UserWarning: Was asked to gather along dimension 0, but all input tensors were scalars; will instead unsqueeze and return a vector.\n",
      "  warnings.warn(\n",
      "/home/dev/.venv/lib/python3.9/site-packages/torch/nn/parallel/_functions.py:71: UserWarning: Was asked to gather along dimension 0, but all input tensors were scalars; will instead unsqueeze and return a vector.\n",
      "  warnings.warn(\n",
      "/home/dev/.venv/lib/python3.9/site-packages/torch/nn/parallel/_functions.py:71: UserWarning: Was asked to gather along dimension 0, but all input tensors were scalars; will instead unsqueeze and return a vector.\n",
      "  warnings.warn(\n",
      "[I 2025-08-24 06:01:16,388] Trial 12 finished with value: 0.8770967741935484 and parameters: {'num_train_epochs': 10, 'alpha': 0.004991498446404924, 'temperature': 2}. Best is trial 10 with value: 0.8770967741935484.\n",
      "/home/dev/.venv/lib/python3.9/site-packages/torch/nn/parallel/_functions.py:71: UserWarning: Was asked to gather along dimension 0, but all input tensors were scalars; will instead unsqueeze and return a vector.\n",
      "  warnings.warn(\n"
     ]
    },
    {
     "data": {
      "text/html": [
       "\n",
       "    <div>\n",
       "      \n",
       "      <progress value='80' max='800' style='width:300px; height:20px; vertical-align: middle;'></progress>\n",
       "      [ 80/800 00:10 < 01:39, 7.27 it/s, Epoch 1/10]\n",
       "    </div>\n",
       "    <table border=\"1\" class=\"dataframe\">\n",
       "  <thead>\n",
       " <tr style=\"text-align: left;\">\n",
       "      <th>Epoch</th>\n",
       "      <th>Training Loss</th>\n",
       "      <th>Validation Loss</th>\n",
       "      <th>Accuracy</th>\n",
       "    </tr>\n",
       "  </thead>\n",
       "  <tbody>\n",
       "    <tr>\n",
       "      <td>1</td>\n",
       "      <td>No log</td>\n",
       "      <td>0.422190</td>\n",
       "      <td>0.155161</td>\n",
       "    </tr>\n",
       "  </tbody>\n",
       "</table><p>"
      ],
      "text/plain": [
       "<IPython.core.display.HTML object>"
      ]
     },
     "metadata": {},
     "output_type": "display_data"
    },
    {
     "name": "stderr",
     "output_type": "stream",
     "text": [
      "[I 2025-08-24 06:01:27,610] Trial 13 pruned. \n",
      "/home/dev/.venv/lib/python3.9/site-packages/torch/nn/parallel/_functions.py:71: UserWarning: Was asked to gather along dimension 0, but all input tensors were scalars; will instead unsqueeze and return a vector.\n",
      "  warnings.warn(\n"
     ]
    },
    {
     "data": {
      "text/html": [
       "\n",
       "    <div>\n",
       "      \n",
       "      <progress value='800' max='800' style='width:300px; height:20px; vertical-align: middle;'></progress>\n",
       "      [800/800 01:50, Epoch 10/10]\n",
       "    </div>\n",
       "    <table border=\"1\" class=\"dataframe\">\n",
       "  <thead>\n",
       " <tr style=\"text-align: left;\">\n",
       "      <th>Epoch</th>\n",
       "      <th>Training Loss</th>\n",
       "      <th>Validation Loss</th>\n",
       "      <th>Accuracy</th>\n",
       "    </tr>\n",
       "  </thead>\n",
       "  <tbody>\n",
       "    <tr>\n",
       "      <td>1</td>\n",
       "      <td>No log</td>\n",
       "      <td>0.838486</td>\n",
       "      <td>0.381613</td>\n",
       "    </tr>\n",
       "    <tr>\n",
       "      <td>2</td>\n",
       "      <td>No log</td>\n",
       "      <td>0.558118</td>\n",
       "      <td>0.615484</td>\n",
       "    </tr>\n",
       "    <tr>\n",
       "      <td>3</td>\n",
       "      <td>No log</td>\n",
       "      <td>0.374138</td>\n",
       "      <td>0.727097</td>\n",
       "    </tr>\n",
       "    <tr>\n",
       "      <td>4</td>\n",
       "      <td>0.675600</td>\n",
       "      <td>0.258400</td>\n",
       "      <td>0.791290</td>\n",
       "    </tr>\n",
       "    <tr>\n",
       "      <td>5</td>\n",
       "      <td>0.675600</td>\n",
       "      <td>0.187698</td>\n",
       "      <td>0.826129</td>\n",
       "    </tr>\n",
       "    <tr>\n",
       "      <td>6</td>\n",
       "      <td>0.675600</td>\n",
       "      <td>0.145831</td>\n",
       "      <td>0.842581</td>\n",
       "    </tr>\n",
       "    <tr>\n",
       "      <td>7</td>\n",
       "      <td>0.675600</td>\n",
       "      <td>0.121131</td>\n",
       "      <td>0.860968</td>\n",
       "    </tr>\n",
       "    <tr>\n",
       "      <td>8</td>\n",
       "      <td>0.209500</td>\n",
       "      <td>0.106884</td>\n",
       "      <td>0.868387</td>\n",
       "    </tr>\n",
       "    <tr>\n",
       "      <td>9</td>\n",
       "      <td>0.209500</td>\n",
       "      <td>0.099177</td>\n",
       "      <td>0.872903</td>\n",
       "    </tr>\n",
       "    <tr>\n",
       "      <td>10</td>\n",
       "      <td>0.209500</td>\n",
       "      <td>0.096908</td>\n",
       "      <td>0.877097</td>\n",
       "    </tr>\n",
       "  </tbody>\n",
       "</table><p>"
      ],
      "text/plain": [
       "<IPython.core.display.HTML object>"
      ]
     },
     "metadata": {},
     "output_type": "display_data"
    },
    {
     "name": "stderr",
     "output_type": "stream",
     "text": [
      "/home/dev/.venv/lib/python3.9/site-packages/torch/nn/parallel/_functions.py:71: UserWarning: Was asked to gather along dimension 0, but all input tensors were scalars; will instead unsqueeze and return a vector.\n",
      "  warnings.warn(\n",
      "/home/dev/.venv/lib/python3.9/site-packages/torch/nn/parallel/_functions.py:71: UserWarning: Was asked to gather along dimension 0, but all input tensors were scalars; will instead unsqueeze and return a vector.\n",
      "  warnings.warn(\n",
      "/home/dev/.venv/lib/python3.9/site-packages/torch/nn/parallel/_functions.py:71: UserWarning: Was asked to gather along dimension 0, but all input tensors were scalars; will instead unsqueeze and return a vector.\n",
      "  warnings.warn(\n",
      "/home/dev/.venv/lib/python3.9/site-packages/torch/nn/parallel/_functions.py:71: UserWarning: Was asked to gather along dimension 0, but all input tensors were scalars; will instead unsqueeze and return a vector.\n",
      "  warnings.warn(\n",
      "/home/dev/.venv/lib/python3.9/site-packages/torch/nn/parallel/_functions.py:71: UserWarning: Was asked to gather along dimension 0, but all input tensors were scalars; will instead unsqueeze and return a vector.\n",
      "  warnings.warn(\n",
      "/home/dev/.venv/lib/python3.9/site-packages/torch/nn/parallel/_functions.py:71: UserWarning: Was asked to gather along dimension 0, but all input tensors were scalars; will instead unsqueeze and return a vector.\n",
      "  warnings.warn(\n",
      "/home/dev/.venv/lib/python3.9/site-packages/torch/nn/parallel/_functions.py:71: UserWarning: Was asked to gather along dimension 0, but all input tensors were scalars; will instead unsqueeze and return a vector.\n",
      "  warnings.warn(\n",
      "/home/dev/.venv/lib/python3.9/site-packages/torch/nn/parallel/_functions.py:71: UserWarning: Was asked to gather along dimension 0, but all input tensors were scalars; will instead unsqueeze and return a vector.\n",
      "  warnings.warn(\n",
      "/home/dev/.venv/lib/python3.9/site-packages/torch/nn/parallel/_functions.py:71: UserWarning: Was asked to gather along dimension 0, but all input tensors were scalars; will instead unsqueeze and return a vector.\n",
      "  warnings.warn(\n",
      "/home/dev/.venv/lib/python3.9/site-packages/torch/nn/parallel/_functions.py:71: UserWarning: Was asked to gather along dimension 0, but all input tensors were scalars; will instead unsqueeze and return a vector.\n",
      "  warnings.warn(\n",
      "[I 2025-08-24 06:03:18,966] Trial 14 finished with value: 0.8770967741935484 and parameters: {'num_train_epochs': 10, 'alpha': 0.20442757854938817, 'temperature': 2}. Best is trial 10 with value: 0.8770967741935484.\n",
      "/home/dev/.venv/lib/python3.9/site-packages/torch/nn/parallel/_functions.py:71: UserWarning: Was asked to gather along dimension 0, but all input tensors were scalars; will instead unsqueeze and return a vector.\n",
      "  warnings.warn(\n"
     ]
    },
    {
     "data": {
      "text/html": [
       "\n",
       "    <div>\n",
       "      \n",
       "      <progress value='80' max='720' style='width:300px; height:20px; vertical-align: middle;'></progress>\n",
       "      [ 80/720 00:10 < 01:28, 7.26 it/s, Epoch 1/9]\n",
       "    </div>\n",
       "    <table border=\"1\" class=\"dataframe\">\n",
       "  <thead>\n",
       " <tr style=\"text-align: left;\">\n",
       "      <th>Epoch</th>\n",
       "      <th>Training Loss</th>\n",
       "      <th>Validation Loss</th>\n",
       "      <th>Accuracy</th>\n",
       "    </tr>\n",
       "  </thead>\n",
       "  <tbody>\n",
       "    <tr>\n",
       "      <td>1</td>\n",
       "      <td>No log</td>\n",
       "      <td>0.427842</td>\n",
       "      <td>0.155484</td>\n",
       "    </tr>\n",
       "  </tbody>\n",
       "</table><p>"
      ],
      "text/plain": [
       "<IPython.core.display.HTML object>"
      ]
     },
     "metadata": {},
     "output_type": "display_data"
    },
    {
     "name": "stderr",
     "output_type": "stream",
     "text": [
      "[I 2025-08-24 06:03:30,198] Trial 15 pruned. \n",
      "/home/dev/.venv/lib/python3.9/site-packages/torch/nn/parallel/_functions.py:71: UserWarning: Was asked to gather along dimension 0, but all input tensors were scalars; will instead unsqueeze and return a vector.\n",
      "  warnings.warn(\n"
     ]
    },
    {
     "data": {
      "text/html": [
       "\n",
       "    <div>\n",
       "      \n",
       "      <progress value='80' max='720' style='width:300px; height:20px; vertical-align: middle;'></progress>\n",
       "      [ 80/720 00:10 < 01:27, 7.28 it/s, Epoch 1/9]\n",
       "    </div>\n",
       "    <table border=\"1\" class=\"dataframe\">\n",
       "  <thead>\n",
       " <tr style=\"text-align: left;\">\n",
       "      <th>Epoch</th>\n",
       "      <th>Training Loss</th>\n",
       "      <th>Validation Loss</th>\n",
       "      <th>Accuracy</th>\n",
       "    </tr>\n",
       "  </thead>\n",
       "  <tbody>\n",
       "    <tr>\n",
       "      <td>1</td>\n",
       "      <td>No log</td>\n",
       "      <td>0.414058</td>\n",
       "      <td>0.149032</td>\n",
       "    </tr>\n",
       "  </tbody>\n",
       "</table><p>"
      ],
      "text/plain": [
       "<IPython.core.display.HTML object>"
      ]
     },
     "metadata": {},
     "output_type": "display_data"
    },
    {
     "name": "stderr",
     "output_type": "stream",
     "text": [
      "[I 2025-08-24 06:03:41,443] Trial 16 pruned. \n",
      "/home/dev/.venv/lib/python3.9/site-packages/torch/nn/parallel/_functions.py:71: UserWarning: Was asked to gather along dimension 0, but all input tensors were scalars; will instead unsqueeze and return a vector.\n",
      "  warnings.warn(\n"
     ]
    },
    {
     "data": {
      "text/html": [
       "\n",
       "    <div>\n",
       "      \n",
       "      <progress value='560' max='800' style='width:300px; height:20px; vertical-align: middle;'></progress>\n",
       "      [560/800 01:16 < 00:32, 7.33 it/s, Epoch 7/10]\n",
       "    </div>\n",
       "    <table border=\"1\" class=\"dataframe\">\n",
       "  <thead>\n",
       " <tr style=\"text-align: left;\">\n",
       "      <th>Epoch</th>\n",
       "      <th>Training Loss</th>\n",
       "      <th>Validation Loss</th>\n",
       "      <th>Accuracy</th>\n",
       "    </tr>\n",
       "  </thead>\n",
       "  <tbody>\n",
       "    <tr>\n",
       "      <td>1</td>\n",
       "      <td>No log</td>\n",
       "      <td>0.605155</td>\n",
       "      <td>0.287419</td>\n",
       "    </tr>\n",
       "    <tr>\n",
       "      <td>2</td>\n",
       "      <td>No log</td>\n",
       "      <td>0.393293</td>\n",
       "      <td>0.558065</td>\n",
       "    </tr>\n",
       "    <tr>\n",
       "      <td>3</td>\n",
       "      <td>No log</td>\n",
       "      <td>0.267097</td>\n",
       "      <td>0.700323</td>\n",
       "    </tr>\n",
       "    <tr>\n",
       "      <td>4</td>\n",
       "      <td>0.484500</td>\n",
       "      <td>0.192789</td>\n",
       "      <td>0.783226</td>\n",
       "    </tr>\n",
       "    <tr>\n",
       "      <td>5</td>\n",
       "      <td>0.484500</td>\n",
       "      <td>0.147512</td>\n",
       "      <td>0.826452</td>\n",
       "    </tr>\n",
       "    <tr>\n",
       "      <td>6</td>\n",
       "      <td>0.484500</td>\n",
       "      <td>0.120455</td>\n",
       "      <td>0.848065</td>\n",
       "    </tr>\n",
       "    <tr>\n",
       "      <td>7</td>\n",
       "      <td>0.484500</td>\n",
       "      <td>0.103969</td>\n",
       "      <td>0.860323</td>\n",
       "    </tr>\n",
       "  </tbody>\n",
       "</table><p>"
      ],
      "text/plain": [
       "<IPython.core.display.HTML object>"
      ]
     },
     "metadata": {},
     "output_type": "display_data"
    },
    {
     "name": "stderr",
     "output_type": "stream",
     "text": [
      "/home/dev/.venv/lib/python3.9/site-packages/torch/nn/parallel/_functions.py:71: UserWarning: Was asked to gather along dimension 0, but all input tensors were scalars; will instead unsqueeze and return a vector.\n",
      "  warnings.warn(\n",
      "/home/dev/.venv/lib/python3.9/site-packages/torch/nn/parallel/_functions.py:71: UserWarning: Was asked to gather along dimension 0, but all input tensors were scalars; will instead unsqueeze and return a vector.\n",
      "  warnings.warn(\n",
      "/home/dev/.venv/lib/python3.9/site-packages/torch/nn/parallel/_functions.py:71: UserWarning: Was asked to gather along dimension 0, but all input tensors were scalars; will instead unsqueeze and return a vector.\n",
      "  warnings.warn(\n",
      "/home/dev/.venv/lib/python3.9/site-packages/torch/nn/parallel/_functions.py:71: UserWarning: Was asked to gather along dimension 0, but all input tensors were scalars; will instead unsqueeze and return a vector.\n",
      "  warnings.warn(\n",
      "/home/dev/.venv/lib/python3.9/site-packages/torch/nn/parallel/_functions.py:71: UserWarning: Was asked to gather along dimension 0, but all input tensors were scalars; will instead unsqueeze and return a vector.\n",
      "  warnings.warn(\n",
      "/home/dev/.venv/lib/python3.9/site-packages/torch/nn/parallel/_functions.py:71: UserWarning: Was asked to gather along dimension 0, but all input tensors were scalars; will instead unsqueeze and return a vector.\n",
      "  warnings.warn(\n",
      "[I 2025-08-24 06:04:58,060] Trial 17 pruned. \n",
      "/home/dev/.venv/lib/python3.9/site-packages/torch/nn/parallel/_functions.py:71: UserWarning: Was asked to gather along dimension 0, but all input tensors were scalars; will instead unsqueeze and return a vector.\n",
      "  warnings.warn(\n"
     ]
    },
    {
     "data": {
      "text/html": [
       "\n",
       "    <div>\n",
       "      \n",
       "      <progress value='80' max='640' style='width:300px; height:20px; vertical-align: middle;'></progress>\n",
       "      [ 80/640 00:10 < 01:17, 7.26 it/s, Epoch 1/8]\n",
       "    </div>\n",
       "    <table border=\"1\" class=\"dataframe\">\n",
       "  <thead>\n",
       " <tr style=\"text-align: left;\">\n",
       "      <th>Epoch</th>\n",
       "      <th>Training Loss</th>\n",
       "      <th>Validation Loss</th>\n",
       "      <th>Accuracy</th>\n",
       "    </tr>\n",
       "  </thead>\n",
       "  <tbody>\n",
       "    <tr>\n",
       "      <td>1</td>\n",
       "      <td>No log</td>\n",
       "      <td>0.442380</td>\n",
       "      <td>0.163548</td>\n",
       "    </tr>\n",
       "  </tbody>\n",
       "</table><p>"
      ],
      "text/plain": [
       "<IPython.core.display.HTML object>"
      ]
     },
     "metadata": {},
     "output_type": "display_data"
    },
    {
     "name": "stderr",
     "output_type": "stream",
     "text": [
      "[I 2025-08-24 06:05:09,343] Trial 18 pruned. \n",
      "/home/dev/.venv/lib/python3.9/site-packages/torch/nn/parallel/_functions.py:71: UserWarning: Was asked to gather along dimension 0, but all input tensors were scalars; will instead unsqueeze and return a vector.\n",
      "  warnings.warn(\n"
     ]
    },
    {
     "data": {
      "text/html": [
       "\n",
       "    <div>\n",
       "      \n",
       "      <progress value='80' max='560' style='width:300px; height:20px; vertical-align: middle;'></progress>\n",
       "      [ 80/560 00:10 < 01:06, 7.26 it/s, Epoch 1/7]\n",
       "    </div>\n",
       "    <table border=\"1\" class=\"dataframe\">\n",
       "  <thead>\n",
       " <tr style=\"text-align: left;\">\n",
       "      <th>Epoch</th>\n",
       "      <th>Training Loss</th>\n",
       "      <th>Validation Loss</th>\n",
       "      <th>Accuracy</th>\n",
       "    </tr>\n",
       "  </thead>\n",
       "  <tbody>\n",
       "    <tr>\n",
       "      <td>1</td>\n",
       "      <td>No log</td>\n",
       "      <td>0.426441</td>\n",
       "      <td>0.153226</td>\n",
       "    </tr>\n",
       "  </tbody>\n",
       "</table><p>"
      ],
      "text/plain": [
       "<IPython.core.display.HTML object>"
      ]
     },
     "metadata": {},
     "output_type": "display_data"
    },
    {
     "name": "stderr",
     "output_type": "stream",
     "text": [
      "[I 2025-08-24 06:05:20,624] Trial 19 pruned. \n"
     ]
    }
   ],
   "source": [
    "#hide_output\n",
    "best_run = distilbert_trainer.hyperparameter_search(\n",
    "    n_trials=20, direction=\"maximize\", hp_space=hp_space)"
   ]
  },
  {
   "cell_type": "code",
   "execution_count": 40,
   "metadata": {},
   "outputs": [
    {
     "name": "stdout",
     "output_type": "stream",
     "text": [
      "BestRun(run_id='10', objective=0.8770967741935484, hyperparameters={'num_train_epochs': 10, 'alpha': 0.025956638768517948, 'temperature': 2}, run_summary=None)\n"
     ]
    }
   ],
   "source": [
    "print(best_run)"
   ]
  },
  {
   "cell_type": "code",
   "execution_count": 41,
   "metadata": {},
   "outputs": [
    {
     "name": "stderr",
     "output_type": "stream",
     "text": [
      "/tmp/ipykernel_3594215/2429809284.py:7: FutureWarning: `tokenizer` is deprecated and will be removed in version 5.0.0 for `DistillationTrainer.__init__`. Use `processing_class` instead.\n",
      "  super().__init__(*args, **kwargs)\n",
      "/home/dev/.venv/lib/python3.9/site-packages/torch/nn/parallel/_functions.py:71: UserWarning: Was asked to gather along dimension 0, but all input tensors were scalars; will instead unsqueeze and return a vector.\n",
      "  warnings.warn(\n"
     ]
    },
    {
     "data": {
      "text/html": [
       "\n",
       "    <div>\n",
       "      \n",
       "      <progress value='800' max='800' style='width:300px; height:20px; vertical-align: middle;'></progress>\n",
       "      [800/800 01:50, Epoch 10/10]\n",
       "    </div>\n",
       "    <table border=\"1\" class=\"dataframe\">\n",
       "  <thead>\n",
       " <tr style=\"text-align: left;\">\n",
       "      <th>Epoch</th>\n",
       "      <th>Training Loss</th>\n",
       "      <th>Validation Loss</th>\n",
       "      <th>Accuracy</th>\n",
       "    </tr>\n",
       "  </thead>\n",
       "  <tbody>\n",
       "    <tr>\n",
       "      <td>1</td>\n",
       "      <td>No log</td>\n",
       "      <td>0.933152</td>\n",
       "      <td>0.395484</td>\n",
       "    </tr>\n",
       "    <tr>\n",
       "      <td>2</td>\n",
       "      <td>No log</td>\n",
       "      <td>0.637473</td>\n",
       "      <td>0.635806</td>\n",
       "    </tr>\n",
       "    <tr>\n",
       "      <td>3</td>\n",
       "      <td>No log</td>\n",
       "      <td>0.438301</td>\n",
       "      <td>0.739032</td>\n",
       "    </tr>\n",
       "    <tr>\n",
       "      <td>4</td>\n",
       "      <td>0.754900</td>\n",
       "      <td>0.310679</td>\n",
       "      <td>0.798387</td>\n",
       "    </tr>\n",
       "    <tr>\n",
       "      <td>5</td>\n",
       "      <td>0.754900</td>\n",
       "      <td>0.231567</td>\n",
       "      <td>0.832258</td>\n",
       "    </tr>\n",
       "    <tr>\n",
       "      <td>6</td>\n",
       "      <td>0.754900</td>\n",
       "      <td>0.184208</td>\n",
       "      <td>0.852581</td>\n",
       "    </tr>\n",
       "    <tr>\n",
       "      <td>7</td>\n",
       "      <td>0.754900</td>\n",
       "      <td>0.156022</td>\n",
       "      <td>0.867419</td>\n",
       "    </tr>\n",
       "    <tr>\n",
       "      <td>8</td>\n",
       "      <td>0.249100</td>\n",
       "      <td>0.139809</td>\n",
       "      <td>0.878710</td>\n",
       "    </tr>\n",
       "    <tr>\n",
       "      <td>9</td>\n",
       "      <td>0.249100</td>\n",
       "      <td>0.130958</td>\n",
       "      <td>0.883548</td>\n",
       "    </tr>\n",
       "    <tr>\n",
       "      <td>10</td>\n",
       "      <td>0.249100</td>\n",
       "      <td>0.128359</td>\n",
       "      <td>0.887419</td>\n",
       "    </tr>\n",
       "  </tbody>\n",
       "</table><p>"
      ],
      "text/plain": [
       "<IPython.core.display.HTML object>"
      ]
     },
     "metadata": {},
     "output_type": "display_data"
    },
    {
     "name": "stderr",
     "output_type": "stream",
     "text": [
      "/home/dev/.venv/lib/python3.9/site-packages/torch/nn/parallel/_functions.py:71: UserWarning: Was asked to gather along dimension 0, but all input tensors were scalars; will instead unsqueeze and return a vector.\n",
      "  warnings.warn(\n",
      "/home/dev/.venv/lib/python3.9/site-packages/torch/nn/parallel/_functions.py:71: UserWarning: Was asked to gather along dimension 0, but all input tensors were scalars; will instead unsqueeze and return a vector.\n",
      "  warnings.warn(\n",
      "/home/dev/.venv/lib/python3.9/site-packages/torch/nn/parallel/_functions.py:71: UserWarning: Was asked to gather along dimension 0, but all input tensors were scalars; will instead unsqueeze and return a vector.\n",
      "  warnings.warn(\n",
      "/home/dev/.venv/lib/python3.9/site-packages/torch/nn/parallel/_functions.py:71: UserWarning: Was asked to gather along dimension 0, but all input tensors were scalars; will instead unsqueeze and return a vector.\n",
      "  warnings.warn(\n",
      "/home/dev/.venv/lib/python3.9/site-packages/torch/nn/parallel/_functions.py:71: UserWarning: Was asked to gather along dimension 0, but all input tensors were scalars; will instead unsqueeze and return a vector.\n",
      "  warnings.warn(\n",
      "/home/dev/.venv/lib/python3.9/site-packages/torch/nn/parallel/_functions.py:71: UserWarning: Was asked to gather along dimension 0, but all input tensors were scalars; will instead unsqueeze and return a vector.\n",
      "  warnings.warn(\n",
      "/home/dev/.venv/lib/python3.9/site-packages/torch/nn/parallel/_functions.py:71: UserWarning: Was asked to gather along dimension 0, but all input tensors were scalars; will instead unsqueeze and return a vector.\n",
      "  warnings.warn(\n",
      "/home/dev/.venv/lib/python3.9/site-packages/torch/nn/parallel/_functions.py:71: UserWarning: Was asked to gather along dimension 0, but all input tensors were scalars; will instead unsqueeze and return a vector.\n",
      "  warnings.warn(\n",
      "/home/dev/.venv/lib/python3.9/site-packages/torch/nn/parallel/_functions.py:71: UserWarning: Was asked to gather along dimension 0, but all input tensors were scalars; will instead unsqueeze and return a vector.\n",
      "  warnings.warn(\n",
      "/home/dev/.venv/lib/python3.9/site-packages/torch/nn/parallel/_functions.py:71: UserWarning: Was asked to gather along dimension 0, but all input tensors were scalars; will instead unsqueeze and return a vector.\n",
      "  warnings.warn(\n"
     ]
    }
   ],
   "source": [
    "#hide_output\n",
    "for k,v in best_run.hyperparameters.items():\n",
    "    setattr(student_training_args, k, v)\n",
    "    \n",
    "# Define a new repository to store our distilled model\n",
    "distilled_ckpt = \"distilbert-base-uncased-distilled-clinc\"\n",
    "student_training_args.output_dir = distilled_ckpt\n",
    "\n",
    "# Create a new Trainer with optimal parameters\n",
    "distil_trainer = DistillationTrainer(model_init=student_init,\n",
    "    teacher_model=teacher_model, args=student_training_args,\n",
    "    train_dataset=clinc_enc['train'], eval_dataset=clinc_enc['validation'],\n",
    "    compute_metrics=compute_metrics, tokenizer=student_tokenizer)\n",
    "\n",
    "distil_trainer.train();"
   ]
  },
  {
   "cell_type": "code",
   "execution_count": 42,
   "metadata": {},
   "outputs": [],
   "source": [
    "#hide_output\n",
    "# distil_trainer.push_to_hub(\"Training complete\")"
   ]
  },
  {
   "cell_type": "markdown",
   "metadata": {},
   "source": [
    "### Benchmarking Our Distilled Model"
   ]
  },
  {
   "cell_type": "code",
   "execution_count": 43,
   "metadata": {},
   "outputs": [
    {
     "name": "stdout",
     "output_type": "stream",
     "text": [
      "Model size (MB) - 255.88\n",
      "Average latency (ms) - 3.13 +\\- 0.25\n",
      "Accuracy on test set - 0.868\n"
     ]
    }
   ],
   "source": [
    "distilled_ckpt = \"transformersbook/distilbert-base-uncased-distilled-clinc\"\n",
    "pipe = pipeline(\"text-classification\", model=distilled_ckpt)\n",
    "optim_type = \"Distillation\"\n",
    "pb = PerformanceBenchmark(pipe, clinc[\"test\"], optim_type=optim_type)\n",
    "perf_metrics.update(pb.run_benchmark())"
   ]
  },
  {
   "cell_type": "code",
   "execution_count": 44,
   "metadata": {},
   "outputs": [
    {
     "data": {
      "image/png": "[encoded data removed]",
      "text/plain": [
       "<Figure size 640x480 with 1 Axes>"
      ]
     },
     "metadata": {},
     "output_type": "display_data"
    }
   ],
   "source": [
    "plot_metrics(perf_metrics, optim_type)"
   ]
  },
  {
   "cell_type": "markdown",
   "metadata": {},
   "source": [
    "## Making Models Faster with Quantization"
   ]
  },
  {
   "cell_type": "markdown",
   "metadata": {},
   "source": [
    "### Sidebar: A Primer on Floating-Point and Fixed-Point Numbers"
   ]
  },
  {
   "cell_type": "markdown",
   "metadata": {},
   "source": [
    "### End sidebar"
   ]
  },
  {
   "cell_type": "markdown",
   "metadata": {},
   "source": [
    "<img alt=\"Mapping floating-point numbers to 8-bit integers\" width=\"800\" caption=\"Quantizing floating-point numbers as unsigned 8-bit integers (courtesy of Manas Sahni)\" src=\"images/chapter08_fp32-to-int8.png\" id=\"fp32toint8\"/>"
   ]
  },
  {
   "cell_type": "code",
   "execution_count": 45,
   "metadata": {},
   "outputs": [
    {
     "data": {
      "image/png": "[encoded data removed]",
      "text/plain": [
       "<Figure size 640x480 with 1 Axes>"
      ]
     },
     "metadata": {},
     "output_type": "display_data"
    }
   ],
   "source": [
    "import matplotlib.pyplot as plt\n",
    "\n",
    "state_dict = pipe.model.state_dict()\n",
    "weights = state_dict[\"distilbert.transformer.layer.0.attention.out_lin.weight\"]\n",
    "plt.hist(weights.flatten().cpu().numpy(), bins=250, range=(-0.3,0.3), edgecolor=\"C0\")\n",
    "plt.show()"
   ]
  },
  {
   "cell_type": "code",
   "execution_count": 46,
   "metadata": {},
   "outputs": [],
   "source": [
    "zero_point = 0\n",
    "scale = (weights.max() - weights.min()) / (127 - (-128))"
   ]
  },
  {
   "cell_type": "code",
   "execution_count": 47,
   "metadata": {},
   "outputs": [
    {
     "data": {
      "text/plain": [
       "tensor([[ -5,  -8,   0,  ...,  -6,  -4,   8],\n",
       "        [  8,   3,   1,  ...,  -4,   7,   0],\n",
       "        [ -9,  -6,   5,  ...,   1,   5,  -3],\n",
       "        ...,\n",
       "        [  6,   0,  12,  ...,   0,   6,  -1],\n",
       "        [  0,  -2, -12,  ...,  12,  -7, -13],\n",
       "        [-13,  -1, -10,  ...,   8,   2,  -2]], device='cuda:0',\n",
       "       dtype=torch.int8)"
      ]
     },
     "execution_count": 47,
     "metadata": {},
     "output_type": "execute_result"
    }
   ],
   "source": [
    "(weights / scale + zero_point).clamp(-128, 127).round().char()"
   ]
  },
  {
   "cell_type": "code",
   "execution_count": 48,
   "metadata": {},
   "outputs": [
    {
     "data": {
      "text/plain": [
       "tensor([[ -5,  -8,   0,  ...,  -6,  -4,   8],\n",
       "        [  8,   3,   1,  ...,  -4,   7,   0],\n",
       "        [ -9,  -6,   5,  ...,   1,   5,  -3],\n",
       "        ...,\n",
       "        [  6,   0,  12,  ...,   0,   6,  -1],\n",
       "        [  0,  -2, -12,  ...,  12,  -7, -13],\n",
       "        [-13,  -1, -10,  ...,   8,   2,  -2]], device='cuda:0',\n",
       "       dtype=torch.int8)"
      ]
     },
     "execution_count": 48,
     "metadata": {},
     "output_type": "execute_result"
    }
   ],
   "source": [
    "from torch import quantize_per_tensor\n",
    "\n",
    "dtype = torch.qint8\n",
    "quantized_weights = quantize_per_tensor(weights, scale, zero_point, dtype)\n",
    "quantized_weights.int_repr()"
   ]
  },
  {
   "cell_type": "code",
   "execution_count": 49,
   "metadata": {},
   "outputs": [
    {
     "data": {
      "image/png": "[encoded data removed]",
      "text/plain": [
       "<Figure size 640x480 with 2 Axes>"
      ]
     },
     "metadata": {},
     "output_type": "display_data"
    }
   ],
   "source": [
    "#hide_input\n",
    "#id weight-quantization\n",
    "#alt Effect of quantization on a transformer's weights\n",
    "#caption Effect of quantization on a transformer's weights\n",
    "from mpl_toolkits.axes_grid1.inset_locator import zoomed_inset_axes,mark_inset\n",
    "\n",
    "# Create histogram\n",
    "fig, ax = plt.subplots()\n",
    "ax.hist(quantized_weights.dequantize().flatten().cpu().numpy(), \n",
    "         bins=250, range=(-0.3,0.3), edgecolor=\"C0\");\n",
    "# Create zoom inset\n",
    "axins = zoomed_inset_axes(ax, 5, loc='upper right')\n",
    "axins.hist(quantized_weights.dequantize().flatten().cpu().numpy(), \n",
    "         bins=250, range=(-0.3,0.3));\n",
    "x1, x2, y1, y2 = 0.05, 0.1, 500, 2500\n",
    "axins.set_xlim(x1, x2)\n",
    "axins.set_ylim(y1, y2)\n",
    "axins.axes.xaxis.set_visible(False)\n",
    "axins.axes.yaxis.set_visible(False)\n",
    "mark_inset(ax, axins, loc1=2, loc2=4, fc=\"none\", ec=\"0.5\")\n",
    "plt.show()"
   ]
  },
  {
   "cell_type": "code",
   "execution_count": 50,
   "metadata": {},
   "outputs": [
    {
     "name": "stdout",
     "output_type": "stream",
     "text": [
      "62.6 µs ± 14.1 ns per loop (mean ± std. dev. of 7 runs, 10,000 loops each)\n"
     ]
    }
   ],
   "source": [
    "%%timeit \n",
    "weights @ weights"
   ]
  },
  {
   "cell_type": "code",
   "execution_count": 51,
   "metadata": {},
   "outputs": [],
   "source": [
    "from torch.nn.quantized import QFunctional\n",
    "\n",
    "q_fn = QFunctional()"
   ]
  },
  {
   "cell_type": "code",
   "execution_count": 52,
   "metadata": {},
   "outputs": [],
   "source": [
    "# エラー\n",
    "# %%timeit\n",
    "# q_fn.mul(quantized_weights, quantized_weights)"
   ]
  },
  {
   "cell_type": "code",
   "execution_count": 53,
   "metadata": {},
   "outputs": [
    {
     "name": "stderr",
     "output_type": "stream",
     "text": [
      "/tmp/ipykernel_3594215/2099325647.py:3: UserWarning: TypedStorage is deprecated. It will be removed in the future and UntypedStorage will be the only storage class. This should only matter to you if you are using storages directly.  To access UntypedStorage directly, use tensor.untyped_storage() instead of tensor.storage()\n",
      "  sys.getsizeof(weights.storage()) / sys.getsizeof(quantized_weights.storage())\n"
     ]
    },
    {
     "data": {
      "text/plain": [
       "3.999755879241598"
      ]
     },
     "execution_count": 53,
     "metadata": {},
     "output_type": "execute_result"
    }
   ],
   "source": [
    "import sys\n",
    "\n",
    "sys.getsizeof(weights.storage()) / sys.getsizeof(quantized_weights.storage())"
   ]
  },
  {
   "cell_type": "code",
   "execution_count": 54,
   "metadata": {},
   "outputs": [
    {
     "name": "stderr",
     "output_type": "stream",
     "text": [
      "/tmp/ipykernel_3594215/955263440.py:9: DeprecationWarning: torch.ao.quantization is deprecated and will be removed in 2.10. \n",
      "For migrations of users: \n",
      "1. Eager mode quantization (torch.ao.quantization.quantize, torch.ao.quantization.quantize_dynamic), please migrate to use torchao eager mode quantize_ API instead \n",
      "2. FX graph mode quantization (torch.ao.quantization.quantize_fx.prepare_fx,torch.ao.quantization.quantize_fx.convert_fx, please migrate to use torchao pt2e quantization API instead (prepare_pt2e, convert_pt2e) \n",
      "3. pt2e quantization has been migrated to torchao (https://github.com/pytorch/ao/tree/main/torchao/quantization/pt2e) \n",
      "see https://github.com/pytorch/ao/issues/2259 for more details\n",
      "  model_quantized = quantize_dynamic(model, {nn.Linear}, dtype=torch.qint8)\n"
     ]
    }
   ],
   "source": [
    "#hide_output\n",
    "from torch.quantization import quantize_dynamic\n",
    "\n",
    "model_ckpt = \"transformersbook/distilbert-base-uncased-distilled-clinc\"\n",
    "tokenizer = AutoTokenizer.from_pretrained(model_ckpt)\n",
    "model = (AutoModelForSequenceClassification\n",
    "         .from_pretrained(model_ckpt).to(\"cpu\").eval())\n",
    "\n",
    "model_quantized = quantize_dynamic(model, {nn.Linear}, dtype=torch.qint8)"
   ]
  },
  {
   "cell_type": "markdown",
   "metadata": {},
   "source": [
    "### Benchmarking Our Quantized Model"
   ]
  },
  {
   "cell_type": "code",
   "execution_count": 55,
   "metadata": {},
   "outputs": [
    {
     "name": "stdout",
     "output_type": "stream",
     "text": [
      "Model size (MB) - 132.39\n",
      "Average latency (ms) - 6.54 +\\- 0.30\n",
      "Accuracy on test set - 0.877\n"
     ]
    }
   ],
   "source": [
    "torch.backends.quantized.engine = \"fbgemm\"  # x86なら\n",
    "pipe = pipeline(\"text-classification\", model=model_quantized, \n",
    "                tokenizer=tokenizer, device=-1)\n",
    "optim_type = \"Distillation + quantization\"\n",
    "pb = PerformanceBenchmark(pipe, clinc[\"test\"], optim_type=optim_type)\n",
    "perf_metrics.update(pb.run_benchmark())"
   ]
  },
  {
   "cell_type": "code",
   "execution_count": 56,
   "metadata": {},
   "outputs": [
    {
     "data": {
      "image/png": "[encoded data removed]",
      "text/plain": [
       "<Figure size 640x480 with 1 Axes>"
      ]
     },
     "metadata": {},
     "output_type": "display_data"
    }
   ],
   "source": [
    "plot_metrics(perf_metrics, optim_type)"
   ]
  },
  {
   "cell_type": "markdown",
   "metadata": {},
   "source": [
    "## Optimizing Inference with ONNX and the ONNX Runtime"
   ]
  },
  {
   "cell_type": "markdown",
   "metadata": {},
   "source": [
    "<img alt=\"Example ONNX graph\" width=\"500\" caption=\"A section of the ONNX graph for BERT-base, visualized in Netron\" src=\"images/chapter08_bert-onnx.png\" id=\"bert-onnx\"/>"
   ]
  },
  {
   "cell_type": "markdown",
   "metadata": {},
   "source": [
    "<img alt=\"Architecture of the ONNX and ONNX Runtime ecosystem\" width=\"500\" caption=\"Architecture of the ONNX and ONNX Runtime ecosystem (courtesy of the ONNX Runtime team)\" src=\"images/chapter08_onnx-ort.png\" id=\"onnx-ort\"/>"
   ]
  },
  {
   "cell_type": "code",
   "execution_count": 57,
   "metadata": {},
   "outputs": [],
   "source": [
    "#hide_output\n",
    "import os\n",
    "from psutil import cpu_count\n",
    "\n",
    "os.environ[\"OMP_NUM_THREADS\"] = f\"{cpu_count()}\"\n",
    "os.environ[\"OMP_WAIT_POLICY\"] = \"ACTIVE\"\n",
    "os.environ[\"CUDA_VISIBLE_DEVICES\"] = \"\""
   ]
  },
  {
   "cell_type": "markdown",
   "metadata": {},
   "source": [
    "ONNX部分は動かすことできず、、、"
   ]
  },
  {
   "cell_type": "code",
   "execution_count": 58,
   "metadata": {},
   "outputs": [],
   "source": [
    "# # ✅ エクスポート専用セル（このセルだけを単独で実行）\n",
    "# import os\n",
    "# os.environ[\"CUDA_VISIBLE_DEVICES\"] = \"\"   # 変換はCPUで（GPUを不可視化）\n",
    "\n",
    "# from pathlib import Path\n",
    "# import torch\n",
    "# from transformers import AutoTokenizer, AutoConfig, AutoModelForSequenceClassification\n",
    "# from optimum.exporters.onnx import export\n",
    "# from optimum.exporters.tasks import TasksManager\n",
    "\n",
    "# # --- 入力 ---\n",
    "# model_ckpt = \"transformersbook/distilbert-base-uncased-distilled-clinc\"\n",
    "# onnx_model_path = Path(\"onnx/model.onnx\")\n",
    "# onnx_model_path.parent.mkdir(parents=True, exist_ok=True)\n",
    "\n",
    "# # --- モデル/設定（CPUに統一 & eval）---\n",
    "# tokenizer = AutoTokenizer.from_pretrained(model_ckpt)  # なくてもOKだが後で検証に使える\n",
    "# model = AutoModelForSequenceClassification.from_pretrained(model_ckpt).to(\"cpu\").eval()\n",
    "\n",
    "# # ★ ここ、変数名を model_ckpt に統一（ckpt ではない）\n",
    "# hf_config = AutoConfig.from_pretrained(model_ckpt)\n",
    "\n",
    "# # ONNX用のエクスポート設定を作る\n",
    "# onnx_config_ctor = TasksManager.get_exporter_config_constructor(\n",
    "#     model=model, task=\"text-classification\", exporter=\"onnx\",\n",
    "# )\n",
    "# onnx_config = onnx_config_ctor(hf_config)\n",
    "\n",
    "# # --- エクスポート（CPU、opset=13 推奨）---\n",
    "# export(\n",
    "#     model=model,\n",
    "#     config=onnx_config,\n",
    "#     output=onnx_model_path,\n",
    "#     opset=13,\n",
    "#     device=\"cpu\",\n",
    "#     # use_external_format=False,  # もし外部データ形式になって遅い時は明示\n",
    "# )\n",
    "\n",
    "# print(\"Exported:\", onnx_model_path)\n"
   ]
  },
  {
   "cell_type": "code",
   "execution_count": 59,
   "metadata": {},
   "outputs": [],
   "source": [
    "# from onnxruntime import (GraphOptimizationLevel, InferenceSession, \n",
    "#                          SessionOptions)\n",
    "\n",
    "# def create_model_for_provider(model_path, provider=\"CPUExecutionProvider\"): \n",
    "#     options = SessionOptions()\n",
    "#     options.intra_op_num_threads = 1\n",
    "#     options.graph_optimization_level = GraphOptimizationLevel.ORT_ENABLE_ALL\n",
    "#     session = InferenceSession(str(model_path), options, providers=[provider])\n",
    "#     session.disable_fallback()\n",
    "#     return session"
   ]
  },
  {
   "cell_type": "code",
   "execution_count": 60,
   "metadata": {},
   "outputs": [],
   "source": [
    "# onnx_model = create_model_for_provider(onnx_model_path)"
   ]
  },
  {
   "cell_type": "code",
   "execution_count": 61,
   "metadata": {},
   "outputs": [],
   "source": [
    "# inputs = clinc_enc[\"test\"][:1]\n",
    "# del inputs[\"labels\"]\n",
    "# logits_onnx = onnx_model.run(None, inputs)[0]\n",
    "# logits_onnx.shape"
   ]
  },
  {
   "cell_type": "code",
   "execution_count": 62,
   "metadata": {},
   "outputs": [],
   "source": [
    "# np.argmax(logits_onnx)"
   ]
  },
  {
   "cell_type": "code",
   "execution_count": 63,
   "metadata": {},
   "outputs": [],
   "source": [
    "# clinc_enc[\"test\"][0][\"labels\"]"
   ]
  },
  {
   "cell_type": "code",
   "execution_count": 64,
   "metadata": {},
   "outputs": [],
   "source": [
    "# from scipy.special import softmax\n",
    "\n",
    "# class OnnxPipeline:\n",
    "#     def __init__(self, model, tokenizer):\n",
    "#         self.model = model\n",
    "#         self.tokenizer = tokenizer\n",
    "        \n",
    "#     def __call__(self, query):\n",
    "#         model_inputs = self.tokenizer(query, return_tensors=\"pt\")\n",
    "#         inputs_onnx = {k: v.cpu().detach().numpy() \n",
    "#                        for k, v in model_inputs.items()}\n",
    "#         logits = self.model.run(None, inputs_onnx)[0][0, :]\n",
    "#         probs = softmax(logits)\n",
    "#         pred_idx = np.argmax(probs).item()\n",
    "#         return [{\"label\": intents.int2str(pred_idx), \"score\": probs[pred_idx]}]"
   ]
  },
  {
   "cell_type": "code",
   "execution_count": 65,
   "metadata": {},
   "outputs": [],
   "source": [
    "# pipe = OnnxPipeline(onnx_model, tokenizer)\n",
    "# pipe(query)"
   ]
  },
  {
   "cell_type": "code",
   "execution_count": 66,
   "metadata": {},
   "outputs": [],
   "source": [
    "# class OnnxPerformanceBenchmark(PerformanceBenchmark):\n",
    "#     def __init__(self, *args, model_path, **kwargs):\n",
    "#         super().__init__(*args, **kwargs)\n",
    "#         self.model_path = model_path\n",
    "        \n",
    "#     def compute_size(self):\n",
    "#         size_mb = Path(self.model_path).stat().st_size / (1024 * 1024)\n",
    "#         print(f\"Model size (MB) - {size_mb:.2f}\")\n",
    "#         return {\"size_mb\": size_mb}"
   ]
  },
  {
   "cell_type": "code",
   "execution_count": 67,
   "metadata": {},
   "outputs": [],
   "source": [
    "# optim_type = \"Distillation + ORT\"\n",
    "# pb = OnnxPerformanceBenchmark(pipe, clinc[\"test\"], optim_type,\n",
    "#                               model_path=\"onnx/model.onnx\")\n",
    "# perf_metrics.update(pb.run_benchmark())"
   ]
  },
  {
   "cell_type": "code",
   "execution_count": 68,
   "metadata": {},
   "outputs": [],
   "source": [
    "# plot_metrics(perf_metrics, optim_type)"
   ]
  },
  {
   "cell_type": "code",
   "execution_count": 69,
   "metadata": {},
   "outputs": [],
   "source": [
    "# from onnxruntime.quantization import quantize_dynamic, QuantType\n",
    "\n",
    "# model_input = \"onnx/model.onnx\"\n",
    "# model_output = \"onnx/model.quant.onnx\"\n",
    "# quantize_dynamic(model_input, model_output, weight_type=QuantType.QInt8)"
   ]
  },
  {
   "cell_type": "code",
   "execution_count": 70,
   "metadata": {},
   "outputs": [],
   "source": [
    "# onnx_quantized_model = create_model_for_provider(model_output)\n",
    "# pipe = OnnxPipeline(onnx_quantized_model, tokenizer)\n",
    "# optim_type = \"Distillation + ORT (quantized)\"\n",
    "# pb = OnnxPerformanceBenchmark(pipe, clinc[\"test\"], optim_type, \n",
    "#                               model_path=model_output)\n",
    "# perf_metrics.update(pb.run_benchmark())"
   ]
  },
  {
   "cell_type": "code",
   "execution_count": 71,
   "metadata": {},
   "outputs": [],
   "source": [
    "# plot_metrics(perf_metrics, optim_type)"
   ]
  },
  {
   "cell_type": "markdown",
   "metadata": {},
   "source": [
    "## Making Models Sparser with Weight Pruning"
   ]
  },
  {
   "cell_type": "markdown",
   "metadata": {},
   "source": [
    "### Sparsity in Deep Neural Networks"
   ]
  },
  {
   "cell_type": "markdown",
   "metadata": {},
   "source": [
    "<img alt=\"Network Pruning\" width=\"500\" caption=\"Weights and neurons before and after pruning (courtesy of Song Han)\" src=\"images/chapter08_network-pruning.png\" id=\"network-pruning\"/> "
   ]
  },
  {
   "cell_type": "markdown",
   "metadata": {},
   "source": [
    "### Weight Pruning Methods"
   ]
  },
  {
   "cell_type": "markdown",
   "metadata": {},
   "source": [
    "#### Magnitude pruning"
   ]
  },
  {
   "cell_type": "code",
   "execution_count": 72,
   "metadata": {},
   "outputs": [
    {
     "data": {
      "image/png": "[encoded data removed]",
      "text/plain": [
       "<Figure size 640x480 with 1 Axes>"
      ]
     },
     "metadata": {},
     "output_type": "display_data"
    }
   ],
   "source": [
    "#hide_input\n",
    "#id sparsity-scheduler\n",
    "#alt Sparsity scheduler\n",
    "#caption The cubic sparsity scheduler used for pruning\n",
    "import numpy as np\n",
    "import matplotlib.pyplot as plt\n",
    "\n",
    "def _sparsity(t, t_0=0, dt=1, s_i=0, s_f=0.9, N=100):\n",
    "    return s_f + (s_i - s_f) * (1 - (t - t_0) / (N * dt))**3\n",
    "\n",
    "steps = np.linspace(0,100,100)\n",
    "values = [_sparsity(t) for t in steps]\n",
    "\n",
    "fig, ax = plt.subplots()\n",
    "ax.plot(steps, values)\n",
    "ax.set_ylim(0,1)\n",
    "ax.set_xlim(0,100)\n",
    "ax.set_xlabel(\"Pruning step\")\n",
    "ax.set_ylabel(\"Sparsity\")\n",
    "plt.grid(linestyle=\"dashed\")\n",
    "plt.show()"
   ]
  },
  {
   "cell_type": "markdown",
   "metadata": {},
   "source": [
    "#### Movement pruning"
   ]
  },
  {
   "cell_type": "markdown",
   "metadata": {},
   "source": [
    "<img alt=\"Magnitude vs Movement Pruning\" width=\"700\" caption=\"Comparison of weights removed (in gray) during magnitude pruning (left) and movement pruning (right)\" src=\"images/chapter08_magnitude-vs-movement.png\" id=\"magnitude-vs-movement\"/> "
   ]
  },
  {
   "cell_type": "markdown",
   "metadata": {},
   "source": [
    "<img alt=\"Pruning Distributions\" width=\"500\" caption=\"Distribution of remaining weights for magnitude pruning (MaP) and movement pruning (MvP)\" src=\"images/chapter08_pruning-dists.png\" id=\"pruning-dists\"/>"
   ]
  },
  {
   "cell_type": "markdown",
   "metadata": {},
   "source": [
    "## Conclusion"
   ]
  }
 ],
 "metadata": {
  "kernelspec": {
   "display_name": "dev",
   "language": "python",
   "name": "python3"
  },
  "language_info": {
   "codemirror_mode": {
    "name": "ipython",
    "version": 3
   },
   "file_extension": ".py",
   "mimetype": "text/x-python",
   "name": "python",
   "nbconvert_exporter": "python",
   "pygments_lexer": "ipython3",
   "version": "3.9.23"
  }
 },
 "nbformat": 4,
 "nbformat_minor": 4
}
