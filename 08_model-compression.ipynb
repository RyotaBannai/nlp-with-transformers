{
 "cells": [
  {
   "cell_type": "code",
   "execution_count": 1,
   "metadata": {},
   "outputs": [],
   "source": [
    "# Uncomment and run this cell if you're on Colab or Kaggle\n",
    "# !git clone https://github.com/nlp-with-transformers/notebooks.git\n",
    "# %cd notebooks\n",
    "# from install import *\n",
    "# install_requirements()"
   ]
  },
  {
   "cell_type": "code",
   "execution_count": 2,
   "metadata": {},
   "outputs": [],
   "source": [
    "# hide\n",
    "# from utils import *\n",
    "# setup_chapter()"
   ]
  },
  {
   "cell_type": "markdown",
   "metadata": {},
   "source": [
    "# Making Transformers Efficient in Production"
   ]
  },
  {
   "cell_type": "markdown",
   "metadata": {},
   "source": [
    "<img alt=\"Scaling BERT at Roblox\" caption=\"How Roblox scaled BERT with knowledge distillation, dynamic padding, and weight quantization (photo courtesy of Roblox employees Quoc N. Le and Kip Kaehler)\" src=\"images/chapter08_roblox.png\" id=\"roblox\"/>"
   ]
  },
  {
   "cell_type": "markdown",
   "metadata": {},
   "source": [
    "## Intent Detection as a Case Study"
   ]
  },
  {
   "cell_type": "markdown",
   "metadata": {},
   "source": [
    "<img alt=\"Out of Scope Query\" width=\"400\" caption=\"Three exchanges between a human (right) and a text-based assistant (left) for personal finance (courtesy of Stefan Larson et al.)\" src=\"images/chapter08_oos.png\" id=\"oos\"/> "
   ]
  },
  {
   "cell_type": "code",
   "execution_count": 3,
   "metadata": {},
   "outputs": [
    {
     "name": "stdout",
     "output_type": "stream",
     "text": [
      "model_type: bert\n",
      "architectures: ['BertForSequenceClassification']\n",
      "auto_map: None\n"
     ]
    }
   ],
   "source": [
    "from transformers import AutoConfig\n",
    "\n",
    "ckpt = \"transformersbook/bert-base-uncased-finetuned-clinc\"\n",
    "cfg = AutoConfig.from_pretrained(ckpt, trust_remote_code=False)\n",
    "\n",
    "print(f\"model_type: {cfg.model_type}\")\n",
    "print(f\"architectures: {getattr(cfg, 'architectures', None)}\")\n",
    "print(f\"auto_map: {getattr(cfg, 'auto_map', None)}\")\n"
   ]
  },
  {
   "cell_type": "code",
   "execution_count": 4,
   "metadata": {},
   "outputs": [
    {
     "name": "stderr",
     "output_type": "stream",
     "text": [
      "Device set to use cuda:0\n"
     ]
    },
    {
     "name": "stdout",
     "output_type": "stream",
     "text": [
      "[{'label': 'restaurant_reservation', 'score': 0.44759219884872437}]\n"
     ]
    }
   ],
   "source": [
    "from transformers import AutoTokenizer, AutoModelForSequenceClassification, pipeline\n",
    "\n",
    "ckpt = \"transformersbook/bert-base-uncased-finetuned-clinc\"\n",
    "\n",
    "tok = AutoTokenizer.from_pretrained(ckpt, trust_remote_code=False)\n",
    "model = AutoModelForSequenceClassification.from_pretrained(ckpt, trust_remote_code=False)\n",
    "\n",
    "pipe = pipeline(\"text-classification\", model=model, tokenizer=tok)\n",
    "print(pipe(\"book a table for two at 7pm\"))\n"
   ]
  },
  {
   "cell_type": "code",
   "execution_count": 5,
   "metadata": {},
   "outputs": [
    {
     "data": {
      "text/plain": [
       "[{'label': 'car_rental', 'score': 0.5490034222602844}]"
      ]
     },
     "execution_count": 5,
     "metadata": {},
     "output_type": "execute_result"
    }
   ],
   "source": [
    "query = \"\"\"Hey, I'd like to rent a vehicle from Nov 1st to Nov 15th in \n",
    "Paris and I need a 15 passenger van\"\"\"\n",
    "pipe(query)"
   ]
  },
  {
   "cell_type": "markdown",
   "metadata": {},
   "source": [
    "## Creating a Performance Benchmark"
   ]
  },
  {
   "cell_type": "code",
   "execution_count": 6,
   "metadata": {},
   "outputs": [],
   "source": [
    "class PerformanceBenchmark:\n",
    "    def __init__(self, pipeline, dataset, optim_type=\"BERT baseline\"):\n",
    "        self.pipeline = pipeline\n",
    "        self.dataset = dataset\n",
    "        self.optim_type = optim_type\n",
    "        \n",
    "    def compute_accuracy(self):\n",
    "        # We'll define this later\n",
    "        pass    \n",
    "\n",
    "    def compute_size(self):\n",
    "        # We'll define this later\n",
    "        pass\n",
    "\n",
    "    def time_pipeline(self):\n",
    "        # We'll define this later\n",
    "        pass\n",
    "    \n",
    "    def run_benchmark(self):\n",
    "        metrics = {}\n",
    "        metrics[self.optim_type] = self.compute_size()\n",
    "        metrics[self.optim_type].update(self.time_pipeline())\n",
    "        metrics[self.optim_type].update(self.compute_accuracy())\n",
    "        return metrics"
   ]
  },
  {
   "cell_type": "code",
   "execution_count": 7,
   "metadata": {},
   "outputs": [],
   "source": [
    "#hide_output\n",
    "from datasets import load_dataset\n",
    "\n",
    "clinc = load_dataset(\"clinc_oos\", \"plus\")"
   ]
  },
  {
   "cell_type": "code",
   "execution_count": 8,
   "metadata": {},
   "outputs": [
    {
     "data": {
      "text/plain": [
       "{'text': 'transfer $100 from my checking to saving account', 'intent': 133}"
      ]
     },
     "execution_count": 8,
     "metadata": {},
     "output_type": "execute_result"
    }
   ],
   "source": [
    "sample = clinc[\"test\"][42]\n",
    "sample"
   ]
  },
  {
   "cell_type": "code",
   "execution_count": 9,
   "metadata": {},
   "outputs": [
    {
     "data": {
      "text/plain": [
       "'transfer'"
      ]
     },
     "execution_count": 9,
     "metadata": {},
     "output_type": "execute_result"
    }
   ],
   "source": [
    "intents = clinc[\"test\"].features[\"intent\"]\n",
    "intents.int2str(sample[\"intent\"])"
   ]
  },
  {
   "cell_type": "code",
   "execution_count": 10,
   "metadata": {},
   "outputs": [
    {
     "name": "stderr",
     "output_type": "stream",
     "text": [
      "/tmp/ipykernel_3577432/1976143225.py:3: FutureWarning: load_metric is deprecated and will be removed in the next major version of datasets. Use 'evaluate.load' instead, from the new library 🤗 Evaluate: https://huggingface.co/docs/evaluate\n",
      "  accuracy_score = load_metric(\"accuracy\", trust_remote_code=True)\n"
     ]
    }
   ],
   "source": [
    "#hide_output\n",
    "from datasets import load_metric \n",
    "accuracy_score = load_metric(\"accuracy\", trust_remote_code=True)\n",
    "# import evaluate\n",
    "\n",
    "# accuracy_score = evaluate.load(\"accuracy\")"
   ]
  },
  {
   "cell_type": "code",
   "execution_count": 11,
   "metadata": {},
   "outputs": [],
   "source": [
    "def compute_accuracy(self):\n",
    "    \"\"\"This overrides the PerformanceBenchmark.compute_accuracy() method\"\"\"\n",
    "    preds, labels = [], []\n",
    "    for example in self.dataset:\n",
    "        pred = self.pipeline(example[\"text\"])[0][\"label\"]\n",
    "        label = example[\"intent\"]\n",
    "        preds.append(intents.str2int(pred))\n",
    "        labels.append(label)\n",
    "    accuracy = accuracy_score.compute(predictions=preds, references=labels)\n",
    "    print(f\"Accuracy on test set - {accuracy['accuracy']:.3f}\")\n",
    "    return accuracy\n",
    "\n",
    "PerformanceBenchmark.compute_accuracy = compute_accuracy"
   ]
  },
  {
   "cell_type": "code",
   "execution_count": 12,
   "metadata": {},
   "outputs": [
    {
     "data": {
      "text/plain": [
       "('bert.encoder.layer.2.attention.self.value.bias',\n",
       " tensor([-2.7834e-02,  4.9434e-02,  8.3551e-02,  4.1092e-02,  6.0157e-01,\n",
       "          1.1774e-01, -5.2112e-02, -6.5143e-02, -2.9358e-02, -4.2250e-02,\n",
       "          7.9177e-02,  8.0409e-02,  2.9921e-03,  1.7816e-01, -5.0480e-02,\n",
       "         -1.5634e-01, -2.1707e-02,  1.4381e-02,  2.5132e-02, -2.4110e-02,\n",
       "         -1.9183e-01, -7.8657e-02,  5.0709e-02,  3.3632e-02, -3.1946e-02,\n",
       "          1.1616e-01,  9.2720e-02, -1.1787e-01,  2.3233e-01, -1.2678e-02,\n",
       "         -1.3138e-01, -4.0024e-02,  7.4823e-02, -5.4148e-02, -1.5184e-01,\n",
       "         -7.4407e-02,  1.1559e-01,  8.2729e-02, -1.3787e-01,  8.3528e-02,\n",
       "          1.2154e-01,  1.6880e-02, -5.6629e-02, -3.9295e-02,  5.3725e-02,\n",
       "          6.8602e-02, -1.1294e-01,  4.4001e-02, -2.5884e-01,  1.6767e-01,\n",
       "          1.8316e-01,  5.6272e-02, -3.6874e-02, -2.7938e-02, -9.3204e-02,\n",
       "         -7.5239e-03,  4.1141e-02, -1.1542e-02, -9.9749e-02, -3.0910e-02,\n",
       "          4.1398e-02, -4.4389e-02, -2.6279e-02,  7.2100e-02,  7.5179e-03,\n",
       "         -7.4382e-03,  2.9311e-02, -1.3391e-02,  6.9966e-03, -9.3249e-03,\n",
       "          9.4272e-03, -1.1783e-02,  1.3849e-02,  1.8157e-03, -1.1522e-02,\n",
       "          1.3364e-02, -2.6307e-02,  2.3725e-03, -4.8451e-03,  6.2261e-03,\n",
       "          1.2653e-02,  1.7601e-02, -1.7971e-02, -2.9247e-03, -3.3447e-03,\n",
       "          1.4263e-02, -3.5629e-03, -9.2794e-03, -2.1326e-02,  1.9390e-02,\n",
       "          1.3287e-02, -8.7034e-03,  1.2936e-02, -2.0574e-02,  3.2204e-03,\n",
       "          5.9970e-03, -5.6524e-02,  3.0851e-02, -2.3233e-02,  4.6271e-02,\n",
       "         -1.4485e-03,  4.4248e-04, -3.1102e-02,  1.9762e-02,  2.0866e-02,\n",
       "          1.7914e-02, -2.0622e-02, -1.6030e-02,  6.2167e-03,  1.6809e-02,\n",
       "          4.6357e-03,  4.7169e-02, -2.1151e-02, -1.8898e-02,  3.5921e-02,\n",
       "          4.8621e-03, -5.9841e-02, -1.3029e-02,  5.6702e-03,  1.6820e-02,\n",
       "          2.1735e-02, -2.8285e-03, -1.5519e-02,  7.1974e-03,  3.5492e-02,\n",
       "         -2.3190e-02, -9.7930e-03,  2.3223e-02,  2.0529e-02,  2.7412e-02,\n",
       "          1.3887e-02,  1.7976e-03, -3.8905e-02,  1.8540e-02,  8.0013e-03,\n",
       "         -8.3682e-03, -8.6805e-03,  2.6464e-02,  1.8968e-03, -1.8028e-03,\n",
       "         -2.4427e-02, -3.5514e-02, -1.8748e-02, -3.0541e-02, -7.9520e-03,\n",
       "         -1.5989e-02,  9.3060e-03,  2.9318e-02,  1.6679e-02, -2.4060e-03,\n",
       "         -7.2656e-03, -2.7699e-03,  1.4280e-02, -6.7352e-02, -1.2329e-02,\n",
       "         -1.1516e-02, -8.0379e-03,  2.5604e-02, -2.9178e-02,  2.6076e-02,\n",
       "         -1.1561e-02, -4.0904e-03, -1.7735e-02, -2.8245e-03,  2.3919e-02,\n",
       "         -3.6326e-03, -1.6407e-03,  9.5295e-03,  2.4161e-02, -5.8965e-02,\n",
       "          4.7633e-02,  1.4403e-03, -4.4763e-02, -3.5462e-03,  3.0613e-02,\n",
       "          2.5047e-02,  1.3757e-02, -2.2238e-02,  8.0453e-03, -2.6188e-03,\n",
       "         -2.2013e-03, -6.0179e-03, -8.5149e-03, -2.8150e-02,  1.9282e-02,\n",
       "         -7.5657e-02,  6.1354e-03,  5.2562e-03, -2.2223e-03,  1.0437e-02,\n",
       "         -1.8630e-02, -7.7628e-02,  1.4377e-02,  1.4977e-02,  1.6090e-02,\n",
       "          2.9399e-02, -2.8604e-02, -3.2916e-02,  2.7902e-03,  1.4113e-02,\n",
       "          8.3836e-03, -6.5914e-03, -4.9576e-03, -1.5955e-02,  4.2381e-03,\n",
       "          3.0032e-02,  8.8986e-03, -1.5336e-02,  4.6771e-03, -1.2364e-02,\n",
       "         -3.7724e-02, -3.9060e-03,  1.4607e-02, -2.1286e-02,  9.7086e-03,\n",
       "         -1.5826e-02, -1.4847e-02,  1.0796e-03, -9.5035e-03, -1.8624e-02,\n",
       "         -3.1673e-02,  8.8388e-03, -1.4921e-02, -1.7855e-03,  3.8781e-02,\n",
       "          2.4269e-02, -1.6465e-03, -7.9774e-03, -1.3907e-02,  1.9653e-03,\n",
       "         -2.6717e-03,  3.0146e-02, -4.3986e-03,  6.0588e-03,  2.1959e-02,\n",
       "          2.0354e-02,  9.3631e-03, -8.4828e-03, -2.3994e-02,  1.8316e-02,\n",
       "         -2.2401e-02, -2.6273e-03,  3.2069e-03, -3.2386e-03,  1.1388e-02,\n",
       "          3.0835e-02,  2.6043e-02, -7.2103e-03, -5.0038e-04, -1.4860e-02,\n",
       "          2.3886e-02,  1.1530e-02, -1.0549e-03,  3.5677e-02,  6.0299e-03,\n",
       "          1.5875e-02,  5.3877e-02,  6.6331e-02,  1.5165e-02, -6.0870e-03,\n",
       "          1.6159e-03, -1.1137e-02,  1.3665e-02,  1.7698e-02,  4.5647e-03,\n",
       "         -4.5349e-02,  2.6634e-02,  4.7289e-03, -1.1664e-02,  8.7302e-03,\n",
       "          1.2051e-02,  2.3455e-02, -2.7151e-03, -1.3474e-02, -4.5949e-02,\n",
       "         -1.3496e-02,  8.1680e-02, -2.9737e-02, -2.8525e-02, -1.4888e-02,\n",
       "          5.4320e-03,  3.9142e-02,  1.4227e-02,  1.1140e-02, -1.0980e-02,\n",
       "          2.1982e-02, -1.1148e-02, -1.0226e-02, -5.8499e-03, -1.9739e-02,\n",
       "         -3.4634e-03, -1.0565e-02,  1.0449e-02,  8.2791e-03,  2.3053e-03,\n",
       "          9.7032e-03, -9.0916e-03,  5.4747e-04, -4.1901e-02,  9.6154e-03,\n",
       "          2.9424e-02,  1.1897e-03,  1.1825e-02,  2.7524e-02,  1.0225e-02,\n",
       "          2.1439e-02,  2.3448e-03, -3.7239e-02,  5.8888e-02, -3.1999e-02,\n",
       "         -7.9128e-03,  3.5337e-02,  2.7251e-02,  1.3948e-02,  1.0896e-02,\n",
       "          1.4326e-05, -2.6835e-03,  4.0720e-03,  1.6469e-02,  3.5876e-02,\n",
       "         -1.6803e-02,  2.8083e-02,  2.2789e-03,  3.1635e-02,  5.7104e-03,\n",
       "          3.0284e-03,  1.2528e-02, -1.7956e-02, -1.4686e-02,  4.4091e-03,\n",
       "         -1.4846e-02, -4.1044e-02, -3.4005e-02, -6.5876e-02,  3.0926e-02,\n",
       "          5.9820e-02, -1.0069e-04, -6.6089e-03,  2.1271e-03,  3.6137e-03,\n",
       "          9.0073e-03,  9.6992e-03,  2.1992e-02,  6.2104e-02,  1.4786e-02,\n",
       "         -2.6120e-02, -1.4990e-02,  1.5148e-02,  3.0313e-02,  2.0834e-02,\n",
       "          1.7836e-02, -5.4321e-03, -5.9164e-03,  1.7840e-02, -4.3020e-03,\n",
       "          8.7374e-03, -2.4993e-02,  3.4310e-02,  2.2652e-02, -5.3760e-03,\n",
       "          1.7668e-02, -8.9518e-04,  1.3691e-03, -2.1373e-02, -6.1878e-03,\n",
       "         -1.2396e-02, -1.7816e-02, -1.8014e-02,  9.5274e-03,  1.1643e-02,\n",
       "         -2.0683e-02, -2.8707e-03,  1.1669e-02,  1.5618e-02,  3.5348e-02,\n",
       "         -1.1234e-02, -4.5453e-03, -3.4890e-02, -3.0010e-02,  1.6433e-02,\n",
       "         -1.2068e-02,  8.2583e-03,  1.4090e-02,  1.8771e-02, -4.9337e-02,\n",
       "         -1.7775e-03,  5.6333e-02,  6.8979e-02,  2.3123e-02, -1.0754e-02,\n",
       "         -4.9530e-02,  4.2980e-02,  2.8846e-02, -3.9176e-02,  8.1903e-02,\n",
       "         -2.9344e-02,  3.0343e-02,  8.4269e-02, -2.4376e-02, -8.4680e-02,\n",
       "          6.7452e-03,  1.2407e-01,  1.5680e-02, -1.6643e-02,  9.0987e-03,\n",
       "         -2.7984e-03,  7.5874e-02, -1.4630e-02,  2.9823e-02, -1.0423e-02,\n",
       "         -6.0341e-02, -3.6580e-02, -5.4615e-02, -1.3628e-01, -5.8373e-02,\n",
       "          4.3453e-02,  3.0439e-02,  1.7298e-02, -1.1724e-01,  1.0805e-01,\n",
       "         -4.6345e-02, -1.1533e-01,  7.4684e-02, -5.9752e-03,  4.3189e-02,\n",
       "          4.4795e-02, -3.7566e-03, -7.5097e-02,  3.5959e-02,  1.3906e-01,\n",
       "          4.6041e-02,  1.1786e-02,  1.1243e-01,  8.4072e-02, -7.7309e-02,\n",
       "          1.3586e-02,  9.5244e-02, -1.2002e-01,  7.0882e-02,  1.0043e-01,\n",
       "          2.5874e-02,  2.3354e-02, -3.5469e-02,  3.0738e-02,  1.0479e-01,\n",
       "         -9.2843e-02,  5.9718e-02, -1.9409e-02, -3.4414e-02, -8.4060e-03,\n",
       "         -9.3654e-03, -2.8030e-02,  7.2026e-03, -5.9461e-03, -1.2284e-02,\n",
       "         -1.7473e-02, -4.9678e-02,  1.0224e-02, -1.4688e-02, -1.7345e-02,\n",
       "          2.6771e-02, -2.6582e-02, -2.9768e-02,  6.2005e-03, -3.3405e-04,\n",
       "          9.1245e-03, -3.7149e-02, -6.7714e-03, -1.8193e-02,  3.4191e-02,\n",
       "         -5.5732e-03, -2.6161e-02, -1.4078e-02,  1.0288e-02, -2.2850e-02,\n",
       "         -2.2642e-02,  1.0270e-02,  6.9930e-03,  1.3614e-03, -2.9319e-04,\n",
       "          9.9593e-03, -6.0532e-03,  1.8669e-03, -5.3395e-03, -2.2013e-02,\n",
       "          8.4485e-03, -1.9142e-02,  1.0449e-02, -1.6700e-02,  1.3038e-02,\n",
       "          7.7479e-03, -1.3329e-02,  1.3052e-02, -2.5305e-03,  1.6191e-02,\n",
       "          1.3152e-02,  2.9897e-02,  8.5553e-03, -6.4898e-04,  1.2359e-02,\n",
       "         -4.2144e-03,  2.1785e-02,  2.1401e-02, -1.3295e-02,  7.4764e-03,\n",
       "          6.3580e-03, -6.2467e-03,  1.8235e-02,  3.0643e-02, -4.9091e-03,\n",
       "         -1.3889e-02,  2.6181e-03,  4.9702e-03, -6.1664e-03, -2.8528e-03,\n",
       "         -4.0556e-04,  5.4844e-03,  9.7783e-03,  1.2326e-02, -1.6844e-02,\n",
       "         -1.6294e-02,  4.9879e-03,  3.7789e-03,  8.0305e-04,  2.0482e-02,\n",
       "         -1.6369e-02,  1.6436e-03, -9.0401e-03, -3.2635e-02, -2.3990e-03,\n",
       "          5.7569e-03, -2.0392e-02,  6.6946e-03, -1.8541e-02,  9.3559e-03,\n",
       "          2.7165e-02,  1.2492e-02,  1.2748e-03, -1.3846e-03,  4.0312e-03,\n",
       "         -8.5552e-03,  3.1621e-03, -3.9514e-02, -3.7938e-03, -1.3551e-02,\n",
       "          2.2692e-02, -1.0217e-02, -1.2839e-02, -4.8771e-03, -4.2620e-03,\n",
       "         -3.0481e-02,  4.6085e-02, -2.8627e-03,  6.6756e-03, -2.6765e-03,\n",
       "         -4.1443e-02,  1.3336e-02, -1.0526e-02, -3.8494e-02,  1.2780e-02,\n",
       "         -3.5214e-02, -2.4758e-02,  7.5220e-03,  1.7225e-02, -1.6440e-02,\n",
       "         -3.6639e-03, -4.7462e-02,  5.3796e-04, -2.8419e-03,  4.5923e-03,\n",
       "         -3.0517e-02, -3.6832e-03,  1.8710e-02, -3.0486e-02, -2.4076e-02,\n",
       "         -2.7601e-02,  1.1921e-01,  1.2020e-01,  5.9805e-02, -6.9238e-03,\n",
       "         -1.3529e-01,  1.1234e-01,  8.3534e-02,  1.9974e-01,  5.3834e-02,\n",
       "         -6.6691e-02,  1.2676e-01,  2.4947e-01,  4.9879e-01, -1.6342e-01,\n",
       "          6.1663e-02, -4.8022e-02, -5.4069e-02,  4.7277e-02, -1.4724e-01,\n",
       "          8.4666e-02,  9.8618e-02,  7.9988e-02, -5.7652e-02,  6.3551e-03,\n",
       "          2.6916e-03,  9.2017e-02,  1.2511e-01,  2.5168e-01, -8.6152e-02,\n",
       "         -2.7570e-02, -6.1548e-02,  9.1371e-02,  8.0129e-02, -1.1662e-01,\n",
       "          1.5206e-01, -1.0687e-01, -1.0758e-01,  9.4138e-02,  1.0322e-01,\n",
       "         -1.5152e-01,  2.5472e-01,  7.0699e-02, -4.1571e-02,  2.7933e-02,\n",
       "         -1.9523e-01, -2.8319e-01,  5.9689e-02, -1.4707e-01, -3.5683e-02,\n",
       "         -5.4465e-02,  1.2570e-01, -1.2280e-01,  2.0263e-01, -1.0653e-02,\n",
       "          1.1058e-01, -9.1731e-04,  8.6605e-02, -1.7707e-02,  1.2616e-02,\n",
       "          1.8871e-01, -1.0594e-01, -3.7989e-03, -6.6359e-02, -5.9799e-02,\n",
       "          4.3201e-03, -2.3140e-02,  4.8008e-03,  1.4294e-02, -9.5453e-03,\n",
       "          5.8454e-03,  8.6512e-03,  2.1151e-02,  1.7098e-02, -1.4637e-03,\n",
       "          1.3778e-02, -1.2843e-02,  2.3742e-02, -1.3895e-02,  1.1327e-03,\n",
       "         -7.0846e-03, -7.6255e-03, -8.2264e-03, -1.5513e-02,  4.2724e-03,\n",
       "         -1.7624e-02, -3.0984e-03, -1.4400e-02,  2.3883e-02,  1.1556e-01,\n",
       "          4.4036e-02,  3.2821e-02,  8.6612e-04,  1.2383e-02, -6.6263e-03,\n",
       "         -2.7201e-03,  4.8125e-03, -2.8362e-03,  3.9830e-02,  5.2414e-02,\n",
       "         -4.6269e-03, -1.5858e-02,  2.1845e-02, -1.3767e-02, -1.0629e-02,\n",
       "          1.0347e-02, -3.4209e-02,  1.6939e-02,  1.8120e-02,  3.0650e-03,\n",
       "         -2.5109e-03,  1.3500e-02, -3.6440e-02, -9.2135e-03,  9.2194e-03,\n",
       "         -3.6276e-02, -1.1555e-02, -1.9569e-02, -1.5417e-02, -2.0485e-02,\n",
       "          2.9770e-03, -6.8246e-03, -6.5039e-03, -1.2597e-02, -1.1409e-02,\n",
       "          1.7139e-02,  4.6424e-03, -5.1774e-02, -1.1679e-02,  5.2761e-03,\n",
       "         -1.3664e-02, -1.4001e-02,  2.0379e-03,  1.2753e-02, -8.1607e-03,\n",
       "         -1.0849e-02, -1.0683e-03, -2.4489e-03,  2.0192e-02,  1.5756e-02,\n",
       "         -6.4964e-03, -4.5603e-02, -2.5999e-02, -1.4307e-02, -7.4639e-03,\n",
       "          9.9480e-03,  1.6763e-02,  2.1737e-02,  4.8181e-02,  1.7739e-02,\n",
       "          1.1469e-02, -4.2359e-03, -1.6419e-02, -1.7318e-02,  1.1498e-03,\n",
       "          2.4485e-02, -3.0614e-03,  1.9017e-02, -1.6453e-02, -1.3444e-02,\n",
       "          2.6748e-02, -6.4994e-03,  5.1485e-03,  1.4132e-02, -1.1573e-02,\n",
       "          1.2583e-02, -1.1401e-02, -2.0003e-02, -3.8115e-03,  7.3728e-03,\n",
       "          1.5500e-02,  2.0623e-02,  3.1582e-03, -1.2794e-02,  4.5499e-03,\n",
       "         -3.3994e-04, -2.3003e-02,  1.2225e-02, -2.7949e-02, -9.6121e-03,\n",
       "         -3.5844e-02, -4.2373e-03,  5.3473e-03,  1.4432e-02, -1.2745e-02,\n",
       "          7.1483e-03,  2.9170e-03,  6.2454e-03,  6.8991e-03,  1.5852e-02,\n",
       "          2.1877e-02, -1.7211e-02, -2.6093e-02], device='cuda:0'))"
      ]
     },
     "execution_count": 12,
     "metadata": {},
     "output_type": "execute_result"
    }
   ],
   "source": [
    "list(pipe.model.state_dict().items())[42]"
   ]
  },
  {
   "cell_type": "code",
   "execution_count": 13,
   "metadata": {},
   "outputs": [],
   "source": [
    "import torch\n",
    "from pathlib import Path\n",
    "\n",
    "def compute_size(self):\n",
    "    \"\"\"This overrides the PerformanceBenchmark.compute_size() method\"\"\"\n",
    "    state_dict = self.pipeline.model.state_dict()\n",
    "    tmp_path = Path(\"model.pt\")\n",
    "    torch.save(state_dict, tmp_path)\n",
    "    # Calculate size in megabytes\n",
    "    size_mb = Path(tmp_path).stat().st_size / (1024 * 1024)\n",
    "    # Delete temporary file\n",
    "    tmp_path.unlink()\n",
    "    print(f\"Model size (MB) - {size_mb:.2f}\")\n",
    "    return {\"size_mb\": size_mb}\n",
    "\n",
    "PerformanceBenchmark.compute_size = compute_size"
   ]
  },
  {
   "cell_type": "code",
   "execution_count": 14,
   "metadata": {},
   "outputs": [
    {
     "name": "stdout",
     "output_type": "stream",
     "text": [
      "Latency (ms) - 10.827\n",
      "Latency (ms) - 8.617\n",
      "Latency (ms) - 8.608\n"
     ]
    }
   ],
   "source": [
    "from time import perf_counter\n",
    "\n",
    "for _ in range(3):\n",
    "    start_time = perf_counter()\n",
    "    _ = pipe(query)\n",
    "    latency = perf_counter() - start_time\n",
    "    print(f\"Latency (ms) - {1000 * latency:.3f}\")"
   ]
  },
  {
   "cell_type": "code",
   "execution_count": 15,
   "metadata": {},
   "outputs": [],
   "source": [
    "import numpy as np\n",
    "\n",
    "def time_pipeline(self, query=\"What is the pin number for my account?\"):\n",
    "    \"\"\"This overrides the PerformanceBenchmark.time_pipeline() method\"\"\"\n",
    "    latencies = []\n",
    "    # Warmup\n",
    "    for _ in range(10):\n",
    "        _ = self.pipeline(query)\n",
    "    # Timed run\n",
    "    for _ in range(100):\n",
    "        start_time = perf_counter()\n",
    "        _ = self.pipeline(query)\n",
    "        latency = perf_counter() - start_time\n",
    "        latencies.append(latency)\n",
    "    # Compute run statistics\n",
    "    time_avg_ms = 1000 * np.mean(latencies)\n",
    "    time_std_ms = 1000 * np.std(latencies)\n",
    "    print(f\"Average latency (ms) - {time_avg_ms:.2f} +\\- {time_std_ms:.2f}\")\n",
    "    return {\"time_avg_ms\": time_avg_ms, \"time_std_ms\": time_std_ms}\n",
    "\n",
    "PerformanceBenchmark.time_pipeline = time_pipeline"
   ]
  },
  {
   "cell_type": "code",
   "execution_count": 16,
   "metadata": {},
   "outputs": [
    {
     "name": "stderr",
     "output_type": "stream",
     "text": [
      "You seem to be using the pipelines sequentially on GPU. In order to maximize efficiency please use a dataset\n"
     ]
    },
    {
     "name": "stdout",
     "output_type": "stream",
     "text": [
      "Model size (MB) - 418.15\n",
      "Average latency (ms) - 6.05 +\\- 0.25\n",
      "Accuracy on test set - 0.867\n"
     ]
    }
   ],
   "source": [
    "pb = PerformanceBenchmark(pipe, clinc[\"test\"])\n",
    "perf_metrics = pb.run_benchmark()"
   ]
  },
  {
   "cell_type": "markdown",
   "metadata": {},
   "source": [
    "## Making Models Smaller via Knowledge Distillation"
   ]
  },
  {
   "cell_type": "markdown",
   "metadata": {},
   "source": [
    "### Knowledge Distillation for Fine-Tuning"
   ]
  },
  {
   "cell_type": "markdown",
   "metadata": {},
   "source": [
    "<img alt=\"Soft Probabilities\" caption=\"Comparison of a hard label that is one-hot encoded (left), softmax probabilities (middle), and softened class probabilities (right)\" src=\"images/chapter08_soft-probs.png\" id=\"soft-probs\"/> "
   ]
  },
  {
   "cell_type": "markdown",
   "metadata": {},
   "source": [
    "<img alt=\"Knowledge distillation\" caption=\"The knowledge distillation process\" src=\"images/chapter08_kd.png\" id=\"kd\"/> "
   ]
  },
  {
   "cell_type": "markdown",
   "metadata": {},
   "source": [
    "### Knowledge Distillation for Pretraining"
   ]
  },
  {
   "cell_type": "markdown",
   "metadata": {},
   "source": [
    "### Creating a Knowledge Distillation Trainer"
   ]
  },
  {
   "cell_type": "code",
   "execution_count": 17,
   "metadata": {},
   "outputs": [],
   "source": [
    "from transformers import TrainingArguments\n",
    "\n",
    "class DistillationTrainingArguments(TrainingArguments):\n",
    "    def __init__(self, *args, alpha=0.5, temperature=2.0, **kwargs):\n",
    "        super().__init__(*args, **kwargs)\n",
    "        self.alpha = alpha\n",
    "        self.temperature = temperature"
   ]
  },
  {
   "cell_type": "code",
   "execution_count": 18,
   "metadata": {},
   "outputs": [],
   "source": [
    "import torch.nn as nn\n",
    "import torch.nn.functional as F\n",
    "from transformers import Trainer\n",
    "\n",
    "class DistillationTrainer(Trainer):\n",
    "    def __init__(self, *args, teacher_model=None, **kwargs):\n",
    "        super().__init__(*args, **kwargs)\n",
    "        self.teacher_model = teacher_model\n",
    "\n",
    "    def compute_loss(self, model, inputs, return_outputs=False, **kwargs):\n",
    "        device = torch.device(\"cuda\" if torch.cuda.is_available() else \"cpu\")\n",
    "        inputs = inputs.to(device)\n",
    "        outputs_stu = model(**inputs)\n",
    "        # Extract cross-entropy loss and logits from student\n",
    "        loss_ce = outputs_stu.loss\n",
    "        logits_stu = outputs_stu.logits\n",
    "        # Extract logits from teacher\n",
    "        with torch.no_grad():\n",
    "            outputs_tea = self.teacher_model(**inputs)\n",
    "            logits_tea = outputs_tea.logits\n",
    "        # Soften probabilities and compute distillation loss\n",
    "        loss_fct = nn.KLDivLoss(reduction=\"batchmean\")\n",
    "        loss_kd = self.args.temperature ** 2 * loss_fct(\n",
    "            F.log_softmax(logits_stu / self.args.temperature, dim=-1),\n",
    "            F.softmax(logits_tea / self.args.temperature, dim=-1))\n",
    "        # Return weighted student loss\n",
    "        loss = self.args.alpha * loss_ce + (1. - self.args.alpha) * loss_kd\n",
    "        return (loss, outputs_stu) if return_outputs else loss"
   ]
  },
  {
   "cell_type": "markdown",
   "metadata": {},
   "source": [
    "### Choosing a Good Student Initialization"
   ]
  },
  {
   "cell_type": "code",
   "execution_count": 19,
   "metadata": {},
   "outputs": [],
   "source": [
    "#hide_output\n",
    "from transformers import AutoTokenizer\n",
    "\n",
    "student_ckpt = \"distilbert-base-uncased\"\n",
    "student_tokenizer = AutoTokenizer.from_pretrained(student_ckpt)\n",
    "\n",
    "def tokenize_text(batch):\n",
    "    return student_tokenizer(batch[\"text\"], truncation=True)\n",
    "\n",
    "clinc_enc = clinc.map(tokenize_text, batched=True, remove_columns=[\"text\"])\n",
    "clinc_enc = clinc_enc.rename_column(\"intent\", \"labels\")"
   ]
  },
  {
   "cell_type": "code",
   "execution_count": 20,
   "metadata": {},
   "outputs": [],
   "source": [
    "# from huggingface_hub import notebook_login\n",
    "\n",
    "# notebook_login()"
   ]
  },
  {
   "cell_type": "code",
   "execution_count": 21,
   "metadata": {},
   "outputs": [],
   "source": [
    "def compute_metrics(pred):\n",
    "    predictions, labels = pred\n",
    "    predictions = np.argmax(predictions, axis=1)\n",
    "    return accuracy_score.compute(predictions=predictions, references=labels)"
   ]
  },
  {
   "cell_type": "code",
   "execution_count": 22,
   "metadata": {},
   "outputs": [
    {
     "name": "stderr",
     "output_type": "stream",
     "text": [
      "huggingface/tokenizers: The current process just got forked, after parallelism has already been used. Disabling parallelism to avoid deadlocks...\n",
      "To disable this warning, you can either:\n",
      "\t- Avoid using `tokenizers` before the fork if possible\n",
      "\t- Explicitly set the environment variable TOKENIZERS_PARALLELISM=(true | false)\n"
     ]
    }
   ],
   "source": [
    "batch_size = 48\n",
    "\n",
    "finetuned_ckpt = \"distilbert-base-uncased-finetuned-clinc\"\n",
    "student_training_args = DistillationTrainingArguments(\n",
    "    output_dir=finetuned_ckpt, eval_strategy = \"epoch\", \n",
    "    num_train_epochs=5, learning_rate=2e-5, \n",
    "    per_device_train_batch_size=batch_size,\n",
    "    per_device_eval_batch_size=batch_size, alpha=1, weight_decay=0.01, \n",
    "    # push_to_hub=True\n",
    "    )"
   ]
  },
  {
   "cell_type": "code",
   "execution_count": 23,
   "metadata": {},
   "outputs": [],
   "source": [
    "#hide\n",
    "student_training_args.logging_steps = len(clinc_enc['train']) // batch_size\n",
    "student_training_args.disable_tqdm = False\n",
    "student_training_args.save_steps = 1e9\n",
    "student_training_args.log_level = 'error'"
   ]
  },
  {
   "cell_type": "code",
   "execution_count": 24,
   "metadata": {},
   "outputs": [
    {
     "name": "stdout",
     "output_type": "stream",
     "text": [
      "env: TOKENIZERS_PARALLELISM=false\n"
     ]
    }
   ],
   "source": [
    "#hide\n",
    "%env TOKENIZERS_PARALLELISM=false"
   ]
  },
  {
   "cell_type": "code",
   "execution_count": 25,
   "metadata": {},
   "outputs": [],
   "source": [
    "id2label = pipe.model.config.id2label\n",
    "label2id = pipe.model.config.label2id"
   ]
  },
  {
   "cell_type": "code",
   "execution_count": 26,
   "metadata": {},
   "outputs": [],
   "source": [
    "from transformers import AutoConfig\n",
    "\n",
    "num_labels = intents.num_classes\n",
    "student_config = (AutoConfig\n",
    "                  .from_pretrained(student_ckpt, num_labels=num_labels, \n",
    "                                   id2label=id2label, label2id=label2id))"
   ]
  },
  {
   "cell_type": "code",
   "execution_count": 27,
   "metadata": {},
   "outputs": [],
   "source": [
    "import torch\n",
    "from transformers import AutoModelForSequenceClassification\n",
    "\n",
    "device = torch.device(\"cuda\" if torch.cuda.is_available() else \"cpu\")\n",
    "\n",
    "def student_init():\n",
    "    return (AutoModelForSequenceClassification\n",
    "            .from_pretrained(student_ckpt, config=student_config).to(device))"
   ]
  },
  {
   "cell_type": "code",
   "execution_count": 28,
   "metadata": {},
   "outputs": [],
   "source": [
    "#hide_output\n",
    "teacher_ckpt = \"transformersbook/bert-base-uncased-finetuned-clinc\"\n",
    "teacher_model = (AutoModelForSequenceClassification\n",
    "                 .from_pretrained(teacher_ckpt, num_labels=num_labels)\n",
    "                 .to(device))"
   ]
  },
  {
   "cell_type": "code",
   "execution_count": 29,
   "metadata": {},
   "outputs": [
    {
     "name": "stderr",
     "output_type": "stream",
     "text": [
      "/tmp/ipykernel_3577432/2429809284.py:7: FutureWarning: `tokenizer` is deprecated and will be removed in version 5.0.0 for `DistillationTrainer.__init__`. Use `processing_class` instead.\n",
      "  super().__init__(*args, **kwargs)\n",
      "/home/dev/.venv/lib/python3.9/site-packages/torch/nn/parallel/_functions.py:71: UserWarning: Was asked to gather along dimension 0, but all input tensors were scalars; will instead unsqueeze and return a vector.\n",
      "  warnings.warn(\n"
     ]
    },
    {
     "data": {
      "text/html": [
       "\n",
       "    <div>\n",
       "      \n",
       "      <progress value='400' max='400' style='width:300px; height:20px; vertical-align: middle;'></progress>\n",
       "      [400/400 00:56, Epoch 5/5]\n",
       "    </div>\n",
       "    <table border=\"1\" class=\"dataframe\">\n",
       "  <thead>\n",
       " <tr style=\"text-align: left;\">\n",
       "      <th>Epoch</th>\n",
       "      <th>Training Loss</th>\n",
       "      <th>Validation Loss</th>\n",
       "      <th>Accuracy</th>\n",
       "    </tr>\n",
       "  </thead>\n",
       "  <tbody>\n",
       "    <tr>\n",
       "      <td>1</td>\n",
       "      <td>No log</td>\n",
       "      <td>4.449609</td>\n",
       "      <td>0.441935</td>\n",
       "    </tr>\n",
       "    <tr>\n",
       "      <td>2</td>\n",
       "      <td>No log</td>\n",
       "      <td>3.762282</td>\n",
       "      <td>0.688387</td>\n",
       "    </tr>\n",
       "    <tr>\n",
       "      <td>3</td>\n",
       "      <td>No log</td>\n",
       "      <td>3.282632</td>\n",
       "      <td>0.758065</td>\n",
       "    </tr>\n",
       "    <tr>\n",
       "      <td>4</td>\n",
       "      <td>3.947500</td>\n",
       "      <td>2.998896</td>\n",
       "      <td>0.790968</td>\n",
       "    </tr>\n",
       "    <tr>\n",
       "      <td>5</td>\n",
       "      <td>3.947500</td>\n",
       "      <td>2.905463</td>\n",
       "      <td>0.799677</td>\n",
       "    </tr>\n",
       "  </tbody>\n",
       "</table><p>"
      ],
      "text/plain": [
       "<IPython.core.display.HTML object>"
      ]
     },
     "metadata": {},
     "output_type": "display_data"
    },
    {
     "name": "stderr",
     "output_type": "stream",
     "text": [
      "/home/dev/.venv/lib/python3.9/site-packages/torch/nn/parallel/_functions.py:71: UserWarning: Was asked to gather along dimension 0, but all input tensors were scalars; will instead unsqueeze and return a vector.\n",
      "  warnings.warn(\n",
      "/home/dev/.venv/lib/python3.9/site-packages/torch/nn/parallel/_functions.py:71: UserWarning: Was asked to gather along dimension 0, but all input tensors were scalars; will instead unsqueeze and return a vector.\n",
      "  warnings.warn(\n",
      "/home/dev/.venv/lib/python3.9/site-packages/torch/nn/parallel/_functions.py:71: UserWarning: Was asked to gather along dimension 0, but all input tensors were scalars; will instead unsqueeze and return a vector.\n",
      "  warnings.warn(\n",
      "/home/dev/.venv/lib/python3.9/site-packages/torch/nn/parallel/_functions.py:71: UserWarning: Was asked to gather along dimension 0, but all input tensors were scalars; will instead unsqueeze and return a vector.\n",
      "  warnings.warn(\n",
      "/home/dev/.venv/lib/python3.9/site-packages/torch/nn/parallel/_functions.py:71: UserWarning: Was asked to gather along dimension 0, but all input tensors were scalars; will instead unsqueeze and return a vector.\n",
      "  warnings.warn(\n"
     ]
    },
    {
     "data": {
      "text/plain": [
       "TrainOutput(global_step=400, training_loss=3.755630683898926, metrics={'train_runtime': 58.5615, 'train_samples_per_second': 1302.049, 'train_steps_per_second': 6.83, 'total_flos': 474292858746168.0, 'train_loss': 3.755630683898926, 'epoch': 5.0})"
      ]
     },
     "execution_count": 29,
     "metadata": {},
     "output_type": "execute_result"
    }
   ],
   "source": [
    "distilbert_trainer = DistillationTrainer(model_init=student_init,\n",
    "    teacher_model=teacher_model, args=student_training_args,\n",
    "    train_dataset=clinc_enc['train'], eval_dataset=clinc_enc['validation'],\n",
    "    compute_metrics=compute_metrics, tokenizer=student_tokenizer)\n",
    "\n",
    "distilbert_trainer.train()"
   ]
  },
  {
   "cell_type": "code",
   "execution_count": 30,
   "metadata": {},
   "outputs": [],
   "source": [
    "#hide_output\n",
    "# distilbert_trainer.push_to_hub(\"Training completed!\")"
   ]
  },
  {
   "cell_type": "code",
   "execution_count": 31,
   "metadata": {},
   "outputs": [],
   "source": [
    "#hide_output\n",
    "finetuned_ckpt = \"transformersbook/distilbert-base-uncased-finetuned-clinc\"\n",
    "pipe = pipeline(\"text-classification\", model=finetuned_ckpt)"
   ]
  },
  {
   "cell_type": "code",
   "execution_count": 32,
   "metadata": {},
   "outputs": [
    {
     "name": "stdout",
     "output_type": "stream",
     "text": [
      "Model size (MB) - 255.88\n",
      "Average latency (ms) - 3.16 +\\- 0.37\n",
      "Accuracy on test set - 0.858\n"
     ]
    }
   ],
   "source": [
    "optim_type = \"DistilBERT\"\n",
    "pb = PerformanceBenchmark(pipe, clinc[\"test\"], optim_type=optim_type)\n",
    "perf_metrics.update(pb.run_benchmark())"
   ]
  },
  {
   "cell_type": "code",
   "execution_count": 33,
   "metadata": {},
   "outputs": [
    {
     "data": {
      "image/png": "[encoded data removed]",
      "text/plain": [
       "<Figure size 640x480 with 1 Axes>"
      ]
     },
     "metadata": {},
     "output_type": "display_data"
    }
   ],
   "source": [
    "import pandas as pd\n",
    "import matplotlib.pyplot as plt\n",
    "\n",
    "def plot_metrics(perf_metrics, current_optim_type):\n",
    "    df = pd.DataFrame.from_dict(perf_metrics, orient='index')\n",
    "\n",
    "    for idx in df.index:\n",
    "        df_opt = df.loc[idx]\n",
    "        # Add a dashed circle around the current optimization type\n",
    "        if idx == current_optim_type:\n",
    "            plt.scatter(df_opt[\"time_avg_ms\"], df_opt[\"accuracy\"] * 100, \n",
    "                        alpha=0.5, s=df_opt[\"size_mb\"], label=idx, \n",
    "                        marker='$\\u25CC$')\n",
    "        else:\n",
    "            plt.scatter(df_opt[\"time_avg_ms\"], df_opt[\"accuracy\"] * 100, \n",
    "                        s=df_opt[\"size_mb\"], label=idx, alpha=0.5)\n",
    "            \n",
    "    legend = plt.legend(bbox_to_anchor=(1,1))\n",
    "    for handle in legend.legend_handles:\n",
    "        handle.set_sizes([20])\n",
    "\n",
    "    plt.ylim(80,90)\n",
    "    # Use the slowest model to define the x-axis range\n",
    "    xlim = int(perf_metrics[\"BERT baseline\"][\"time_avg_ms\"] + 3)\n",
    "    plt.xlim(1, xlim)\n",
    "    plt.ylabel(\"Accuracy (%)\")\n",
    "    plt.xlabel(\"Average latency (ms)\")\n",
    "    plt.show()\n",
    "    \n",
    "plot_metrics(perf_metrics, optim_type)"
   ]
  },
  {
   "cell_type": "markdown",
   "metadata": {},
   "source": [
    "### Finding Good Hyperparameters with Optuna"
   ]
  },
  {
   "cell_type": "code",
   "execution_count": 34,
   "metadata": {},
   "outputs": [
    {
     "data": {
      "image/png": "[encoded data removed]",
      "text/plain": [
       "<Figure size 640x480 with 1 Axes>"
      ]
     },
     "metadata": {},
     "output_type": "display_data"
    }
   ],
   "source": [
    "#hide_input\n",
    "#id banana-function\n",
    "#alt A banana plot\n",
    "#caption Plot of the Rosenbrock function of two variables \n",
    "import matplotlib.pyplot as plt\n",
    "import numpy as np\n",
    "\n",
    "def f(x, y):\n",
    "    return (1-x)**2+100*(y-x**2)**2\n",
    "    \n",
    "X, Y = np.meshgrid(np.linspace(-2, 2, 250), np.linspace(-1, 3, 250))\n",
    "Z = f(X,Y)\n",
    "_, ax = plt.subplots()\n",
    "ax.plot([1], [1], 'x', mew=3, markersize=10, color=\"red\")\n",
    "ax.contourf(X, Y, Z, np.logspace(-1, 3, 30), cmap='viridis', extend=\"both\")\n",
    "ax.set_xlim(-1.3, 1.3)\n",
    "ax.set_ylim(-0.9, 1.7)\n",
    "plt.show()"
   ]
  },
  {
   "cell_type": "code",
   "execution_count": 35,
   "metadata": {},
   "outputs": [],
   "source": [
    "def objective(trial):\n",
    "    x = trial.suggest_float(\"x\", -2, 2)\n",
    "    y = trial.suggest_float(\"y\", -2, 2)\n",
    "    return (1 - x) ** 2 + 100 * (y - x ** 2) ** 2"
   ]
  },
  {
   "cell_type": "code",
   "execution_count": 36,
   "metadata": {},
   "outputs": [
    {
     "name": "stderr",
     "output_type": "stream",
     "text": [
      "[I 2025-08-24 05:18:54,288] A new study created in memory with name: no-name-e454d2bc-5cf3-47b8-8c0f-6b6e257312c0\n",
      "[I 2025-08-24 05:18:54,290] Trial 0 finished with value: 1477.972440390661 and parameters: {'x': -1.8204528383868346, 'y': -0.5200321694244283}. Best is trial 0 with value: 1477.972440390661.\n",
      "[I 2025-08-24 05:18:54,291] Trial 1 finished with value: 9.002342839177524 and parameters: {'x': -1.2380752228416698, 'y': 1.7326642419135774}. Best is trial 1 with value: 9.002342839177524.\n",
      "[I 2025-08-24 05:18:54,291] Trial 2 finished with value: 126.89138342300798 and parameters: {'x': 1.5179613438725417, 'y': 1.1789373427487528}. Best is trial 1 with value: 9.002342839177524.\n",
      "[I 2025-08-24 05:18:54,292] Trial 3 finished with value: 300.82485406987973 and parameters: {'x': 0.42223371394902687, 'y': 1.9117490481179025}. Best is trial 1 with value: 9.002342839177524.\n",
      "[I 2025-08-24 05:18:54,293] Trial 4 finished with value: 903.7011992172252 and parameters: {'x': -1.847610668114045, 'y': 0.42102034282981204}. Best is trial 1 with value: 9.002342839177524.\n",
      "[I 2025-08-24 05:18:54,293] Trial 5 finished with value: 276.3934590954324 and parameters: {'x': -0.18760080160941373, 'y': 1.6934553894803548}. Best is trial 1 with value: 9.002342839177524.\n",
      "[I 2025-08-24 05:18:54,294] Trial 6 finished with value: 1036.6679302998389 and parameters: {'x': -1.439757203704794, 'y': -1.1375750393084543}. Best is trial 1 with value: 9.002342839177524.\n",
      "[I 2025-08-24 05:18:54,295] Trial 7 finished with value: 151.8170479188459 and parameters: {'x': 0.12249185849254696, 'y': -1.2140076541484053}. Best is trial 1 with value: 9.002342839177524.\n",
      "[I 2025-08-24 05:18:54,296] Trial 8 finished with value: 191.43745973200504 and parameters: {'x': -0.2993342962275021, 'y': -1.287893770811385}. Best is trial 1 with value: 9.002342839177524.\n",
      "[I 2025-08-24 05:18:54,296] Trial 9 finished with value: 144.9837153598522 and parameters: {'x': -0.415947489224036, 'y': -1.0227251493146179}. Best is trial 1 with value: 9.002342839177524.\n",
      "[I 2025-08-24 05:18:54,302] Trial 10 finished with value: 37.06531572522042 and parameters: {'x': -1.086993536675205, 'y': 0.6096303584377035}. Best is trial 1 with value: 9.002342839177524.\n",
      "[I 2025-08-24 05:18:54,306] Trial 11 finished with value: 30.698579926248932 and parameters: {'x': -1.0227264266714087, 'y': 0.5301480789431794}. Best is trial 1 with value: 9.002342839177524.\n",
      "[I 2025-08-24 05:18:54,310] Trial 12 finished with value: 4.7391439481534405 and parameters: {'x': -1.0560797531963617, 'y': 1.04377263424022}. Best is trial 12 with value: 4.7391439481534405.\n",
      "[I 2025-08-24 05:18:54,314] Trial 13 finished with value: 13.906753997528144 and parameters: {'x': -0.9786037444257495, 'y': 1.273764659373363}. Best is trial 12 with value: 4.7391439481534405.\n"
     ]
    },
    {
     "name": "stderr",
     "output_type": "stream",
     "text": [
      "[I 2025-08-24 05:18:54,317] Trial 14 finished with value: 49.01910765665967 and parameters: {'x': 0.6775174816363434, 'y': 1.1584233371053838}. Best is trial 12 with value: 4.7391439481534405.\n",
      "[I 2025-08-24 05:18:54,321] Trial 15 finished with value: 608.9460207027572 and parameters: {'x': -0.7388822511660551, 'y': -1.9156019402605677}. Best is trial 12 with value: 4.7391439481534405.\n",
      "[I 2025-08-24 05:18:54,325] Trial 16 finished with value: 486.22341431511234 and parameters: {'x': -1.4967632926365015, 'y': 0.04943388774742541}. Best is trial 12 with value: 4.7391439481534405.\n",
      "[I 2025-08-24 05:18:54,329] Trial 17 finished with value: 7.2222330964281705 and parameters: {'x': 1.1224849173394902, 'y': 1.528435246330431}. Best is trial 12 with value: 4.7391439481534405.\n",
      "[I 2025-08-24 05:18:54,333] Trial 18 finished with value: 855.7523781826684 and parameters: {'x': 1.9395336827176313, 'y': 0.8379754973087907}. Best is trial 12 with value: 4.7391439481534405.\n",
      "[I 2025-08-24 05:18:54,337] Trial 19 finished with value: 11.810586579718972 and parameters: {'x': 1.0317421729932508, 'y': 1.4081425919362447}. Best is trial 12 with value: 4.7391439481534405.\n",
      "[I 2025-08-24 05:18:54,341] Trial 20 finished with value: 146.64954998154633 and parameters: {'x': 1.1126359582484366, 'y': 0.027021687533475808}. Best is trial 12 with value: 4.7391439481534405.\n",
      "[I 2025-08-24 05:18:54,345] Trial 21 finished with value: 279.33794499589504 and parameters: {'x': -0.5108238373109928, 'y': 1.925438984138226}. Best is trial 12 with value: 4.7391439481534405.\n",
      "[I 2025-08-24 05:18:54,348] Trial 22 finished with value: 18.3101485718693 and parameters: {'x': -1.3760949622805354, 'y': 1.5377676878659234}. Best is trial 12 with value: 4.7391439481534405.\n",
      "[I 2025-08-24 05:18:54,353] Trial 23 finished with value: 61.85793252464468 and parameters: {'x': 0.4143384654379889, 'y': 0.9559909251449774}. Best is trial 12 with value: 4.7391439481534405.\n",
      "[I 2025-08-24 05:18:54,357] Trial 24 finished with value: 265.6232407475121 and parameters: {'x': 0.12019082866527442, 'y': 1.6418645784881196}. Best is trial 12 with value: 4.7391439481534405.\n",
      "[I 2025-08-24 05:18:54,361] Trial 25 finished with value: 16.835192938953917 and parameters: {'x': -0.7043745419063123, 'y': 0.8693766711939732}. Best is trial 12 with value: 4.7391439481534405.\n",
      "[I 2025-08-24 05:18:54,365] Trial 26 finished with value: 380.6463230782305 and parameters: {'x': 1.9870182422256235, 'y': 1.9997238068787522}. Best is trial 12 with value: 4.7391439481534405.\n",
      "[I 2025-08-24 05:18:54,368] Trial 27 finished with value: 365.9881994207624 and parameters: {'x': 1.4734409550543548, 'y': 0.2585323576232521}. Best is trial 12 with value: 4.7391439481534405.\n",
      "[I 2025-08-24 05:18:54,372] Trial 28 finished with value: 328.26696653849996 and parameters: {'x': -1.2423283581016782, 'y': -0.2545049245800331}. Best is trial 12 with value: 4.7391439481534405.\n",
      "[I 2025-08-24 05:18:54,375] Trial 29 finished with value: 193.82233820026107 and parameters: {'x': -1.6979444714408247, 'y': 1.517206386431841}. Best is trial 12 with value: 4.7391439481534405.\n",
      "[I 2025-08-24 05:18:54,379] Trial 30 finished with value: 697.3473852147123 and parameters: {'x': -1.9167385499114682, 'y': 1.0493104716018908}. Best is trial 12 with value: 4.7391439481534405.\n",
      "[I 2025-08-24 05:18:54,382] Trial 31 finished with value: 2.2929196758063317 and parameters: {'x': 1.091543175457379, 'y': 1.3426134364675522}. Best is trial 31 with value: 2.2929196758063317.\n",
      "[I 2025-08-24 05:18:54,386] Trial 32 finished with value: 4.546697797070068 and parameters: {'x': 1.0346676539820328, 'y': 1.2837388415923852}. Best is trial 31 with value: 2.2929196758063317.\n",
      "[I 2025-08-24 05:18:54,389] Trial 33 finished with value: 3.1097062992618696 and parameters: {'x': 0.9589418361268823, 'y': 0.7432736559459763}. Best is trial 31 with value: 2.2929196758063317.\n",
      "[I 2025-08-24 05:18:54,393] Trial 34 finished with value: 2.0254017883837276 and parameters: {'x': 0.7804460568842738, 'y': 0.749708915340936}. Best is trial 34 with value: 2.0254017883837276.\n",
      "[I 2025-08-24 05:18:54,396] Trial 35 finished with value: 1.3670573490876041 and parameters: {'x': 0.7712645029664684, 'y': 0.7095109334089759}. Best is trial 35 with value: 1.3670573490876041.\n",
      "[I 2025-08-24 05:18:54,400] Trial 36 finished with value: 1.3086325928776172 and parameters: {'x': 0.7197006245424916, 'y': 0.6288772777912568}. Best is trial 36 with value: 1.3086325928776172.\n",
      "[I 2025-08-24 05:18:54,404] Trial 37 finished with value: 4.321271796818615 and parameters: {'x': 0.6845485425183184, 'y': 0.2631374350354753}. Best is trial 36 with value: 1.3086325928776172.\n",
      "[I 2025-08-24 05:18:54,407] Trial 38 finished with value: 659.1239423299209 and parameters: {'x': 1.4773839198203973, 'y': -0.3842338042219213}. Best is trial 36 with value: 1.3086325928776172.\n",
      "[I 2025-08-24 05:18:54,411] Trial 39 finished with value: 6.15640104118359 and parameters: {'x': 0.4213959554495697, 'y': 0.4188548530100624}. Best is trial 36 with value: 1.3086325928776172.\n",
      "[I 2025-08-24 05:18:54,414] Trial 40 finished with value: 0.43427878733658315 and parameters: {'x': 0.7562966469492167, 'y': 0.6332126724631106}. Best is trial 40 with value: 0.43427878733658315.\n",
      "[I 2025-08-24 05:18:54,417] Trial 41 finished with value: 2.094447681895092 and parameters: {'x': 0.7210511978051463, 'y': 0.6619231129825788}. Best is trial 40 with value: 0.43427878733658315.\n",
      "[I 2025-08-24 05:18:54,420] Trial 42 finished with value: 1.4739802081264437 and parameters: {'x': 0.719745103920568, 'y': 0.6361616479522256}. Best is trial 40 with value: 0.43427878733658315.\n",
      "[I 2025-08-24 05:18:54,423] Trial 43 finished with value: 7.061530300171879 and parameters: {'x': 0.19080249973132768, 'y': 0.2895207792587472}. Best is trial 40 with value: 0.43427878733658315.\n",
      "[I 2025-08-24 05:18:54,426] Trial 44 finished with value: 3.652607811281214 and parameters: {'x': 0.8398645722853759, 'y': 0.5149265899770284}. Best is trial 40 with value: 0.43427878733658315.\n",
      "[I 2025-08-24 05:18:54,429] Trial 45 finished with value: 53.126560541217465 and parameters: {'x': -0.1113061281415485, 'y': 0.7327470153920592}. Best is trial 40 with value: 0.43427878733658315.\n",
      "[I 2025-08-24 05:18:54,432] Trial 46 finished with value: 384.5296296913122 and parameters: {'x': 1.306449640651453, 'y': -0.2538925733162982}. Best is trial 40 with value: 0.43427878733658315.\n",
      "[I 2025-08-24 05:18:54,435] Trial 47 finished with value: 1.0350935607793936 and parameters: {'x': 0.5483431926575104, 'y': 0.39184492603105275}. Best is trial 40 with value: 0.43427878733658315.\n",
      "[I 2025-08-24 05:18:54,438] Trial 48 finished with value: 73.89878941775899 and parameters: {'x': 0.501037148450886, 'y': -0.6071565410073283}. Best is trial 40 with value: 0.43427878733658315.\n",
      "[I 2025-08-24 05:18:54,441] Trial 49 finished with value: 1.3262390554102115 and parameters: {'x': 0.24888288199834813, 'y': 0.14923885899694966}. Best is trial 40 with value: 0.43427878733658315.\n",
      "[I 2025-08-24 05:18:54,444] Trial 50 finished with value: 0.6241913945456641 and parameters: {'x': 0.25712533857876174, 'y': 0.09300742270271345}. Best is trial 40 with value: 0.43427878733658315.\n",
      "[I 2025-08-24 05:18:54,447] Trial 51 finished with value: 4.419160872622461 and parameters: {'x': 0.2907576773436299, 'y': -0.11335227206636722}. Best is trial 40 with value: 0.43427878733658315.\n",
      "[I 2025-08-24 05:18:54,450] Trial 52 finished with value: 4.0774198812122755 and parameters: {'x': -0.07144549899448355, 'y': 0.17626007342954833}. Best is trial 40 with value: 0.43427878733658315.\n",
      "[I 2025-08-24 05:18:54,453] Trial 53 finished with value: 2.378945684496565 and parameters: {'x': 0.5469050991771761, 'y': 0.44653824673441145}. Best is trial 40 with value: 0.43427878733658315.\n",
      "[I 2025-08-24 05:18:54,456] Trial 54 finished with value: 1.6416229621282166 and parameters: {'x': 0.06555974240617213, 'y': 0.09195903847279488}. Best is trial 40 with value: 0.43427878733658315.\n",
      "[I 2025-08-24 05:18:54,459] Trial 55 finished with value: 605.9890521116496 and parameters: {'x': 1.3001508539728273, 'y': -0.7711092531076851}. Best is trial 40 with value: 0.43427878733658315.\n",
      "[I 2025-08-24 05:18:54,462] Trial 56 finished with value: 8.727420851613529 and parameters: {'x': 0.3127980709767299, 'y': 0.38516082546684677}. Best is trial 40 with value: 0.43427878733658315.\n",
      "[I 2025-08-24 05:18:54,465] Trial 57 finished with value: 3.8914584718646186 and parameters: {'x': 0.31229524458572916, 'y': -0.08736409869202974}. Best is trial 40 with value: 0.43427878733658315.\n",
      "[I 2025-08-24 05:18:54,468] Trial 58 finished with value: 98.75351292544397 and parameters: {'x': -0.2951635656177015, 'y': 1.072393392766782}. Best is trial 40 with value: 0.43427878733658315.\n",
      "[I 2025-08-24 05:18:54,472] Trial 59 finished with value: 7.002377518522007 and parameters: {'x': 0.5392452886386631, 'y': 0.551363350956467}. Best is trial 40 with value: 0.43427878733658315.\n",
      "[I 2025-08-24 05:18:54,475] Trial 60 finished with value: 51.76339428005179 and parameters: {'x': 0.9162464786027404, 'y': 0.12008854094374743}. Best is trial 40 with value: 0.43427878733658315.\n",
      "[I 2025-08-24 05:18:54,478] Trial 61 finished with value: 33.98812296876061 and parameters: {'x': 0.5369892883280221, 'y': 0.86950931802205}. Best is trial 40 with value: 0.43427878733658315.\n",
      "[I 2025-08-24 05:18:54,481] Trial 62 finished with value: 3.367059502533038 and parameters: {'x': 0.6725419087569424, 'y': 0.632862631524392}. Best is trial 40 with value: 0.43427878733658315.\n",
      "[I 2025-08-24 05:18:54,484] Trial 63 finished with value: 16.8747512487837 and parameters: {'x': 0.8555420734466703, 'y': 0.32141742780460647}. Best is trial 40 with value: 0.43427878733658315.\n",
      "[I 2025-08-24 05:18:54,487] Trial 64 finished with value: 339.8439432083673 and parameters: {'x': 0.22514978920613227, 'y': -1.7911641096111026}. Best is trial 40 with value: 0.43427878733658315.\n",
      "[I 2025-08-24 05:18:54,490] Trial 65 finished with value: 1.2555199332929528 and parameters: {'x': 0.009415466247487125, 'y': -0.052281399098743075}. Best is trial 40 with value: 0.43427878733658315.\n",
      "[I 2025-08-24 05:18:54,493] Trial 66 finished with value: 1.5665818931373525 and parameters: {'x': -0.002998225684020306, 'y': -0.07486266431835843}. Best is trial 40 with value: 0.43427878733658315.\n",
      "[I 2025-08-24 05:18:54,496] Trial 67 finished with value: 10.10862736722943 and parameters: {'x': -0.1864623584512274, 'y': -0.26020525275862294}. Best is trial 40 with value: 0.43427878733658315.\n",
      "[I 2025-08-24 05:18:54,499] Trial 68 finished with value: 188.23721739957483 and parameters: {'x': 1.2537540124871671, 'y': 0.20013811585025632}. Best is trial 40 with value: 0.43427878733658315.\n",
      "[I 2025-08-24 05:18:54,502] Trial 69 finished with value: 24.47717796874483 and parameters: {'x': 0.07263455462807608, 'y': -0.48069923420071536}. Best is trial 40 with value: 0.43427878733658315.\n",
      "[I 2025-08-24 05:18:54,505] Trial 70 finished with value: 2.75524580741018 and parameters: {'x': -0.2889377171528317, 'y': -0.021103970585282628}. Best is trial 40 with value: 0.43427878733658315.\n",
      "[I 2025-08-24 05:18:54,509] Trial 71 finished with value: 29.681101846594544 and parameters: {'x': 0.6334095532763224, 'y': 0.9447765473376349}. Best is trial 40 with value: 0.43427878733658315.\n",
      "[I 2025-08-24 05:18:54,512] Trial 72 finished with value: 15.702278108858474 and parameters: {'x': 0.3969689287489861, 'y': 0.5492299819186516}. Best is trial 40 with value: 0.43427878733658315.\n",
      "[I 2025-08-24 05:18:54,515] Trial 73 finished with value: 3.5302400077552103 and parameters: {'x': 0.7629982221032188, 'y': 0.3957777098945674}. Best is trial 40 with value: 0.43427878733658315.\n",
      "[I 2025-08-24 05:18:54,518] Trial 74 finished with value: 26.68444967057083 and parameters: {'x': -0.5463565566870466, 'y': 0.7913871266824363}. Best is trial 40 with value: 0.43427878733658315.\n",
      "[I 2025-08-24 05:18:54,521] Trial 75 finished with value: 128.63038159846838 and parameters: {'x': 0.19413158098467032, 'y': 1.168973761586791}. Best is trial 40 with value: 0.43427878733658315.\n",
      "[I 2025-08-24 05:18:54,524] Trial 76 finished with value: 21.416620006879107 and parameters: {'x': 0.9704977968845232, 'y': 0.47909443588086376}. Best is trial 40 with value: 0.43427878733658315.\n",
      "[I 2025-08-24 05:18:54,528] Trial 77 finished with value: 457.25039923260715 and parameters: {'x': 1.6633780264288045, 'y': 0.6295142943653921}. Best is trial 40 with value: 0.43427878733658315.\n",
      "[I 2025-08-24 05:18:54,531] Trial 78 finished with value: 182.0023397057421 and parameters: {'x': 1.1855621214637844, 'y': 0.05660273954817145}. Best is trial 40 with value: 0.43427878733658315.\n",
      "[I 2025-08-24 05:18:54,534] Trial 79 finished with value: 58.58262787119843 and parameters: {'x': 0.4218098148814243, 'y': 0.9411294160096686}. Best is trial 40 with value: 0.43427878733658315.\n",
      "[I 2025-08-24 05:18:54,538] Trial 80 finished with value: 0.21863029892553779 and parameters: {'x': 0.6110057138678504, 'y': 0.34738308995655215}. Best is trial 80 with value: 0.21863029892553779.\n",
      "[I 2025-08-24 05:18:54,541] Trial 81 finished with value: 0.17529328075560577 and parameters: {'x': 0.5869599137476281, 'y': 0.35137115045015976}. Best is trial 81 with value: 0.17529328075560577.\n",
      "[I 2025-08-24 05:18:54,544] Trial 82 finished with value: 2.746220966249681 and parameters: {'x': 0.609487086241597, 'y': 0.2104241860218407}. Best is trial 81 with value: 0.17529328075560577.\n",
      "[I 2025-08-24 05:18:54,547] Trial 83 finished with value: 17.366854170146045 and parameters: {'x': 0.8508224734296326, 'y': 0.30743039226028535}. Best is trial 81 with value: 0.17529328075560577.\n",
      "[I 2025-08-24 05:18:54,550] Trial 84 finished with value: 2.624550335491546 and parameters: {'x': 0.46443926423200493, 'y': 0.3686000378895047}. Best is trial 81 with value: 0.17529328075560577.\n",
      "[I 2025-08-24 05:18:54,554] Trial 85 finished with value: 7.440203837154693 and parameters: {'x': 0.3019908981824053, 'y': -0.1724866720254367}. Best is trial 81 with value: 0.17529328075560577.\n",
      "[I 2025-08-24 05:18:54,557] Trial 86 finished with value: 2.0680332097844403 and parameters: {'x': 0.1576321401575024, 'y': 0.14140043763554166}. Best is trial 81 with value: 0.17529328075560577.\n",
      "[I 2025-08-24 05:18:54,560] Trial 87 finished with value: 36.71415180341827 and parameters: {'x': 0.7786094351750898, 'y': 0.0007152042300439532}. Best is trial 81 with value: 0.17529328075560577.\n",
      "[I 2025-08-24 05:18:54,564] Trial 88 finished with value: 11.436669963222718 and parameters: {'x': 0.6089277084775848, 'y': 0.7067056277147903}. Best is trial 81 with value: 0.17529328075560577.\n",
      "[I 2025-08-24 05:18:54,567] Trial 89 finished with value: 10.87767078198315 and parameters: {'x': 0.40618076297183436, 'y': 0.4894061389855791}. Best is trial 81 with value: 0.17529328075560577.\n",
      "[I 2025-08-24 05:18:54,570] Trial 90 finished with value: 67.40871489103715 and parameters: {'x': 1.0343552155566647, 'y': 0.24886979497942502}. Best is trial 81 with value: 0.17529328075560577.\n",
      "[I 2025-08-24 05:18:54,573] Trial 91 finished with value: 0.3220800852056781 and parameters: {'x': 0.745072298330409, 'y': 0.605836965472395}. Best is trial 81 with value: 0.17529328075560577.\n",
      "[I 2025-08-24 05:18:54,577] Trial 92 finished with value: 20.463910435395622 and parameters: {'x': 0.004134607967815567, 'y': 0.441289828746966}. Best is trial 81 with value: 0.17529328075560577.\n",
      "[I 2025-08-24 05:18:54,580] Trial 93 finished with value: 0.007813449859522828 and parameters: {'x': 0.9121519034271137, 'y': 0.8330017160964126}. Best is trial 93 with value: 0.007813449859522828.\n",
      "[I 2025-08-24 05:18:54,583] Trial 94 finished with value: 0.3410092893482062 and parameters: {'x': 0.9390925226852961, 'y': 0.8238172689243679}. Best is trial 93 with value: 0.007813449859522828.\n",
      "[I 2025-08-24 05:18:54,587] Trial 95 finished with value: 0.01823350748655292 and parameters: {'x': 0.9232354354939407, 'y': 0.8634725437873563}. Best is trial 93 with value: 0.007813449859522828.\n",
      "[I 2025-08-24 05:18:54,590] Trial 96 finished with value: 0.3331129182021768 and parameters: {'x': 0.9443648842863928, 'y': 0.8343778718101732}. Best is trial 93 with value: 0.007813449859522828.\n",
      "[I 2025-08-24 05:18:54,593] Trial 97 finished with value: 21.99358241595726 and parameters: {'x': 1.148721273905072, 'y': 0.8508232783756102}. Best is trial 93 with value: 0.007813449859522828.\n",
      "[I 2025-08-24 05:18:54,597] Trial 98 finished with value: 2.2117444856660406 and parameters: {'x': 0.9379997808717122, 'y': 1.0284336443866022}. Best is trial 93 with value: 0.007813449859522828.\n",
      "[I 2025-08-24 05:18:54,600] Trial 99 finished with value: 11.71556013393811 and parameters: {'x': 0.8759012994221639, 'y': 1.1092580475045803}. Best is trial 93 with value: 0.007813449859522828.\n",
      "[I 2025-08-24 05:18:54,603] Trial 100 finished with value: 0.20010100349116128 and parameters: {'x': 1.1072764170493183, 'y': 1.2694883332781757}. Best is trial 93 with value: 0.007813449859522828.\n",
      "[I 2025-08-24 05:18:54,607] Trial 101 finished with value: 2.834696653955594 and parameters: {'x': 1.027612898485839, 'y': 0.8876453399157798}. Best is trial 93 with value: 0.007813449859522828.\n",
      "[I 2025-08-24 05:18:54,610] Trial 102 finished with value: 40.229475474928584 and parameters: {'x': 1.4112265340534715, 'y': 1.3586277256898232}. Best is trial 93 with value: 0.007813449859522828.\n",
      "[I 2025-08-24 05:18:54,613] Trial 103 finished with value: 200.04680965168845 and parameters: {'x': 1.640270156008393, 'y': 1.2775570860495007}. Best is trial 93 with value: 0.007813449859522828.\n",
      "[I 2025-08-24 05:18:54,617] Trial 104 finished with value: 2.163599583928218 and parameters: {'x': 1.0733770183053841, 'y': 1.0052295648279372}. Best is trial 93 with value: 0.007813449859522828.\n",
      "[I 2025-08-24 05:18:54,620] Trial 105 finished with value: 12.456269814310255 and parameters: {'x': 0.9572569285187388, 'y': 0.56343230017985}. Best is trial 93 with value: 0.007813449859522828.\n",
      "[I 2025-08-24 05:18:54,623] Trial 106 finished with value: 67.76900624479086 and parameters: {'x': 0.7904455879902585, 'y': 1.4477567972466223}. Best is trial 93 with value: 0.007813449859522828.\n",
      "[I 2025-08-24 05:18:54,627] Trial 107 finished with value: 13.983696713212503 and parameters: {'x': 0.6559918573946054, 'y': 0.8026874405927787}. Best is trial 93 with value: 0.007813449859522828.\n",
      "[I 2025-08-24 05:18:54,630] Trial 108 finished with value: 54.94473568342002 and parameters: {'x': 1.1988478368205824, 'y': 0.6962557365053058}. Best is trial 93 with value: 0.007813449859522828.\n",
      "[I 2025-08-24 05:18:54,634] Trial 109 finished with value: 118.65738616248302 and parameters: {'x': 1.3640667828385036, 'y': 0.7719870401960417}. Best is trial 93 with value: 0.007813449859522828.\n",
      "[I 2025-08-24 05:18:54,637] Trial 110 finished with value: 72.05201847456192 and parameters: {'x': 0.5859157951637516, 'y': 1.1911213145890636}. Best is trial 93 with value: 0.007813449859522828.\n",
      "[I 2025-08-24 05:18:54,641] Trial 111 finished with value: 1.3021154498334901 and parameters: {'x': 0.4878025443717782, 'y': 0.33992039683690745}. Best is trial 93 with value: 0.007813449859522828.\n",
      "[I 2025-08-24 05:18:54,644] Trial 112 finished with value: 0.39985580806978416 and parameters: {'x': 0.852492983614493, 'y': 0.665254654799913}. Best is trial 93 with value: 0.007813449859522828.\n",
      "[I 2025-08-24 05:18:54,647] Trial 113 finished with value: 2.8788222870968685 and parameters: {'x': 0.8657420065020541, 'y': 0.580370312097717}. Best is trial 93 with value: 0.007813449859522828.\n",
      "[I 2025-08-24 05:18:54,651] Trial 114 finished with value: 34.161699661291514 and parameters: {'x': 1.1142958815081654, 'y': 1.8260236552537057}. Best is trial 93 with value: 0.007813449859522828.\n",
      "[I 2025-08-24 05:18:54,654] Trial 115 finished with value: 141.5209036357444 and parameters: {'x': 0.7021759022901525, 'y': 1.6823037229696238}. Best is trial 93 with value: 0.007813449859522828.\n",
      "[I 2025-08-24 05:18:54,658] Trial 116 finished with value: 0.3180167381858652 and parameters: {'x': 0.9964820529234216, 'y': 0.9365846062990548}. Best is trial 93 with value: 0.007813449859522828.\n",
      "[I 2025-08-24 05:18:54,663] Trial 117 finished with value: 26.864433146436838 and parameters: {'x': 1.2016357405806, 'y': 0.9260117012884641}. Best is trial 93 with value: 0.007813449859522828.\n",
      "[I 2025-08-24 05:18:54,667] Trial 118 finished with value: 4.596169518796015 and parameters: {'x': 0.9977097058419365, 'y': 1.209811323539091}. Best is trial 93 with value: 0.007813449859522828.\n",
      "[I 2025-08-24 05:18:54,670] Trial 119 finished with value: 6.8077883588936245 and parameters: {'x': 0.9076897007517594, 'y': 1.084654637259459}. Best is trial 93 with value: 0.007813449859522828.\n",
      "[I 2025-08-24 05:18:54,674] Trial 120 finished with value: 5.387395304659899 and parameters: {'x': 0.7592427600536322, 'y': 0.8073051784605101}. Best is trial 93 with value: 0.007813449859522828.\n",
      "[I 2025-08-24 05:18:54,677] Trial 121 finished with value: 9.68966725387447 and parameters: {'x': 0.8229639714040399, 'y': 0.9880481643179527}. Best is trial 93 with value: 0.007813449859522828.\n",
      "[I 2025-08-24 05:18:54,681] Trial 122 finished with value: 32.536487284478525 and parameters: {'x': 1.1076620151817456, 'y': 0.6566091152286169}. Best is trial 93 with value: 0.007813449859522828.\n",
      "[I 2025-08-24 05:18:54,684] Trial 123 finished with value: 16.987872709535015 and parameters: {'x': 0.9511875871841549, 'y': 0.49262325990779626}. Best is trial 93 with value: 0.007813449859522828.\n",
      "[I 2025-08-24 05:18:54,687] Trial 124 finished with value: 16.868889514729915 and parameters: {'x': 0.5507499058491907, 'y': 0.7115786139262655}. Best is trial 93 with value: 0.007813449859522828.\n",
      "[I 2025-08-24 05:18:54,691] Trial 125 finished with value: 12.06196609093855 and parameters: {'x': 0.7132547964373683, 'y': 0.8548500620808692}. Best is trial 93 with value: 0.007813449859522828.\n",
      "[I 2025-08-24 05:18:54,694] Trial 126 finished with value: 121.72215543247664 and parameters: {'x': 1.302964000307508, 'y': 0.5948535980138966}. Best is trial 93 with value: 0.007813449859522828.\n",
      "[I 2025-08-24 05:18:54,698] Trial 127 finished with value: 0.19937628371062527 and parameters: {'x': 0.649334106025042, 'y': 0.4492770884074473}. Best is trial 93 with value: 0.007813449859522828.\n",
      "[I 2025-08-24 05:18:54,702] Trial 128 finished with value: 32.414090514202975 and parameters: {'x': 1.049194965781095, 'y': 0.5314975928727612}. Best is trial 93 with value: 0.007813449859522828.\n",
      "[I 2025-08-24 05:18:54,705] Trial 129 finished with value: 77.26263586133832 and parameters: {'x': 0.8378157384650523, 'y': 1.580777245927663}. Best is trial 93 with value: 0.007813449859522828.\n",
      "[I 2025-08-24 05:18:54,709] Trial 130 finished with value: 12.074901956478728 and parameters: {'x': 0.6424863482276928, 'y': 0.7584342767796257}. Best is trial 93 with value: 0.007813449859522828.\n",
      "[I 2025-08-24 05:18:54,712] Trial 131 finished with value: 17.164892891118374 and parameters: {'x': 0.906248207547568, 'y': 0.40708654409750883}. Best is trial 93 with value: 0.007813449859522828.\n",
      "[I 2025-08-24 05:18:54,716] Trial 132 finished with value: 0.6708751741758547 and parameters: {'x': 0.4926887241665748, 'y': 0.3070469566273778}. Best is trial 93 with value: 0.007813449859522828.\n",
      "[I 2025-08-24 05:18:54,719] Trial 133 finished with value: 2.702361672184491 and parameters: {'x': 0.3719168697985152, 'y': 0.29023901865009966}. Best is trial 93 with value: 0.007813449859522828.\n",
      "[I 2025-08-24 05:18:54,723] Trial 134 finished with value: 14.19291669192467 and parameters: {'x': 0.7382612386444133, 'y': 0.9208542101362007}. Best is trial 93 with value: 0.007813449859522828.\n",
      "[I 2025-08-24 05:18:54,726] Trial 135 finished with value: 17.050046351277633 and parameters: {'x': 0.48192612117458555, 'y': 0.6419068574982457}. Best is trial 93 with value: 0.007813449859522828.\n",
      "[I 2025-08-24 05:18:54,730] Trial 136 finished with value: 0.8840263186751988 and parameters: {'x': 0.6063289401897349, 'y': 0.45301917428406846}. Best is trial 93 with value: 0.007813449859522828.\n",
      "[I 2025-08-24 05:18:54,733] Trial 137 finished with value: 15.993310795880424 and parameters: {'x': 0.8004078664611454, 'y': 0.24123475389826365}. Best is trial 93 with value: 0.007813449859522828.\n",
      "[I 2025-08-24 05:18:54,737] Trial 138 finished with value: 1.4997452426580915 and parameters: {'x': 0.9886296730101818, 'y': 1.0998474380558791}. Best is trial 93 with value: 0.007813449859522828.\n",
      "[I 2025-08-24 05:18:54,741] Trial 139 finished with value: 12.366572670513795 and parameters: {'x': 0.6767806860468115, 'y': 0.10785925474661051}. Best is trial 93 with value: 0.007813449859522828.\n",
      "[I 2025-08-24 05:18:54,744] Trial 140 finished with value: 32.83009225780719 and parameters: {'x': 0.34464581478399176, 'y': 0.6879960145840718}. Best is trial 93 with value: 0.007813449859522828.\n",
      "[I 2025-08-24 05:18:54,748] Trial 141 finished with value: 1.6620208613838898 and parameters: {'x': 0.588606994448766, 'y': 0.46863743340940883}. Best is trial 93 with value: 0.007813449859522828.\n",
      "[I 2025-08-24 05:18:54,752] Trial 142 finished with value: 2.1161232851315357 and parameters: {'x': 0.4859089820749339, 'y': 0.3721896357886629}. Best is trial 93 with value: 0.007813449859522828.\n",
      "[I 2025-08-24 05:18:54,755] Trial 143 finished with value: 7.773970822160824 and parameters: {'x': 0.9070074881042024, 'y': 0.5439992881744639}. Best is trial 93 with value: 0.007813449859522828.\n",
      "[I 2025-08-24 05:18:54,759] Trial 144 finished with value: 20.784027555890223 and parameters: {'x': 0.6430279086095787, 'y': 0.8679801990578153}. Best is trial 93 with value: 0.007813449859522828.\n",
      "[I 2025-08-24 05:18:54,763] Trial 145 finished with value: 0.30440150063954263 and parameters: {'x': 0.8089227660281393, 'y': 0.6025978544812589}. Best is trial 93 with value: 0.007813449859522828.\n",
      "[I 2025-08-24 05:18:54,766] Trial 146 finished with value: 0.9655261066865147 and parameters: {'x': 0.8318140991715958, 'y': 0.7887258317917862}. Best is trial 93 with value: 0.007813449859522828.\n",
      "[I 2025-08-24 05:18:54,770] Trial 147 finished with value: 17.08137578439556 and parameters: {'x': 1.0179945255842093, 'y': 0.6230205606823829}. Best is trial 93 with value: 0.007813449859522828.\n",
      "[I 2025-08-24 05:18:54,774] Trial 148 finished with value: 20.54259813179818 and parameters: {'x': 0.7339587397470997, 'y': 0.9911533874839689}. Best is trial 93 with value: 0.007813449859522828.\n",
      "[I 2025-08-24 05:18:54,777] Trial 149 finished with value: 123.03266709126426 and parameters: {'x': 1.1331664979750928, 'y': 0.17494533687804106}. Best is trial 93 with value: 0.007813449859522828.\n",
      "[I 2025-08-24 05:18:54,781] Trial 150 finished with value: 1.1060724950282108 and parameters: {'x': 0.9119141151894417, 'y': 0.726786906348853}. Best is trial 93 with value: 0.007813449859522828.\n",
      "[I 2025-08-24 05:18:54,785] Trial 151 finished with value: 0.8355682232014077 and parameters: {'x': 0.6094928348278201, 'y': 0.45412970849677275}. Best is trial 93 with value: 0.007813449859522828.\n",
      "[I 2025-08-24 05:18:54,788] Trial 152 finished with value: 8.183779350790434 and parameters: {'x': 0.7555767975247649, 'y': 0.28586933948038273}. Best is trial 93 with value: 0.007813449859522828.\n",
      "[I 2025-08-24 05:18:54,792] Trial 153 finished with value: 0.49636276992591916 and parameters: {'x': 0.5456742907808008, 'y': 0.3516075225218324}. Best is trial 93 with value: 0.007813449859522828.\n",
      "[I 2025-08-24 05:18:54,796] Trial 154 finished with value: 0.7406288598564981 and parameters: {'x': 0.5350492741445928, 'y': 0.35869662401325236}. Best is trial 93 with value: 0.007813449859522828.\n",
      "[I 2025-08-24 05:18:54,800] Trial 155 finished with value: 95.23545721496437 and parameters: {'x': 1.2376784762018307, 'y': 0.5562509309326736}. Best is trial 93 with value: 0.007813449859522828.\n",
      "[I 2025-08-24 05:18:54,803] Trial 156 finished with value: 22.587032534751405 and parameters: {'x': 0.8296646752048413, 'y': 0.2133906502373671}. Best is trial 93 with value: 0.007813449859522828.\n",
      "[I 2025-08-24 05:18:54,807] Trial 157 finished with value: 11.852160116153764 and parameters: {'x': 1.0728144869587646, 'y': 0.8067382714639932}. Best is trial 93 with value: 0.007813449859522828.\n",
      "[I 2025-08-24 05:18:54,811] Trial 158 finished with value: 14.153278703283654 and parameters: {'x': 0.46681759639595827, 'y': 0.5903296674412125}. Best is trial 93 with value: 0.007813449859522828.\n",
      "[I 2025-08-24 05:18:54,815] Trial 159 finished with value: 5.914651667328761 and parameters: {'x': 0.9626577556195738, 'y': 0.6835380559112543}. Best is trial 93 with value: 0.007813449859522828.\n",
      "[I 2025-08-24 05:18:54,818] Trial 160 finished with value: 22.312509416953738 and parameters: {'x': 0.7047383502308453, 'y': 0.025218659950107303}. Best is trial 93 with value: 0.007813449859522828.\n",
      "[I 2025-08-24 05:18:54,822] Trial 161 finished with value: 9.22615174353976 and parameters: {'x': 0.2677061491870511, 'y': 0.3664529025447119}. Best is trial 93 with value: 0.007813449859522828.\n",
      "[I 2025-08-24 05:18:54,826] Trial 162 finished with value: 0.22420020767576765 and parameters: {'x': 0.5342558167629777, 'y': 0.2939630714247049}. Best is trial 93 with value: 0.007813449859522828.\n",
      "[I 2025-08-24 05:18:54,830] Trial 163 finished with value: 3.5705126665706586 and parameters: {'x': 0.3584543505187787, 'y': 0.30622336303996317}. Best is trial 93 with value: 0.007813449859522828.\n",
      "[I 2025-08-24 05:18:54,833] Trial 164 finished with value: 1.572148083542935 and parameters: {'x': 0.7873171406939272, 'y': 0.4962999149486035}. Best is trial 93 with value: 0.007813449859522828.\n",
      "[I 2025-08-24 05:18:54,837] Trial 165 finished with value: 3.910911749215541 and parameters: {'x': 0.5402156781797294, 'y': 0.09949187240804852}. Best is trial 93 with value: 0.007813449859522828.\n",
      "[I 2025-08-24 05:18:54,841] Trial 166 finished with value: 334.62218930845864 and parameters: {'x': 0.4266456432741526, 'y': -1.646342861724282}. Best is trial 93 with value: 0.007813449859522828.\n",
      "[I 2025-08-24 05:18:54,845] Trial 167 finished with value: 2.9388844009422086 and parameters: {'x': 0.8574664823823275, 'y': 0.9060869549277617}. Best is trial 93 with value: 0.007813449859522828.\n",
      "[I 2025-08-24 05:18:54,849] Trial 168 finished with value: 3.68470229825146 and parameters: {'x': 0.6596694141857635, 'y': 0.2462490094657702}. Best is trial 93 with value: 0.007813449859522828.\n",
      "[I 2025-08-24 05:18:54,853] Trial 169 finished with value: 21.23736366996325 and parameters: {'x': 0.9441566311094657, 'y': 0.43062543781648555}. Best is trial 93 with value: 0.007813449859522828.\n",
      "[I 2025-08-24 05:18:54,857] Trial 170 finished with value: 7.539055431920193 and parameters: {'x': 0.7037961108598599, 'y': 0.7683000023664314}. Best is trial 93 with value: 0.007813449859522828.\n",
      "[I 2025-08-24 05:18:54,860] Trial 171 finished with value: 0.4581186074754128 and parameters: {'x': 0.5357582470040521, 'y': 0.33629115816045035}. Best is trial 93 with value: 0.007813449859522828.\n",
      "[I 2025-08-24 05:18:54,864] Trial 172 finished with value: 0.37782367387480875 and parameters: {'x': 0.5317918141927903, 'y': 0.32262774784375764}. Best is trial 93 with value: 0.007813449859522828.\n",
      "[I 2025-08-24 05:18:54,868] Trial 173 finished with value: 3.948859207453814 and parameters: {'x': 0.5603557052381981, 'y': 0.5077915013418146}. Best is trial 93 with value: 0.007813449859522828.\n",
      "[I 2025-08-24 05:18:54,872] Trial 174 finished with value: 19.24562533331729 and parameters: {'x': 0.7776081640210915, 'y': 0.16654014852465882}. Best is trial 93 with value: 0.007813449859522828.\n",
      "[I 2025-08-24 05:18:54,876] Trial 175 finished with value: 536.8165752824447 and parameters: {'x': -1.710615885858525, 'y': 0.625187072351771}. Best is trial 93 with value: 0.007813449859522828.\n",
      "[I 2025-08-24 05:18:54,880] Trial 176 finished with value: 39.32584716317777 and parameters: {'x': 1.0214312435153987, 'y': 0.41622220888623707}. Best is trial 93 with value: 0.007813449859522828.\n",
      "[I 2025-08-24 05:18:54,884] Trial 177 finished with value: 38.32380256458139 and parameters: {'x': 0.6312559172667359, 'y': 1.0164470608297036}. Best is trial 93 with value: 0.007813449859522828.\n",
      "[I 2025-08-24 05:18:54,887] Trial 178 finished with value: 0.4488101265895598 and parameters: {'x': 0.8747177742093651, 'y': 0.6993197500636955}. Best is trial 93 with value: 0.007813449859522828.\n",
      "[I 2025-08-24 05:18:54,891] Trial 179 finished with value: 0.6254957077676947 and parameters: {'x': 0.8821547362982608, 'y': 0.69999159522534}. Best is trial 93 with value: 0.007813449859522828.\n",
      "[I 2025-08-24 05:18:54,895] Trial 180 finished with value: 16.909626122877203 and parameters: {'x': 1.1235168412189789, 'y': 0.8512624813521256}. Best is trial 93 with value: 0.007813449859522828.\n",
      "[I 2025-08-24 05:18:54,899] Trial 181 finished with value: 0.9609489307911461 and parameters: {'x': 0.8208845721058734, 'y': 0.5774737553757257}. Best is trial 93 with value: 0.007813449859522828.\n",
      "[I 2025-08-24 05:18:54,903] Trial 182 finished with value: 33.55803037934127 and parameters: {'x': 0.9707001071717802, 'y': 0.3629731735106761}. Best is trial 93 with value: 0.007813449859522828.\n",
      "[I 2025-08-24 05:18:54,907] Trial 183 finished with value: 0.08126612067976405 and parameters: {'x': 0.7150266624497255, 'y': 0.5120135783136227}. Best is trial 93 with value: 0.007813449859522828.\n",
      "[I 2025-08-24 05:18:54,911] Trial 184 finished with value: 0.07722524479645994 and parameters: {'x': 0.7226621192439062, 'y': 0.5204828563259213}. Best is trial 93 with value: 0.007813449859522828.\n",
      "[I 2025-08-24 05:18:54,915] Trial 185 finished with value: 1.8391367569139283 and parameters: {'x': 0.7138764705472592, 'y': 0.6421816792618673}. Best is trial 93 with value: 0.007813449859522828.\n",
      "[I 2025-08-24 05:18:54,919] Trial 186 finished with value: 0.5862704989847167 and parameters: {'x': 0.7697848169651782, 'y': 0.5195432258155479}. Best is trial 93 with value: 0.007813449859522828.\n",
      "[I 2025-08-24 05:18:54,922] Trial 187 finished with value: 0.12979008887532426 and parameters: {'x': 0.8829824963964287, 'y': 0.7455850801634205}. Best is trial 93 with value: 0.007813449859522828.\n",
      "[I 2025-08-24 05:18:54,926] Trial 188 finished with value: 0.10715025953044938 and parameters: {'x': 0.8773330463726293, 'y': 0.739364785329983}. Best is trial 93 with value: 0.007813449859522828.\n",
      "[I 2025-08-24 05:18:54,930] Trial 189 finished with value: 10.914082367648891 and parameters: {'x': 1.0620621717784315, 'y': 0.7976696738827402}. Best is trial 93 with value: 0.007813449859522828.\n",
      "[I 2025-08-24 05:18:54,934] Trial 190 finished with value: 1.9069089114895692 and parameters: {'x': 0.9096202774212798, 'y': 0.9652038391729556}. Best is trial 93 with value: 0.007813449859522828.\n",
      "[I 2025-08-24 05:18:54,938] Trial 191 finished with value: 0.4894811789994295 and parameters: {'x': 0.873002652900298, 'y': 0.8309342753421555}. Best is trial 93 with value: 0.007813449859522828.\n",
      "[I 2025-08-24 05:18:54,942] Trial 192 finished with value: 4.333947055650237 and parameters: {'x': 0.9741191109074974, 'y': 0.7407427897258182}. Best is trial 93 with value: 0.007813449859522828.\n",
      "[I 2025-08-24 05:18:54,946] Trial 193 finished with value: 0.6072544785317263 and parameters: {'x': 0.7774672586927484, 'y': 0.6791369061841682}. Best is trial 93 with value: 0.007813449859522828.\n",
      "[I 2025-08-24 05:18:54,950] Trial 194 finished with value: 2.6841438324887434 and parameters: {'x': 0.8651026241112443, 'y': 0.5851252851253737}. Best is trial 93 with value: 0.007813449859522828.\n",
      "[I 2025-08-24 05:18:54,954] Trial 195 finished with value: 42.384625876149265 and parameters: {'x': 1.1812335648124255, 'y': 0.744530280426585}. Best is trial 93 with value: 0.007813449859522828.\n",
      "[I 2025-08-24 05:18:54,958] Trial 196 finished with value: 17.23073702983105 and parameters: {'x': 0.6840862031387596, 'y': 0.8818692764102727}. Best is trial 93 with value: 0.007813449859522828.\n",
      "[I 2025-08-24 05:18:54,962] Trial 197 finished with value: 0.06261162370792431 and parameters: {'x': 0.816192908552018, 'y': 0.6491924727507735}. Best is trial 93 with value: 0.007813449859522828.\n",
      "[I 2025-08-24 05:18:54,966] Trial 198 finished with value: 22.521716130997973 and parameters: {'x': 1.048261680679839, 'y': 0.6243065898547285}. Best is trial 93 with value: 0.007813449859522828.\n",
      "[I 2025-08-24 05:18:54,970] Trial 199 finished with value: 1.2649768605351768 and parameters: {'x': 0.7969897893611761, 'y': 0.5245688700056192}. Best is trial 93 with value: 0.007813449859522828.\n",
      "[I 2025-08-24 05:18:54,974] Trial 200 finished with value: 21.78596396362379 and parameters: {'x': 0.9572686904214547, 'y': 0.4496285387439865}. Best is trial 93 with value: 0.007813449859522828.\n",
      "[I 2025-08-24 05:18:54,978] Trial 201 finished with value: 0.03474613160608804 and parameters: {'x': 0.8492013334185605, 'y': 0.7101857637373763}. Best is trial 93 with value: 0.007813449859522828.\n",
      "[I 2025-08-24 05:18:54,983] Trial 202 finished with value: 7.379836540063276 and parameters: {'x': 0.7091705745743853, 'y': 0.7730201971527388}. Best is trial 93 with value: 0.007813449859522828.\n",
      "[I 2025-08-24 05:18:54,987] Trial 203 finished with value: 0.15416211695036636 and parameters: {'x': 0.8232724729052929, 'y': 0.642716261456556}. Best is trial 93 with value: 0.007813449859522828.\n",
      "[I 2025-08-24 05:18:54,991] Trial 204 finished with value: 0.138381128519784 and parameters: {'x': 0.9288286972096297, 'y': 0.8992351814617405}. Best is trial 93 with value: 0.007813449859522828.\n",
      "[I 2025-08-24 05:18:54,995] Trial 205 finished with value: 1.891938454647558 and parameters: {'x': 1.0390240158699322, 'y': 0.942078521007811}. Best is trial 93 with value: 0.007813449859522828.\n",
      "[I 2025-08-24 05:18:54,999] Trial 206 finished with value: 4.3598539742121005 and parameters: {'x': 0.9288436111760712, 'y': 1.0714318078264755}. Best is trial 93 with value: 0.007813449859522828.\n",
      "[I 2025-08-24 05:18:55,003] Trial 207 finished with value: 18.673998202811838 and parameters: {'x': 0.639381700038832, 'y': 0.839435857696468}. Best is trial 93 with value: 0.007813449859522828.\n",
      "[I 2025-08-24 05:18:55,007] Trial 208 finished with value: 9.147328743964286 and parameters: {'x': 0.8035378267251155, 'y': 0.9474797877170523}. Best is trial 93 with value: 0.007813449859522828.\n",
      "[I 2025-08-24 05:18:55,011] Trial 209 finished with value: 14.511053218032027 and parameters: {'x': 1.1141575696331791, 'y': 0.8605844175970639}. Best is trial 93 with value: 0.007813449859522828.\n",
      "[I 2025-08-24 05:18:55,015] Trial 210 finished with value: 18.25044494746354 and parameters: {'x': 1.002860374100993, 'y': 0.578523630750558}. Best is trial 93 with value: 0.007813449859522828.\n",
      "[I 2025-08-24 05:18:55,019] Trial 211 finished with value: 0.11316137386073498 and parameters: {'x': 0.8560639370480032, 'y': 0.7024408949794677}. Best is trial 93 with value: 0.007813449859522828.\n",
      "[I 2025-08-24 05:18:55,023] Trial 212 finished with value: 0.7076001612607891 and parameters: {'x': 0.9054899444076469, 'y': 0.7363256762620966}. Best is trial 93 with value: 0.007813449859522828.\n",
      "[I 2025-08-24 05:18:55,027] Trial 213 finished with value: 1.0541990965845327 and parameters: {'x': 0.7488629615746198, 'y': 0.6603512114371235}. Best is trial 93 with value: 0.007813449859522828.\n",
      "[I 2025-08-24 05:18:55,031] Trial 214 finished with value: 1.3165607943997482 and parameters: {'x': 0.8266603856774257, 'y': 0.7967920013590354}. Best is trial 93 with value: 0.007813449859522828.\n",
      "[I 2025-08-24 05:18:55,036] Trial 215 finished with value: 0.41213504625463926 and parameters: {'x': 0.6661855415700534, 'y': 0.4986395645910845}. Best is trial 93 with value: 0.007813449859522828.\n",
      "[I 2025-08-24 05:18:55,040] Trial 216 finished with value: 29.70128978154885 and parameters: {'x': 0.9452695869127197, 'y': 1.4384960067545334}. Best is trial 93 with value: 0.007813449859522828.\n",
      "[I 2025-08-24 05:18:55,044] Trial 217 finished with value: 19.539083783516023 and parameters: {'x': 0.8442405832139634, 'y': 1.154498008799108}. Best is trial 93 with value: 0.007813449859522828.\n",
      "[I 2025-08-24 05:18:55,048] Trial 218 finished with value: 7.139164033943569 and parameters: {'x': 0.9983443556328042, 'y': 0.7294993624813566}. Best is trial 93 with value: 0.007813449859522828.\n",
      "[I 2025-08-24 05:18:55,052] Trial 219 finished with value: 14.633358098917784 and parameters: {'x': 0.7252003687012907, 'y': 0.9074629933320347}. Best is trial 93 with value: 0.007813449859522828.\n",
      "[I 2025-08-24 05:18:55,056] Trial 220 finished with value: 5.652460965492605 and parameters: {'x': 0.6098659349506073, 'y': 0.6064627125119826}. Best is trial 93 with value: 0.007813449859522828.\n",
      "[I 2025-08-24 05:18:55,060] Trial 221 finished with value: 4.207675415887258 and parameters: {'x': 0.8784428193131821, 'y': 0.5668960848967688}. Best is trial 93 with value: 0.007813449859522828.\n",
      "[I 2025-08-24 05:18:55,064] Trial 222 finished with value: 0.04407550061909733 and parameters: {'x': 0.8082893486222811, 'y': 0.6618888474806635}. Best is trial 93 with value: 0.007813449859522828.\n",
      "[I 2025-08-24 05:18:55,068] Trial 223 finished with value: 0.2871821180962571 and parameters: {'x': 0.7878703210512491, 'y': 0.6699517467318967}. Best is trial 93 with value: 0.007813449859522828.\n",
      "[I 2025-08-24 05:18:55,072] Trial 224 finished with value: 0.3615921858955689 and parameters: {'x': 0.7932574475022295, 'y': 0.6857241561162304}. Best is trial 93 with value: 0.007813449859522828.\n",
      "[I 2025-08-24 05:18:55,076] Trial 225 finished with value: 0.015128475629635494 and parameters: {'x': 0.8773845068006477, 'y': 0.7707726778099966}. Best is trial 93 with value: 0.007813449859522828.\n",
      "[I 2025-08-24 05:18:55,081] Trial 226 finished with value: 3.363773836656755 and parameters: {'x': 0.75379848589636, 'y': 0.7499580968021217}. Best is trial 93 with value: 0.007813449859522828.\n",
      "[I 2025-08-24 05:18:55,085] Trial 227 finished with value: 2.1539700966834885 and parameters: {'x': 0.8842302172798304, 'y': 0.6355562948714305}. Best is trial 93 with value: 0.007813449859522828.\n",
      "[I 2025-08-24 05:18:55,089] Trial 228 finished with value: 3.0414507536472937 and parameters: {'x': 0.8230046795683951, 'y': 0.5038396302763333}. Best is trial 93 with value: 0.007813449859522828.\n",
      "[I 2025-08-24 05:18:55,093] Trial 229 finished with value: 3.434855826174912 and parameters: {'x': -0.7959487316830302, 'y': 0.6792972482536992}. Best is trial 93 with value: 0.007813449859522828.\n",
      "[I 2025-08-24 05:18:55,097] Trial 230 finished with value: 10.027315582375941 and parameters: {'x': 0.7013600624332661, 'y': 0.8071539311440977}. Best is trial 93 with value: 0.007813449859522828.\n",
      "[I 2025-08-24 05:18:55,102] Trial 231 finished with value: 0.454739529770441 and parameters: {'x': 0.9725761534497691, 'y': 0.8785257825247685}. Best is trial 93 with value: 0.007813449859522828.\n",
      "[I 2025-08-24 05:18:55,106] Trial 232 finished with value: 0.2669754557144909 and parameters: {'x': 0.9162371577188713, 'y': 0.7885043308593778}. Best is trial 93 with value: 0.007813449859522828.\n",
      "[I 2025-08-24 05:18:55,110] Trial 233 finished with value: 1.0553892623893562 and parameters: {'x': 0.9140517903887749, 'y': 0.7331186985048599}. Best is trial 93 with value: 0.007813449859522828.\n",
      "[I 2025-08-24 05:18:55,114] Trial 234 finished with value: 0.06398669554535483 and parameters: {'x': 0.7794828297522403, 'y': 0.5952003897820429}. Best is trial 93 with value: 0.007813449859522828.\n",
      "[I 2025-08-24 05:18:55,119] Trial 235 finished with value: 0.4276374334149632 and parameters: {'x': 0.7818984690410166, 'y': 0.549715466853648}. Best is trial 93 with value: 0.007813449859522828.\n",
      "[I 2025-08-24 05:18:55,123] Trial 236 finished with value: 2.6948245129203063 and parameters: {'x': 0.6621273605655243, 'y': 0.5990571744277959}. Best is trial 93 with value: 0.007813449859522828.\n",
      "[I 2025-08-24 05:18:55,127] Trial 237 finished with value: 7.0512169691692295 and parameters: {'x': 0.8508962453756157, 'y': 0.45890208939358856}. Best is trial 93 with value: 0.007813449859522828.\n",
      "[I 2025-08-24 05:18:55,131] Trial 238 finished with value: 1.5806470109414013 and parameters: {'x': 0.7328416688137048, 'y': 0.6599094018385855}. Best is trial 93 with value: 0.007813449859522828.\n",
      "[I 2025-08-24 05:18:55,136] Trial 239 finished with value: 9.574967960717181 and parameters: {'x': 1.0443774751986132, 'y': 0.7813216830402759}. Best is trial 93 with value: 0.007813449859522828.\n",
      "[I 2025-08-24 05:18:55,140] Trial 240 finished with value: 0.42529344082212 and parameters: {'x': 0.8156046731337289, 'y': 0.6026576612429563}. Best is trial 93 with value: 0.007813449859522828.\n",
      "[I 2025-08-24 05:18:55,144] Trial 241 finished with value: 0.07334179482475357 and parameters: {'x': 0.9268071789537812, 'y': 0.8328976892149976}. Best is trial 93 with value: 0.007813449859522828.\n",
      "[I 2025-08-24 05:18:55,149] Trial 242 finished with value: 3.2739548259984192 and parameters: {'x': 0.9374647139652924, 'y': 0.6980074555965373}. Best is trial 93 with value: 0.007813449859522828.\n",
      "[I 2025-08-24 05:18:55,153] Trial 243 finished with value: 0.025758648281717776 and parameters: {'x': 0.8980982790547369, 'y': 0.7941810480660384}. Best is trial 93 with value: 0.007813449859522828.\n",
      "[I 2025-08-24 05:18:55,157] Trial 244 finished with value: 1.6655500287912737 and parameters: {'x': 0.8774808663602727, 'y': 0.8984459789777115}. Best is trial 93 with value: 0.007813449859522828.\n",
      "[I 2025-08-24 05:18:55,162] Trial 245 finished with value: 0.023780558407048808 and parameters: {'x': 1.0108056563871568, 'y': 1.0063450336084274}. Best is trial 93 with value: 0.007813449859522828.\n",
      "[I 2025-08-24 05:18:55,166] Trial 246 finished with value: 15.975159983827163 and parameters: {'x': 1.0985167496697388, 'y': 0.807171102218847}. Best is trial 93 with value: 0.007813449859522828.\n",
      "[I 2025-08-24 05:18:55,170] Trial 247 finished with value: 4.40067455271808 and parameters: {'x': 0.88487036005039, 'y': 0.9924572383895928}. Best is trial 93 with value: 0.007813449859522828.\n",
      "[I 2025-08-24 05:18:55,174] Trial 248 finished with value: 5.314001436033699 and parameters: {'x': 0.9991905429522078, 'y': 0.7678605754848988}. Best is trial 93 with value: 0.007813449859522828.\n",
      "[I 2025-08-24 05:18:55,179] Trial 249 finished with value: 4.421485505690188 and parameters: {'x': 0.7997635266721177, 'y': 0.84893942026329}. Best is trial 93 with value: 0.007813449859522828.\n",
      "[I 2025-08-24 05:18:55,183] Trial 250 finished with value: 1.342955877894506 and parameters: {'x': 0.9101714630443875, 'y': 0.712874794619477}. Best is trial 93 with value: 0.007813449859522828.\n",
      "[I 2025-08-24 05:18:55,187] Trial 251 finished with value: 60.85933730513894 and parameters: {'x': 0.7219506543685662, 'y': 1.3008410297094377}. Best is trial 93 with value: 0.007813449859522828.\n",
      "[I 2025-08-24 05:18:55,191] Trial 252 finished with value: 21.53268287054959 and parameters: {'x': 1.063755174528583, 'y': 0.6675856517557768}. Best is trial 93 with value: 0.007813449859522828.\n",
      "[I 2025-08-24 05:18:55,196] Trial 253 finished with value: 5.533689719294985 and parameters: {'x': 0.8064333982023081, 'y': 0.41589460542477147}. Best is trial 93 with value: 0.007813449859522828.\n",
      "[I 2025-08-24 05:18:55,200] Trial 254 finished with value: 42.82733011016983 and parameters: {'x': 0.6307812607817065, 'y': 1.051268558838209}. Best is trial 93 with value: 0.007813449859522828.\n",
      "[I 2025-08-24 05:18:55,205] Trial 255 finished with value: 334.67142525102287 and parameters: {'x': 0.9775363215663848, 'y': -0.8738240645893552}. Best is trial 93 with value: 0.007813449859522828.\n",
      "[I 2025-08-24 05:18:55,209] Trial 256 finished with value: 69.52279399050725 and parameters: {'x': 1.1746041808100285, 'y': 0.5460745201519503}. Best is trial 93 with value: 0.007813449859522828.\n",
      "[I 2025-08-24 05:18:55,213] Trial 257 finished with value: 0.0391838186918637 and parameters: {'x': 0.8645591878192493, 'y': 0.7618985184083702}. Best is trial 93 with value: 0.007813449859522828.\n",
      "[I 2025-08-24 05:18:55,218] Trial 258 finished with value: 0.4263517125249565 and parameters: {'x': 0.9055459207044732, 'y': 0.8846222482216896}. Best is trial 93 with value: 0.007813449859522828.\n",
      "[I 2025-08-24 05:18:55,222] Trial 259 finished with value: 5.321520679624851 and parameters: {'x': 1.0037256843546576, 'y': 0.7767813358436357}. Best is trial 93 with value: 0.007813449859522828.\n",
      "[I 2025-08-24 05:18:55,227] Trial 260 finished with value: 7.134443993478631 and parameters: {'x': 0.8405957071205044, 'y': 0.9732288657857971}. Best is trial 93 with value: 0.007813449859522828.\n",
      "[I 2025-08-24 05:18:55,231] Trial 261 finished with value: 7.561025901446793 and parameters: {'x': 0.7319383717721015, 'y': 0.809397238811749}. Best is trial 93 with value: 0.007813449859522828.\n",
      "[I 2025-08-24 05:18:55,236] Trial 262 finished with value: 19.692052732277737 and parameters: {'x': 1.0813780692034802, 'y': 0.7256958678368096}. Best is trial 93 with value: 0.007813449859522828.\n",
      "[I 2025-08-24 05:18:55,240] Trial 263 finished with value: 0.005271518325028037 and parameters: {'x': 0.9505929422614562, 'y': 0.9089471495524194}. Best is trial 263 with value: 0.005271518325028037.\n",
      "[I 2025-08-24 05:18:55,245] Trial 264 finished with value: 0.02362609224675601 and parameters: {'x': 0.9709986699427833, 'y': 0.9579331230899547}. Best is trial 263 with value: 0.005271518325028037.\n",
      "[I 2025-08-24 05:18:55,249] Trial 265 finished with value: 0.004917973349228406 and parameters: {'x': 1.007041710520419, 'y': 1.0211103899495406}. Best is trial 265 with value: 0.004917973349228406.\n",
      "[I 2025-08-24 05:18:55,253] Trial 266 finished with value: 4.934709453347766 and parameters: {'x': 1.1722748952354867, 'y': 1.152755388438567}. Best is trial 265 with value: 0.004917973349228406.\n",
      "[I 2025-08-24 05:18:55,258] Trial 267 finished with value: 0.27495536946264915 and parameters: {'x': 1.0597987888109086, 'y': 1.0710793776755678}. Best is trial 265 with value: 0.004917973349228406.\n",
      "[I 2025-08-24 05:18:55,262] Trial 268 finished with value: 0.04677537161465209 and parameters: {'x': 0.9985381273364935, 'y': 1.018705512344272}. Best is trial 265 with value: 0.004917973349228406.\n",
      "[I 2025-08-24 05:18:55,267] Trial 269 finished with value: 0.08018001792984948 and parameters: {'x': 0.9973621014030211, 'y': 1.023046008907937}. Best is trial 265 with value: 0.004917973349228406.\n",
      "[I 2025-08-24 05:18:55,272] Trial 270 finished with value: 0.44475182090376697 and parameters: {'x': 0.988163887837863, 'y': 1.0431470809312882}. Best is trial 265 with value: 0.004917973349228406.\n",
      "[I 2025-08-24 05:18:55,276] Trial 271 finished with value: 0.17937810779911464 and parameters: {'x': 0.9643092949132557, 'y': 0.9720948191935547}. Best is trial 265 with value: 0.004917973349228406.\n",
      "[I 2025-08-24 05:18:55,280] Trial 272 finished with value: 0.01497976745344847 and parameters: {'x': 0.9924472160088856, 'y': 0.9727356168284141}. Best is trial 265 with value: 0.004917973349228406.\n",
      "[I 2025-08-24 05:18:55,285] Trial 273 finished with value: 0.1562463519650513 and parameters: {'x': 1.0392969782501056, 'y': 1.119470396768276}. Best is trial 265 with value: 0.004917973349228406.\n",
      "[I 2025-08-24 05:18:55,289] Trial 274 finished with value: 14.984103939004713 and parameters: {'x': 1.2701596318795954, 'y': 1.2271563261131508}. Best is trial 265 with value: 0.004917973349228406.\n",
      "[I 2025-08-24 05:18:55,294] Trial 275 finished with value: 0.9013529580044711 and parameters: {'x': 1.1055655029934284, 'y': 1.1279241999833294}. Best is trial 265 with value: 0.004917973349228406.\n",
      "[I 2025-08-24 05:18:55,298] Trial 276 finished with value: 0.009012630002808187 and parameters: {'x': 1.0347040032704178, 'y': 1.0617759372286089}. Best is trial 265 with value: 0.004917973349228406.\n",
      "[I 2025-08-24 05:18:55,303] Trial 277 finished with value: 5.9772938831326226 and parameters: {'x': 1.1328602797163203, 'y': 1.0392486326818755}. Best is trial 265 with value: 0.004917973349228406.\n",
      "[I 2025-08-24 05:18:55,308] Trial 278 finished with value: 0.1082040875641144 and parameters: {'x': 1.0097821091156862, 'y': 0.9867800663598846}. Best is trial 265 with value: 0.004917973349228406.\n",
      "[I 2025-08-24 05:18:55,312] Trial 279 finished with value: 0.6275313389881235 and parameters: {'x': 1.0256497209736408, 'y': 0.97278201111906}. Best is trial 265 with value: 0.004917973349228406.\n",
      "[I 2025-08-24 05:18:55,317] Trial 280 finished with value: 0.03848421991615181 and parameters: {'x': 0.9561904929563744, 'y': 0.9334222218492855}. Best is trial 265 with value: 0.004917973349228406.\n",
      "[I 2025-08-24 05:18:55,321] Trial 281 finished with value: 16.384944590446512 and parameters: {'x': 1.1943421041657165, 'y': 1.0221366542876367}. Best is trial 265 with value: 0.004917973349228406.\n",
      "[I 2025-08-24 05:18:55,326] Trial 282 finished with value: 0.5085992578092148 and parameters: {'x': 1.0057161543376494, 'y': 0.9401511286641344}. Best is trial 265 with value: 0.004917973349228406.\n",
      "[I 2025-08-24 05:18:55,330] Trial 283 finished with value: 0.7657597347843794 and parameters: {'x': 1.0769030004504594, 'y': 1.0725509457743028}. Best is trial 265 with value: 0.004917973349228406.\n",
      "[I 2025-08-24 05:18:55,335] Trial 284 finished with value: 0.41641376741053354 and parameters: {'x': 0.964588794347284, 'y': 0.9948644385862011}. Best is trial 265 with value: 0.004917973349228406.\n",
      "[I 2025-08-24 05:18:55,340] Trial 285 finished with value: 0.3664905965519791 and parameters: {'x': 0.9234069302445425, 'y': 0.9127323444875235}. Best is trial 265 with value: 0.004917973349228406.\n",
      "[I 2025-08-24 05:18:55,344] Trial 286 finished with value: 1.2342137295231668 and parameters: {'x': 1.1305010643684807, 'y': 1.1677066305189345}. Best is trial 265 with value: 0.004917973349228406.\n",
      "[I 2025-08-24 05:18:55,349] Trial 287 finished with value: 2.1264608059517545 and parameters: {'x': 1.0224971549259236, 'y': 0.8996938927473823}. Best is trial 265 with value: 0.004917973349228406.\n",
      "[I 2025-08-24 05:18:55,353] Trial 288 finished with value: 4.18508719399562 and parameters: {'x': 0.8920473166370866, 'y': 1.000038243846908}. Best is trial 265 with value: 0.004917973349228406.\n",
      "[I 2025-08-24 05:18:55,358] Trial 289 finished with value: 0.040267311365636535 and parameters: {'x': 0.9621348314187688, 'y': 0.9454096613662099}. Best is trial 265 with value: 0.004917973349228406.\n",
      "[I 2025-08-24 05:18:55,363] Trial 290 finished with value: 0.21152070704024645 and parameters: {'x': 1.0750713857803733, 'y': 1.1104039328369926}. Best is trial 265 with value: 0.004917973349228406.\n",
      "[I 2025-08-24 05:18:55,367] Trial 291 finished with value: 0.10315394074219304 and parameters: {'x': 0.9640758213084328, 'y': 0.9613582344325766}. Best is trial 265 with value: 0.004917973349228406.\n",
      "[I 2025-08-24 05:18:55,372] Trial 292 finished with value: 30.082686056622336 and parameters: {'x': 1.258285079450988, 'y': 1.035412973088148}. Best is trial 265 with value: 0.004917973349228406.\n",
      "[I 2025-08-24 05:18:55,377] Trial 293 finished with value: 0.052774824819596805 and parameters: {'x': 0.9585372229247258, 'y': 0.9413891079340119}. Best is trial 265 with value: 0.004917973349228406.\n",
      "[I 2025-08-24 05:18:55,381] Trial 294 finished with value: 0.03122312169641524 and parameters: {'x': 0.9389342876192681, 'y': 0.8981789415475985}. Best is trial 265 with value: 0.004917973349228406.\n",
      "[I 2025-08-24 05:18:55,386] Trial 295 finished with value: 0.017124413347539696 and parameters: {'x': 0.9540412600675815, 'y': 0.9224471573318217}. Best is trial 265 with value: 0.004917973349228406.\n",
      "[I 2025-08-24 05:18:55,391] Trial 296 finished with value: 13.584397085371933 and parameters: {'x': 1.1233697358021717, 'y': 0.8935959251316337}. Best is trial 265 with value: 0.004917973349228406.\n",
      "[I 2025-08-24 05:18:55,395] Trial 297 finished with value: 2.835751033907734 and parameters: {'x': 0.9611886268016571, 'y': 1.0922357283794322}. Best is trial 265 with value: 0.004917973349228406.\n",
      "[I 2025-08-24 05:18:55,400] Trial 298 finished with value: 634.2915307924836 and parameters: {'x': 1.838906988016628, 'y': 0.8644619767452617}. Best is trial 265 with value: 0.004917973349228406.\n",
      "[I 2025-08-24 05:18:55,404] Trial 299 finished with value: 24.294989710981785 and parameters: {'x': 1.195416681781214, 'y': 0.9365090936677669}. Best is trial 265 with value: 0.004917973349228406.\n",
      "[I 2025-08-24 05:18:55,409] Trial 300 finished with value: 3.172066130395848 and parameters: {'x': 1.0199841908831082, 'y': 1.2184594890025853}. Best is trial 265 with value: 0.004917973349228406.\n",
      "[I 2025-08-24 05:18:55,414] Trial 301 finished with value: 3.036171766553293 and parameters: {'x': 0.9290877132478355, 'y': 1.0373057656347329}. Best is trial 265 with value: 0.004917973349228406.\n",
      "[I 2025-08-24 05:18:55,418] Trial 302 finished with value: 106.00107793283972 and parameters: {'x': 1.374070089240797, 'y': 0.859180134648624}. Best is trial 265 with value: 0.004917973349228406.\n",
      "[I 2025-08-24 05:18:55,423] Trial 303 finished with value: 5.139910353009432 and parameters: {'x': 1.0735544105174601, 'y': 0.9259247188879496}. Best is trial 265 with value: 0.004917973349228406.\n",
      "[I 2025-08-24 05:18:55,428] Trial 304 finished with value: 4.458152042296306 and parameters: {'x': 0.9556805330216723, 'y': 1.1244221269130281}. Best is trial 265 with value: 0.004917973349228406.\n",
      "[I 2025-08-24 05:18:55,433] Trial 305 finished with value: 953.5081160300014 and parameters: {'x': -1.9825278017438255, 'y': 0.8569613541511719}. Best is trial 265 with value: 0.004917973349228406.\n",
      "[I 2025-08-24 05:18:55,437] Trial 306 finished with value: 6.572318185465896 and parameters: {'x': 0.8736354324057246, 'y': 1.0192925776035375}. Best is trial 265 with value: 0.004917973349228406.\n",
      "[I 2025-08-24 05:18:55,442] Trial 307 finished with value: 1.9904950933397259 and parameters: {'x': 1.0386999457327797, 'y': 0.9378657578931956}. Best is trial 265 with value: 0.004917973349228406.\n",
      "[I 2025-08-24 05:18:55,447] Trial 308 finished with value: 18.83237137168573 and parameters: {'x': 1.129269086797108, 'y': 0.8414784446436865}. Best is trial 265 with value: 0.004917973349228406.\n",
      "[I 2025-08-24 05:18:55,452] Trial 309 finished with value: 85.87676363691382 and parameters: {'x': -0.3896629240763754, 'y': 1.0680555122386892}. Best is trial 265 with value: 0.004917973349228406.\n",
      "[I 2025-08-24 05:18:55,456] Trial 310 finished with value: 19.251408434171196 and parameters: {'x': -1.1560998350788967, 'y': 0.9544327954383887}. Best is trial 265 with value: 0.004917973349228406.\n",
      "[I 2025-08-24 05:18:55,461] Trial 311 finished with value: 6.814080942297665 and parameters: {'x': 0.9471170850483132, 'y': 1.158015146644556}. Best is trial 265 with value: 0.004917973349228406.\n",
      "[I 2025-08-24 05:18:55,466] Trial 312 finished with value: 1.6609833554440567 and parameters: {'x': 0.8708815013333371, 'y': 0.8866653098938986}. Best is trial 265 with value: 0.004917973349228406.\n",
      "[I 2025-08-24 05:18:55,471] Trial 313 finished with value: 4.5916566498217355 and parameters: {'x': 1.0238888029178173, 'y': 0.8340800848989868}. Best is trial 265 with value: 0.004917973349228406.\n",
      "[I 2025-08-24 05:18:55,475] Trial 314 finished with value: 9.12506616832985 and parameters: {'x': 0.8420899362186905, 'y': 1.0107796875968587}. Best is trial 265 with value: 0.004917973349228406.\n",
      "[I 2025-08-24 05:18:55,480] Trial 315 finished with value: 1.0435433160375904 and parameters: {'x': 0.9441933166539402, 'y': 0.9935024373478106}. Best is trial 265 with value: 0.004917973349228406.\n",
      "[I 2025-08-24 05:18:55,485] Trial 316 finished with value: 17.74299469342511 and parameters: {'x': 1.1192154534368166, 'y': 0.8315876247999066}. Best is trial 265 with value: 0.004917973349228406.\n",
      "[I 2025-08-24 05:18:55,490] Trial 317 finished with value: 28.49801059631139 and parameters: {'x': 0.8335633882378269, 'y': 1.2284036848776148}. Best is trial 265 with value: 0.004917973349228406.\n",
      "[I 2025-08-24 05:18:55,494] Trial 318 finished with value: 1.1829470708767296 and parameters: {'x': 0.9843413634014668, 'y': 1.0776800175208296}. Best is trial 265 with value: 0.004917973349228406.\n",
      "[I 2025-08-24 05:18:55,499] Trial 319 finished with value: 1.930059172889318 and parameters: {'x': 0.8925964104024694, 'y': 0.9352391327373143}. Best is trial 265 with value: 0.004917973349228406.\n",
      "[I 2025-08-24 05:18:55,504] Trial 320 finished with value: 10.971587484958656 and parameters: {'x': 1.0628280609156646, 'y': 0.7984292108990287}. Best is trial 265 with value: 0.004917973349228406.\n",
      "[I 2025-08-24 05:18:55,509] Trial 321 finished with value: 6.415086307530715 and parameters: {'x': 0.8068752774996328, 'y': 0.9035905642415105}. Best is trial 265 with value: 0.004917973349228406.\n",
      "[I 2025-08-24 05:18:55,514] Trial 322 finished with value: 1.5425775880151391 and parameters: {'x': 0.9337632125014851, 'y': 0.9959375361887136}. Best is trial 265 with value: 0.004917973349228406.\n",
      "[I 2025-08-24 05:18:55,519] Trial 323 finished with value: 0.3504325241933474 and parameters: {'x': 1.021134298297092, 'y': 1.1018748584052371}. Best is trial 265 with value: 0.004917973349228406.\n",
      "[I 2025-08-24 05:18:55,523] Trial 324 finished with value: 35.37242894786587 and parameters: {'x': 1.1921102701082256, 'y': 0.826689997915834}. Best is trial 265 with value: 0.004917973349228406.\n",
      "[I 2025-08-24 05:18:55,528] Trial 325 finished with value: 11.565507053765142 and parameters: {'x': 0.758772405506552, 'y': 0.9149599183420367}. Best is trial 265 with value: 0.004917973349228406.\n",
      "[I 2025-08-24 05:18:55,533] Trial 326 finished with value: 486.7761848722577 and parameters: {'x': 0.8900212210580986, 'y': -1.4141353042241667}. Best is trial 265 with value: 0.004917973349228406.\n",
      "[I 2025-08-24 05:18:55,538] Trial 327 finished with value: 2.6655598746746065 and parameters: {'x': 1.0791539454775054, 'y': 1.001499802815227}. Best is trial 265 with value: 0.004917973349228406.\n",
      "[I 2025-08-24 05:18:55,543] Trial 328 finished with value: 4.843223459607015 and parameters: {'x': 0.9733866583893858, 'y': 1.167538742707154}. Best is trial 265 with value: 0.004917973349228406.\n",
      "[I 2025-08-24 05:18:55,548] Trial 329 finished with value: 1.3449988575732814 and parameters: {'x': 0.8252052029074157, 'y': 0.795612902371241}. Best is trial 265 with value: 0.004917973349228406.\n",
      "[I 2025-08-24 05:18:55,553] Trial 330 finished with value: 0.1799068649713552 and parameters: {'x': 0.9364518027079761, 'y': 0.9188786562495197}. Best is trial 265 with value: 0.004917973349228406.\n",
      "[I 2025-08-24 05:18:55,557] Trial 331 finished with value: 5.720784541097192 and parameters: {'x': 1.1369223621341649, 'y': 1.0538030773581097}. Best is trial 265 with value: 0.004917973349228406.\n",
      "[I 2025-08-24 05:18:55,562] Trial 332 finished with value: 3.23469315998259 and parameters: {'x': 1.0102035652007075, 'y': 0.8406616101938085}. Best is trial 265 with value: 0.004917973349228406.\n",
      "[I 2025-08-24 05:18:55,567] Trial 333 finished with value: 13.193277100275134 and parameters: {'x': 0.7699292129410168, 'y': 0.9552871244119825}. Best is trial 265 with value: 0.004917973349228406.\n",
      "[I 2025-08-24 05:18:55,572] Trial 334 finished with value: 0.06898861530279218 and parameters: {'x': 0.8674503352076984, 'y': 0.7751458864999855}. Best is trial 265 with value: 0.004917973349228406.\n",
      "[I 2025-08-24 05:18:55,577] Trial 335 finished with value: 0.01577073789191386 and parameters: {'x': 0.8814103845912223, 'y': 0.7727523887569131}. Best is trial 265 with value: 0.004917973349228406.\n",
      "[I 2025-08-24 05:18:55,582] Trial 336 finished with value: 0.04259255772205403 and parameters: {'x': 0.8821610144033498, 'y': 0.7951510571910254}. Best is trial 265 with value: 0.004917973349228406.\n",
      "[I 2025-08-24 05:18:55,587] Trial 337 finished with value: 0.09718008248307346 and parameters: {'x': 0.8633541008132034, 'y': 0.7733995790273124}. Best is trial 265 with value: 0.004917973349228406.\n",
      "[I 2025-08-24 05:18:55,592] Trial 338 finished with value: 0.5354012884067382 and parameters: {'x': 0.9072844011486554, 'y': 0.7505836435676365}. Best is trial 265 with value: 0.004917973349228406.\n",
      "[I 2025-08-24 05:18:55,597] Trial 339 finished with value: 0.08638424368497281 and parameters: {'x': 0.9161618507342091, 'y': 0.8675226287556075}. Best is trial 265 with value: 0.004917973349228406.\n",
      "[I 2025-08-24 05:18:55,602] Trial 340 finished with value: 13.068440679341503 and parameters: {'x': 1.0662416442387759, 'y': 0.7754289563455572}. Best is trial 265 with value: 0.004917973349228406.\n",
      "[I 2025-08-24 05:18:55,606] Trial 341 finished with value: 2.12633459546314 and parameters: {'x': 0.8319910045226812, 'y': 0.8370574894134949}. Best is trial 265 with value: 0.004917973349228406.\n",
      "[I 2025-08-24 05:18:55,611] Trial 342 finished with value: 0.44447800533901316 and parameters: {'x': 0.9794659833302489, 'y': 0.8927160585620084}. Best is trial 265 with value: 0.004917973349228406.\n",
      "[I 2025-08-24 05:18:55,616] Trial 343 finished with value: 0.1021625780836015 and parameters: {'x': 0.879795251363291, 'y': 0.8036561318613676}. Best is trial 265 with value: 0.004917973349228406.\n",
      "[I 2025-08-24 05:18:55,621] Trial 344 finished with value: 15.31330409705628 and parameters: {'x': 1.0545261284736402, 'y': 0.7207411750388613}. Best is trial 265 with value: 0.004917973349228406.\n",
      "[I 2025-08-24 05:18:55,626] Trial 345 finished with value: 27.594112485852072 and parameters: {'x': 1.211137608145411, 'y': 0.9419778118555613}. Best is trial 265 with value: 0.004917973349228406.\n",
      "[I 2025-08-24 05:18:55,631] Trial 346 finished with value: 5.301499371458561 and parameters: {'x': 0.8016759118529956, 'y': 0.8720784028693873}. Best is trial 265 with value: 0.004917973349228406.\n",
      "[I 2025-08-24 05:18:55,636] Trial 347 finished with value: 3.8510039179061413 and parameters: {'x': 0.9561912428511173, 'y': 0.7181108493190478}. Best is trial 265 with value: 0.004917973349228406.\n",
      "[I 2025-08-24 05:18:55,641] Trial 348 finished with value: 3.4372006975987826 and parameters: {'x': 0.8801025676551169, 'y': 0.9595893213657338}. Best is trial 265 with value: 0.004917973349228406.\n",
      "[I 2025-08-24 05:18:55,646] Trial 349 finished with value: 296.2999264231696 and parameters: {'x': 1.125190566328247, 'y': -0.45523714028854695}. Best is trial 265 with value: 0.004917973349228406.\n",
      "[I 2025-08-24 05:18:55,651] Trial 350 finished with value: 1.7780375903665548 and parameters: {'x': 0.9865036513953895, 'y': 0.8398532086212906}. Best is trial 265 with value: 0.004917973349228406.\n",
      "[I 2025-08-24 05:18:55,656] Trial 351 finished with value: 1.544893575448505 and parameters: {'x': 0.7996681616036303, 'y': 0.7621378578404904}. Best is trial 265 with value: 0.004917973349228406.\n",
      "[I 2025-08-24 05:18:55,661] Trial 352 finished with value: 4.861367356237492 and parameters: {'x': 0.9196915775355656, 'y': 1.0661713804296542}. Best is trial 265 with value: 0.004917973349228406.\n",
      "[I 2025-08-24 05:18:55,666] Trial 353 finished with value: 2.740087267060707 and parameters: {'x': 1.043020016950371, 'y': 0.9224145778602686}. Best is trial 265 with value: 0.004917973349228406.\n",
      "[I 2025-08-24 05:18:55,671] Trial 354 finished with value: 94.48184934954953 and parameters: {'x': 1.2903409305409073, 'y': 0.6933956934182354}. Best is trial 265 with value: 0.004917973349228406.\n",
      "[I 2025-08-24 05:18:55,676] Trial 355 finished with value: 0.9105639320863971 and parameters: {'x': 0.8591149234227389, 'y': 0.8324561676236354}. Best is trial 265 with value: 0.004917973349228406.\n",
      "[I 2025-08-24 05:18:55,681] Trial 356 finished with value: 0.20653472374521242 and parameters: {'x': 0.9847139263183049, 'y': 1.0150818931363832}. Best is trial 265 with value: 0.004917973349228406.\n",
      "[I 2025-08-24 05:18:55,686] Trial 357 finished with value: 215.14691324311525 and parameters: {'x': 1.6243247276027444, 'y': 1.1729713982760557}. Best is trial 265 with value: 0.004917973349228406.\n",
      "[I 2025-08-24 05:18:55,691] Trial 358 finished with value: 9.458267076156163 and parameters: {'x': 0.7655490812610103, 'y': 0.8927133999360004}. Best is trial 265 with value: 0.004917973349228406.\n",
      "[I 2025-08-24 05:18:55,696] Trial 359 finished with value: 786.3386532574932 and parameters: {'x': 0.9051576805468582, 'y': -1.9848465914042124}. Best is trial 265 with value: 0.004917973349228406.\n",
      "[I 2025-08-24 05:18:55,702] Trial 360 finished with value: 17.574663119028834 and parameters: {'x': 1.0899884803481528, 'y': 0.7689500229322166}. Best is trial 265 with value: 0.004917973349228406.\n",
      "[I 2025-08-24 05:18:55,707] Trial 361 finished with value: 12.58253376486802 and parameters: {'x': 0.980880858221436, 'y': 1.3168407793813381}. Best is trial 265 with value: 0.004917973349228406.\n",
      "[I 2025-08-24 05:18:55,712] Trial 362 finished with value: 7.439329720153202 and parameters: {'x': 0.8347536610186825, 'y': 0.9690639889568501}. Best is trial 265 with value: 0.004917973349228406.\n",
      "[I 2025-08-24 05:18:55,717] Trial 363 finished with value: 6.5836002251226 and parameters: {'x': 0.9187968495867405, 'y': 1.1006443971340576}. Best is trial 265 with value: 0.004917973349228406.\n",
      "[I 2025-08-24 05:18:55,722] Trial 364 finished with value: 16.8696956576629 and parameters: {'x': 1.051242931043149, 'y': 0.6944163163629318}. Best is trial 265 with value: 0.004917973349228406.\n",
      "[I 2025-08-24 05:18:55,727] Trial 365 finished with value: 7.964809703759249 and parameters: {'x': 0.7526262390170022, 'y': 0.8475799591884248}. Best is trial 265 with value: 0.004917973349228406.\n",
      "[I 2025-08-24 05:18:55,732] Trial 366 finished with value: 8.369751356597776 and parameters: {'x': 1.1241655856783481, 'y': 0.9747096115230356}. Best is trial 265 with value: 0.004917973349228406.\n",
      "[I 2025-08-24 05:18:55,737] Trial 367 finished with value: 3.6100624415836355 and parameters: {'x': -0.8909543138940341, 'y': 0.7752646968518315}. Best is trial 265 with value: 0.004917973349228406.\n",
      "[I 2025-08-24 05:18:55,743] Trial 368 finished with value: 2.4241967178167716 and parameters: {'x': 0.8625411119258837, 'y': 0.8990675231666118}. Best is trial 265 with value: 0.004917973349228406.\n",
      "[I 2025-08-24 05:18:55,748] Trial 369 finished with value: 88.94943644571414 and parameters: {'x': -1.4053156952817258, 'y': 1.0629698102040026}. Best is trial 265 with value: 0.004917973349228406.\n",
      "[I 2025-08-24 05:18:55,753] Trial 370 finished with value: 52.14352665505271 and parameters: {'x': 1.1864159589039318, 'y': 0.6857187423754925}. Best is trial 265 with value: 0.004917973349228406.\n",
      "[I 2025-08-24 05:18:55,758] Trial 371 finished with value: 1.8589999448453867 and parameters: {'x': 0.9665831631394457, 'y': 0.7979788198448903}. Best is trial 265 with value: 0.004917973349228406.\n",
      "[I 2025-08-24 05:18:55,763] Trial 372 finished with value: 1.9707874836459844 and parameters: {'x': 1.0289683909220706, 'y': 0.9184211022198636}. Best is trial 265 with value: 0.004917973349228406.\n",
      "[I 2025-08-24 05:18:55,768] Trial 373 finished with value: 11.410283662962806 and parameters: {'x': 0.8089256869049817, 'y': 0.9916110340930498}. Best is trial 265 with value: 0.004917973349228406.\n",
      "[I 2025-08-24 05:18:55,773] Trial 374 finished with value: 4.835817543440685 and parameters: {'x': 0.9327769627033274, 'y': 0.6502707100519068}. Best is trial 265 with value: 0.004917973349228406.\n",
      "[I 2025-08-24 05:18:55,779] Trial 375 finished with value: 48.80973096323817 and parameters: {'x': 0.7314210503416119, 'y': 1.2330999247589547}. Best is trial 265 with value: 0.004917973349228406.\n",
      "[I 2025-08-24 05:18:55,784] Trial 376 finished with value: 0.7336761214117398 and parameters: {'x': 0.864965103873349, 'y': 0.8327484176770782}. Best is trial 265 with value: 0.004917973349228406.\n",
      "[I 2025-08-24 05:18:55,789] Trial 377 finished with value: 0.03929732679676584 and parameters: {'x': 1.0310260146131756, 'y': 1.082593895403134}. Best is trial 265 with value: 0.004917973349228406.\n",
      "[I 2025-08-24 05:18:55,795] Trial 378 finished with value: 2.3189882802300064 and parameters: {'x': 1.113602693218872, 'y': 1.0882530409240134}. Best is trial 265 with value: 0.004917973349228406.\n",
      "[I 2025-08-24 05:18:55,800] Trial 379 finished with value: 13.907102660594724 and parameters: {'x': 1.2195032333532574, 'y': 1.114912418563311}. Best is trial 265 with value: 0.004917973349228406.\n",
      "[I 2025-08-24 05:18:55,805] Trial 380 finished with value: 0.5651544772594697 and parameters: {'x': 1.0387760020396182, 'y': 1.003978895024764}. Best is trial 265 with value: 0.004917973349228406.\n",
      "[I 2025-08-24 05:18:55,810] Trial 381 finished with value: 20.056162067848664 and parameters: {'x': 0.963436426891622, 'y': 1.3760358887313684}. Best is trial 265 with value: 0.004917973349228406.\n",
      "[I 2025-08-24 05:18:55,816] Trial 382 finished with value: 1.8852159957060777 and parameters: {'x': 1.1570137881361306, 'y': 1.2022784621891707}. Best is trial 265 with value: 0.004917973349228406.\n",
      "[I 2025-08-24 05:18:55,821] Trial 383 finished with value: 1.118785446622052 and parameters: {'x': 1.0227878225128804, 'y': 1.1518430344389325}. Best is trial 265 with value: 0.004917973349228406.\n",
      "[I 2025-08-24 05:18:55,826] Trial 384 finished with value: 17.96849978564251 and parameters: {'x': 0.802134063638166, 'y': 1.0668496744133649}. Best is trial 265 with value: 0.004917973349228406.\n",
      "[I 2025-08-24 05:18:55,831] Trial 385 finished with value: 86.9730622862309 and parameters: {'x': -0.10071941408359533, 'y': 0.9362193382573694}. Best is trial 265 with value: 0.004917973349228406.\n",
      "[I 2025-08-24 05:18:55,837] Trial 386 finished with value: 218.9401377162511 and parameters: {'x': 0.9174965471154325, 'y': -0.6378396735542248}. Best is trial 265 with value: 0.004917973349228406.\n",
      "[I 2025-08-24 05:18:55,842] Trial 387 finished with value: 13.10642011484256 and parameters: {'x': 1.052029460217797, 'y': 0.7447754735486211}. Best is trial 265 with value: 0.004917973349228406.\n",
      "[I 2025-08-24 05:18:55,848] Trial 388 finished with value: 7.190548095302575 and parameters: {'x': 0.8680152995243489, 'y': 1.0212775217738852}. Best is trial 265 with value: 0.004917973349228406.\n",
      "[I 2025-08-24 05:18:55,853] Trial 389 finished with value: 14.591230410586004 and parameters: {'x': 0.7178517141521644, 'y': 0.8962523224888039}. Best is trial 265 with value: 0.004917973349228406.\n",
      "[I 2025-08-24 05:18:55,858] Trial 390 finished with value: 0.00685816062251632 and parameters: {'x': 0.9875544034990322, 'y': 0.967076351245621}. Best is trial 265 with value: 0.004917973349228406.\n",
      "[I 2025-08-24 05:18:55,863] Trial 391 finished with value: 42.12482367577059 and parameters: {'x': -0.6349673832303099, 'y': 1.0312895030014435}. Best is trial 265 with value: 0.004917973349228406.\n",
      "[I 2025-08-24 05:18:55,869] Trial 392 finished with value: 0.5210884108803748 and parameters: {'x': 1.1107670457750396, 'y': 1.1624718750794252}. Best is trial 265 with value: 0.004917973349228406.\n",
      "[I 2025-08-24 05:18:55,874] Trial 393 finished with value: 37.547305761512554 and parameters: {'x': 1.25843552745146, 'y': 0.971446641062069}. Best is trial 265 with value: 0.004917973349228406.\n",
      "[I 2025-08-24 05:18:55,879] Trial 394 finished with value: 1.0323693541692303 and parameters: {'x': 1.005144395695821, 'y': 1.1119195321600248}. Best is trial 265 with value: 0.004917973349228406.\n",
      "[I 2025-08-24 05:18:55,885] Trial 395 finished with value: 266.9383656377622 and parameters: {'x': -1.5884421196386762, 'y': 0.9099579477116608}. Best is trial 265 with value: 0.004917973349228406.\n",
      "[I 2025-08-24 05:18:55,890] Trial 396 finished with value: 9.326114277211651 and parameters: {'x': 0.9697203900586006, 'y': 1.2457294970967776}. Best is trial 265 with value: 0.004917973349228406.\n",
      "[I 2025-08-24 05:18:55,895] Trial 397 finished with value: 6.682070544901365 and parameters: {'x': 1.138102081022175, 'y': 1.037148503305259}. Best is trial 265 with value: 0.004917973349228406.\n",
      "[I 2025-08-24 05:18:55,900] Trial 398 finished with value: 6.931644557333314 and parameters: {'x': 1.0629084373727382, 'y': 0.8665693484542875}. Best is trial 265 with value: 0.004917973349228406.\n",
      "[I 2025-08-24 05:18:55,906] Trial 399 finished with value: 0.491456881330563 and parameters: {'x': 0.9527973154522291, 'y': 0.9777676160622529}. Best is trial 265 with value: 0.004917973349228406.\n",
      "[I 2025-08-24 05:18:55,911] Trial 400 finished with value: 0.4544296544811129 and parameters: {'x': 1.0028578739599583, 'y': 0.9383131234205396}. Best is trial 265 with value: 0.004917973349228406.\n",
      "[I 2025-08-24 05:18:55,916] Trial 401 finished with value: 0.06042094763655559 and parameters: {'x': 0.8037128719590759, 'y': 0.6311583300654977}. Best is trial 265 with value: 0.004917973349228406.\n",
      "[I 2025-08-24 05:18:55,922] Trial 402 finished with value: 0.029273833881590917 and parameters: {'x': 0.9217600951397549, 'y': 0.8648575696692263}. Best is trial 265 with value: 0.004917973349228406.\n",
      "[I 2025-08-24 05:18:55,927] Trial 403 finished with value: 6.114040250116638 and parameters: {'x': 1.0566340241913668, 'y': 0.8692744732689116}. Best is trial 265 with value: 0.004917973349228406.\n",
      "[I 2025-08-24 05:18:55,932] Trial 404 finished with value: 8.916291885595458 and parameters: {'x': 1.1699281579518774, 'y': 1.0706141947451666}. Best is trial 265 with value: 0.004917973349228406.\n",
      "[I 2025-08-24 05:18:55,938] Trial 405 finished with value: 1.820257675147125 and parameters: {'x': 0.9160019166498247, 'y': 0.9737147004798571}. Best is trial 265 with value: 0.004917973349228406.\n",
      "[I 2025-08-24 05:18:55,943] Trial 406 finished with value: 10.09339803336651 and parameters: {'x': 1.0719435174677203, 'y': 0.8314432868014132}. Best is trial 265 with value: 0.004917973349228406.\n",
      "[I 2025-08-24 05:18:55,949] Trial 407 finished with value: 3.9921225403351808 and parameters: {'x': 0.9695142111925351, 'y': 1.139737513307833}. Best is trial 265 with value: 0.004917973349228406.\n",
      "[I 2025-08-24 05:18:55,954] Trial 408 finished with value: 3.350260421377967 and parameters: {'x': 0.8536755289237596, 'y': 0.9112132602962928}. Best is trial 265 with value: 0.004917973349228406.\n",
      "[I 2025-08-24 05:18:55,960] Trial 409 finished with value: 4.381996005156297 and parameters: {'x': 1.3326569264940389, 'y': 1.982646576053002}. Best is trial 265 with value: 0.004917973349228406.\n",
      "[I 2025-08-24 05:18:55,965] Trial 410 finished with value: 2.140832794882525 and parameters: {'x': 0.9337017166496485, 'y': 1.0179644638671266}. Best is trial 265 with value: 0.004917973349228406.\n",
      "[I 2025-08-24 05:18:55,970] Trial 411 finished with value: 217.21243316937606 and parameters: {'x': 1.1046500833996817, 'y': -0.2535238937145219}. Best is trial 265 with value: 0.004917973349228406.\n",
      "[I 2025-08-24 05:18:55,976] Trial 412 finished with value: 6.760829448695737 and parameters: {'x': 1.0114147009228258, 'y': 0.7629462523346934}. Best is trial 265 with value: 0.004917973349228406.\n",
      "[I 2025-08-24 05:18:55,981] Trial 413 finished with value: 0.6517718686702049 and parameters: {'x': 0.8937390903711165, 'y': 0.8787995865077585}. Best is trial 265 with value: 0.004917973349228406.\n",
      "[I 2025-08-24 05:18:55,987] Trial 414 finished with value: 10.477788286387206 and parameters: {'x': 0.799348906974296, 'y': 0.9620302991097114}. Best is trial 265 with value: 0.004917973349228406.\n",
      "[I 2025-08-24 05:18:55,992] Trial 415 finished with value: 3.1177368783922157 and parameters: {'x': 1.000177339100583, 'y': 0.8237835668510799}. Best is trial 265 with value: 0.004917973349228406.\n",
      "[I 2025-08-24 05:18:55,998] Trial 416 finished with value: 95.56496121537339 and parameters: {'x': 0.9048295103708354, 'y': 1.7962434439651433}. Best is trial 265 with value: 0.004917973349228406.\n",
      "[I 2025-08-24 05:18:56,003] Trial 417 finished with value: 13.076622258453108 and parameters: {'x': 1.199929790427919, 'y': 1.0787684833938045}. Best is trial 265 with value: 0.004917973349228406.\n",
      "[I 2025-08-24 05:18:56,009] Trial 418 finished with value: 23.143331293787597 and parameters: {'x': 1.1018949608574866, 'y': 0.7332052635632722}. Best is trial 265 with value: 0.004917973349228406.\n",
      "[I 2025-08-24 05:18:56,014] Trial 419 finished with value: 0.0514833477288872 and parameters: {'x': 0.9716855789046449, 'y': 0.9666854476851752}. Best is trial 265 with value: 0.004917973349228406.\n",
      "[I 2025-08-24 05:18:56,020] Trial 420 finished with value: 0.0005006527775307741 and parameters: {'x': 1.0121653975388343, 'y': 1.0263567053921543}. Best is trial 420 with value: 0.0005006527775307741.\n",
      "[I 2025-08-24 05:18:56,025] Trial 421 finished with value: 2.7592258247913772 and parameters: {'x': 1.0464477607255298, 'y': 1.2610971398654063}. Best is trial 420 with value: 0.0005006527775307741.\n",
      "[I 2025-08-24 05:18:56,030] Trial 422 finished with value: 1.3898328310294388 and parameters: {'x': 1.1338943790862803, 'y': 1.1685881091282107}. Best is trial 420 with value: 0.0005006527775307741.\n",
      "[I 2025-08-24 05:18:56,036] Trial 423 finished with value: 0.18320181075515893 and parameters: {'x': 1.0035733321083735, 'y': 1.0499600219399108}. Best is trial 420 with value: 0.0005006527775307741.\n",
      "[I 2025-08-24 05:18:56,042] Trial 424 finished with value: 698.6030301053004 and parameters: {'x': 1.2458580952138472, 'y': -1.090833225016909}. Best is trial 420 with value: 0.0005006527775307741.\n",
      "[I 2025-08-24 05:18:56,047] Trial 425 finished with value: 119.19032596484892 and parameters: {'x': -0.18617924990199497, 'y': 1.1199428831513265}. Best is trial 420 with value: 0.0005006527775307741.\n",
      "[I 2025-08-24 05:18:56,053] Trial 426 finished with value: 108.48235151426798 and parameters: {'x': 1.4361083755408697, 'y': 1.0217720708576439}. Best is trial 420 with value: 0.0005006527775307741.\n",
      "[I 2025-08-24 05:18:56,058] Trial 427 finished with value: 3.5521518020462417 and parameters: {'x': 1.0677057215785526, 'y': 0.9516456276868968}. Best is trial 420 with value: 0.0005006527775307741.\n",
      "[I 2025-08-24 05:18:56,064] Trial 428 finished with value: 0.04163987264545499 and parameters: {'x': 0.9293856301317385, 'y': 0.8829027489763228}. Best is trial 420 with value: 0.0005006527775307741.\n",
      "[I 2025-08-24 05:18:56,069] Trial 429 finished with value: 804.1936225305094 and parameters: {'x': 1.9245453286164302, 'y': 0.8695514544052237}. Best is trial 420 with value: 0.0005006527775307741.\n",
      "[I 2025-08-24 05:18:56,075] Trial 430 finished with value: 0.04024521930185192 and parameters: {'x': 0.8952026954792663, 'y': 0.8184942227846193}. Best is trial 420 with value: 0.0005006527775307741.\n",
      "[I 2025-08-24 05:18:56,080] Trial 431 finished with value: 0.1917094825395285 and parameters: {'x': 0.8748782101530159, 'y': 0.8073706743187312}. Best is trial 420 with value: 0.0005006527775307741.\n",
      "[I 2025-08-24 05:18:56,086] Trial 432 finished with value: 0.2950163748683664 and parameters: {'x': 0.8709207116430836, 'y': 0.8112622370059993}. Best is trial 420 with value: 0.0005006527775307741.\n",
      "[I 2025-08-24 05:18:56,091] Trial 433 finished with value: 12.719822096952624 and parameters: {'x': 0.7262720861209532, 'y': 0.8830677561967173}. Best is trial 420 with value: 0.0005006527775307741.\n",
      "[I 2025-08-24 05:18:56,097] Trial 434 finished with value: 0.9067702329464411 and parameters: {'x': 0.9254113626386724, 'y': 0.7614542793371534}. Best is trial 420 with value: 0.0005006527775307741.\n",
      "[I 2025-08-24 05:18:56,102] Trial 435 finished with value: 2.969471053088475 and parameters: {'x': 0.8466798241962484, 'y': 0.8885048316813452}. Best is trial 420 with value: 0.0005006527775307741.\n",
      "[I 2025-08-24 05:18:56,108] Trial 436 finished with value: 2.1554913860068297 and parameters: {'x': 0.9329691743714994, 'y': 0.72376866109835}. Best is trial 420 with value: 0.0005006527775307741.\n",
      "[I 2025-08-24 05:18:56,114] Trial 437 finished with value: 2.9370187394032032 and parameters: {'x': 0.8029496520327964, 'y': 0.8149688526903942}. Best is trial 420 with value: 0.0005006527775307741.\n",
      "[I 2025-08-24 05:18:56,119] Trial 438 finished with value: 3.0496972004497183 and parameters: {'x': 1.044522609968099, 'y': 0.9164504241715572}. Best is trial 420 with value: 0.0005006527775307741.\n",
      "[I 2025-08-24 05:18:56,125] Trial 439 finished with value: 15.904342660953454 and parameters: {'x': 0.6712168610724386, 'y': 0.8479769677305011}. Best is trial 420 with value: 0.0005006527775307741.\n",
      "[I 2025-08-24 05:18:56,130] Trial 440 finished with value: 1.4746163977391533 and parameters: {'x': 0.9315482683569942, 'y': 0.9890228772903417}. Best is trial 420 with value: 0.0005006527775307741.\n",
      "[I 2025-08-24 05:18:56,136] Trial 441 finished with value: 36.38221262850779 and parameters: {'x': 1.1447376526417503, 'y': 0.7074212781227897}. Best is trial 420 with value: 0.0005006527775307741.\n",
      "[I 2025-08-24 05:18:56,141] Trial 442 finished with value: 3.8149138619060876 and parameters: {'x': 0.849273168797781, 'y': 0.9160005125060104}. Best is trial 420 with value: 0.0005006527775307741.\n",
      "[I 2025-08-24 05:18:56,147] Trial 443 finished with value: 0.7640275600398021 and parameters: {'x': 1.0026405321368759, 'y': 1.0926963078958767}. Best is trial 420 with value: 0.0005006527775307741.\n",
      "[I 2025-08-24 05:18:56,153] Trial 444 finished with value: 4.520341755166457 and parameters: {'x': 0.7505683374017182, 'y': 0.7744955675799519}. Best is trial 420 with value: 0.0005006527775307741.\n",
      "[I 2025-08-24 05:18:56,158] Trial 445 finished with value: 1.85286373564762 and parameters: {'x': 1.0829561158620358, 'y': 1.0369270280196399}. Best is trial 420 with value: 0.0005006527775307741.\n",
      "[I 2025-08-24 05:18:56,164] Trial 446 finished with value: 0.12294686665263989 and parameters: {'x': 0.934841739827666, 'y': 0.8394760281824363}. Best is trial 420 with value: 0.0005006527775307741.\n",
      "[I 2025-08-24 05:18:56,170] Trial 447 finished with value: 7.318513923682617 and parameters: {'x': 0.8392146111612533, 'y': 0.974330455057898}. Best is trial 420 with value: 0.0005006527775307741.\n",
      "[I 2025-08-24 05:18:56,175] Trial 448 finished with value: 0.939477473679251 and parameters: {'x': 0.9995223232610931, 'y': 0.9021182403027698}. Best is trial 420 with value: 0.0005006527775307741.\n",
      "[I 2025-08-24 05:18:56,181] Trial 449 finished with value: 46.91582649812731 and parameters: {'x': 1.1814547326292393, 'y': 0.7111243924064865}. Best is trial 420 with value: 0.0005006527775307741.\n",
      "[I 2025-08-24 05:18:56,186] Trial 450 finished with value: 10.795655023753877 and parameters: {'x': 0.9066878768119478, 'y': 1.1505177986141262}. Best is trial 420 with value: 0.0005006527775307741.\n",
      "[I 2025-08-24 05:18:56,192] Trial 451 finished with value: 3.3412996350339084 and parameters: {'x': 0.7864790467183091, 'y': 0.8000901523753643}. Best is trial 420 with value: 0.0005006527775307741.\n",
      "[I 2025-08-24 05:18:56,198] Trial 452 finished with value: 4.503150798783409 and parameters: {'x': 1.0811028854001472, 'y': 0.9567322021662497}. Best is trial 420 with value: 0.0005006527775307741.\n",
      "[I 2025-08-24 05:18:56,203] Trial 453 finished with value: 0.5667391930345839 and parameters: {'x': 0.9819709185030543, 'y': 1.0395273754335455}. Best is trial 420 with value: 0.0005006527775307741.\n",
      "[I 2025-08-24 05:18:56,209] Trial 454 finished with value: 0.39597972594865904 and parameters: {'x': 0.8879297377626825, 'y': 0.850340135077566}. Best is trial 420 with value: 0.0005006527775307741.\n",
      "[I 2025-08-24 05:18:56,215] Trial 455 finished with value: 275.17270547401114 and parameters: {'x': 1.5558134625198186, 'y': 0.7626539140512909}. Best is trial 420 with value: 0.0005006527775307741.\n",
      "[I 2025-08-24 05:18:56,220] Trial 456 finished with value: 42.06061331117809 and parameters: {'x': 0.1290500385479938, 'y': 0.6593206960612815}. Best is trial 420 with value: 0.0005006527775307741.\n",
      "[I 2025-08-24 05:18:56,226] Trial 457 finished with value: 2.6264912406162004 and parameters: {'x': 1.0453773158143806, 'y': 0.9308127404523878}. Best is trial 420 with value: 0.0005006527775307741.\n",
      "[I 2025-08-24 05:18:56,232] Trial 458 finished with value: 10.276536364488122 and parameters: {'x': 0.9558373242270787, 'y': 1.2341649414456124}. Best is trial 420 with value: 0.0005006527775307741.\n",
      "[I 2025-08-24 05:18:56,238] Trial 459 finished with value: 118.3814557981247 and parameters: {'x': 0.7140150906968664, 'y': 1.5974740599967838}. Best is trial 420 with value: 0.0005006527775307741.\n",
      "[I 2025-08-24 05:18:56,243] Trial 460 finished with value: 10.92861109177984 and parameters: {'x': 0.8536851043628358, 'y': 1.059038806721595}. Best is trial 420 with value: 0.0005006527775307741.\n",
      "[I 2025-08-24 05:18:56,249] Trial 461 finished with value: 15.341258332839088 and parameters: {'x': 1.1255771261189722, 'y': 0.8754460422054616}. Best is trial 420 with value: 0.0005006527775307741.\n",
      "[I 2025-08-24 05:18:56,255] Trial 462 finished with value: 0.1272847353326025 and parameters: {'x': 1.0115216822284887, 'y': 0.9875177364579665}. Best is trial 420 with value: 0.0005006527775307741.\n",
      "[I 2025-08-24 05:18:56,260] Trial 463 finished with value: 23.15460557686731 and parameters: {'x': 0.788998233450098, 'y': 1.1032476979754775}. Best is trial 420 with value: 0.0005006527775307741.\n",
      "[I 2025-08-24 05:18:56,266] Trial 464 finished with value: 0.13389753021384015 and parameters: {'x': 0.9042217224890606, 'y': 0.7823006308961206}. Best is trial 420 with value: 0.0005006527775307741.\n",
      "[I 2025-08-24 05:18:56,272] Trial 465 finished with value: 41.8429084772049 and parameters: {'x': 1.2401443181781886, 'y': 0.8915428992702598}. Best is trial 420 with value: 0.0005006527775307741.\n",
      "[I 2025-08-24 05:18:56,278] Trial 466 finished with value: 5.338204890292933 and parameters: {'x': 0.9509731468206392, 'y': 0.6733563923423717}. Best is trial 420 with value: 0.0005006527775307741.\n",
      "[I 2025-08-24 05:18:56,283] Trial 467 finished with value: 2.025546704766813 and parameters: {'x': 1.0566657408003133, 'y': 0.9743336378951987}. Best is trial 420 with value: 0.0005006527775307741.\n",
      "[I 2025-08-24 05:18:56,289] Trial 468 finished with value: 1.7848918704664762 and parameters: {'x': 0.8322993515177807, 'y': 0.8252653492867275}. Best is trial 420 with value: 0.0005006527775307741.\n",
      "[I 2025-08-24 05:18:56,295] Trial 469 finished with value: 497.2603084736844 and parameters: {'x': 0.9666397702140961, 'y': -1.29553848533931}. Best is trial 420 with value: 0.0005006527775307741.\n",
      "[I 2025-08-24 05:18:56,301] Trial 470 finished with value: 50.52800874354446 and parameters: {'x': 0.6715750951534314, 'y': 1.161084554310408}. Best is trial 420 with value: 0.0005006527775307741.\n",
      "[I 2025-08-24 05:18:56,306] Trial 471 finished with value: 0.3163140460434513 and parameters: {'x': 1.1257843981584996, 'y': 1.3222076919496246}. Best is trial 420 with value: 0.0005006527775307741.\n",
      "[I 2025-08-24 05:18:56,312] Trial 472 finished with value: 0.3710542919425094 and parameters: {'x': 0.8895454274801381, 'y': 0.7313866370509025}. Best is trial 420 with value: 0.0005006527775307741.\n",
      "[I 2025-08-24 05:18:56,318] Trial 473 finished with value: 63.538205037839376 and parameters: {'x': -1.2910193141032917, 'y': 0.9032556861614219}. Best is trial 420 with value: 0.0005006527775307741.\n",
      "[I 2025-08-24 05:18:56,324] Trial 474 finished with value: 15.76441755395114 and parameters: {'x': 0.7908555243953361, 'y': 1.0219455391234278}. Best is trial 420 with value: 0.0005006527775307741.\n",
      "[I 2025-08-24 05:18:56,330] Trial 475 finished with value: 797.5559427336915 and parameters: {'x': 1.0251458976535457, 'y': -1.7731780651769318}. Best is trial 420 with value: 0.0005006527775307741.\n",
      "[I 2025-08-24 05:18:56,335] Trial 476 finished with value: 0.02801904378518741 and parameters: {'x': 0.9075916681667563, 'y': 0.8097656507803823}. Best is trial 420 with value: 0.0005006527775307741.\n",
      "[I 2025-08-24 05:18:56,341] Trial 477 finished with value: 29.010939062938004 and parameters: {'x': 1.1765868095213372, 'y': 0.8460280317599863}. Best is trial 420 with value: 0.0005006527775307741.\n",
      "[I 2025-08-24 05:18:56,347] Trial 478 finished with value: 0.18848586721086816 and parameters: {'x': 0.952008227117727, 'y': 0.9494685528918327}. Best is trial 420 with value: 0.0005006527775307741.\n",
      "[I 2025-08-24 05:18:56,353] Trial 479 finished with value: 0.7663988008590082 and parameters: {'x': 1.0759437898671353, 'y': 1.070440857673336}. Best is trial 420 with value: 0.0005006527775307741.\n",
      "[I 2025-08-24 05:18:56,359] Trial 480 finished with value: 0.06635590615282798 and parameters: {'x': 0.877453483911551, 'y': 0.7925825637202331}. Best is trial 420 with value: 0.0005006527775307741.\n",
      "[I 2025-08-24 05:18:56,365] Trial 481 finished with value: 0.694529813829729 and parameters: {'x': 0.994291506033533, 'y': 0.9052790987483578}. Best is trial 420 with value: 0.0005006527775307741.\n",
      "[I 2025-08-24 05:18:56,371] Trial 482 finished with value: 2.3973333910276895 and parameters: {'x': 0.9182738549291158, 'y': 0.9978442787893983}. Best is trial 420 with value: 0.0005006527775307741.\n",
      "[I 2025-08-24 05:18:56,376] Trial 483 finished with value: 12.232907399863782 and parameters: {'x': 1.0737426606046185, 'y': 1.5026012876393888}. Best is trial 420 with value: 0.0005006527775307741.\n",
      "[I 2025-08-24 05:18:56,382] Trial 484 finished with value: 4.133359406844652 and parameters: {'x': 0.9925240633202951, 'y': 0.7817987404598932}. Best is trial 420 with value: 0.0005006527775307741.\n",
      "[I 2025-08-24 05:18:56,388] Trial 485 finished with value: 10.497073375901136 and parameters: {'x': 0.7409045134897854, 'y': 0.8718937193974942}. Best is trial 420 with value: 0.0005006527775307741.\n",
      "[I 2025-08-24 05:18:56,394] Trial 486 finished with value: 20.81165041281274 and parameters: {'x': 0.863132848529418, 'y': 1.200990833838418}. Best is trial 420 with value: 0.0005006527775307741.\n",
      "[I 2025-08-24 05:18:56,400] Trial 487 finished with value: 5.449518238543313 and parameters: {'x': 1.148790643996164, 'y': 1.0867525729963048}. Best is trial 420 with value: 0.0005006527775307741.\n",
      "[I 2025-08-24 05:18:56,406] Trial 488 finished with value: 1.0468250181482774 and parameters: {'x': 1.0262226274546296, 'y': 0.9508520230687908}. Best is trial 420 with value: 0.0005006527775307741.\n",
      "[I 2025-08-24 05:18:56,412] Trial 489 finished with value: 0.03285753004510618 and parameters: {'x': 0.9197962140788962, 'y': 0.8297693432851707}. Best is trial 420 with value: 0.0005006527775307741.\n",
      "[I 2025-08-24 05:18:56,417] Trial 490 finished with value: 38.686854416740246 and parameters: {'x': 1.279275965261637, 'y': 1.0151867185486378}. Best is trial 420 with value: 0.0005006527775307741.\n",
      "[I 2025-08-24 05:18:56,423] Trial 491 finished with value: 0.0279481797095065 and parameters: {'x': 0.9420382465905911, 'y': 0.8717553007710226}. Best is trial 420 with value: 0.0005006527775307741.\n",
      "[I 2025-08-24 05:18:56,429] Trial 492 finished with value: 21.90107920216792 and parameters: {'x': 1.091645410653913, 'y': 0.7237935568506448}. Best is trial 420 with value: 0.0005006527775307741.\n",
      "[I 2025-08-24 05:18:56,436] Trial 493 finished with value: 0.3839350418405092 and parameters: {'x': 1.0009505924111213, 'y': 0.9399396693367021}. Best is trial 420 with value: 0.0005006527775307741.\n",
      "[I 2025-08-24 05:18:56,442] Trial 494 finished with value: 6.2240952246267485 and parameters: {'x': 0.937202248652672, 'y': 1.1277503737752692}. Best is trial 420 with value: 0.0005006527775307741.\n",
      "[I 2025-08-24 05:18:56,448] Trial 495 finished with value: 1.8016380847508056 and parameters: {'x': 0.8202565632832547, 'y': 0.8058370083886834}. Best is trial 420 with value: 0.0005006527775307741.\n",
      "[I 2025-08-24 05:18:56,453] Trial 496 finished with value: 29.927286520181188 and parameters: {'x': 1.1881778858917997, 'y': 0.8650320581627282}. Best is trial 420 with value: 0.0005006527775307741.\n",
      "[I 2025-08-24 05:18:56,459] Trial 497 finished with value: 3.9144775955105615 and parameters: {'x': 1.0752402894033952, 'y': 0.9584344091147559}. Best is trial 420 with value: 0.0005006527775307741.\n",
      "[I 2025-08-24 05:18:56,465] Trial 498 finished with value: 0.7791549232125169 and parameters: {'x': 0.9820054276448006, 'y': 1.0525860688972046}. Best is trial 420 with value: 0.0005006527775307741.\n",
      "[I 2025-08-24 05:18:56,471] Trial 499 finished with value: 2.045192098638578 and parameters: {'x': 0.7692104803049505, 'y': 0.732820452906814}. Best is trial 420 with value: 0.0005006527775307741.\n",
      "[I 2025-08-24 05:18:56,477] Trial 500 finished with value: 471.9732865469812 and parameters: {'x': 1.7372255760114372, 'y': 0.8467093139397862}. Best is trial 420 with value: 0.0005006527775307741.\n",
      "[I 2025-08-24 05:18:56,483] Trial 501 finished with value: 5.070083364533988 and parameters: {'x': 0.8809458213804281, 'y': 1.0009190362242035}. Best is trial 420 with value: 0.0005006527775307741.\n",
      "[I 2025-08-24 05:18:56,489] Trial 502 finished with value: 0.23426665288551396 and parameters: {'x': 1.033485850152691, 'y': 1.116378129650613}. Best is trial 420 with value: 0.0005006527775307741.\n",
      "[I 2025-08-24 05:18:56,495] Trial 503 finished with value: 0.7056842241641957 and parameters: {'x': 0.9198308732227318, 'y': 0.9297104315440006}. Best is trial 420 with value: 0.0005006527775307741.\n",
      "[I 2025-08-24 05:18:56,501] Trial 504 finished with value: 32.54983557620208 and parameters: {'x': 1.1119789597029222, 'y': 0.6660824779730096}. Best is trial 420 with value: 0.0005006527775307741.\n",
      "[I 2025-08-24 05:18:56,507] Trial 505 finished with value: 2.9986791714326073 and parameters: {'x': 0.8096782691567875, 'y': 0.8276967896724414}. Best is trial 420 with value: 0.0005006527775307741.\n",
      "[I 2025-08-24 05:18:56,513] Trial 506 finished with value: 6.961661978879499 and parameters: {'x': 0.9651650129691104, 'y': 1.1953701215109822}. Best is trial 420 with value: 0.0005006527775307741.\n",
      "[I 2025-08-24 05:18:56,519] Trial 507 finished with value: 33.579610986839626 and parameters: {'x': 0.6698754943445562, 'y': 1.027271238880509}. Best is trial 420 with value: 0.0005006527775307741.\n",
      "[I 2025-08-24 05:18:56,525] Trial 508 finished with value: 2.20421641422032 and parameters: {'x': 0.8734603934052262, 'y': 0.9108588558602756}. Best is trial 420 with value: 0.0005006527775307741.\n",
      "[I 2025-08-24 05:18:56,531] Trial 509 finished with value: 384.45209904621004 and parameters: {'x': 1.350726127878496, 'y': -0.13597023263732977}. Best is trial 420 with value: 0.0005006527775307741.\n",
      "[I 2025-08-24 05:18:56,537] Trial 510 finished with value: 7.0403272438539 and parameters: {'x': 1.0272778690343245, 'y': 0.7899776921875385}. Best is trial 420 with value: 0.0005006527775307741.\n",
      "[I 2025-08-24 05:18:56,543] Trial 511 finished with value: 123.75217753848129 and parameters: {'x': -0.4823135683653769, 'y': -0.8698931183035807}. Best is trial 420 with value: 0.0005006527775307741.\n",
      "[I 2025-08-24 05:18:56,549] Trial 512 finished with value: 14.887816735254601 and parameters: {'x': 1.1685687360676165, 'y': 0.9800739509390154}. Best is trial 420 with value: 0.0005006527775307741.\n",
      "[I 2025-08-24 05:18:56,555] Trial 513 finished with value: 3.164392044750993 and parameters: {'x': 0.9497778606365579, 'y': 0.724261512273716}. Best is trial 420 with value: 0.0005006527775307741.\n",
      "[I 2025-08-24 05:18:56,561] Trial 514 finished with value: 0.35768996734858155 and parameters: {'x': 0.7434689332321811, 'y': 0.6067721390417826}. Best is trial 420 with value: 0.0005006527775307741.\n",
      "[I 2025-08-24 05:18:56,567] Trial 515 finished with value: 33.77918723982405 and parameters: {'x': 0.8394146236095437, 'y': 1.285593670421671}. Best is trial 420 with value: 0.0005006527775307741.\n",
      "[I 2025-08-24 05:18:56,573] Trial 516 finished with value: 9.816176365683528 and parameters: {'x': 1.0883380437992285, 'y': 0.8712964803467734}. Best is trial 420 with value: 0.0005006527775307741.\n",
      "[I 2025-08-24 05:18:56,580] Trial 517 finished with value: 5.974482351219021 and parameters: {'x': 0.9070579049322338, 'y': 1.0670048180919334}. Best is trial 420 with value: 0.0005006527775307741.\n",
      "[I 2025-08-24 05:18:56,586] Trial 518 finished with value: 0.3692704754688495 and parameters: {'x': 0.9918488847514422, 'y': 0.9230020480429849}. Best is trial 420 with value: 0.0005006527775307741.\n",
      "[I 2025-08-24 05:18:56,592] Trial 519 finished with value: 639.7276985726081 and parameters: {'x': -1.8181518223994357, 'y': 0.7921412496973856}. Best is trial 420 with value: 0.0005006527775307741.\n",
      "[I 2025-08-24 05:18:56,598] Trial 520 finished with value: 17.51843436869491 and parameters: {'x': 0.8436910085261697, 'y': 1.130072833599695}. Best is trial 420 with value: 0.0005006527775307741.\n",
      "[I 2025-08-24 05:18:56,604] Trial 521 finished with value: 26.533751676675188 and parameters: {'x': 1.2196911907042844, 'y': 0.9730060712108003}. Best is trial 420 with value: 0.0005006527775307741.\n",
      "[I 2025-08-24 05:18:56,610] Trial 522 finished with value: 4.286179173488782 and parameters: {'x': 1.0312282819662593, 'y': 0.856424427437624}. Best is trial 420 with value: 0.0005006527775307741.\n",
      "[I 2025-08-24 05:18:56,616] Trial 523 finished with value: 2.403608664447225 and parameters: {'x': 0.9345661765184338, 'y': 0.7185163243922694}. Best is trial 420 with value: 0.0005006527775307741.\n",
      "[I 2025-08-24 05:18:56,622] Trial 524 finished with value: 4.150641246918771 and parameters: {'x': 1.1155567561514192, 'y': 1.041063634258609}. Best is trial 420 with value: 0.0005006527775307741.\n",
      "[I 2025-08-24 05:18:56,628] Trial 525 finished with value: 11.914780098453326 and parameters: {'x': 0.7612658755490647, 'y': 0.9238770962214722}. Best is trial 420 with value: 0.0005006527775307741.\n",
      "[I 2025-08-24 05:18:56,634] Trial 526 finished with value: 2.5736511254686216 and parameters: {'x': 0.9970188379543103, 'y': 0.8336208097501874}. Best is trial 420 with value: 0.0005006527775307741.\n",
      "[I 2025-08-24 05:18:56,640] Trial 527 finished with value: 4.567935944031185 and parameters: {'x': 0.8914206613133302, 'y': 1.0080821123773658}. Best is trial 420 with value: 0.0005006527775307741.\n",
      "[I 2025-08-24 05:18:56,647] Trial 528 finished with value: 0.5560038798463728 and parameters: {'x': 0.8300601907205686, 'y': 0.7616032494174197}. Best is trial 420 with value: 0.0005006527775307741.\n",
      "[I 2025-08-24 05:18:56,653] Trial 529 finished with value: 7.807276331967824 and parameters: {'x': 1.0841698259576742, 'y': 0.8961359773867229}. Best is trial 420 with value: 0.0005006527775307741.\n",
      "[I 2025-08-24 05:18:56,659] Trial 530 finished with value: 9.417742871520522 and parameters: {'x': 0.9449499843267316, 'y': 1.1997645056605746}. Best is trial 420 with value: 0.0005006527775307741.\n",
      "[I 2025-08-24 05:18:56,665] Trial 531 finished with value: 17.9483386242322 and parameters: {'x': 1.0309866567315884, 'y': 0.639290022448927}. Best is trial 420 with value: 0.0005006527775307741.\n",
      "[I 2025-08-24 05:18:56,671] Trial 532 finished with value: 32.38451846435253 and parameters: {'x': 0.720659538219152, 'y': 1.087738130584561}. Best is trial 420 with value: 0.0005006527775307741.\n",
      "[I 2025-08-24 05:18:56,677] Trial 533 finished with value: 0.13732167436860332 and parameters: {'x': 0.9282224684419995, 'y': 0.8252418054343909}. Best is trial 420 with value: 0.0005006527775307741.\n",
      "[I 2025-08-24 05:18:56,684] Trial 534 finished with value: 16.518859931015534 and parameters: {'x': 1.170304449145469, 'y': 0.9635354626541542}. Best is trial 420 with value: 0.0005006527775307741.\n",
      "[I 2025-08-24 05:18:56,690] Trial 535 finished with value: 0.25673856730046907 and parameters: {'x': 0.823995679954891, 'y': 0.726483199123678}. Best is trial 420 with value: 0.0005006527775307741.\n",
      "[I 2025-08-24 05:18:56,696] Trial 536 finished with value: 2.257178344927549 and parameters: {'x': 1.0154250843489365, 'y': 0.8808569329986075}. Best is trial 420 with value: 0.0005006527775307741.\n",
      "[I 2025-08-24 05:18:56,702] Trial 537 finished with value: 9.344041300452332 and parameters: {'x': 0.8813806715880239, 'y': 1.082281896521659}. Best is trial 420 with value: 0.0005006527775307741.\n",
      "[I 2025-08-24 05:18:56,708] Trial 538 finished with value: 0.483506320544429 and parameters: {'x': 0.9647843122656988, 'y': 1.0002541560733165}. Best is trial 420 with value: 0.0005006527775307741.\n",
      "[I 2025-08-24 05:18:56,714] Trial 539 finished with value: 17.623356942383694 and parameters: {'x': 1.0977643960685823, 'y': 0.7853987010750971}. Best is trial 420 with value: 0.0005006527775307741.\n",
      "[I 2025-08-24 05:18:56,721] Trial 540 finished with value: 25.412313613125665 and parameters: {'x': 0.6554895383368494, 'y': 0.9325942250485718}. Best is trial 420 with value: 0.0005006527775307741.\n",
      "[I 2025-08-24 05:18:56,727] Trial 541 finished with value: 0.6825961596031009 and parameters: {'x': 0.7803362226657171, 'y': 0.6885703349486957}. Best is trial 420 with value: 0.0005006527775307741.\n",
      "[I 2025-08-24 05:18:56,733] Trial 542 finished with value: 0.2795681652547442 and parameters: {'x': 0.8892935504828178, 'y': 0.8425452671686905}. Best is trial 420 with value: 0.0005006527775307741.\n",
      "[I 2025-08-24 05:18:56,739] Trial 543 finished with value: 0.44577355583662936 and parameters: {'x': 1.048262234246378, 'y': 1.032262097216385}. Best is trial 420 with value: 0.0005006527775307741.\n",
      "[I 2025-08-24 05:18:56,746] Trial 544 finished with value: 5.908621551420578 and parameters: {'x': 0.9677074676118446, 'y': 1.1795128548067086}. Best is trial 420 with value: 0.0005006527775307741.\n",
      "[I 2025-08-24 05:18:56,752] Trial 545 finished with value: 6.32653530811759 and parameters: {'x': 0.8303444720303989, 'y': 0.9404251711396777}. Best is trial 420 with value: 0.0005006527775307741.\n",
      "[I 2025-08-24 05:18:56,758] Trial 546 finished with value: 62.24229572567817 and parameters: {'x': 1.1761082795605546, 'y': 0.5944893994064837}. Best is trial 420 with value: 0.0005006527775307741.\n",
      "[I 2025-08-24 05:18:56,764] Trial 547 finished with value: 0.9466293265720181 and parameters: {'x': 0.9349022404825249, 'y': 0.7769653426827249}. Best is trial 420 with value: 0.0005006527775307741.\n",
      "[I 2025-08-24 05:18:56,771] Trial 548 finished with value: 7.4966272239463585 and parameters: {'x': 1.0644988145392267, 'y': 0.8594340127714778}. Best is trial 420 with value: 0.0005006527775307741.\n",
      "[I 2025-08-24 05:18:56,777] Trial 549 finished with value: 28.27328054906576 and parameters: {'x': 0.7595702429791263, 'y': 1.1081293528336054}. Best is trial 420 with value: 0.0005006527775307741.\n",
      "[I 2025-08-24 05:18:56,783] Trial 550 finished with value: 184.0927316880108 and parameters: {'x': 0.9962847531401124, 'y': -0.3642244069009546}. Best is trial 420 with value: 0.0005006527775307741.\n",
      "[I 2025-08-24 05:18:56,790] Trial 551 finished with value: 29.288165869070497 and parameters: {'x': 1.2411713502454367, 'y': 0.999858540235431}. Best is trial 420 with value: 0.0005006527775307741.\n",
      "[I 2025-08-24 05:18:56,796] Trial 552 finished with value: 1.8095917470834728 and parameters: {'x': 0.8761028484418903, 'y': 0.9015054915619515}. Best is trial 420 with value: 0.0005006527775307741.\n",
      "[I 2025-08-24 05:18:56,802] Trial 553 finished with value: 32.17965881253429 and parameters: {'x': 1.1146715177431223, 'y': 0.6753373292853291}. Best is trial 420 with value: 0.0005006527775307741.\n",
      "[I 2025-08-24 05:18:56,808] Trial 554 finished with value: 1.7777034146093829 and parameters: {'x': 0.9572222085380047, 'y': 0.7830124536666219}. Best is trial 420 with value: 0.0005006527775307741.\n",
      "[I 2025-08-24 05:18:56,815] Trial 555 finished with value: 6.345525289916259 and parameters: {'x': 0.8541176503596645, 'y': 0.9809974495607131}. Best is trial 420 with value: 0.0005006527775307741.\n",
      "[I 2025-08-24 05:18:56,821] Trial 556 finished with value: 4.219089836265436 and parameters: {'x': 1.0460508714761163, 'y': 0.8888698227740335}. Best is trial 420 with value: 0.0005006527775307741.\n",
      "[I 2025-08-24 05:18:56,827] Trial 557 finished with value: 19.815101314922952 and parameters: {'x': 0.7882909751404883, 'y': 1.0660404984262302}. Best is trial 420 with value: 0.0005006527775307741.\n",
      "[I 2025-08-24 05:18:56,834] Trial 558 finished with value: 7.5702229198701865 and parameters: {'x': 0.6841677633990135, 'y': 0.7414071872977408}. Best is trial 420 with value: 0.0005006527775307741.\n",
      "[I 2025-08-24 05:18:56,840] Trial 559 finished with value: 18.475595895470402 and parameters: {'x': 0.9200378827696881, 'y': 1.2762277999573548}. Best is trial 420 with value: 0.0005006527775307741.\n",
      "[I 2025-08-24 05:18:56,846] Trial 560 finished with value: 1.476248494646064 and parameters: {'x': 1.0114383884247231, 'y': 1.1445031961291978}. Best is trial 420 with value: 0.0005006527775307741.\n",
      "[I 2025-08-24 05:18:56,852] Trial 561 finished with value: 18.1657415275867 and parameters: {'x': 1.1237660540830636, 'y': 0.8368170060273905}. Best is trial 420 with value: 0.0005006527775307741.\n",
      "[I 2025-08-24 05:18:56,859] Trial 562 finished with value: 2.8220105262740733 and parameters: {'x': 0.8806691637858637, 'y': 0.9431422138856203}. Best is trial 420 with value: 0.0005006527775307741.\n",
      "[I 2025-08-24 05:18:56,865] Trial 563 finished with value: 0.7588062769864772 and parameters: {'x': 0.9617797556756307, 'y': 1.012045897529709}. Best is trial 420 with value: 0.0005006527775307741.\n",
      "[I 2025-08-24 05:18:56,872] Trial 564 finished with value: 2.7315138687500307 and parameters: {'x': 0.8205425483711216, 'y': 0.8375858098403526}. Best is trial 420 with value: 0.0005006527775307741.\n",
      "[I 2025-08-24 05:18:56,878] Trial 565 finished with value: 22.41338322854391 and parameters: {'x': 1.0639560452241188, 'y': 0.6586179200246608}. Best is trial 420 with value: 0.0005006527775307741.\n",
      "[I 2025-08-24 05:18:56,884] Trial 566 finished with value: 0.7059081414901346 and parameters: {'x': 0.9100256731234444, 'y': 0.9116819136584076}. Best is trial 420 with value: 0.0005006527775307741.\n",
      "[I 2025-08-24 05:18:56,891] Trial 567 finished with value: 15.063635780705551 and parameters: {'x': 1.0050368986993528, 'y': 1.3982178404538614}. Best is trial 420 with value: 0.0005006527775307741.\n",
      "[I 2025-08-24 05:18:56,897] Trial 568 finished with value: 3.6970701785598337 and parameters: {'x': 0.7419045843257257, 'y': 0.7409599921317944}. Best is trial 420 with value: 0.0005006527775307741.\n",
      "[I 2025-08-24 05:18:56,903] Trial 569 finished with value: 30.04195340974792 and parameters: {'x': 1.266007192875962, 'y': 1.055314683470335}. Best is trial 420 with value: 0.0005006527775307741.\n",
      "[I 2025-08-24 05:18:56,909] Trial 570 finished with value: 17.36551467856678 and parameters: {'x': 1.1677944808156902, 'y': 0.947362397349356}. Best is trial 420 with value: 0.0005006527775307741.\n",
      "[I 2025-08-24 05:18:56,916] Trial 571 finished with value: 0.779841054509146 and parameters: {'x': 0.9495719857979452, 'y': 0.8135224469189561}. Best is trial 420 with value: 0.0005006527775307741.\n",
      "[I 2025-08-24 05:18:56,922] Trial 572 finished with value: 15.300079535321126 and parameters: {'x': 0.8482414740753987, 'y': 1.1103722541896026}. Best is trial 420 with value: 0.0005006527775307741.\n",
      "[I 2025-08-24 05:18:56,929] Trial 573 finished with value: 25.26491400121977 and parameters: {'x': 0.618596962992133, 'y': 0.8838552365389754}. Best is trial 420 with value: 0.0005006527775307741.\n",
      "[I 2025-08-24 05:18:56,935] Trial 574 finished with value: 0.39735603803161607 and parameters: {'x': 1.0391516054258034, 'y': 1.0169215782279633}. Best is trial 420 with value: 0.0005006527775307741.\n",
      "[I 2025-08-24 05:18:56,942] Trial 575 finished with value: 0.5570146389610497 and parameters: {'x': 0.9045518021657333, 'y': 0.7441934061638633}. Best is trial 420 with value: 0.0005006527775307741.\n",
      "[I 2025-08-24 05:18:56,948] Trial 576 finished with value: 0.11141670702786059 and parameters: {'x': 1.1116127740770319, 'y': 1.2042251630504963}. Best is trial 420 with value: 0.0005006527775307741.\n",
      "[I 2025-08-24 05:18:56,954] Trial 577 finished with value: 0.08315767783095569 and parameters: {'x': 0.7703395482779664, 'y': 0.610862559413064}. Best is trial 420 with value: 0.0005006527775307741.\n",
      "[I 2025-08-24 05:18:56,961] Trial 578 finished with value: 0.13745335144628934 and parameters: {'x': 0.9919841468199819, 'y': 0.9469665122073646}. Best is trial 420 with value: 0.0005006527775307741.\n",
      "[I 2025-08-24 05:18:56,967] Trial 579 finished with value: 1.2123461797294675 and parameters: {'x': 0.8471256309380899, 'y': 0.8266619926540183}. Best is trial 420 with value: 0.0005006527775307741.\n",
      "[I 2025-08-24 05:18:56,974] Trial 580 finished with value: 0.12936225141642885 and parameters: {'x': 0.9512853045837022, 'y': 0.8693081965035792}. Best is trial 420 with value: 0.0005006527775307741.\n",
      "[I 2025-08-24 05:18:56,980] Trial 581 finished with value: 22.48115936839931 and parameters: {'x': 1.0764643565489298, 'y': 0.6846941616712843}. Best is trial 420 with value: 0.0005006527775307741.\n",
      "[I 2025-08-24 05:18:56,986] Trial 582 finished with value: 11.152197176817355 and parameters: {'x': 0.8049407882931454, 'y': 0.9813085724213926}. Best is trial 420 with value: 0.0005006527775307741.\n",
      "[I 2025-08-24 05:18:56,993] Trial 583 finished with value: 7.849955450940623 and parameters: {'x': 0.7074779397839132, 'y': 0.7791715191134977}. Best is trial 420 with value: 0.0005006527775307741.\n",
      "[I 2025-08-24 05:18:56,999] Trial 584 finished with value: 4.693428569857225 and parameters: {'x': 0.9213660560273115, 'y': 1.0654158773907918}. Best is trial 420 with value: 0.0005006527775307741.\n",
      "[I 2025-08-24 05:18:57,006] Trial 585 finished with value: 1.705038365663641 and parameters: {'x': 1.006520899250337, 'y': 1.1436598100404067}. Best is trial 420 with value: 0.0005006527775307741.\n",
      "[I 2025-08-24 05:18:57,012] Trial 586 finished with value: 84.35360054858533 and parameters: {'x': 0.01737554088139166, 'y': 0.9134724834153264}. Best is trial 420 with value: 0.0005006527775307741.\n",
      "[I 2025-08-24 05:18:57,019] Trial 587 finished with value: 28.029982446157977 and parameters: {'x': 1.1526201857898961, 'y': 0.7993198241821395}. Best is trial 420 with value: 0.0005006527775307741.\n",
      "[I 2025-08-24 05:18:57,025] Trial 588 finished with value: 7.621836577205101 and parameters: {'x': 0.86518450684186, 'y': 1.0242916036683023}. Best is trial 420 with value: 0.0005006527775307741.\n",
      "[I 2025-08-24 05:18:57,032] Trial 589 finished with value: 686.0486682896517 and parameters: {'x': 1.0435680708395285, 'y': -1.5302151353045934}. Best is trial 420 with value: 0.0005006527775307741.\n",
      "[I 2025-08-24 05:18:57,038] Trial 590 finished with value: 0.044775182073363326 and parameters: {'x': 0.950234962791805, 'y': 0.9235131135855248}. Best is trial 420 with value: 0.0005006527775307741.\n",
      "[I 2025-08-24 05:18:57,045] Trial 591 finished with value: 4.897693995539861 and parameters: {'x': 0.8035795720212465, 'y': 0.866174087183592}. Best is trial 420 with value: 0.0005006527775307741.\n",
      "[I 2025-08-24 05:18:57,051] Trial 592 finished with value: 7.962623943190926 and parameters: {'x': -0.955794348979648, 'y': 0.7101345681006269}. Best is trial 420 with value: 0.0005006527775307741.\n",
      "[I 2025-08-24 05:18:57,058] Trial 593 finished with value: 5.934251749070998 and parameters: {'x': 0.8954034453732432, 'y': 0.5583687912892233}. Best is trial 420 with value: 0.0005006527775307741.\n",
      "[I 2025-08-24 05:18:57,065] Trial 594 finished with value: 32.63108731401998 and parameters: {'x': 1.0741151154159871, 'y': 1.7249114661241973}. Best is trial 420 with value: 0.0005006527775307741.\n",
      "[I 2025-08-24 05:18:57,071] Trial 595 finished with value: 0.012746786437272619 and parameters: {'x': 0.9958211504878584, 'y': 0.9803773333230905}. Best is trial 420 with value: 0.0005006527775307741.\n",
      "[I 2025-08-24 05:18:57,078] Trial 596 finished with value: 15.521638711490018 and parameters: {'x': 1.2246952965708036, 'y': 1.1065447324137325}. Best is trial 420 with value: 0.0005006527775307741.\n",
      "[I 2025-08-24 05:18:57,084] Trial 597 finished with value: 0.3031098596646907 and parameters: {'x': 1.1373034798869797, 'y': 1.2401433902538546}. Best is trial 420 with value: 0.0005006527775307741.\n",
      "[I 2025-08-24 05:18:57,091] Trial 598 finished with value: 0.0004735290454477047 and parameters: {'x': 1.0064360749902743, 'y': 1.0108348571301007}. Best is trial 598 with value: 0.0004735290454477047.\n",
      "[I 2025-08-24 05:18:57,097] Trial 599 finished with value: 0.1710546516212435 and parameters: {'x': 1.0559506624992194, 'y': 1.1560103539480069}. Best is trial 598 with value: 0.0004735290454477047.\n",
      "[I 2025-08-24 05:18:57,104] Trial 600 finished with value: 7.04814212966965 and parameters: {'x': 1.1480842084764489, 'y': 1.053027298693476}. Best is trial 598 with value: 0.0004735290454477047.\n",
      "[I 2025-08-24 05:18:57,110] Trial 601 finished with value: 0.0005120289347623303 and parameters: {'x': 1.0147687932212417, 'y': 1.0314700889544703}. Best is trial 598 with value: 0.0004735290454477047.\n",
      "[I 2025-08-24 05:18:57,117] Trial 602 finished with value: 47.07258716377924 and parameters: {'x': 1.286892310921243, 'y': 0.970597254169629}. Best is trial 598 with value: 0.0004735290454477047.\n",
      "[I 2025-08-24 05:18:57,124] Trial 603 finished with value: 0.0006726675629636408 and parameters: {'x': 1.0065149534916817, 'y': 1.0155827757576892}. Best is trial 598 with value: 0.0004735290454477047.\n",
      "[I 2025-08-24 05:18:57,130] Trial 604 finished with value: 22.415699675830368 and parameters: {'x': 1.2235893113988399, 'y': 1.0242468397823954}. Best is trial 598 with value: 0.0004735290454477047.\n",
      "[I 2025-08-24 05:18:57,137] Trial 605 finished with value: 0.9142031355891488 and parameters: {'x': 1.1141435068984311, 'y': 1.1463855482640584}. Best is trial 598 with value: 0.0004735290454477047.\n",
      "[I 2025-08-24 05:18:57,143] Trial 606 finished with value: 0.02922126819013774 and parameters: {'x': 1.0058998576017608, 'y': 1.028918568673738}. Best is trial 598 with value: 0.0004735290454477047.\n",
      "[I 2025-08-24 05:18:57,150] Trial 607 finished with value: 97.11325391881398 and parameters: {'x': -0.27688357424452625, 'y': 1.05381763503762}. Best is trial 598 with value: 0.0004735290454477047.\n",
      "[I 2025-08-24 05:18:57,157] Trial 608 finished with value: 0.899524335699913 and parameters: {'x': 1.0653216095190998, 'y': 1.2295281756022098}. Best is trial 598 with value: 0.0004735290454477047.\n",
      "[I 2025-08-24 05:18:57,163] Trial 609 finished with value: 47.39299440484587 and parameters: {'x': 1.3480985988289924, 'y': 1.129824766221091}. Best is trial 598 with value: 0.0004735290454477047.\n",
      "[I 2025-08-24 05:18:57,170] Trial 610 finished with value: 0.4608057185167627 and parameters: {'x': 1.1828598359980402, 'y': 1.3337840026202934}. Best is trial 598 with value: 0.0004735290454477047.\n",
      "[I 2025-08-24 05:18:57,177] Trial 611 finished with value: 0.0009405886317741209 and parameters: {'x': 1.0021241993195626, 'y': 1.0073124474428372}. Best is trial 598 with value: 0.0004735290454477047.\n",
      "[I 2025-08-24 05:18:57,183] Trial 612 finished with value: 2.3420799800030543 and parameters: {'x': 1.11757531623561, 'y': 1.0963883487278685}. Best is trial 598 with value: 0.0004735290454477047.\n",
      "[I 2025-08-24 05:18:57,190] Trial 613 finished with value: 0.0050304028133471386 and parameters: {'x': 1.01302930025082, 'y': 1.0332001923013487}. Best is trial 598 with value: 0.0004735290454477047.\n",
      "[I 2025-08-24 05:18:57,197] Trial 614 finished with value: 0.688842593042807 and parameters: {'x': 1.0497088820666776, 'y': 1.1847362850368817}. Best is trial 598 with value: 0.0004735290454477047.\n",
      "[I 2025-08-24 05:18:57,203] Trial 615 finished with value: 11.25709563581221 and parameters: {'x': 1.1818826610414008, 'y': 1.0618240232413005}. Best is trial 598 with value: 0.0004735290454477047.\n",
      "[I 2025-08-24 05:18:57,210] Trial 616 finished with value: 1.9959382538360222 and parameters: {'x': 1.0157444312307304, 'y': 1.1730056550976338}. Best is trial 598 with value: 0.0004735290454477047.\n",
      "[I 2025-08-24 05:18:57,217] Trial 617 finished with value: 5.32831995281549 and parameters: {'x': 1.1218527289335087, 'y': 1.0280438522296351}. Best is trial 598 with value: 0.0004735290454477047.\n",
      "[I 2025-08-24 05:18:57,224] Trial 618 finished with value: 0.6405639680869947 and parameters: {'x': 1.0091133325926271, 'y': 1.09833976957535}. Best is trial 598 with value: 0.0004735290454477047.\n",
      "[I 2025-08-24 05:18:57,230] Trial 619 finished with value: 6.2283915995054615 and parameters: {'x': 1.226102372689482, 'y': 1.2547858985883344}. Best is trial 598 with value: 0.0004735290454477047.\n",
      "[I 2025-08-24 05:18:57,237] Trial 620 finished with value: 4.844287879553576 and parameters: {'x': 1.1115536598748952, 'y': 1.0157369882955956}. Best is trial 598 with value: 0.0004735290454477047.\n",
      "[I 2025-08-24 05:18:57,244] Trial 621 finished with value: 0.019564110479631355 and parameters: {'x': 1.0041193725905324, 'y': 0.994274605282107}. Best is trial 598 with value: 0.0004735290454477047.\n",
      "[I 2025-08-24 05:18:57,250] Trial 622 finished with value: 0.9227974452322502 and parameters: {'x': 1.0154167195573858, 'y': 1.1271210893691905}. Best is trial 598 with value: 0.0004735290454477047.\n",
      "[I 2025-08-24 05:18:57,257] Trial 623 finished with value: 48.1665440454235 and parameters: {'x': 1.3002726575908714, 'y': 0.997337652276147}. Best is trial 598 with value: 0.0004735290454477047.\n",
      "[I 2025-08-24 05:18:57,264] Trial 624 finished with value: 0.03151942640280278 and parameters: {'x': 1.0903315185553364, 'y': 1.1735389585531772}. Best is trial 598 with value: 0.0004735290454477047.\n",
      "[I 2025-08-24 05:18:57,271] Trial 625 finished with value: 0.4610907985601224 and parameters: {'x': 1.002392620471703, 'y': 1.072694211001321}. Best is trial 598 with value: 0.0004735290454477047.\n",
      "[I 2025-08-24 05:18:57,277] Trial 626 finished with value: 404.7927209558382 and parameters: {'x': 1.1737069494013483, 'y': -0.6342831330874652}. Best is trial 598 with value: 0.0004735290454477047.\n",
      "[I 2025-08-24 05:18:57,284] Trial 627 finished with value: 2.632962341223217 and parameters: {'x': 1.0784919482991344, 'y': 1.0010707835889678}. Best is trial 598 with value: 0.0004735290454477047.\n",
      "[I 2025-08-24 05:18:57,291] Trial 628 finished with value: 1.5886662523792436 and parameters: {'x': 0.988935143624579, 'y': 1.1040301659584608}. Best is trial 598 with value: 0.0004735290454477047.\n",
      "[I 2025-08-24 05:18:57,298] Trial 629 finished with value: 0.0047421206752702024 and parameters: {'x': 0.9898355617714345, 'y': 0.9865853165821832}. Best is trial 598 with value: 0.0004735290454477047.\n",
      "[I 2025-08-24 05:18:57,304] Trial 630 finished with value: 1.4376895952457094 and parameters: {'x': 1.188775815018701, 'y': 1.294779607293603}. Best is trial 598 with value: 0.0004735290454477047.\n",
      "[I 2025-08-24 05:18:57,311] Trial 631 finished with value: 0.10799528453791368 and parameters: {'x': 1.0834289332611897, 'y': 1.205604240533878}. Best is trial 598 with value: 0.0004735290454477047.\n",
      "[I 2025-08-24 05:18:57,318] Trial 632 finished with value: 0.01124904187231458 and parameters: {'x': 1.0052064434685937, 'y': 0.9998466305878164}. Best is trial 598 with value: 0.0004735290454477047.\n",
      "[I 2025-08-24 05:18:57,325] Trial 633 finished with value: 6.524349976011637 and parameters: {'x': 1.1144841742463112, 'y': 0.9869035940037892}. Best is trial 598 with value: 0.0004735290454477047.\n",
      "[I 2025-08-24 05:18:57,332] Trial 634 finished with value: 140.43707651672196 and parameters: {'x': 1.5108807889109412, 'y': 1.098800972934768}. Best is trial 598 with value: 0.0004735290454477047.\n",
      "[I 2025-08-24 05:18:57,338] Trial 635 finished with value: 0.00040621814279342126 and parameters: {'x': 0.9922244358570625, 'y': 0.9863687900252397}. Best is trial 635 with value: 0.00040621814279342126.\n",
      "[I 2025-08-24 05:18:57,345] Trial 636 finished with value: 21.272545338620294 and parameters: {'x': 1.2306654231611898, 'y': 1.0538928483450811}. Best is trial 635 with value: 0.00040621814279342126.\n",
      "[I 2025-08-24 05:18:57,352] Trial 637 finished with value: 1.4850732211923612 and parameters: {'x': 1.0470459291801368, 'y': 0.9745324426976493}. Best is trial 635 with value: 0.00040621814279342126.\n",
      "[I 2025-08-24 05:18:57,359] Trial 638 finished with value: 3.826377707733011 and parameters: {'x': 1.1639988616832893, 'y': 1.1599707478959889}. Best is trial 635 with value: 0.00040621814279342126.\n",
      "[I 2025-08-24 05:18:57,366] Trial 639 finished with value: 0.02424699513921833 and parameters: {'x': 1.0005396638514397, 'y': 0.9855082657867587}. Best is trial 635 with value: 0.00040621814279342126.\n",
      "[I 2025-08-24 05:18:57,373] Trial 640 finished with value: 0.7109609814903971 and parameters: {'x': 1.0779291069617567, 'y': 1.0779735491537386}. Best is trial 635 with value: 0.00040621814279342126.\n",
      "[I 2025-08-24 05:18:57,379] Trial 641 finished with value: 0.012396625086928592 and parameters: {'x': 0.9998246294335171, 'y': 1.0107832890524846}. Best is trial 635 with value: 0.00040621814279342126.\n",
      "[I 2025-08-24 05:18:57,386] Trial 642 finished with value: 15.87645865037611 and parameters: {'x': 1.278009307924229, 'y': 1.2358261000521367}. Best is trial 635 with value: 0.00040621814279342126.\n",
      "[I 2025-08-24 05:18:57,393] Trial 643 finished with value: 2.554386803759865 and parameters: {'x': 1.1373696044531436, 'y': 1.1343765679408309}. Best is trial 635 with value: 0.00040621814279342126.\n",
      "[I 2025-08-24 05:18:57,400] Trial 644 finished with value: 0.009052623532775297 and parameters: {'x': 1.0053083370403955, 'y': 1.0201445604608785}. Best is trial 635 with value: 0.00040621814279342126.\n",
      "[I 2025-08-24 05:18:57,407] Trial 645 finished with value: 0.5890337887313062 and parameters: {'x': 1.064156184045724, 'y': 1.0559484668892978}. Best is trial 635 with value: 0.00040621814279342126.\n",
      "[I 2025-08-24 05:18:57,414] Trial 646 finished with value: 3.2100445456962046 and parameters: {'x': 1.1584856400300056, 'y': 1.163625344672591}. Best is trial 635 with value: 0.00040621814279342126.\n",
      "[I 2025-08-24 05:18:57,421] Trial 647 finished with value: 0.26704746534151125 and parameters: {'x': 1.018592938634769, 'y': 1.0891747511437226}. Best is trial 635 with value: 0.00040621814279342126.\n",
      "[I 2025-08-24 05:18:57,428] Trial 648 finished with value: 2.7353035754456667 and parameters: {'x': 1.080253787991195, 'y': 1.0017555436959065}. Best is trial 635 with value: 0.00040621814279342126.\n",
      "[I 2025-08-24 05:18:57,437] Trial 649 finished with value: 95.08836215117512 and parameters: {'x': 0.22349135061989023, 'y': 1.0219843732005103}. Best is trial 635 with value: 0.00040621814279342126.\n",
      "[I 2025-08-24 05:18:57,444] Trial 650 finished with value: 3.376899261812747 and parameters: {'x': 0.975140280039632, 'y': 1.1346451645307218}. Best is trial 635 with value: 0.00040621814279342126.\n",
      "[I 2025-08-24 05:18:57,451] Trial 651 finished with value: 57.108155393147584 and parameters: {'x': 1.4070402643386486, 'y': 1.2251599358982603}. Best is trial 635 with value: 0.00040621814279342126.\n",
      "[I 2025-08-24 05:18:57,458] Trial 652 finished with value: 29.829920023033697 and parameters: {'x': 1.2299769666399254, 'y': 0.9671599997247023}. Best is trial 635 with value: 0.00040621814279342126.\n",
      "[I 2025-08-24 05:18:57,465] Trial 653 finished with value: 7.726959095863527 and parameters: {'x': 1.1548723920872825, 'y': 1.0561879274291794}. Best is trial 635 with value: 0.00040621814279342126.\n",
      "[I 2025-08-24 05:18:57,472] Trial 654 finished with value: 0.02498168420702468 and parameters: {'x': 0.9959929419695426, 'y': 0.97620142536883}. Best is trial 635 with value: 0.00040621814279342126.\n",
      "[I 2025-08-24 05:18:57,479] Trial 655 finished with value: 2.343890267982728 and parameters: {'x': 1.0881091760946684, 'y': 1.3368255204622272}. Best is trial 635 with value: 0.00040621814279342126.\n",
      "[I 2025-08-24 05:18:57,486] Trial 656 finished with value: 0.896603646253725 and parameters: {'x': 0.9839535227054313, 'y': 1.0628400943526852}. Best is trial 635 with value: 0.00040621814279342126.\n",
      "[I 2025-08-24 05:18:57,493] Trial 657 finished with value: 0.48309193701345193 and parameters: {'x': 1.0326432388267293, 'y': 1.1357801766275932}. Best is trial 635 with value: 0.00040621814279342126.\n",
      "[I 2025-08-24 05:18:57,500] Trial 658 finished with value: 35.871660945227426 and parameters: {'x': 1.130069294674532, 'y': 1.8758449116189273}. Best is trial 635 with value: 0.00040621814279342126.\n",
      "[I 2025-08-24 05:18:57,507] Trial 659 finished with value: 0.32520914874831613 and parameters: {'x': 0.9553529753925233, 'y': 0.969551378085043}. Best is trial 635 with value: 0.00040621814279342126.\n",
      "[I 2025-08-24 05:18:57,515] Trial 660 finished with value: 1.2163953507642038 and parameters: {'x': 1.05014890108697, 'y': 1.21298895683355}. Best is trial 635 with value: 0.00040621814279342126.\n",
      "[I 2025-08-24 05:18:57,522] Trial 661 finished with value: 0.00047399852772839966 and parameters: {'x': 0.9782794742334742, 'y': 0.9568818240936638}. Best is trial 635 with value: 0.00040621814279342126.\n",
      "[I 2025-08-24 05:18:57,529] Trial 662 finished with value: 0.01688836082406605 and parameters: {'x': 0.966244765156626, 'y': 0.9461784262394757}. Best is trial 635 with value: 0.00040621814279342126.\n",
      "[I 2025-08-24 05:18:57,536] Trial 663 finished with value: 928.104627081265 and parameters: {'x': 1.9970547323320718, 'y': 0.9433786603171213}. Best is trial 635 with value: 0.00040621814279342126.\n",
      "[I 2025-08-24 05:18:57,543] Trial 664 finished with value: 2.294960589900774 and parameters: {'x': 0.9532508475989674, 'y': 1.0601063022948607}. Best is trial 635 with value: 0.00040621814279342126.\n",
      "[I 2025-08-24 05:18:57,550] Trial 665 finished with value: 7.393113618023258 and parameters: {'x': 1.1007120634385585, 'y': 0.9398508214983997}. Best is trial 635 with value: 0.00040621814279342126.\n",
      "[I 2025-08-24 05:18:57,557] Trial 666 finished with value: 10.731754810866818 and parameters: {'x': 1.199242662113434, 'y': 1.1111958501581158}. Best is trial 635 with value: 0.00040621814279342126.\n",
      "[I 2025-08-24 05:18:57,564] Trial 667 finished with value: 1.192295425346069 and parameters: {'x': 0.9614732429396982, 'y': 1.0335550890670502}. Best is trial 635 with value: 0.00040621814279342126.\n",
      "[I 2025-08-24 05:18:57,571] Trial 668 finished with value: 207.45944422120033 and parameters: {'x': -1.539258776803154, 'y': 0.9515319525926511}. Best is trial 635 with value: 0.00040621814279342126.\n",
      "[I 2025-08-24 05:18:57,578] Trial 669 finished with value: 0.2539301488687852 and parameters: {'x': 1.0328797972972166, 'y': 1.0165565760110238}. Best is trial 635 with value: 0.00040621814279342126.\n",
      "[I 2025-08-24 05:18:57,585] Trial 670 finished with value: 7.876915929285782 and parameters: {'x': 0.9297011343261936, 'y': 1.1449145824720421}. Best is trial 635 with value: 0.00040621814279342126.\n",
      "[I 2025-08-24 05:18:57,592] Trial 671 finished with value: 19.064994179210153 and parameters: {'x': -0.7290673842412673, 'y': 0.9324796473318139}. Best is trial 635 with value: 0.00040621814279342126.\n",
      "[I 2025-08-24 05:18:57,599] Trial 672 finished with value: 0.8378882689308416 and parameters: {'x': 1.076773662612349, 'y': 1.0682278113472656}. Best is trial 635 with value: 0.00040621814279342126.\n",
      "[I 2025-08-24 05:18:57,606] Trial 673 finished with value: 0.06376276724003624 and parameters: {'x': 1.0001955357917491, 'y': 0.9751398268788931}. Best is trial 635 with value: 0.00040621814279342126.\n",
      "[I 2025-08-24 05:18:57,614] Trial 674 finished with value: 19.342374740216663 and parameters: {'x': 0.9059732613904754, 'y': 1.2604866942317954}. Best is trial 635 with value: 0.00040621814279342126.\n",
      "[I 2025-08-24 05:18:57,621] Trial 675 finished with value: 65.80480938345767 and parameters: {'x': 1.317948941983423, 'y': 0.9264111148431539}. Best is trial 635 with value: 0.00040621814279342126.\n",
      "[I 2025-08-24 05:18:57,629] Trial 676 finished with value: 0.9939857091896083 and parameters: {'x': 1.0992336286009714, 'y': 1.109110820512468}. Best is trial 635 with value: 0.00040621814279342126.\n",
      "[I 2025-08-24 05:18:57,636] Trial 677 finished with value: 0.3380361994940725 and parameters: {'x': 0.9787806800674057, 'y': 1.0161137659292399}. Best is trial 635 with value: 0.00040621814279342126.\n",
      "[I 2025-08-24 05:18:57,643] Trial 678 finished with value: 372.20830470757073 and parameters: {'x': 1.7637230149411127, 'y': 1.1829610259219798}. Best is trial 635 with value: 0.00040621814279342126.\n",
      "[I 2025-08-24 05:18:57,650] Trial 679 finished with value: 27.719767488434652 and parameters: {'x': 1.202431254808964, 'y': 0.919734573259196}. Best is trial 635 with value: 0.00040621814279342126.\n",
      "[I 2025-08-24 05:18:57,658] Trial 680 finished with value: 7.180301703786908 and parameters: {'x': 0.8724035600061348, 'y': 1.0287448573239382}. Best is trial 635 with value: 0.00040621814279342126.\n",
      "[I 2025-08-24 05:18:57,665] Trial 681 finished with value: 0.08905196544052836 and parameters: {'x': 1.0362732832609356, 'y': 1.1034826171198167}. Best is trial 635 with value: 0.00040621814279342126.\n",
      "[I 2025-08-24 05:18:57,672] Trial 682 finished with value: 8.610389016350958 and parameters: {'x': 1.1175749975681264, 'y': 0.9557748790059556}. Best is trial 635 with value: 0.00040621814279342126.\n",
      "[I 2025-08-24 05:18:57,679] Trial 683 finished with value: 3.379656127725962 and parameters: {'x': 0.9249382957873288, 'y': 1.039195958420275}. Best is trial 635 with value: 0.00040621814279342126.\n",
      "[I 2025-08-24 05:18:57,687] Trial 684 finished with value: 1.6232696706900052 and parameters: {'x': 1.019506505270458, 'y': 0.9120008470374}. Best is trial 635 with value: 0.00040621814279342126.\n",
      "[I 2025-08-24 05:18:57,694] Trial 685 finished with value: 4.251474830865982 and parameters: {'x': 1.1670258480509823, 'y': 1.1564358950094091}. Best is trial 635 with value: 0.00040621814279342126.\n",
      "[I 2025-08-24 05:18:57,701] Trial 686 finished with value: 43.3907792797519 and parameters: {'x': 0.8991774645742326, 'y': 1.467159726669815}. Best is trial 635 with value: 0.00040621814279342126.\n",
      "[I 2025-08-24 05:18:57,709] Trial 687 finished with value: 0.08901317792116284 and parameters: {'x': 0.9851083179085633, 'y': 1.0002362864824033}. Best is trial 635 with value: 0.00040621814279342126.\n",
      "[I 2025-08-24 05:18:57,716] Trial 688 finished with value: 0.29028352430265164 and parameters: {'x': 1.0702411588687986, 'y': 1.0919980041462616}. Best is trial 635 with value: 0.00040621814279342126.\n",
      "[I 2025-08-24 05:18:57,723] Trial 689 finished with value: 3.3172657458297494 and parameters: {'x': 0.8489640255052879, 'y': 0.9022462217333475}. Best is trial 635 with value: 0.00040621814279342126.\n",
      "[I 2025-08-24 05:18:57,730] Trial 690 finished with value: 89.344438461974 and parameters: {'x': 0.9486760179219018, 'y': -0.04522174945942736}. Best is trial 635 with value: 0.00040621814279342126.\n",
      "[I 2025-08-24 05:18:57,738] Trial 691 finished with value: 0.2449748076097939 and parameters: {'x': 1.1241585208033618, 'y': 1.2158200151731864}. Best is trial 635 with value: 0.00040621814279342126.\n",
      "[I 2025-08-24 05:18:57,745] Trial 692 finished with value: 0.9371605413785774 and parameters: {'x': 1.0424695574327965, 'y': 0.9900289281799317}. Best is trial 635 with value: 0.00040621814279342126.\n",
      "[I 2025-08-24 05:18:57,752] Trial 693 finished with value: 46.683774313032515 and parameters: {'x': 1.2605831429946246, 'y': 0.9063116986888543}. Best is trial 635 with value: 0.00040621814279342126.\n",
      "[I 2025-08-24 05:18:57,760] Trial 694 finished with value: 9.09043159855687 and parameters: {'x': 0.8750925669387787, 'y': 1.0670315812722626}. Best is trial 635 with value: 0.00040621814279342126.\n",
      "[I 2025-08-24 05:18:57,767] Trial 695 finished with value: 0.28569338298937347 and parameters: {'x': 0.9666000196206126, 'y': 0.9876614341598405}. Best is trial 635 with value: 0.00040621814279342126.\n",
      "[I 2025-08-24 05:18:57,774] Trial 696 finished with value: 0.4723631550216142 and parameters: {'x': 1.1648302862878277, 'y': 1.2901067263299661}. Best is trial 635 with value: 0.00040621814279342126.\n",
      "[I 2025-08-24 05:18:57,782] Trial 697 finished with value: 0.007815845604155207 and parameters: {'x': 1.057483165405789, 'y': 1.1249874384729193}. Best is trial 635 with value: 0.00040621814279342126.\n",
      "[I 2025-08-24 05:18:57,789] Trial 698 finished with value: 9.781034198223994 and parameters: {'x': 1.2285266784554651, 'y': 1.1973673997947667}. Best is trial 635 with value: 0.00040621814279342126.\n",
      "[I 2025-08-24 05:18:57,796] Trial 699 finished with value: 1.620990407607301 and parameters: {'x': 1.0985254187362934, 'y': 1.3336944241162145}. Best is trial 635 with value: 0.00040621814279342126.\n",
      "[I 2025-08-24 05:18:57,803] Trial 700 finished with value: 0.2271084621479793 and parameters: {'x': 1.047138580413718, 'y': 1.1439213972176676}. Best is trial 635 with value: 0.00040621814279342126.\n",
      "[I 2025-08-24 05:18:57,810] Trial 701 finished with value: 6.853111735838498 and parameters: {'x': 0.9306104652834304, 'y': 1.1277283452157152}. Best is trial 635 with value: 0.00040621814279342126.\n",
      "[I 2025-08-24 05:18:57,818] Trial 702 finished with value: 0.861746722383299 and parameters: {'x': 1.149096950470755, 'y': 1.2287986510086732}. Best is trial 635 with value: 0.00040621814279342126.\n",
      "[I 2025-08-24 05:18:57,825] Trial 703 finished with value: 10.438558623465378 and parameters: {'x': 0.8609705188556444, 'y': 1.0640585461907388}. Best is trial 635 with value: 0.00040621814279342126.\n",
      "[I 2025-08-24 05:18:57,832] Trial 704 finished with value: 0.008319918580469196 and parameters: {'x': 1.0503643923323873, 'y': 1.0956605249489324}. Best is trial 635 with value: 0.00040621814279342126.\n",
      "[I 2025-08-24 05:18:57,839] Trial 705 finished with value: 10.759356427984432 and parameters: {'x': 1.2411633050235396, 'y': 1.213359513658126}. Best is trial 635 with value: 0.00040621814279342126.\n",
      "[I 2025-08-24 05:18:57,847] Trial 706 finished with value: 0.06055160132347494 and parameters: {'x': 1.1426162061566667, 'y': 1.2855188099897643}. Best is trial 635 with value: 0.00040621814279342126.\n",
      "[I 2025-08-24 05:18:57,854] Trial 707 finished with value: 0.16559016018083725 and parameters: {'x': 1.0850585285969667, 'y': 1.1375581407403426}. Best is trial 635 with value: 0.00040621814279342126.\n",
      "[I 2025-08-24 05:18:57,861] Trial 708 finished with value: 0.026117089935575183 and parameters: {'x': 1.0445743501086744, 'y': 1.0756016689371977}. Best is trial 635 with value: 0.00040621814279342126.\n",
      "[I 2025-08-24 05:18:57,869] Trial 709 finished with value: 25.781579969844934 and parameters: {'x': 1.3759649972378867, 'y': 1.3869178435981648}. Best is trial 635 with value: 0.00040621814279342126.\n",
      "[I 2025-08-24 05:18:57,876] Trial 710 finished with value: 8.253505851632287 and parameters: {'x': 1.2003375583495788, 'y': 1.1542204650118386}. Best is trial 635 with value: 0.00040621814279342126.\n",
      "[I 2025-08-24 05:18:57,883] Trial 711 finished with value: 0.6839029512409351 and parameters: {'x': 0.9929326249872198, 'y': 1.0686106029236304}. Best is trial 635 with value: 0.00040621814279342126.\n",
      "[I 2025-08-24 05:18:57,891] Trial 712 finished with value: 0.22259473051410528 and parameters: {'x': 1.0959234568669267, 'y': 1.1548536975600654}. Best is trial 635 with value: 0.00040621814279342126.\n",
      "[I 2025-08-24 05:18:57,898] Trial 713 finished with value: 0.07808173468579128 and parameters: {'x': 1.0268150877956066, 'y': 1.0265350760113428}. Best is trial 635 with value: 0.00040621814279342126.\n",
      "[I 2025-08-24 05:18:57,905] Trial 714 finished with value: 11.622436383538856 and parameters: {'x': 0.9592126457633499, 'y': 1.2609814455493902}. Best is trial 635 with value: 0.00040621814279342126.\n",
      "[I 2025-08-24 05:18:57,913] Trial 715 finished with value: 40.10705056445613 and parameters: {'x': 1.314491237604361, 'y': 1.0953672865748736}. Best is trial 635 with value: 0.00040621814279342126.\n",
      "[I 2025-08-24 05:18:57,920] Trial 716 finished with value: 11.725800459268044 and parameters: {'x': 1.1420311652269741, 'y': 0.9621003024065164}. Best is trial 635 with value: 0.00040621814279342126.\n",
      "[I 2025-08-24 05:18:57,927] Trial 717 finished with value: 1.0907575435928336 and parameters: {'x': 1.0445636577402393, 'y': 1.1954574550362467}. Best is trial 635 with value: 0.00040621814279342126.\n",
      "[I 2025-08-24 05:18:57,935] Trial 718 finished with value: 1.4900520374724302 and parameters: {'x': 0.9524695795329376, 'y': 1.0291734161111503}. Best is trial 635 with value: 0.00040621814279342126.\n",
      "[I 2025-08-24 05:18:57,942] Trial 719 finished with value: 21.053511820501488 and parameters: {'x': 1.170126846094585, 'y': 0.9106712785748}. Best is trial 635 with value: 0.00040621814279342126.\n",
      "[I 2025-08-24 05:18:57,949] Trial 720 finished with value: 7.834758461637091 and parameters: {'x': 0.9018362871744302, 'y': 1.0930428903330516}. Best is trial 635 with value: 0.00040621814279342126.\n",
      "[I 2025-08-24 05:18:57,957] Trial 721 finished with value: 1.3465696873632558 and parameters: {'x': 1.0554209039676128, 'y': 0.998003914299434}. Best is trial 635 with value: 0.00040621814279342126.\n",
      "[I 2025-08-24 05:18:57,964] Trial 722 finished with value: 0.17615743227019923 and parameters: {'x': 0.9962780918016605, 'y': 0.9506005735353029}. Best is trial 635 with value: 0.00040621814279342126.\n",
      "[I 2025-08-24 05:18:57,972] Trial 723 finished with value: 18.631212770974408 and parameters: {'x': 0.831994430091489, 'y': 1.1235265319064802}. Best is trial 635 with value: 0.00040621814279342126.\n",
      "[I 2025-08-24 05:18:57,979] Trial 724 finished with value: 1.9110059437756315 and parameters: {'x': 1.0974744290008165, 'y': 1.0665550651307028}. Best is trial 635 with value: 0.00040621814279342126.\n",
      "[I 2025-08-24 05:18:57,986] Trial 725 finished with value: 0.023401855582274533 and parameters: {'x': 0.9375357430146232, 'y': 0.8929375353188636}. Best is trial 635 with value: 0.00040621814279342126.\n",
      "[I 2025-08-24 05:18:57,994] Trial 726 finished with value: 15.36771288814015 and parameters: {'x': 1.2612972166126142, 'y': 1.1997257255160592}. Best is trial 635 with value: 0.00040621814279342126.\n",
      "[I 2025-08-24 05:18:58,001] Trial 727 finished with value: 2.1178327550225048e-05 and parameters: {'x': 1.0027055974700587, 'y': 1.0057907794840175}. Best is trial 727 with value: 2.1178327550225048e-05.\n",
      "[I 2025-08-24 05:18:58,008] Trial 728 finished with value: 6.394379365424699 and parameters: {'x': 1.139988008095203, 'y': 1.0470893379039512}. Best is trial 727 with value: 2.1178327550225048e-05.\n",
      "[I 2025-08-24 05:18:58,016] Trial 729 finished with value: 2.2285439396133193 and parameters: {'x': 1.0558469076452466, 'y': 1.2639912787334044}. Best is trial 727 with value: 2.1178327550225048e-05.\n",
      "[I 2025-08-24 05:18:58,023] Trial 730 finished with value: 10.06760443221483 and parameters: {'x': 1.2176526784499073, 'y': 1.1661305489983471}. Best is trial 727 with value: 2.1178327550225048e-05.\n",
      "[I 2025-08-24 05:18:58,031] Trial 731 finished with value: 0.1172645412005563 and parameters: {'x': 0.9818622871853271, 'y': 0.9982493935181388}. Best is trial 727 with value: 2.1178327550225048e-05.\n",
      "[I 2025-08-24 05:18:58,038] Trial 732 finished with value: 1.846937165661974 and parameters: {'x': 1.1180961868682506, 'y': 1.114751105177354}. Best is trial 727 with value: 2.1178327550225048e-05.\n",
      "[I 2025-08-24 05:18:58,045] Trial 733 finished with value: 5.667832644263496 and parameters: {'x': 0.8875326424895471, 'y': 1.0255204937087488}. Best is trial 727 with value: 2.1178327550225048e-05.\n",
      "[I 2025-08-24 05:18:58,053] Trial 734 finished with value: 1.6365114041085473 and parameters: {'x': 1.0467830417558242, 'y': 0.967914103252236}. Best is trial 727 with value: 2.1178327550225048e-05.\n",
      "[I 2025-08-24 05:18:58,060] Trial 735 finished with value: 1.0257497038263348 and parameters: {'x': 0.9966991473562098, 'y': 1.0946879545608486}. Best is trial 727 with value: 2.1178327550225048e-05.\n",
      "[I 2025-08-24 05:18:58,068] Trial 736 finished with value: 5.174299860767182 and parameters: {'x': 0.8314413920756397, 'y': 0.9181402833747339}. Best is trial 727 with value: 2.1178327550225048e-05.\n",
      "[I 2025-08-24 05:18:58,075] Trial 737 finished with value: 2.9503418700092103 and parameters: {'x': 1.169024940036472, 'y': 1.195687381295974}. Best is trial 727 with value: 2.1178327550225048e-05.\n",
      "[I 2025-08-24 05:18:58,083] Trial 738 finished with value: 2.717116227872132 and parameters: {'x': 0.9196997491036573, 'y': 1.0104886956011918}. Best is trial 727 with value: 2.1178327550225048e-05.\n",
      "[I 2025-08-24 05:18:58,090] Trial 739 finished with value: 4.421639767100384 and parameters: {'x': 1.0796351496402021, 'y': 1.3757381615716975}. Best is trial 727 with value: 2.1178327550225048e-05.\n",
      "[I 2025-08-24 05:18:58,098] Trial 740 finished with value: 1.2038515045454736 and parameters: {'x': 0.9991967693863723, 'y': 1.1081143215462281}. Best is trial 727 with value: 2.1178327550225048e-05.\n",
      "[I 2025-08-24 05:18:58,105] Trial 741 finished with value: 16.611325993577598 and parameters: {'x': -1.1116491405824693, 'y': 0.8871628378541273}. Best is trial 727 with value: 2.1178327550225048e-05.\n",
      "[I 2025-08-24 05:18:58,113] Trial 742 finished with value: 5.007277305540471 and parameters: {'x': 0.9006147166316257, 'y': 1.0346555173506562}. Best is trial 727 with value: 2.1178327550225048e-05.\n",
      "[I 2025-08-24 05:18:58,120] Trial 743 finished with value: 5.5129398335387885 and parameters: {'x': 1.0938312807955142, 'y': 0.961857929749382}. Best is trial 727 with value: 2.1178327550225048e-05.\n",
      "[I 2025-08-24 05:18:58,128] Trial 744 finished with value: 6.963586341372376 and parameters: {'x': 1.016581269308237, 'y': 1.2973183480118755}. Best is trial 727 with value: 2.1178327550225048e-05.\n",
      "[I 2025-08-24 05:18:58,135] Trial 745 finished with value: 27.931697577272352 and parameters: {'x': 0.7985034692304046, 'y': 1.165728010828147}. Best is trial 727 with value: 2.1178327550225048e-05.\n",
      "[I 2025-08-24 05:18:58,143] Trial 746 finished with value: 36.86683874792467 and parameters: {'x': 1.224266902987087, 'y': 0.8920630770479641}. Best is trial 727 with value: 2.1178327550225048e-05.\n",
      "[I 2025-08-24 05:18:58,150] Trial 747 finished with value: 4.248664739999608 and parameters: {'x': 0.926784648025067, 'y': 1.0649226053460579}. Best is trial 727 with value: 2.1178327550225048e-05.\n",
      "[I 2025-08-24 05:18:58,158] Trial 748 finished with value: 0.03684885921661942 and parameters: {'x': 0.9889932485725319, 'y': 0.9589431706080184}. Best is trial 727 with value: 2.1178327550225048e-05.\n",
      "[I 2025-08-24 05:18:58,165] Trial 749 finished with value: 5.685833093408856 and parameters: {'x': 1.1203018144208683, 'y': 1.0169299698939367}. Best is trial 727 with value: 2.1178327550225048e-05.\n",
      "[I 2025-08-24 05:18:58,173] Trial 750 finished with value: 395.013000489803 and parameters: {'x': 0.8776986174885596, 'y': -1.2171009045718517}. Best is trial 727 with value: 2.1178327550225048e-05.\n",
      "[I 2025-08-24 05:18:58,181] Trial 751 finished with value: 0.044243141217915984 and parameters: {'x': 1.046486949678434, 'y': 1.1156488591013731}. Best is trial 727 with value: 2.1178327550225048e-05.\n",
      "[I 2025-08-24 05:18:58,188] Trial 752 finished with value: 0.012945125243620566 and parameters: {'x': 0.9558817215259943, 'y': 0.9032223955246041}. Best is trial 727 with value: 2.1178327550225048e-05.\n",
      "[I 2025-08-24 05:18:58,196] Trial 753 finished with value: 274.4751007552836 and parameters: {'x': 0.8256831487135292, 'y': -0.9748846379773303}. Best is trial 727 with value: 2.1178327550225048e-05.\n",
      "[I 2025-08-24 05:18:58,203] Trial 754 finished with value: 19.809615360495417 and parameters: {'x': 1.1526862696101658, 'y': 0.8838676704183573}. Best is trial 727 with value: 2.1178327550225048e-05.\n",
      "[I 2025-08-24 05:18:58,211] Trial 755 finished with value: 0.025947019854649332 and parameters: {'x': 0.9409868444276348, 'y': 0.8704680902910825}. Best is trial 727 with value: 2.1178327550225048e-05.\n",
      "[I 2025-08-24 05:18:58,218] Trial 756 finished with value: 51.459604566931205 and parameters: {'x': -0.5955048651794962, 'y': 1.0540112658585057}. Best is trial 727 with value: 2.1178327550225048e-05.\n",
      "[I 2025-08-24 05:18:58,226] Trial 757 finished with value: 0.33415556672572005 and parameters: {'x': 1.0684344069580143, 'y': 1.1989517595553152}. Best is trial 727 with value: 2.1178327550225048e-05.\n",
      "[I 2025-08-24 05:18:58,233] Trial 758 finished with value: 49.01670774046375 and parameters: {'x': 1.2926793926039042, 'y': 0.9715127103596016}. Best is trial 727 with value: 2.1178327550225048e-05.\n",
      "[I 2025-08-24 05:18:58,241] Trial 759 finished with value: 16.811666135763197 and parameters: {'x': 0.842258151758224, 'y': 1.1191155700993645}. Best is trial 727 with value: 2.1178327550225048e-05.\n",
      "[I 2025-08-24 05:18:58,249] Trial 760 finished with value: 1.4815499582320273 and parameters: {'x': 1.0033993291795642, 'y': 0.8850917516489419}. Best is trial 727 with value: 2.1178327550225048e-05.\n",
      "[I 2025-08-24 05:18:58,256] Trial 761 finished with value: 20.031209972322202 and parameters: {'x': 0.7493188879551742, 'y': 1.0083386055449708}. Best is trial 727 with value: 2.1178327550225048e-05.\n",
      "[I 2025-08-24 05:18:58,264] Trial 762 finished with value: 4.488260277607839 and parameters: {'x': 1.2084954335583225, 'y': 1.2496345084607225}. Best is trial 727 with value: 2.1178327550225048e-05.\n",
      "[I 2025-08-24 05:18:58,272] Trial 763 finished with value: 0.4359243288498757 and parameters: {'x': 0.9433546898847189, 'y': 0.9556991957044254}. Best is trial 727 with value: 2.1178327550225048e-05.\n",
      "[I 2025-08-24 05:18:58,279] Trial 764 finished with value: 1.017501190175702 and parameters: {'x': 1.0783170291639526, 'y': 1.0622008399012852}. Best is trial 727 with value: 2.1178327550225048e-05.\n",
      "[I 2025-08-24 05:18:58,287] Trial 765 finished with value: 0.6401025522015157 and parameters: {'x': 0.885921608711446, 'y': 0.8640460273746386}. Best is trial 727 with value: 2.1178327550225048e-05.\n",
      "[I 2025-08-24 05:18:58,295] Trial 766 finished with value: 1.380930582254584 and parameters: {'x': 1.0193439036105096, 'y': 1.1565590744575043}. Best is trial 727 with value: 2.1178327550225048e-05.\n",
      "[I 2025-08-24 05:18:58,302] Trial 767 finished with value: 406.90168597258855 and parameters: {'x': 1.1306789039279805, 'y': -0.7387033101380099}. Best is trial 727 with value: 2.1178327550225048e-05.\n",
      "[I 2025-08-24 05:18:58,310] Trial 768 finished with value: 1.0845868799288552 and parameters: {'x': 0.9619386070750569, 'y': 1.0293998099252504}. Best is trial 727 with value: 2.1178327550225048e-05.\n",
      "[I 2025-08-24 05:18:58,317] Trial 769 finished with value: 9.19520730697191 and parameters: {'x': 0.7902627075802187, 'y': 0.927024941463872}. Best is trial 727 with value: 2.1178327550225048e-05.\n",
      "[I 2025-08-24 05:18:58,325] Trial 770 finished with value: 0.0025709984188421096 and parameters: {'x': 1.0458120854557875, 'y': 1.0915497838395676}. Best is trial 727 with value: 2.1178327550225048e-05.\n",
      "[I 2025-08-24 05:18:58,333] Trial 771 finished with value: 1.7162933027395473 and parameters: {'x': 1.1931712360850193, 'y': 1.294082208353483}. Best is trial 727 with value: 2.1178327550225048e-05.\n",
      "[I 2025-08-24 05:18:58,341] Trial 772 finished with value: 26.44013192831195 and parameters: {'x': 1.304434514938141, 'y': 1.1882517166988666}. Best is trial 727 with value: 2.1178327550225048e-05.\n",
      "[I 2025-08-24 05:18:58,348] Trial 773 finished with value: 0.8950812298159045 and parameters: {'x': 1.0955533770440289, 'y': 1.1061122434159911}. Best is trial 727 with value: 2.1178327550225048e-05.\n",
      "[I 2025-08-24 05:18:58,356] Trial 774 finished with value: 4.334562580886009 and parameters: {'x': 1.1542376081145371, 'y': 1.124640436635385}. Best is trial 727 with value: 2.1178327550225048e-05.\n",
      "[I 2025-08-24 05:18:58,364] Trial 775 finished with value: 1.3000463480932487 and parameters: {'x': 1.057830631472515, 'y': 1.2328784671947124}. Best is trial 727 with value: 2.1178327550225048e-05.\n",
      "[I 2025-08-24 05:18:58,371] Trial 776 finished with value: 0.113503225803044 and parameters: {'x': 1.0390041566152253, 'y': 1.0460659404817951}. Best is trial 727 with value: 2.1178327550225048e-05.\n",
      "[I 2025-08-24 05:18:58,379] Trial 777 finished with value: 5.863058282072973 and parameters: {'x': 1.1584908749495677, 'y': 1.100482835585517}. Best is trial 727 with value: 2.1178327550225048e-05.\n",
      "[I 2025-08-24 05:18:58,387] Trial 778 finished with value: 0.00050903523729749 and parameters: {'x': 1.022292712672822, 'y': 1.044734968464895}. Best is trial 727 with value: 2.1178327550225048e-05.\n",
      "[I 2025-08-24 05:18:58,395] Trial 779 finished with value: 0.40637457094532853 and parameters: {'x': 1.1064901011574204, 'y': 1.161468579521054}. Best is trial 727 with value: 2.1178327550225048e-05.\n",
      "[I 2025-08-24 05:18:58,402] Trial 780 finished with value: 7.495594364411575 and parameters: {'x': 1.2691741702085126, 'y': 1.338348681250981}. Best is trial 727 with value: 2.1178327550225048e-05.\n",
      "[I 2025-08-24 05:18:58,410] Trial 781 finished with value: 6.433460597684794 and parameters: {'x': 1.204356338861499, 'y': 1.1976560926232602}. Best is trial 727 with value: 2.1178327550225048e-05.\n",
      "[I 2025-08-24 05:18:58,418] Trial 782 finished with value: 160.70076889486816 and parameters: {'x': 1.0234653229889947, 'y': -0.22019463078289647}. Best is trial 727 with value: 2.1178327550225048e-05.\n",
      "[I 2025-08-24 05:18:58,426] Trial 783 finished with value: 5.917005698498276 and parameters: {'x': 1.1329800306021884, 'y': 1.0407585503186012}. Best is trial 727 with value: 2.1178327550225048e-05.\n",
      "[I 2025-08-24 05:18:58,433] Trial 784 finished with value: 97.59968052134198 and parameters: {'x': -0.3905200964940482, 'y': 1.1305966081410865}. Best is trial 727 with value: 2.1178327550225048e-05.\n",
      "[I 2025-08-24 05:18:58,441] Trial 785 finished with value: 1.1378079726515642 and parameters: {'x': 1.066550830351912, 'y': 1.0310704013392498}. Best is trial 727 with value: 2.1178327550225048e-05.\n",
      "[I 2025-08-24 05:18:58,449] Trial 786 finished with value: 1.9381593923747493 and parameters: {'x': 0.9752145838600936, 'y': 1.0902392127952802}. Best is trial 727 with value: 2.1178327550225048e-05.\n",
      "[I 2025-08-24 05:18:58,457] Trial 787 finished with value: 4.633675256498755 and parameters: {'x': 1.2080200209235719, 'y': 1.2450601147821827}. Best is trial 727 with value: 2.1178327550225048e-05.\n",
      "[I 2025-08-24 05:18:58,465] Trial 788 finished with value: 30.39012089333584 and parameters: {'x': 1.0461845307186812, 'y': 1.645755080311016}. Best is trial 727 with value: 2.1178327550225048e-05.\n",
      "[I 2025-08-24 05:18:58,472] Trial 789 finished with value: 0.03974384031785335 and parameters: {'x': 0.9876789055542119, 'y': 0.9954073668188799}. Best is trial 727 with value: 2.1178327550225048e-05.\n",
      "[I 2025-08-24 05:18:58,480] Trial 790 finished with value: 6.9921676185635935 and parameters: {'x': 1.1172995248040765, 'y': 0.9841914542885325}. Best is trial 727 with value: 2.1178327550225048e-05.\n",
      "[I 2025-08-24 05:18:58,488] Trial 791 finished with value: 1.5219236185745113 and parameters: {'x': 0.988761921142294, 'y': 1.1010112863453714}. Best is trial 727 with value: 2.1178327550225048e-05.\n",
      "[I 2025-08-24 05:18:58,496] Trial 792 finished with value: 0.04556234203163652 and parameters: {'x': 1.0817456862301604, 'y': 1.189891737897053}. Best is trial 727 with value: 2.1178327550225048e-05.\n",
      "[I 2025-08-24 05:18:58,504] Trial 793 finished with value: 61.67775605851137 and parameters: {'x': 1.3507198544242638, 'y': 1.0398757620073367}. Best is trial 727 with value: 2.1178327550225048e-05.\n",
      "[I 2025-08-24 05:18:58,511] Trial 794 finished with value: 44.388577355696505 and parameters: {'x': 0.9420812801938135, 'y': 1.5537394945979863}. Best is trial 727 with value: 2.1178327550225048e-05.\n",
      "[I 2025-08-24 05:18:58,519] Trial 795 finished with value: 21.581418727009694 and parameters: {'x': 1.1961328740056225, 'y': 0.9665900101036001}. Best is trial 727 with value: 2.1178327550225048e-05.\n",
      "[I 2025-08-24 05:18:58,527] Trial 796 finished with value: 0.0425102496611943 and parameters: {'x': 1.0390918804074711, 'y': 1.0999559658011195}. Best is trial 727 with value: 2.1178327550225048e-05.\n",
      "[I 2025-08-24 05:18:58,535] Trial 797 finished with value: 74.33101151191248 and parameters: {'x': 0.33339098693058455, 'y': 0.9707229556160611}. Best is trial 727 with value: 2.1178327550225048e-05.\n",
      "[I 2025-08-24 05:18:58,543] Trial 798 finished with value: 1.2640465873604174 and parameters: {'x': 1.1309147052889676, 'y': 1.1673030390801784}. Best is trial 727 with value: 2.1178327550225048e-05.\n",
      "[I 2025-08-24 05:18:58,551] Trial 799 finished with value: 19.228489591560344 and parameters: {'x': 0.9162053401221018, 'y': 1.2778551722787461}. Best is trial 727 with value: 2.1178327550225048e-05.\n",
      "[I 2025-08-24 05:18:58,559] Trial 800 finished with value: 0.13469687311057807 and parameters: {'x': 1.0018604490916825, 'y': 1.0404249605173523}. Best is trial 727 with value: 2.1178327550225048e-05.\n",
      "[I 2025-08-24 05:18:58,567] Trial 801 finished with value: 5.689974224687805 and parameters: {'x': 1.0781530945356834, 'y': 1.4008227007748402}. Best is trial 727 with value: 2.1178327550225048e-05.\n",
      "[I 2025-08-24 05:18:58,574] Trial 802 finished with value: 0.2650541308181656 and parameters: {'x': 0.9375043939887026, 'y': 0.9300171726353182}. Best is trial 727 with value: 2.1178327550225048e-05.\n",
      "[I 2025-08-24 05:18:58,582] Trial 803 finished with value: 238.40453712868003 and parameters: {'x': 1.6168763231026022, 'y': 1.071486397301653}. Best is trial 727 with value: 2.1178327550225048e-05.\n",
      "[I 2025-08-24 05:18:58,590] Trial 804 finished with value: 29.92518635314562 and parameters: {'x': 1.2388697625810408, 'y': 0.9882808818730064}. Best is trial 727 with value: 2.1178327550225048e-05.\n",
      "[I 2025-08-24 05:18:58,598] Trial 805 finished with value: 0.9778747160160955 and parameters: {'x': 1.0179101142156555, 'y': 1.1350123283078024}. Best is trial 727 with value: 2.1178327550225048e-05.\n",
      "[I 2025-08-24 05:18:58,606] Trial 806 finished with value: 135.4273182500605 and parameters: {'x': 1.1106295677119082, 'y': 0.0698181865934171}. Best is trial 727 with value: 2.1178327550225048e-05.\n",
      "[I 2025-08-24 05:18:58,614] Trial 807 finished with value: 1.8710050381709766 and parameters: {'x': 0.904561257912344, 'y': 0.9546823970735073}. Best is trial 727 with value: 2.1178327550225048e-05.\n",
      "[I 2025-08-24 05:18:58,622] Trial 808 finished with value: 0.7697778023982242 and parameters: {'x': 0.9825994813469874, 'y': 1.0532214662530184}. Best is trial 727 with value: 2.1178327550225048e-05.\n",
      "[I 2025-08-24 05:18:58,630] Trial 809 finished with value: 213.10613857522952 and parameters: {'x': 1.0620427268900123, 'y': -0.3318675934127827}. Best is trial 727 with value: 2.1178327550225048e-05.\n",
      "[I 2025-08-24 05:18:58,638] Trial 810 finished with value: 15.736780099529792 and parameters: {'x': 0.884648213552121, 'y': 1.179130822200751}. Best is trial 727 with value: 2.1178327550225048e-05.\n",
      "[I 2025-08-24 05:18:58,646] Trial 811 finished with value: 18.07762124531403 and parameters: {'x': 1.1511040985639651, 'y': 0.9001313754540182}. Best is trial 727 with value: 2.1178327550225048e-05.\n",
      "[I 2025-08-24 05:18:58,654] Trial 812 finished with value: 594.6723079156283 and parameters: {'x': 1.86210089663547, 'y': 1.0303537059115233}. Best is trial 727 with value: 2.1178327550225048e-05.\n",
      "[I 2025-08-24 05:18:58,662] Trial 813 finished with value: 2.9461332232913215 and parameters: {'x': 0.9730332187730046, 'y': 1.1184154970574793}. Best is trial 727 with value: 2.1178327550225048e-05.\n",
      "[I 2025-08-24 05:18:58,670] Trial 814 finished with value: 2.0798181853644073 and parameters: {'x': 1.0493381374442623, 'y': 0.9569791999975007}. Best is trial 727 with value: 2.1178327550225048e-05.\n",
      "[I 2025-08-24 05:18:58,678] Trial 815 finished with value: 2.3663262871543207 and parameters: {'x': 1.1682608618417074, 'y': 1.2119277654999738}. Best is trial 727 with value: 2.1178327550225048e-05.\n",
      "[I 2025-08-24 05:18:58,686] Trial 816 finished with value: 110.31738624663251 and parameters: {'x': -0.18154422069628207, 'y': 1.0766121715030694}. Best is trial 727 with value: 2.1178327550225048e-05.\n",
      "[I 2025-08-24 05:18:58,694] Trial 817 finished with value: 1.5459775686438926 and parameters: {'x': 0.8767558500477964, 'y': 0.8924258563839544}. Best is trial 727 with value: 2.1178327550225048e-05.\n",
      "[I 2025-08-24 05:18:58,702] Trial 818 finished with value: 0.5981912657225039 and parameters: {'x': 0.9647698823691111, 'y': 1.0080434721267353}. Best is trial 727 with value: 2.1178327550225048e-05.\n",
      "[I 2025-08-24 05:18:58,710] Trial 819 finished with value: 0.45211201462846323 and parameters: {'x': 1.0925183028966396, 'y': 1.1269965140672922}. Best is trial 727 with value: 2.1178327550225048e-05.\n",
      "[I 2025-08-24 05:18:58,718] Trial 820 finished with value: 116.99833540613557 and parameters: {'x': 1.4247747461189566, 'y': 0.9491597714470297}. Best is trial 727 with value: 2.1178327550225048e-05.\n",
      "[I 2025-08-24 05:18:58,726] Trial 821 finished with value: 0.3581415463530161 and parameters: {'x': 1.0244117028225983, 'y': 0.9896242187582363}. Best is trial 727 with value: 2.1178327550225048e-05.\n",
      "[I 2025-08-24 05:18:58,734] Trial 822 finished with value: 17.337073873805537 and parameters: {'x': 0.9310151987007826, 'y': 1.283110269789361}. Best is trial 727 with value: 2.1178327550225048e-05.\n",
      "[I 2025-08-24 05:18:58,742] Trial 823 finished with value: 12.529806291753506 and parameters: {'x': 0.8468629653185742, 'y': 1.0708201392855703}. Best is trial 727 with value: 2.1178327550225048e-05.\n",
      "[I 2025-08-24 05:18:58,750] Trial 824 finished with value: 29.61547691761071 and parameters: {'x': 1.191035805235631, 'y': 0.874700660371931}. Best is trial 727 with value: 2.1178327550225048e-05.\n",
      "[I 2025-08-24 05:18:58,758] Trial 825 finished with value: 13.934764812670881 and parameters: {'x': 1.249309307854253, 'y': 1.1883142229616717}. Best is trial 727 with value: 2.1178327550225048e-05.\n",
      "[I 2025-08-24 05:18:58,766] Trial 826 finished with value: 316.3091096602135 and parameters: {'x': -1.6663144469825377, 'y': 1.018195814943172}. Best is trial 727 with value: 2.1178327550225048e-05.\n",
      "[I 2025-08-24 05:18:58,774] Trial 827 finished with value: 6.225872298517648 and parameters: {'x': 1.0918066560896555, 'y': 0.9426937476920253}. Best is trial 727 with value: 2.1178327550225048e-05.\n",
      "[I 2025-08-24 05:18:58,782] Trial 828 finished with value: 1.4299038556959682 and parameters: {'x': 1.0009986925059091, 'y': 1.1215769280624357}. Best is trial 727 with value: 2.1178327550225048e-05.\n",
      "[I 2025-08-24 05:18:58,791] Trial 829 finished with value: 719.965811038618 and parameters: {'x': 0.9147439350018463, 'y': -1.846447853666792}. Best is trial 727 with value: 2.1178327550225048e-05.\n",
      "[I 2025-08-24 05:18:58,799] Trial 830 finished with value: 15.756819398818768 and parameters: {'x': 1.1317010069089404, 'y': 0.8840171066083722}. Best is trial 727 with value: 2.1178327550225048e-05.\n",
      "[I 2025-08-24 05:18:58,807] Trial 831 finished with value: 0.00383194562709836 and parameters: {'x': 1.0276064123815771, 'y': 1.0504343326433876}. Best is trial 727 with value: 2.1178327550225048e-05.\n",
      "[I 2025-08-24 05:18:58,815] Trial 832 finished with value: 459.4717593943165 and parameters: {'x': 1.272752654250054, 'y': -0.5234563804268221}. Best is trial 727 with value: 2.1178327550225048e-05.\n",
      "[I 2025-08-24 05:18:58,823] Trial 833 finished with value: 1.494681245866829 and parameters: {'x': 1.0439177863751894, 'y': 1.2119425945713542}. Best is trial 727 with value: 2.1178327550225048e-05.\n",
      "[I 2025-08-24 05:18:58,831] Trial 834 finished with value: 6.924607864005703 and parameters: {'x': 1.159702798843304, 'y': 1.0822491478552694}. Best is trial 727 with value: 2.1178327550225048e-05.\n",
      "[I 2025-08-24 05:18:58,839] Trial 835 finished with value: 16.249064371860406 and parameters: {'x': 0.9596035521761155, 'y': 1.3239200175737311}. Best is trial 727 with value: 2.1178327550225048e-05.\n",
      "[I 2025-08-24 05:18:58,847] Trial 836 finished with value: 0.1517191013663747 and parameters: {'x': 1.065300651952012, 'y': 1.1732653392341557}. Best is trial 727 with value: 2.1178327550225048e-05.\n",
      "[I 2025-08-24 05:18:58,855] Trial 837 finished with value: 9.238887153468076 and parameters: {'x': 0.8633286418022857, 'y': 1.048984299344826}. Best is trial 727 with value: 2.1178327550225048e-05.\n",
      "[I 2025-08-24 05:18:58,863] Trial 838 finished with value: 5.639378065635818 and parameters: {'x': 1.009450762196411, 'y': 1.2564627080269495}. Best is trial 727 with value: 2.1178327550225048e-05.\n",
      "[I 2025-08-24 05:18:58,871] Trial 839 finished with value: 1.2075091017972943 and parameters: {'x': 1.1164410308236934, 'y': 1.1371725292850638}. Best is trial 727 with value: 2.1178327550225048e-05.\n",
      "[I 2025-08-24 05:18:58,880] Trial 840 finished with value: 15.33549660865125 and parameters: {'x': 0.8008351473889173, 'y': 1.0324357695245745}. Best is trial 727 with value: 2.1178327550225048e-05.\n",
      "[I 2025-08-24 05:18:58,888] Trial 841 finished with value: 1.1437093581497724 and parameters: {'x': 0.9417749688785879, 'y': 0.9937258215725646}. Best is trial 727 with value: 2.1178327550225048e-05.\n",
      "[I 2025-08-24 05:18:58,896] Trial 842 finished with value: 0.2428453438531807 and parameters: {'x': 1.0201662164869034, 'y': 1.0899771705111942}. Best is trial 727 with value: 2.1178327550225048e-05.\n",
      "[I 2025-08-24 05:18:58,904] Trial 843 finished with value: 27.357304572451802 and parameters: {'x': 1.2058920976955783, 'y': 0.931539041738151}. Best is trial 727 with value: 2.1178327550225048e-05.\n",
      "[I 2025-08-24 05:18:58,912] Trial 844 finished with value: 38.18653522719559 and parameters: {'x': 1.3282178462851886, 'y': 1.147082358471278}. Best is trial 727 with value: 2.1178327550225048e-05.\n",
      "[I 2025-08-24 05:18:58,920] Trial 845 finished with value: 102.66183660968719 and parameters: {'x': 0.048184103959256055, 'y': 1.0110629190367206}. Best is trial 727 with value: 2.1178327550225048e-05.\n",
      "[I 2025-08-24 05:18:58,928] Trial 846 finished with value: 12.552397019415125 and parameters: {'x': 1.1034528911032682, 'y': 0.8634657336368629}. Best is trial 727 with value: 2.1178327550225048e-05.\n",
      "[I 2025-08-24 05:18:58,936] Trial 847 finished with value: 34.18740182448468 and parameters: {'x': -0.831425776598099, 'y': 1.2465460631001621}. Best is trial 727 with value: 2.1178327550225048e-05.\n",
      "[I 2025-08-24 05:18:58,945] Trial 848 finished with value: 6.615037183708705 and parameters: {'x': 0.9021418092277652, 'y': 1.0708707573088343}. Best is trial 727 with value: 2.1178327550225048e-05.\n",
      "[I 2025-08-24 05:18:58,953] Trial 849 finished with value: 2.034213346303646 and parameters: {'x': 1.0371968656658404, 'y': 0.9331999998534601}. Best is trial 727 with value: 2.1178327550225048e-05.\n",
      "[I 2025-08-24 05:18:58,961] Trial 850 finished with value: 1.1777780105840083 and parameters: {'x': 0.9632272930978697, 'y': 1.0362699814366962}. Best is trial 727 with value: 2.1178327550225048e-05.\n",
      "[I 2025-08-24 05:18:58,969] Trial 851 finished with value: 20.60810947328456 and parameters: {'x': 0.8524406535835707, 'y': 1.1803767415164912}. Best is trial 727 with value: 2.1178327550225048e-05.\n",
      "[I 2025-08-24 05:18:58,977] Trial 852 finished with value: 47.1163549883031 and parameters: {'x': -1.2725753248846423, 'y': 0.9717462022117493}. Best is trial 727 with value: 2.1178327550225048e-05.\n",
      "[I 2025-08-24 05:18:58,986] Trial 853 finished with value: 4.118162908107848 and parameters: {'x': 1.1506099774497835, 'y': 1.1215304084129367}. Best is trial 727 with value: 2.1178327550225048e-05.\n",
      "[I 2025-08-24 05:18:58,994] Trial 854 finished with value: 6.291808507356858 and parameters: {'x': 1.051834718557218, 'y': 0.8555750623630387}. Best is trial 727 with value: 2.1178327550225048e-05.\n",
      "[I 2025-08-24 05:18:59,002] Trial 855 finished with value: 1.2834321207666104 and parameters: {'x': 0.9443275309848189, 'y': 1.0049062730777365}. Best is trial 727 with value: 2.1178327550225048e-05.\n",
      "[I 2025-08-24 05:18:59,011] Trial 856 finished with value: 22.607140863498046 and parameters: {'x': 0.7895094537929248, 'y': 1.0983286996517185}. Best is trial 727 with value: 2.1178327550225048e-05.\n",
      "[I 2025-08-24 05:18:59,019] Trial 857 finished with value: 6.928752236475713 and parameters: {'x': 1.0960147257357844, 'y': 1.4642983390737323}. Best is trial 727 with value: 2.1178327550225048e-05.\n",
      "[I 2025-08-24 05:18:59,027] Trial 858 finished with value: 0.11251488778556551 and parameters: {'x': 0.9919815164626149, 'y': 0.9504936755032425}. Best is trial 727 with value: 2.1178327550225048e-05.\n",
      "[I 2025-08-24 05:18:59,035] Trial 859 finished with value: 33.270824865982945 and parameters: {'x': 1.2136660617474646, 'y': 0.8965725087466351}. Best is trial 727 with value: 2.1178327550225048e-05.\n",
      "[I 2025-08-24 05:18:59,044] Trial 860 finished with value: 7.831541633648723 and parameters: {'x': 0.8826675016742375, 'y': 1.0587047568108343}. Best is trial 727 with value: 2.1178327550225048e-05.\n",
      "[I 2025-08-24 05:18:59,052] Trial 861 finished with value: 3.863681240503609 and parameters: {'x': 1.0238353645672373, 'y': 1.244786891528264}. Best is trial 727 with value: 2.1178327550225048e-05.\n",
      "[I 2025-08-24 05:18:59,060] Trial 862 finished with value: 1.276701900361189 and parameters: {'x': 1.1333805652844609, 'y': 1.1723502791595717}. Best is trial 727 with value: 2.1178327550225048e-05.\n",
      "[I 2025-08-24 05:18:59,069] Trial 863 finished with value: 0.1725745187515049 and parameters: {'x': 0.9440312875718353, 'y': 0.8500317360462383}. Best is trial 727 with value: 2.1178327550225048e-05.\n",
      "[I 2025-08-24 05:18:59,077] Trial 864 finished with value: 2.3172717456331444 and parameters: {'x': 1.071616265944419, 'y': 0.9963041014522104}. Best is trial 727 with value: 2.1178327550225048e-05.\n",
      "[I 2025-08-24 05:18:59,085] Trial 865 finished with value: 38.42992987794805 and parameters: {'x': 0.8583154785224982, 'y': 1.356462311172546}. Best is trial 727 with value: 2.1178327550225048e-05.\n",
      "[I 2025-08-24 05:18:59,093] Trial 866 finished with value: 2.8262379462193907 and parameters: {'x': 0.9632769671017326, 'y': 1.0959765872656546}. Best is trial 727 with value: 2.1178327550225048e-05.\n",
      "[I 2025-08-24 05:18:59,101] Trial 867 finished with value: 26.200570966539107 and parameters: {'x': 1.2041011108726034, 'y': 0.9384016306058478}. Best is trial 727 with value: 2.1178327550225048e-05.\n",
      "[I 2025-08-24 05:18:59,110] Trial 868 finished with value: 0.2520860543040341 and parameters: {'x': 1.0432986802822395, 'y': 1.0384510128816564}. Best is trial 727 with value: 2.1178327550225048e-05.\n",
      "[I 2025-08-24 05:18:59,118] Trial 869 finished with value: 25.14141961922589 and parameters: {'x': 0.8087401891219991, 'y': 1.1551079897114227}. Best is trial 727 with value: 2.1178327550225048e-05.\n",
      "[I 2025-08-24 05:18:59,126] Trial 870 finished with value: 0.8039775993730466 and parameters: {'x': 0.914915010435734, 'y': 0.9263296658747477}. Best is trial 727 with value: 2.1178327550225048e-05.\n",
      "[I 2025-08-24 05:18:59,135] Trial 871 finished with value: 72.58243338416874 and parameters: {'x': -0.07282948719583526, 'y': 0.8504755385698606}. Best is trial 727 with value: 2.1178327550225048e-05.\n",
      "[I 2025-08-24 05:18:59,143] Trial 872 finished with value: 138.5179669789294 and parameters: {'x': 1.477773441155424, 'y': 1.0078479343493916}. Best is trial 727 with value: 2.1178327550225048e-05.\n",
      "[I 2025-08-24 05:18:59,152] Trial 873 finished with value: 3.00513219921057 and parameters: {'x': 1.1268436195059537, 'y': 1.0968880557725107}. Best is trial 727 with value: 2.1178327550225048e-05.\n",
      "[I 2025-08-24 05:18:59,160] Trial 874 finished with value: 13.580965802240808 and parameters: {'x': 1.2662316814783898, 'y': 1.2357819755928887}. Best is trial 727 with value: 2.1178327550225048e-05.\n",
      "[I 2025-08-24 05:18:59,168] Trial 875 finished with value: 0.08518879046571061 and parameters: {'x': 1.004874346160967, 'y': 0.9805894032026645}. Best is trial 727 with value: 2.1178327550225048e-05.\n",
      "[I 2025-08-24 05:18:59,177] Trial 876 finished with value: 0.8945611919703725 and parameters: {'x': 1.078876621869124, 'y': 1.0697229922619633}. Best is trial 727 with value: 2.1178327550225048e-05.\n",
      "[I 2025-08-24 05:18:59,185] Trial 877 finished with value: 0.10697965167657633 and parameters: {'x': 0.9762068210855976, 'y': 0.9203586698278229}. Best is trial 727 with value: 2.1178327550225048e-05.\n",
      "[I 2025-08-24 05:18:59,193] Trial 878 finished with value: 14.763435760255488 and parameters: {'x': 0.8869842736561169, 'y': 1.1708070232144414}. Best is trial 727 with value: 2.1178327550225048e-05.\n",
      "[I 2025-08-24 05:18:59,202] Trial 879 finished with value: 18.903363993620964 and parameters: {'x': 0.7554649009623731, 'y': 1.0048189877469755}. Best is trial 727 with value: 2.1178327550225048e-05.\n",
      "[I 2025-08-24 05:18:59,210] Trial 880 finished with value: 17.960466901296638 and parameters: {'x': 1.13140343211378, 'y': 0.856479580354905}. Best is trial 727 with value: 2.1178327550225048e-05.\n",
      "[I 2025-08-24 05:18:59,218] Trial 881 finished with value: 119.28564933253483 and parameters: {'x': 0.13067583921034154, 'y': 1.1057906684547325}. Best is trial 727 with value: 2.1178327550225048e-05.\n",
      "[I 2025-08-24 05:18:59,227] Trial 882 finished with value: 0.004164522212075865 and parameters: {'x': 1.0156416489063231, 'y': 1.037788838349577}. Best is trial 727 with value: 2.1178327550225048e-05.\n",
      "[I 2025-08-24 05:18:59,235] Trial 883 finished with value: 0.6376401379797764 and parameters: {'x': 1.175712140687334, 'y': 1.3044038914669747}. Best is trial 727 with value: 2.1178327550225048e-05.\n",
      "[I 2025-08-24 05:18:59,244] Trial 884 finished with value: 0.34351244521008534 and parameters: {'x': 1.0615747781951304, 'y': 1.185226598991074}. Best is trial 727 with value: 2.1178327550225048e-05.\n",
      "[I 2025-08-24 05:18:59,252] Trial 885 finished with value: 35.948674926296974 and parameters: {'x': 1.2998442076205028, 'y': 1.0907730508461424}. Best is trial 727 with value: 2.1178327550225048e-05.\n",
      "[I 2025-08-24 05:18:59,261] Trial 886 finished with value: 0.010255814998557058 and parameters: {'x': 1.028688447363688, 'y': 1.0484876676312154}. Best is trial 727 with value: 2.1178327550225048e-05.\n",
      "[I 2025-08-24 05:18:59,269] Trial 887 finished with value: 2.9393217178224393 and parameters: {'x': 1.1848245267807291, 'y': 1.2333638128265307}. Best is trial 727 with value: 2.1178327550225048e-05.\n",
      "[I 2025-08-24 05:18:59,278] Trial 888 finished with value: 0.6555184852876252 and parameters: {'x': 1.0972294765717396, 'y': 1.123534360919011}. Best is trial 727 with value: 2.1178327550225048e-05.\n",
      "[I 2025-08-24 05:18:59,286] Trial 889 finished with value: 1.6027530660813287 and parameters: {'x': 1.0328321378980152, 'y': 1.1932995289654507}. Best is trial 727 with value: 2.1178327550225048e-05.\n",
      "[I 2025-08-24 05:18:59,295] Trial 890 finished with value: 7.239408607633113 and parameters: {'x': 1.1502583389108054, 'y': 1.0544526441089905}. Best is trial 727 with value: 2.1178327550225048e-05.\n",
      "[I 2025-08-24 05:18:59,303] Trial 891 finished with value: 16.23926378165193 and parameters: {'x': 1.2477336484248998, 'y': 1.154621756287133}. Best is trial 727 with value: 2.1178327550225048e-05.\n",
      "[I 2025-08-24 05:18:59,312] Trial 892 finished with value: 0.9803605902055608 and parameters: {'x': 1.0679991857454674, 'y': 1.0418428752039957}. Best is trial 727 with value: 2.1178327550225048e-05.\n",
      "[I 2025-08-24 05:18:59,320] Trial 893 finished with value: 1.6713354180337452 and parameters: {'x': 0.9888737825346423, 'y': 1.107146708308694}. Best is trial 727 with value: 2.1178327550225048e-05.\n",
      "[I 2025-08-24 05:18:59,329] Trial 894 finished with value: 647.3124659017001 and parameters: {'x': 0.9282220379807806, 'y': -1.6826273325451386}. Best is trial 727 with value: 2.1178327550225048e-05.\n",
      "[I 2025-08-24 05:18:59,337] Trial 895 finished with value: 0.15274979368418742 and parameters: {'x': 1.1098984268576038, 'y': 1.2693808013423566}. Best is trial 727 with value: 2.1178327550225048e-05.\n",
      "[I 2025-08-24 05:18:59,346] Trial 896 finished with value: 0.3650582327767367 and parameters: {'x': 1.0396280959211324, 'y': 1.0205366245369933}. Best is trial 727 with value: 2.1178327550225048e-05.\n",
      "[I 2025-08-24 05:18:59,354] Trial 897 finished with value: 15.947205797306067 and parameters: {'x': 0.8587070204505336, 'y': 1.1364672368255782}. Best is trial 727 with value: 2.1178327550225048e-05.\n",
      "[I 2025-08-24 05:18:59,363] Trial 898 finished with value: 11.564842138131338 and parameters: {'x': 1.1774510470577015, 'y': 1.046783058061618}. Best is trial 727 with value: 2.1178327550225048e-05.\n",
      "[I 2025-08-24 05:18:59,371] Trial 899 finished with value: 0.004800714277302861 and parameters: {'x': 0.9873463249862835, 'y': 0.9680405714077069}. Best is trial 727 with value: 2.1178327550225048e-05.\n",
      "[I 2025-08-24 05:18:59,380] Trial 900 finished with value: 1.1687015550367894 and parameters: {'x': 0.9115343731468154, 'y': 0.9386388407698999}. Best is trial 727 with value: 2.1178327550225048e-05.\n",
      "[I 2025-08-24 05:18:59,388] Trial 901 finished with value: 82.92924228387712 and parameters: {'x': 1.3717149087462137, 'y': 0.971705806104237}. Best is trial 727 with value: 2.1178327550225048e-05.\n",
      "[I 2025-08-24 05:18:59,397] Trial 902 finished with value: 0.7816775454522545 and parameters: {'x': 0.9939631529664297, 'y': 1.076373218401248}. Best is trial 727 with value: 2.1178327550225048e-05.\n",
      "[I 2025-08-24 05:18:59,405] Trial 903 finished with value: 0.7407784871851797 and parameters: {'x': 1.1271293846516852, 'y': 1.3555450649704888}. Best is trial 727 with value: 2.1178327550225048e-05.\n",
      "[I 2025-08-24 05:18:59,414] Trial 904 finished with value: 0.7077526554586283 and parameters: {'x': 1.060286480452432, 'y': 1.2081191716388266}. Best is trial 727 with value: 2.1178327550225048e-05.\n",
      "[I 2025-08-24 05:18:59,422] Trial 905 finished with value: 8.877554276720979 and parameters: {'x': 0.8154558184818654, 'y': 0.9623483815822762}. Best is trial 727 with value: 2.1178327550225048e-05.\n",
      "[I 2025-08-24 05:18:59,431] Trial 906 finished with value: 4.958994416739216 and parameters: {'x': 0.9441427842600835, 'y': 1.114023529595797}. Best is trial 727 with value: 2.1178327550225048e-05.\n",
      "[I 2025-08-24 05:18:59,440] Trial 907 finished with value: 6.233780532218677 and parameters: {'x': 0.883497048598775, 'y': 1.0299704750060428}. Best is trial 727 with value: 2.1178327550225048e-05.\n",
      "[I 2025-08-24 05:18:59,448] Trial 908 finished with value: 3.095977555646775 and parameters: {'x': 1.041160114762639, 'y': 0.9081086313806932}. Best is trial 727 with value: 2.1178327550225048e-05.\n",
      "[I 2025-08-24 05:18:59,457] Trial 909 finished with value: 9.887360794160896 and parameters: {'x': 1.2203682840874275, 'y': 1.1756301559647915}. Best is trial 727 with value: 2.1178327550225048e-05.\n",
      "[I 2025-08-24 05:18:59,466] Trial 910 finished with value: 0.840988158046432 and parameters: {'x': 0.9662660385047446, 'y': 0.8420267170993055}. Best is trial 727 with value: 2.1178327550225048e-05.\n",
      "[I 2025-08-24 05:18:59,474] Trial 911 finished with value: 3.254560345674346 and parameters: {'x': 1.089576870987269, 'y': 1.006996284551385}. Best is trial 727 with value: 2.1178327550225048e-05.\n",
      "[I 2025-08-24 05:18:59,483] Trial 912 finished with value: 22.738479274042465 and parameters: {'x': 1.1559110728778732, 'y': 1.8127242712597338}. Best is trial 727 with value: 2.1178327550225048e-05.\n",
      "[I 2025-08-24 05:18:59,492] Trial 913 finished with value: 4.253925418402311 and parameters: {'x': 0.9296288726001851, 'y': 1.070340219969883}. Best is trial 727 with value: 2.1178327550225048e-05.\n",
      "[I 2025-08-24 05:18:59,500] Trial 914 finished with value: 4.871149332758519 and parameters: {'x': 1.0168075008857902, 'y': 1.2545978980410262}. Best is trial 727 with value: 2.1178327550225048e-05.\n",
      "[I 2025-08-24 05:18:59,509] Trial 915 finished with value: 54.80187369771844 and parameters: {'x': 0.45096963641887255, 'y': 0.9416177416824861}. Best is trial 727 with value: 2.1178327550225048e-05.\n",
      "[I 2025-08-24 05:18:59,517] Trial 916 finished with value: 15.750813961549406 and parameters: {'x': 0.8573782511448956, 'y': 1.1317140687982072}. Best is trial 727 with value: 2.1178327550225048e-05.\n",
      "[I 2025-08-24 05:18:59,526] Trial 917 finished with value: 2.9048746766519655 and parameters: {'x': 1.075101422520628, 'y': 0.9855716837644453}. Best is trial 727 with value: 2.1178327550225048e-05.\n",
      "[I 2025-08-24 05:18:59,535] Trial 918 finished with value: 25.79646321111238 and parameters: {'x': 0.7417007154874826, 'y': 1.0573649088528203}. Best is trial 727 with value: 2.1178327550225048e-05.\n",
      "[I 2025-08-24 05:18:59,543] Trial 919 finished with value: 0.9689623051485737 and parameters: {'x': 0.9777629139904137, 'y': 0.8576095534968096}. Best is trial 727 with value: 2.1178327550225048e-05.\n",
      "[I 2025-08-24 05:18:59,552] Trial 920 finished with value: 39.554597235348446 and parameters: {'x': 1.2512043727304978, 'y': 0.9370898047818749}. Best is trial 727 with value: 2.1178327550225048e-05.\n",
      "[I 2025-08-24 05:18:59,561] Trial 921 finished with value: 0.6567344306156025 and parameters: {'x': 1.1215039734713987, 'y': 1.1776480562913794}. Best is trial 727 with value: 2.1178327550225048e-05.\n",
      "[I 2025-08-24 05:18:59,569] Trial 922 finished with value: 5.0624210566318615 and parameters: {'x': 0.9224134350420188, 'y': 1.0757109794518864}. Best is trial 727 with value: 2.1178327550225048e-05.\n",
      "[I 2025-08-24 05:18:59,578] Trial 923 finished with value: 0.4305579391633394 and parameters: {'x': 1.026936388189764, 'y': 0.9890367430470325}. Best is trial 727 with value: 2.1178327550225048e-05.\n",
      "[I 2025-08-24 05:18:59,587] Trial 924 finished with value: 34.65332739235946 and parameters: {'x': 0.8326880424823815, 'y': 1.2818023298035106}. Best is trial 727 with value: 2.1178327550225048e-05.\n",
      "[I 2025-08-24 05:18:59,595] Trial 925 finished with value: 5.68801450022452 and parameters: {'x': 1.1688215829982895, 'y': 1.1282465668501882}. Best is trial 727 with value: 2.1178327550225048e-05.\n",
      "[I 2025-08-24 05:18:59,604] Trial 926 finished with value: 1.2029171083737353 and parameters: {'x': 0.9960826572127397, 'y': 0.8825037817257078}. Best is trial 727 with value: 2.1178327550225048e-05.\n",
      "[I 2025-08-24 05:18:59,613] Trial 927 finished with value: 1.736850265328775 and parameters: {'x': 1.0703739146578939, 'y': 1.0140987298999522}. Best is trial 727 with value: 2.1178327550225048e-05.\n",
      "[I 2025-08-24 05:18:59,621] Trial 928 finished with value: 0.1425873804330594 and parameters: {'x': 0.9506710873376485, 'y': 0.9412126688101354}. Best is trial 727 with value: 2.1178327550225048e-05.\n",
      "[I 2025-08-24 05:18:59,630] Trial 929 finished with value: 9.97471182186345 and parameters: {'x': 0.866769375743428, 'y': 1.0668356833113668}. Best is trial 727 with value: 2.1178327550225048e-05.\n",
      "[I 2025-08-24 05:18:59,639] Trial 930 finished with value: 60.20448282699767 and parameters: {'x': 1.0999193054050522, 'y': 1.9856736172135552}. Best is trial 727 with value: 2.1178327550225048e-05.\n",
      "[I 2025-08-24 05:18:59,648] Trial 931 finished with value: 3.7743667938986696 and parameters: {'x': 0.791110516437233, 'y': 0.8190068776268473}. Best is trial 727 with value: 2.1178327550225048e-05.\n",
      "[I 2025-08-24 05:18:59,657] Trial 932 finished with value: 28.082617680269042 and parameters: {'x': 1.3117988115434225, 'y': 1.1918038425120037}. Best is trial 727 with value: 2.1178327550225048e-05.\n",
      "[I 2025-08-24 05:18:59,665] Trial 933 finished with value: 0.9628445197212722 and parameters: {'x': 1.0082671608572848, 'y': 1.1147238261241978}. Best is trial 727 with value: 2.1178327550225048e-05.\n",
      "[I 2025-08-24 05:18:59,674] Trial 934 finished with value: 21.801999733623173 and parameters: {'x': 1.2093253308447476, 'y': 0.9960110843141398}. Best is trial 727 with value: 2.1178327550225048e-05.\n",
      "[I 2025-08-24 05:18:59,683] Trial 935 finished with value: 0.9449240106618398 and parameters: {'x': 0.9077445798337433, 'y': 0.9207686544726805}. Best is trial 727 with value: 2.1178327550225048e-05.\n",
      "[I 2025-08-24 05:18:59,692] Trial 936 finished with value: 5.1153825332161675 and parameters: {'x': 1.0926543429961804, 'y': 1.4198757627027476}. Best is trial 727 with value: 2.1178327550225048e-05.\n",
      "[I 2025-08-24 05:18:59,701] Trial 937 finished with value: 0.16029206751306174 and parameters: {'x': 1.0041010597075346, 'y': 1.0482533294240515}. Best is trial 727 with value: 2.1178327550225048e-05.\n",
      "[I 2025-08-24 05:18:59,709] Trial 938 finished with value: 0.016089796062412336 and parameters: {'x': 0.9102609787448581, 'y': 0.8375398160854114}. Best is trial 727 with value: 2.1178327550225048e-05.\n",
      "[I 2025-08-24 05:18:59,718] Trial 939 finished with value: 3.9266598338040097 and parameters: {'x': 1.1572532629090608, 'y': 1.1417020477853739}. Best is trial 727 with value: 2.1178327550225048e-05.\n",
      "[I 2025-08-24 05:18:59,727] Trial 940 finished with value: 52.43932196672838 and parameters: {'x': 0.7012304231518558, 'y': 1.215257510604553}. Best is trial 727 with value: 2.1178327550225048e-05.\n",
      "[I 2025-08-24 05:18:59,736] Trial 941 finished with value: 3.597860278391993 and parameters: {'x': 1.0660958326403958, 'y': 0.9469952532419693}. Best is trial 727 with value: 2.1178327550225048e-05.\n",
      "[I 2025-08-24 05:18:59,745] Trial 942 finished with value: 1.011841575257003 and parameters: {'x': 0.9688006035992933, 'y': 1.0391165496847836}. Best is trial 727 with value: 2.1178327550225048e-05.\n",
      "[I 2025-08-24 05:18:59,754] Trial 943 finished with value: 40.71475496574492 and parameters: {'x': 0.8251179827451182, 'y': 1.318661133191567}. Best is trial 727 with value: 2.1178327550225048e-05.\n",
      "[I 2025-08-24 05:18:59,762] Trial 944 finished with value: 2.9779428549221363 and parameters: {'x': 1.0336383702385865, 'y': 0.8958738979148697}. Best is trial 727 with value: 2.1178327550225048e-05.\n",
      "[I 2025-08-24 05:18:59,771] Trial 945 finished with value: 7.824547629931589 and parameters: {'x': 0.9118063102136248, 'y': 1.1109756092927632}. Best is trial 727 with value: 2.1178327550225048e-05.\n",
      "[I 2025-08-24 05:18:59,780] Trial 946 finished with value: 420.40803650136235 and parameters: {'x': 1.7445738458185485, 'y': 0.9945048479254968}. Best is trial 727 with value: 2.1178327550225048e-05.\n",
      "[I 2025-08-24 05:18:59,789] Trial 947 finished with value: 5.165587959048315 and parameters: {'x': 1.1384853276963023, 'y': 1.0692918429631075}. Best is trial 727 with value: 2.1178327550225048e-05.\n",
      "[I 2025-08-24 05:18:59,798] Trial 948 finished with value: 180.76385742524832 and parameters: {'x': 1.235654799156777, 'y': 0.18256481945548703}. Best is trial 727 with value: 2.1178327550225048e-05.\n",
      "[I 2025-08-24 05:18:59,806] Trial 949 finished with value: 1.5135000421134348 and parameters: {'x': 0.9759055499246696, 'y': 0.8293908497101063}. Best is trial 727 with value: 2.1178327550225048e-05.\n",
      "[I 2025-08-24 05:18:59,815] Trial 950 finished with value: 0.19101352263820393 and parameters: {'x': 1.0860060692233686, 'y': 1.2222596758171336}. Best is trial 727 with value: 2.1178327550225048e-05.\n",
      "[I 2025-08-24 05:18:59,824] Trial 951 finished with value: 7.651211744777868 and parameters: {'x': 0.8345027766072091, 'y': 0.9725075860429643}. Best is trial 727 with value: 2.1178327550225048e-05.\n",
      "[I 2025-08-24 05:18:59,833] Trial 952 finished with value: 1.9028738075057712 and parameters: {'x': 1.0010841387103289, 'y': 1.1401141022622225}. Best is trial 727 with value: 2.1178327550225048e-05.\n",
      "[I 2025-08-24 05:18:59,842] Trial 953 finished with value: 0.6396369745987961 and parameters: {'x': 0.9050494065074259, 'y': 0.8985260998675212}. Best is trial 727 with value: 2.1178327550225048e-05.\n",
      "[I 2025-08-24 05:18:59,851] Trial 954 finished with value: 13.671542081429296 and parameters: {'x': 1.1820298283142932, 'y': 1.0278923728290192}. Best is trial 727 with value: 2.1178327550225048e-05.\n",
      "[I 2025-08-24 05:18:59,860] Trial 955 finished with value: 2.7800025980173064 and parameters: {'x': 1.05927308196824, 'y': 0.9554314543395358}. Best is trial 727 with value: 2.1178327550225048e-05.\n",
      "[I 2025-08-24 05:18:59,869] Trial 956 finished with value: 5.843209630567269 and parameters: {'x': 0.9459652313158543, 'y': 1.1365171357987067}. Best is trial 727 with value: 2.1178327550225048e-05.\n",
      "[I 2025-08-24 05:18:59,878] Trial 957 finished with value: 4.361233800287063 and parameters: {'x': 1.1188322872654912, 'y': 1.0432883803834885}. Best is trial 727 with value: 2.1178327550225048e-05.\n",
      "[I 2025-08-24 05:18:59,887] Trial 958 finished with value: 5.4567682057279185 and parameters: {'x': 1.0232571328098767, 'y': 0.8134694729666911}. Best is trial 727 with value: 2.1178327550225048e-05.\n",
      "[I 2025-08-24 05:18:59,896] Trial 959 finished with value: 37.68431914496855 and parameters: {'x': 0.7815080188415569, 'y': 1.2242413799372283}. Best is trial 727 with value: 2.1178327550225048e-05.\n",
      "[I 2025-08-24 05:18:59,904] Trial 960 finished with value: 2.1683592773788494 and parameters: {'x': 0.8797993043765188, 'y': 0.9208089047560787}. Best is trial 727 with value: 2.1178327550225048e-05.\n",
      "[I 2025-08-24 05:18:59,913] Trial 961 finished with value: 1.559238318850527 and parameters: {'x': 0.9780239914070575, 'y': 1.0813810528737307}. Best is trial 727 with value: 2.1178327550225048e-05.\n",
      "[I 2025-08-24 05:18:59,922] Trial 962 finished with value: 62.848968022449945 and parameters: {'x': -0.47889516821246403, 'y': 1.0081976749590775}. Best is trial 727 with value: 2.1178327550225048e-05.\n",
      "[I 2025-08-24 05:18:59,931] Trial 963 finished with value: 0.9682468092464599 and parameters: {'x': 1.1151343322699505, 'y': 1.1458009434434213}. Best is trial 727 with value: 2.1178327550225048e-05.\n",
      "[I 2025-08-24 05:18:59,940] Trial 964 finished with value: 34.83511006751505 and parameters: {'x': 1.2502092775283378, 'y': 0.973341074203146}. Best is trial 727 with value: 2.1178327550225048e-05.\n",
      "[I 2025-08-24 05:18:59,949] Trial 965 finished with value: 5.796380904842712 and parameters: {'x': 1.0594829412381053, 'y': 0.8818208527436318}. Best is trial 727 with value: 2.1178327550225048e-05.\n",
      "[I 2025-08-24 05:18:59,958] Trial 966 finished with value: 4.39825372993319 and parameters: {'x': 0.9261837413707943, 'y': 1.067406515534301}. Best is trial 727 with value: 2.1178327550225048e-05.\n",
      "[I 2025-08-24 05:18:59,967] Trial 967 finished with value: 0.2864573431750644 and parameters: {'x': 1.1613530721846026, 'y': 1.2977093475522334}. Best is trial 727 with value: 2.1178327550225048e-05.\n",
      "[I 2025-08-24 05:18:59,976] Trial 968 finished with value: 0.19203491021677413 and parameters: {'x': 1.0169607575433224, 'y': 0.9904202291048547}. Best is trial 727 with value: 2.1178327550225048e-05.\n",
      "[I 2025-08-24 05:18:59,985] Trial 969 finished with value: 23.518199371077472 and parameters: {'x': 0.8384253549859855, 'y': 1.1876435003390857}. Best is trial 727 with value: 2.1178327550225048e-05.\n",
      "[I 2025-08-24 05:18:59,994] Trial 970 finished with value: 550.8772457348662 and parameters: {'x': -1.7938341531215265, 'y': 0.8874510091351477}. Best is trial 727 with value: 2.1178327550225048e-05.\n",
      "[I 2025-08-24 05:19:00,003] Trial 971 finished with value: 3.53081132279127 and parameters: {'x': 0.9469990550457457, 'y': 1.0846369795334736}. Best is trial 727 with value: 2.1178327550225048e-05.\n",
      "[I 2025-08-24 05:19:00,012] Trial 972 finished with value: 10.603785263375242 and parameters: {'x': 1.067690958091212, 'y': 0.8143998070937821}. Best is trial 727 with value: 2.1178327550225048e-05.\n",
      "[I 2025-08-24 05:19:00,021] Trial 973 finished with value: 23.947912956634084 and parameters: {'x': 0.7358590482308642, 'y': 1.0301412019505491}. Best is trial 727 with value: 2.1178327550225048e-05.\n",
      "[I 2025-08-24 05:19:00,030] Trial 974 finished with value: 72.58996311141289 and parameters: {'x': 1.3373433559294612, 'y': 0.9371579230594188}. Best is trial 727 with value: 2.1178327550225048e-05.\n",
      "[I 2025-08-24 05:19:00,039] Trial 975 finished with value: 6.511825867202076 and parameters: {'x': 1.177675428702263, 'y': 1.1323559201613302}. Best is trial 727 with value: 2.1178327550225048e-05.\n",
      "[I 2025-08-24 05:19:00,048] Trial 976 finished with value: 0.3078081504667595 and parameters: {'x': 1.019383308113964, 'y': 0.9836957385393917}. Best is trial 727 with value: 2.1178327550225048e-05.\n",
      "[I 2025-08-24 05:19:00,057] Trial 977 finished with value: 19.573166567614376 and parameters: {'x': 0.8830780335602555, 'y': 1.222088001133489}. Best is trial 727 with value: 2.1178327550225048e-05.\n",
      "[I 2025-08-24 05:19:00,066] Trial 978 finished with value: 2.230572079352895 and parameters: {'x': 1.1100070219635039, 'y': 1.0831702788965067}. Best is trial 727 with value: 2.1178327550225048e-05.\n",
      "[I 2025-08-24 05:19:00,075] Trial 979 finished with value: 77.15330736562052 and parameters: {'x': 0.9378743889684626, 'y': 0.0012607858119327486}. Best is trial 727 with value: 2.1178327550225048e-05.\n",
      "[I 2025-08-24 05:19:00,084] Trial 980 finished with value: 0.7767268671162104 and parameters: {'x': 1.0177197800948494, 'y': 0.9476392570347628}. Best is trial 727 with value: 2.1178327550225048e-05.\n",
      "[I 2025-08-24 05:19:00,093] Trial 981 finished with value: 1.838517993859396 and parameters: {'x': 0.8408888865687608, 'y': 0.8417492957435906}. Best is trial 727 with value: 2.1178327550225048e-05.\n",
      "[I 2025-08-24 05:19:00,102] Trial 982 finished with value: 2.3070976361299373 and parameters: {'x': 1.0998240888037383, 'y': 1.058050076109949}. Best is trial 727 with value: 2.1178327550225048e-05.\n",
      "[I 2025-08-24 05:19:00,112] Trial 983 finished with value: 4.7547386909370015 and parameters: {'x': 0.981605610397472, 'y': 1.1815954488344689}. Best is trial 727 with value: 2.1178327550225048e-05.\n",
      "[I 2025-08-24 05:19:00,121] Trial 984 finished with value: 28.8296917377731 and parameters: {'x': 1.2005106190747388, 'y': 0.90466738780816}. Best is trial 727 with value: 2.1178327550225048e-05.\n",
      "[I 2025-08-24 05:19:00,130] Trial 985 finished with value: 1.5520398796295087 and parameters: {'x': 0.9415118222665714, 'y': 1.0108880333037291}. Best is trial 727 with value: 2.1178327550225048e-05.\n",
      "[I 2025-08-24 05:19:00,139] Trial 986 finished with value: 5.313891244284182 and parameters: {'x': -0.9976636981468852, 'y': 1.1103646325308412}. Best is trial 727 with value: 2.1178327550225048e-05.\n",
      "[I 2025-08-24 05:19:00,148] Trial 987 finished with value: 0.7945736148504955 and parameters: {'x': 1.0476031933923182, 'y': 1.008460791410547}. Best is trial 727 with value: 2.1178327550225048e-05.\n",
      "[I 2025-08-24 05:19:00,157] Trial 988 finished with value: 1.1997906213936962 and parameters: {'x': 0.8919518497568878, 'y': 0.9045788462557148}. Best is trial 727 with value: 2.1178327550225048e-05.\n",
      "[I 2025-08-24 05:19:00,166] Trial 989 finished with value: 47.081007814859305 and parameters: {'x': 0.777637551413979, 'y': 1.2905157778345457}. Best is trial 727 with value: 2.1178327550225048e-05.\n",
      "[I 2025-08-24 05:19:00,175] Trial 990 finished with value: 18.948935285191943 and parameters: {'x': 1.2655215422925645, 'y': 1.1670515796321108}. Best is trial 727 with value: 2.1178327550225048e-05.\n",
      "[I 2025-08-24 05:19:00,184] Trial 991 finished with value: 726.7622641531644 and parameters: {'x': -1.9402589804205654, 'y': 1.0848341349331292}. Best is trial 727 with value: 2.1178327550225048e-05.\n",
      "[I 2025-08-24 05:19:00,193] Trial 992 finished with value: 23.03126042180281 and parameters: {'x': 1.1318970885790534, 'y': 0.8014633507652434}. Best is trial 727 with value: 2.1178327550225048e-05.\n",
      "[I 2025-08-24 05:19:00,203] Trial 993 finished with value: 35.984796529856204 and parameters: {'x': 0.6093608109346369, 'y': 0.9699206108817233}. Best is trial 727 with value: 2.1178327550225048e-05.\n",
      "[I 2025-08-24 05:19:00,212] Trial 994 finished with value: 0.6809874491872567 and parameters: {'x': 0.9939380380406431, 'y': 1.0704325606064453}. Best is trial 727 with value: 2.1178327550225048e-05.\n",
      "[I 2025-08-24 05:19:00,221] Trial 995 finished with value: 5.405058839500196 and parameters: {'x': 1.0860446280465157, 'y': 0.9471643917062482}. Best is trial 727 with value: 2.1178327550225048e-05.\n",
      "[I 2025-08-24 05:19:00,230] Trial 996 finished with value: 0.39741824454369157 and parameters: {'x': 0.8925377609141705, 'y': 0.8587420989165604}. Best is trial 727 with value: 2.1178327550225048e-05.\n",
      "[I 2025-08-24 05:19:00,239] Trial 997 finished with value: 2.7644663340511033 and parameters: {'x': 0.9884046937315496, 'y': 1.143206639087953}. Best is trial 727 with value: 2.1178327550225048e-05.\n",
      "[I 2025-08-24 05:19:00,248] Trial 998 finished with value: 11.404448791322467 and parameters: {'x': 1.1638197958068441, 'y': 1.0171693593783986}. Best is trial 727 with value: 2.1178327550225048e-05.\n",
      "[I 2025-08-24 05:19:00,257] Trial 999 finished with value: 2.8641532896097073 and parameters: {'x': 1.0344458347000947, 'y': 1.2392812219602658}. Best is trial 727 with value: 2.1178327550225048e-05.\n"
     ]
    }
   ],
   "source": [
    "#hide_output\n",
    "import optuna \n",
    "\n",
    "study = optuna.create_study()\n",
    "study.optimize(objective, n_trials=1000)"
   ]
  },
  {
   "cell_type": "code",
   "execution_count": 37,
   "metadata": {},
   "outputs": [
    {
     "data": {
      "text/plain": [
       "{'x': 1.0027055974700587, 'y': 1.0057907794840175}"
      ]
     },
     "execution_count": 37,
     "metadata": {},
     "output_type": "execute_result"
    }
   ],
   "source": [
    "study.best_params"
   ]
  },
  {
   "cell_type": "code",
   "execution_count": 38,
   "metadata": {},
   "outputs": [],
   "source": [
    "def hp_space(trial):\n",
    "    return {\"num_train_epochs\": trial.suggest_int(\"num_train_epochs\", 5, 10),\n",
    "        \"alpha\": trial.suggest_float(\"alpha\", 0, 1),\n",
    "        \"temperature\": trial.suggest_int(\"temperature\", 2, 20)}"
   ]
  },
  {
   "cell_type": "code",
   "execution_count": 39,
   "metadata": {},
   "outputs": [],
   "source": [
    "# #hide_output\n",
    "# best_run = distilbert_trainer.hyperparameter_search(\n",
    "#     n_trials=20, direction=\"maximize\", hp_space=hp_space)"
   ]
  },
  {
   "cell_type": "code",
   "execution_count": 40,
   "metadata": {},
   "outputs": [],
   "source": [
    "# print(best_run)"
   ]
  },
  {
   "cell_type": "code",
   "execution_count": 41,
   "metadata": {},
   "outputs": [],
   "source": [
    "# #hide_output\n",
    "# for k,v in best_run.hyperparameters.items():\n",
    "#     setattr(student_training_args, k, v)\n",
    "    \n",
    "# # Define a new repository to store our distilled model\n",
    "# distilled_ckpt = \"distilbert-base-uncased-distilled-clinc\"\n",
    "# student_training_args.output_dir = distilled_ckpt\n",
    "\n",
    "# # Create a new Trainer with optimal parameters\n",
    "# distil_trainer = DistillationTrainer(model_init=student_init,\n",
    "#     teacher_model=teacher_model, args=student_training_args,\n",
    "#     train_dataset=clinc_enc['train'], eval_dataset=clinc_enc['validation'],\n",
    "#     compute_metrics=compute_metrics, tokenizer=student_tokenizer)\n",
    "\n",
    "# distil_trainer.train();"
   ]
  },
  {
   "cell_type": "code",
   "execution_count": 42,
   "metadata": {},
   "outputs": [],
   "source": [
    "#hide_output\n",
    "# distil_trainer.push_to_hub(\"Training complete\")"
   ]
  },
  {
   "cell_type": "markdown",
   "metadata": {},
   "source": [
    "### Benchmarking Our Distilled Model"
   ]
  },
  {
   "cell_type": "code",
   "execution_count": 43,
   "metadata": {},
   "outputs": [
    {
     "name": "stdout",
     "output_type": "stream",
     "text": [
      "Model size (MB) - 255.88\n",
      "Average latency (ms) - 3.15 +\\- 0.26\n",
      "Accuracy on test set - 0.868\n"
     ]
    }
   ],
   "source": [
    "distilled_ckpt = \"transformersbook/distilbert-base-uncased-distilled-clinc\"\n",
    "pipe = pipeline(\"text-classification\", model=distilled_ckpt)\n",
    "optim_type = \"Distillation\"\n",
    "pb = PerformanceBenchmark(pipe, clinc[\"test\"], optim_type=optim_type)\n",
    "perf_metrics.update(pb.run_benchmark())"
   ]
  },
  {
   "cell_type": "code",
   "execution_count": 44,
   "metadata": {},
   "outputs": [
    {
     "data": {
      "image/png": "[encoded data removed]",
      "text/plain": [
       "<Figure size 640x480 with 1 Axes>"
      ]
     },
     "metadata": {},
     "output_type": "display_data"
    }
   ],
   "source": [
    "plot_metrics(perf_metrics, optim_type)"
   ]
  },
  {
   "cell_type": "markdown",
   "metadata": {},
   "source": [
    "## Making Models Faster with Quantization"
   ]
  },
  {
   "cell_type": "markdown",
   "metadata": {},
   "source": [
    "### Sidebar: A Primer on Floating-Point and Fixed-Point Numbers"
   ]
  },
  {
   "cell_type": "markdown",
   "metadata": {},
   "source": [
    "### End sidebar"
   ]
  },
  {
   "cell_type": "markdown",
   "metadata": {},
   "source": [
    "<img alt=\"Mapping floating-point numbers to 8-bit integers\" width=\"800\" caption=\"Quantizing floating-point numbers as unsigned 8-bit integers (courtesy of Manas Sahni)\" src=\"images/chapter08_fp32-to-int8.png\" id=\"fp32toint8\"/>"
   ]
  },
  {
   "cell_type": "code",
   "execution_count": 45,
   "metadata": {},
   "outputs": [
    {
     "data": {
      "image/png": "[encoded data removed]",
      "text/plain": [
       "<Figure size 640x480 with 1 Axes>"
      ]
     },
     "metadata": {},
     "output_type": "display_data"
    }
   ],
   "source": [
    "import matplotlib.pyplot as plt\n",
    "\n",
    "state_dict = pipe.model.state_dict()\n",
    "weights = state_dict[\"distilbert.transformer.layer.0.attention.out_lin.weight\"]\n",
    "plt.hist(weights.flatten().cpu().numpy(), bins=250, range=(-0.3,0.3), edgecolor=\"C0\")\n",
    "plt.show()"
   ]
  },
  {
   "cell_type": "code",
   "execution_count": 46,
   "metadata": {},
   "outputs": [],
   "source": [
    "zero_point = 0\n",
    "scale = (weights.max() - weights.min()) / (127 - (-128))"
   ]
  },
  {
   "cell_type": "code",
   "execution_count": 47,
   "metadata": {},
   "outputs": [
    {
     "data": {
      "text/plain": [
       "tensor([[ -5,  -8,   0,  ...,  -6,  -4,   8],\n",
       "        [  8,   3,   1,  ...,  -4,   7,   0],\n",
       "        [ -9,  -6,   5,  ...,   1,   5,  -3],\n",
       "        ...,\n",
       "        [  6,   0,  12,  ...,   0,   6,  -1],\n",
       "        [  0,  -2, -12,  ...,  12,  -7, -13],\n",
       "        [-13,  -1, -10,  ...,   8,   2,  -2]], device='cuda:0',\n",
       "       dtype=torch.int8)"
      ]
     },
     "execution_count": 47,
     "metadata": {},
     "output_type": "execute_result"
    }
   ],
   "source": [
    "(weights / scale + zero_point).clamp(-128, 127).round().char()"
   ]
  },
  {
   "cell_type": "code",
   "execution_count": 48,
   "metadata": {},
   "outputs": [
    {
     "data": {
      "text/plain": [
       "tensor([[ -5,  -8,   0,  ...,  -6,  -4,   8],\n",
       "        [  8,   3,   1,  ...,  -4,   7,   0],\n",
       "        [ -9,  -6,   5,  ...,   1,   5,  -3],\n",
       "        ...,\n",
       "        [  6,   0,  12,  ...,   0,   6,  -1],\n",
       "        [  0,  -2, -12,  ...,  12,  -7, -13],\n",
       "        [-13,  -1, -10,  ...,   8,   2,  -2]], device='cuda:0',\n",
       "       dtype=torch.int8)"
      ]
     },
     "execution_count": 48,
     "metadata": {},
     "output_type": "execute_result"
    }
   ],
   "source": [
    "from torch import quantize_per_tensor\n",
    "\n",
    "dtype = torch.qint8\n",
    "quantized_weights = quantize_per_tensor(weights, scale, zero_point, dtype)\n",
    "quantized_weights.int_repr()"
   ]
  },
  {
   "cell_type": "code",
   "execution_count": 49,
   "metadata": {},
   "outputs": [
    {
     "data": {
      "image/png": "[encoded data removed]",
      "text/plain": [
       "<Figure size 640x480 with 2 Axes>"
      ]
     },
     "metadata": {},
     "output_type": "display_data"
    }
   ],
   "source": [
    "#hide_input\n",
    "#id weight-quantization\n",
    "#alt Effect of quantization on a transformer's weights\n",
    "#caption Effect of quantization on a transformer's weights\n",
    "from mpl_toolkits.axes_grid1.inset_locator import zoomed_inset_axes,mark_inset\n",
    "\n",
    "# Create histogram\n",
    "fig, ax = plt.subplots()\n",
    "ax.hist(quantized_weights.dequantize().flatten().cpu().numpy(), \n",
    "         bins=250, range=(-0.3,0.3), edgecolor=\"C0\");\n",
    "# Create zoom inset\n",
    "axins = zoomed_inset_axes(ax, 5, loc='upper right')\n",
    "axins.hist(quantized_weights.dequantize().flatten().cpu().numpy(), \n",
    "         bins=250, range=(-0.3,0.3));\n",
    "x1, x2, y1, y2 = 0.05, 0.1, 500, 2500\n",
    "axins.set_xlim(x1, x2)\n",
    "axins.set_ylim(y1, y2)\n",
    "axins.axes.xaxis.set_visible(False)\n",
    "axins.axes.yaxis.set_visible(False)\n",
    "mark_inset(ax, axins, loc1=2, loc2=4, fc=\"none\", ec=\"0.5\")\n",
    "plt.show()"
   ]
  },
  {
   "cell_type": "code",
   "execution_count": 50,
   "metadata": {},
   "outputs": [
    {
     "name": "stdout",
     "output_type": "stream",
     "text": [
      "62.6 µs ± 10.6 ns per loop (mean ± std. dev. of 7 runs, 10,000 loops each)\n"
     ]
    }
   ],
   "source": [
    "%%timeit \n",
    "weights @ weights"
   ]
  },
  {
   "cell_type": "code",
   "execution_count": 51,
   "metadata": {},
   "outputs": [],
   "source": [
    "from torch.nn.quantized import QFunctional\n",
    "\n",
    "q_fn = QFunctional()"
   ]
  },
  {
   "cell_type": "code",
   "execution_count": 52,
   "metadata": {},
   "outputs": [],
   "source": [
    "# エラー\n",
    "# %%timeit\n",
    "# q_fn.mul(quantized_weights, quantized_weights)"
   ]
  },
  {
   "cell_type": "code",
   "execution_count": 53,
   "metadata": {},
   "outputs": [
    {
     "name": "stderr",
     "output_type": "stream",
     "text": [
      "/tmp/ipykernel_3577432/2099325647.py:3: UserWarning: TypedStorage is deprecated. It will be removed in the future and UntypedStorage will be the only storage class. This should only matter to you if you are using storages directly.  To access UntypedStorage directly, use tensor.untyped_storage() instead of tensor.storage()\n",
      "  sys.getsizeof(weights.storage()) / sys.getsizeof(quantized_weights.storage())\n"
     ]
    },
    {
     "data": {
      "text/plain": [
       "3.999755879241598"
      ]
     },
     "execution_count": 53,
     "metadata": {},
     "output_type": "execute_result"
    }
   ],
   "source": [
    "import sys\n",
    "\n",
    "sys.getsizeof(weights.storage()) / sys.getsizeof(quantized_weights.storage())"
   ]
  },
  {
   "cell_type": "code",
   "execution_count": 54,
   "metadata": {},
   "outputs": [
    {
     "name": "stderr",
     "output_type": "stream",
     "text": [
      "/tmp/ipykernel_3577432/955263440.py:9: DeprecationWarning: torch.ao.quantization is deprecated and will be removed in 2.10. \n",
      "For migrations of users: \n",
      "1. Eager mode quantization (torch.ao.quantization.quantize, torch.ao.quantization.quantize_dynamic), please migrate to use torchao eager mode quantize_ API instead \n",
      "2. FX graph mode quantization (torch.ao.quantization.quantize_fx.prepare_fx,torch.ao.quantization.quantize_fx.convert_fx, please migrate to use torchao pt2e quantization API instead (prepare_pt2e, convert_pt2e) \n",
      "3. pt2e quantization has been migrated to torchao (https://github.com/pytorch/ao/tree/main/torchao/quantization/pt2e) \n",
      "see https://github.com/pytorch/ao/issues/2259 for more details\n",
      "  model_quantized = quantize_dynamic(model, {nn.Linear}, dtype=torch.qint8)\n"
     ]
    }
   ],
   "source": [
    "#hide_output\n",
    "from torch.quantization import quantize_dynamic\n",
    "\n",
    "model_ckpt = \"transformersbook/distilbert-base-uncased-distilled-clinc\"\n",
    "tokenizer = AutoTokenizer.from_pretrained(model_ckpt)\n",
    "model = (AutoModelForSequenceClassification\n",
    "         .from_pretrained(model_ckpt).to(\"cpu\").eval())\n",
    "\n",
    "model_quantized = quantize_dynamic(model, {nn.Linear}, dtype=torch.qint8)"
   ]
  },
  {
   "cell_type": "markdown",
   "metadata": {},
   "source": [
    "### Benchmarking Our Quantized Model"
   ]
  },
  {
   "cell_type": "code",
   "execution_count": 55,
   "metadata": {},
   "outputs": [
    {
     "name": "stdout",
     "output_type": "stream",
     "text": [
      "Model size (MB) - 132.39\n",
      "Average latency (ms) - 6.49 +\\- 0.51\n",
      "Accuracy on test set - 0.877\n"
     ]
    }
   ],
   "source": [
    "torch.backends.quantized.engine = \"fbgemm\"  # x86なら\n",
    "pipe = pipeline(\"text-classification\", model=model_quantized, \n",
    "                tokenizer=tokenizer, device=-1)\n",
    "optim_type = \"Distillation + quantization\"\n",
    "pb = PerformanceBenchmark(pipe, clinc[\"test\"], optim_type=optim_type)\n",
    "perf_metrics.update(pb.run_benchmark())"
   ]
  },
  {
   "cell_type": "code",
   "execution_count": 56,
   "metadata": {},
   "outputs": [
    {
     "data": {
      "image/png": "[encoded data removed]",
      "text/plain": [
       "<Figure size 640x480 with 1 Axes>"
      ]
     },
     "metadata": {},
     "output_type": "display_data"
    }
   ],
   "source": [
    "plot_metrics(perf_metrics, optim_type)"
   ]
  },
  {
   "cell_type": "markdown",
   "metadata": {},
   "source": [
    "## Optimizing Inference with ONNX and the ONNX Runtime"
   ]
  },
  {
   "cell_type": "markdown",
   "metadata": {},
   "source": [
    "<img alt=\"Example ONNX graph\" width=\"500\" caption=\"A section of the ONNX graph for BERT-base, visualized in Netron\" src=\"images/chapter08_bert-onnx.png\" id=\"bert-onnx\"/>"
   ]
  },
  {
   "cell_type": "markdown",
   "metadata": {},
   "source": [
    "<img alt=\"Architecture of the ONNX and ONNX Runtime ecosystem\" width=\"500\" caption=\"Architecture of the ONNX and ONNX Runtime ecosystem (courtesy of the ONNX Runtime team)\" src=\"images/chapter08_onnx-ort.png\" id=\"onnx-ort\"/>"
   ]
  },
  {
   "cell_type": "code",
   "execution_count": 57,
   "metadata": {},
   "outputs": [],
   "source": [
    "#hide_output\n",
    "import os\n",
    "from psutil import cpu_count\n",
    "\n",
    "os.environ[\"OMP_NUM_THREADS\"] = f\"{cpu_count()}\"\n",
    "os.environ[\"OMP_WAIT_POLICY\"] = \"ACTIVE\"\n",
    "os.environ[\"CUDA_VISIBLE_DEVICES\"] = \"\""
   ]
  },
  {
   "cell_type": "markdown",
   "metadata": {},
   "source": [
    "量子化部分は動かすことできず、、、"
   ]
  },
  {
   "cell_type": "code",
   "execution_count": 58,
   "metadata": {},
   "outputs": [],
   "source": [
    "# # ✅ エクスポート専用セル（このセルだけを単独で実行）\n",
    "# import os\n",
    "# os.environ[\"CUDA_VISIBLE_DEVICES\"] = \"\"   # 変換はCPUで（GPUを不可視化）\n",
    "\n",
    "# from pathlib import Path\n",
    "# import torch\n",
    "# from transformers import AutoTokenizer, AutoConfig, AutoModelForSequenceClassification\n",
    "# from optimum.exporters.onnx import export\n",
    "# from optimum.exporters.tasks import TasksManager\n",
    "\n",
    "# # --- 入力 ---\n",
    "# model_ckpt = \"transformersbook/distilbert-base-uncased-distilled-clinc\"\n",
    "# onnx_model_path = Path(\"onnx/model.onnx\")\n",
    "# onnx_model_path.parent.mkdir(parents=True, exist_ok=True)\n",
    "\n",
    "# # --- モデル/設定（CPUに統一 & eval）---\n",
    "# tokenizer = AutoTokenizer.from_pretrained(model_ckpt)  # なくてもOKだが後で検証に使える\n",
    "# model = AutoModelForSequenceClassification.from_pretrained(model_ckpt).to(\"cpu\").eval()\n",
    "\n",
    "# # ★ ここ、変数名を model_ckpt に統一（ckpt ではない）\n",
    "# hf_config = AutoConfig.from_pretrained(model_ckpt)\n",
    "\n",
    "# # ONNX用のエクスポート設定を作る\n",
    "# onnx_config_ctor = TasksManager.get_exporter_config_constructor(\n",
    "#     model=model, task=\"text-classification\", exporter=\"onnx\",\n",
    "# )\n",
    "# onnx_config = onnx_config_ctor(hf_config)\n",
    "\n",
    "# # --- エクスポート（CPU、opset=13 推奨）---\n",
    "# export(\n",
    "#     model=model,\n",
    "#     config=onnx_config,\n",
    "#     output=onnx_model_path,\n",
    "#     opset=13,\n",
    "#     device=\"cpu\",\n",
    "#     # use_external_format=False,  # もし外部データ形式になって遅い時は明示\n",
    "# )\n",
    "\n",
    "# print(\"Exported:\", onnx_model_path)\n"
   ]
  },
  {
   "cell_type": "code",
   "execution_count": 59,
   "metadata": {},
   "outputs": [],
   "source": [
    "# from onnxruntime import (GraphOptimizationLevel, InferenceSession, \n",
    "#                          SessionOptions)\n",
    "\n",
    "# def create_model_for_provider(model_path, provider=\"CPUExecutionProvider\"): \n",
    "#     options = SessionOptions()\n",
    "#     options.intra_op_num_threads = 1\n",
    "#     options.graph_optimization_level = GraphOptimizationLevel.ORT_ENABLE_ALL\n",
    "#     session = InferenceSession(str(model_path), options, providers=[provider])\n",
    "#     session.disable_fallback()\n",
    "#     return session"
   ]
  },
  {
   "cell_type": "code",
   "execution_count": 60,
   "metadata": {},
   "outputs": [],
   "source": [
    "# onnx_model = create_model_for_provider(onnx_model_path)"
   ]
  },
  {
   "cell_type": "code",
   "execution_count": 61,
   "metadata": {},
   "outputs": [],
   "source": [
    "# inputs = clinc_enc[\"test\"][:1]\n",
    "# del inputs[\"labels\"]\n",
    "# logits_onnx = onnx_model.run(None, inputs)[0]\n",
    "# logits_onnx.shape"
   ]
  },
  {
   "cell_type": "code",
   "execution_count": 62,
   "metadata": {},
   "outputs": [],
   "source": [
    "# np.argmax(logits_onnx)"
   ]
  },
  {
   "cell_type": "code",
   "execution_count": 63,
   "metadata": {},
   "outputs": [],
   "source": [
    "# clinc_enc[\"test\"][0][\"labels\"]"
   ]
  },
  {
   "cell_type": "code",
   "execution_count": 64,
   "metadata": {},
   "outputs": [],
   "source": [
    "# from scipy.special import softmax\n",
    "\n",
    "# class OnnxPipeline:\n",
    "#     def __init__(self, model, tokenizer):\n",
    "#         self.model = model\n",
    "#         self.tokenizer = tokenizer\n",
    "        \n",
    "#     def __call__(self, query):\n",
    "#         model_inputs = self.tokenizer(query, return_tensors=\"pt\")\n",
    "#         inputs_onnx = {k: v.cpu().detach().numpy() \n",
    "#                        for k, v in model_inputs.items()}\n",
    "#         logits = self.model.run(None, inputs_onnx)[0][0, :]\n",
    "#         probs = softmax(logits)\n",
    "#         pred_idx = np.argmax(probs).item()\n",
    "#         return [{\"label\": intents.int2str(pred_idx), \"score\": probs[pred_idx]}]"
   ]
  },
  {
   "cell_type": "code",
   "execution_count": 65,
   "metadata": {},
   "outputs": [],
   "source": [
    "# pipe = OnnxPipeline(onnx_model, tokenizer)\n",
    "# pipe(query)"
   ]
  },
  {
   "cell_type": "code",
   "execution_count": 66,
   "metadata": {},
   "outputs": [],
   "source": [
    "# class OnnxPerformanceBenchmark(PerformanceBenchmark):\n",
    "#     def __init__(self, *args, model_path, **kwargs):\n",
    "#         super().__init__(*args, **kwargs)\n",
    "#         self.model_path = model_path\n",
    "        \n",
    "#     def compute_size(self):\n",
    "#         size_mb = Path(self.model_path).stat().st_size / (1024 * 1024)\n",
    "#         print(f\"Model size (MB) - {size_mb:.2f}\")\n",
    "#         return {\"size_mb\": size_mb}"
   ]
  },
  {
   "cell_type": "code",
   "execution_count": 67,
   "metadata": {},
   "outputs": [],
   "source": [
    "# optim_type = \"Distillation + ORT\"\n",
    "# pb = OnnxPerformanceBenchmark(pipe, clinc[\"test\"], optim_type,\n",
    "#                               model_path=\"onnx/model.onnx\")\n",
    "# perf_metrics.update(pb.run_benchmark())"
   ]
  },
  {
   "cell_type": "code",
   "execution_count": 68,
   "metadata": {},
   "outputs": [],
   "source": [
    "# plot_metrics(perf_metrics, optim_type)"
   ]
  },
  {
   "cell_type": "code",
   "execution_count": 69,
   "metadata": {},
   "outputs": [],
   "source": [
    "# from onnxruntime.quantization import quantize_dynamic, QuantType\n",
    "\n",
    "# model_input = \"onnx/model.onnx\"\n",
    "# model_output = \"onnx/model.quant.onnx\"\n",
    "# quantize_dynamic(model_input, model_output, weight_type=QuantType.QInt8)"
   ]
  },
  {
   "cell_type": "code",
   "execution_count": 70,
   "metadata": {},
   "outputs": [],
   "source": [
    "# onnx_quantized_model = create_model_for_provider(model_output)\n",
    "# pipe = OnnxPipeline(onnx_quantized_model, tokenizer)\n",
    "# optim_type = \"Distillation + ORT (quantized)\"\n",
    "# pb = OnnxPerformanceBenchmark(pipe, clinc[\"test\"], optim_type, \n",
    "#                               model_path=model_output)\n",
    "# perf_metrics.update(pb.run_benchmark())"
   ]
  },
  {
   "cell_type": "code",
   "execution_count": 71,
   "metadata": {},
   "outputs": [],
   "source": [
    "# plot_metrics(perf_metrics, optim_type)"
   ]
  },
  {
   "cell_type": "markdown",
   "metadata": {},
   "source": [
    "## Making Models Sparser with Weight Pruning"
   ]
  },
  {
   "cell_type": "markdown",
   "metadata": {},
   "source": [
    "### Sparsity in Deep Neural Networks"
   ]
  },
  {
   "cell_type": "markdown",
   "metadata": {},
   "source": [
    "<img alt=\"Network Pruning\" width=\"500\" caption=\"Weights and neurons before and after pruning (courtesy of Song Han)\" src=\"images/chapter08_network-pruning.png\" id=\"network-pruning\"/> "
   ]
  },
  {
   "cell_type": "markdown",
   "metadata": {},
   "source": [
    "### Weight Pruning Methods"
   ]
  },
  {
   "cell_type": "markdown",
   "metadata": {},
   "source": [
    "#### Magnitude pruning"
   ]
  },
  {
   "cell_type": "code",
   "execution_count": 72,
   "metadata": {},
   "outputs": [
    {
     "data": {
      "image/png": "[encoded data removed]",
      "text/plain": [
       "<Figure size 640x480 with 1 Axes>"
      ]
     },
     "metadata": {},
     "output_type": "display_data"
    }
   ],
   "source": [
    "#hide_input\n",
    "#id sparsity-scheduler\n",
    "#alt Sparsity scheduler\n",
    "#caption The cubic sparsity scheduler used for pruning\n",
    "import numpy as np\n",
    "import matplotlib.pyplot as plt\n",
    "\n",
    "def _sparsity(t, t_0=0, dt=1, s_i=0, s_f=0.9, N=100):\n",
    "    return s_f + (s_i - s_f) * (1 - (t - t_0) / (N * dt))**3\n",
    "\n",
    "steps = np.linspace(0,100,100)\n",
    "values = [_sparsity(t) for t in steps]\n",
    "\n",
    "fig, ax = plt.subplots()\n",
    "ax.plot(steps, values)\n",
    "ax.set_ylim(0,1)\n",
    "ax.set_xlim(0,100)\n",
    "ax.set_xlabel(\"Pruning step\")\n",
    "ax.set_ylabel(\"Sparsity\")\n",
    "plt.grid(linestyle=\"dashed\")\n",
    "plt.show()"
   ]
  },
  {
   "cell_type": "markdown",
   "metadata": {},
   "source": [
    "#### Movement pruning"
   ]
  },
  {
   "cell_type": "markdown",
   "metadata": {},
   "source": [
    "<img alt=\"Magnitude vs Movement Pruning\" width=\"700\" caption=\"Comparison of weights removed (in gray) during magnitude pruning (left) and movement pruning (right)\" src=\"images/chapter08_magnitude-vs-movement.png\" id=\"magnitude-vs-movement\"/> "
   ]
  },
  {
   "cell_type": "markdown",
   "metadata": {},
   "source": [
    "<img alt=\"Pruning Distributions\" width=\"500\" caption=\"Distribution of remaining weights for magnitude pruning (MaP) and movement pruning (MvP)\" src=\"images/chapter08_pruning-dists.png\" id=\"pruning-dists\"/>"
   ]
  },
  {
   "cell_type": "markdown",
   "metadata": {},
   "source": [
    "## Conclusion"
   ]
  }
 ],
 "metadata": {
  "kernelspec": {
   "display_name": "dev",
   "language": "python",
   "name": "python3"
  },
  "language_info": {
   "codemirror_mode": {
    "name": "ipython",
    "version": 3
   },
   "file_extension": ".py",
   "mimetype": "text/x-python",
   "name": "python",
   "nbconvert_exporter": "python",
   "pygments_lexer": "ipython3",
   "version": "3.9.23"
  }
 },
 "nbformat": 4,
 "nbformat_minor": 4
}
